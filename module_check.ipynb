{
 "cells": [
  {
   "cell_type": "code",
   "execution_count": 1,
   "metadata": {},
   "outputs": [
    {
     "name": "stdout",
     "output_type": "stream",
     "text": [
      "\u001b[36m\u001b[1m     Project\u001b[22m\u001b[39m demo v0.1.0\n",
      "\u001b[32m\u001b[1m      Status\u001b[22m\u001b[39m `~/Documents/julia/demo/Project.toml`\n",
      " \u001b[90m [336ed68f] \u001b[39m\u001b[37mCSV v0.9.6\u001b[39m\n",
      " \u001b[90m [7876af07] \u001b[39m\u001b[37mExample v0.5.4 `~/.julia/dev/Example`\u001b[39m\n",
      " \u001b[90m [ced58d7a] \u001b[39m\u001b[37mHighDimMixedModels v0.1.0 `~/.julia/dev/HighDimMixedModels`\u001b[39m\n",
      " \u001b[90m [14b8a8f1] \u001b[39m\u001b[37mPkgTemplates v0.7.19\u001b[39m\n",
      " \u001b[90m [bd369af6] \u001b[39m\u001b[37mTables v1.6.0\u001b[39m\n",
      " \u001b[90m [44d3d7a6] \u001b[39m\u001b[37mWeave v0.10.10\u001b[39m\n"
     ]
    }
   ],
   "source": [
    "using Pkg\n",
    "Pkg.DEFAULT_IO[] = stdout\n",
    "Pkg.status()"
   ]
  },
  {
   "cell_type": "code",
   "execution_count": 2,
   "metadata": {},
   "outputs": [],
   "source": [
    "using LinearAlgebra\n",
    "using DataFrames\n",
    "using StableRNGs; rng = StableRNG(1);\n",
    "using StatsModels\n",
    "using MixedModels"
   ]
  },
  {
   "cell_type": "markdown",
   "metadata": {},
   "source": [
    "#### using HighDimMixedModels"
   ]
  },
  {
   "cell_type": "code",
   "execution_count": 3,
   "metadata": {},
   "outputs": [],
   "source": [
    "using HighDimMixedModels\n",
    "#using highDimMM"
   ]
  },
  {
   "cell_type": "markdown",
   "metadata": {},
   "source": [
    "**Set up data and formula, specify factor variables(CategoricalTerm)**"
   ]
  },
  {
   "cell_type": "code",
   "execution_count": 4,
   "metadata": {},
   "outputs": [
    {
     "data": {
      "text/html": [
       "<div class=\"data-frame\"><p>5 rows × 4 columns</p><table class=\"data-frame\"><thead><tr><th></th><th>period</th><th>herd</th><th>incid</th><th>hsz</th></tr><tr><th></th><th title=\"Float64\">Float64</th><th title=\"String\">String</th><th title=\"Int8\">Int8</th><th title=\"Int8\">Int8</th></tr></thead><tbody><tr><th>1</th><td>1.0</td><td>H01</td><td>2</td><td>14</td></tr><tr><th>2</th><td>2.0</td><td>H01</td><td>3</td><td>12</td></tr><tr><th>3</th><td>3.0</td><td>H01</td><td>4</td><td>9</td></tr><tr><th>4</th><td>4.0</td><td>H01</td><td>0</td><td>5</td></tr><tr><th>5</th><td>1.0</td><td>H02</td><td>3</td><td>22</td></tr></tbody></table></div>"
      ],
      "text/latex": [
       "\\begin{tabular}{r|cccc}\n",
       "\t& period & herd & incid & hsz\\\\\n",
       "\t\\hline\n",
       "\t& Float64 & String & Int8 & Int8\\\\\n",
       "\t\\hline\n",
       "\t1 & 1.0 & H01 & 2 & 14 \\\\\n",
       "\t2 & 2.0 & H01 & 3 & 12 \\\\\n",
       "\t3 & 3.0 & H01 & 4 & 9 \\\\\n",
       "\t4 & 4.0 & H01 & 0 & 5 \\\\\n",
       "\t5 & 1.0 & H02 & 3 & 22 \\\\\n",
       "\\end{tabular}\n"
      ],
      "text/plain": [
       "\u001b[1m5×4 DataFrame\u001b[0m\n",
       "\u001b[1m Row \u001b[0m│\u001b[1m period  \u001b[0m\u001b[1m herd   \u001b[0m\u001b[1m incid \u001b[0m\u001b[1m hsz  \u001b[0m\n",
       "\u001b[1m     \u001b[0m│\u001b[90m Float64 \u001b[0m\u001b[90m String \u001b[0m\u001b[90m Int8  \u001b[0m\u001b[90m Int8 \u001b[0m\n",
       "─────┼──────────────────────────────\n",
       "   1 │     1.0  H01         2    14\n",
       "   2 │     2.0  H01         3    12\n",
       "   3 │     3.0  H01         4     9\n",
       "   4 │     4.0  H01         0     5\n",
       "   5 │     1.0  H02         3    22"
      ]
     },
     "execution_count": 4,
     "metadata": {},
     "output_type": "execute_result"
    }
   ],
   "source": [
    "df = DataFrame(MixedModels.dataset(:cbpp))\n",
    "df[!,:period] = map(x->parse(Float64,x),df[:,:period])\n",
    "select!(df,[:period,:herd,:incid,:hsz])\n",
    "first(df,5)"
   ]
  },
  {
   "cell_type": "code",
   "execution_count": 5,
   "metadata": {},
   "outputs": [
    {
     "data": {
      "text/plain": [
       "Dict{Symbol, UnionAll} with 3 entries:\n",
       "  :hsz   => ContinuousTerm\n",
       "  :herd  => CategoricalTerm\n",
       "  :incid => ContinuousTerm"
      ]
     },
     "execution_count": 5,
     "metadata": {},
     "output_type": "execute_result"
    }
   ],
   "source": [
    "#f = @formula(period ~ 0 + herd + incid + hsz)\n",
    "#f = @formula(period ~ 0 +(1|herd) + incid + hsz )\n",
    "f = @formula(period ~ 0 + incid + hsz + (1|herd))\n",
    "contrasts = Dict( :incid => ContinuousTerm, :hsz => ContinuousTerm, :herd => CategoricalTerm)\n",
    "#fit(MixedModel, @formula(period ~ incid + hsz +(1|herd)), df, REML = true)"
   ]
  },
  {
   "cell_type": "code",
   "execution_count": 6,
   "metadata": {},
   "outputs": [
    {
     "data": {
      "text/plain": [
       "FormulaTerm\n",
       "Response:\n",
       "  period(unknown)\n",
       "Predictors:\n",
       "  0\n",
       "  incid(unknown)\n",
       "  hsz(unknown)\n",
       "  (herd)->1 | herd"
      ]
     },
     "execution_count": 6,
     "metadata": {},
     "output_type": "execute_result"
    }
   ],
   "source": [
    "f"
   ]
  },
  {
   "cell_type": "markdown",
   "metadata": {},
   "source": [
    "**try for apply_schema**"
   ]
  },
  {
   "cell_type": "code",
   "execution_count": null,
   "metadata": {},
   "outputs": [],
   "source": [
    "LinearMixedModel<:MixedModel"
   ]
  },
  {
   "cell_type": "code",
   "execution_count": null,
   "metadata": {},
   "outputs": [],
   "source": [
    "highDimMixedModel<:MixedModel"
   ]
  },
  {
   "cell_type": "code",
   "execution_count": null,
   "metadata": {},
   "outputs": [],
   "source": [
    "# try for f2\n",
    "f2 = @formula(period ~ 0  +(1|herd) + incid + hsz)\n",
    "#f2 = @formula(period ~ 0  + incid + hsz +(1|herd) )"
   ]
  },
  {
   "cell_type": "code",
   "execution_count": null,
   "metadata": {},
   "outputs": [],
   "source": [
    "#sch = schema(f2,df,contrasts)\n",
    "sch = schema(f2,df)"
   ]
  },
  {
   "cell_type": "code",
   "execution_count": null,
   "metadata": {},
   "outputs": [],
   "source": [
    "form = apply_schema(f2, sch)"
   ]
  },
  {
   "cell_type": "code",
   "execution_count": null,
   "metadata": {},
   "outputs": [],
   "source": [
    "form = apply_schema(f2, sch, LinearMixedModel)  ## do not need MixedModels prefix due to multiple dispatch"
   ]
  },
  {
   "cell_type": "code",
   "execution_count": null,
   "metadata": {},
   "outputs": [],
   "source": [
    "form = apply_schema(f2, sch, highDimMixedModel)"
   ]
  },
  {
   "cell_type": "code",
   "execution_count": null,
   "metadata": {},
   "outputs": [],
   "source": [
    "modelcols(form,df)"
   ]
  },
  {
   "cell_type": "code",
   "execution_count": null,
   "metadata": {},
   "outputs": [],
   "source": []
  },
  {
   "cell_type": "markdown",
   "metadata": {},
   "source": [
    "### Construct object"
   ]
  },
  {
   "cell_type": "markdown",
   "metadata": {},
   "source": [
    "#### 3.variable names indicates M,X,Z"
   ]
  },
  {
   "cell_type": "code",
   "execution_count": null,
   "metadata": {},
   "outputs": [],
   "source": [
    "HMM = highDimMixedModel(f, df, contrasts, \"incid\", \"hsz\", \"herd\")"
   ]
  },
  {
   "cell_type": "code",
   "execution_count": null,
   "metadata": {},
   "outputs": [],
   "source": [
    "first(HMM.M.M,5)"
   ]
  },
  {
   "cell_type": "code",
   "execution_count": null,
   "metadata": {},
   "outputs": [],
   "source": [
    "first(HMM.X.X,5)"
   ]
  },
  {
   "cell_type": "code",
   "execution_count": null,
   "metadata": {},
   "outputs": [],
   "source": [
    "HMM.Z.Z"
   ]
  },
  {
   "cell_type": "markdown",
   "metadata": {},
   "source": [
    "#### 4. parse random effect in formula"
   ]
  },
  {
   "cell_type": "code",
   "execution_count": 7,
   "metadata": {},
   "outputs": [
    {
     "name": "stderr",
     "output_type": "stream",
     "text": [
      "┌ Warning: n >= p in high dimensional matrix\n",
      "└ @ HighDimMixedModels /Users/zyxu/.julia/dev/HighDimMixedModels/src/bricks.jl:12\n"
     ]
    },
    {
     "data": {
      "text/plain": []
     },
     "execution_count": 7,
     "metadata": {},
     "output_type": "execute_result"
    }
   ],
   "source": [
    "HMM = highDimMixedModel(f, df, 1)"
   ]
  },
  {
   "cell_type": "code",
   "execution_count": 15,
   "metadata": {},
   "outputs": [
    {
     "data": {
      "text/plain": [
       "10-element Vector{Float64}:\n",
       " 2.0\n",
       " 3.0\n",
       " 4.0\n",
       " 0.0\n",
       " 3.0\n",
       " 1.0\n",
       " 1.0\n",
       " 8.0\n",
       " 2.0\n",
       " 0.0"
      ]
     },
     "execution_count": 15,
     "metadata": {},
     "output_type": "execute_result"
    }
   ],
   "source": [
    "first(HMM.M.M,10)"
   ]
  },
  {
   "cell_type": "code",
   "execution_count": 9,
   "metadata": {},
   "outputs": [
    {
     "data": {
      "text/plain": [
       "5-element Vector{Float64}:\n",
       " 14.0\n",
       " 12.0\n",
       "  9.0\n",
       "  5.0\n",
       " 22.0"
      ]
     },
     "execution_count": 9,
     "metadata": {},
     "output_type": "execute_result"
    }
   ],
   "source": [
    "first(HMM.X.X,5)"
   ]
  },
  {
   "cell_type": "code",
   "execution_count": 10,
   "metadata": {},
   "outputs": [
    {
     "data": {
      "text/plain": [
       "(56, 15)"
      ]
     },
     "execution_count": 10,
     "metadata": {},
     "output_type": "execute_result"
    }
   ],
   "source": [
    "size(HMM.Z.Z)"
   ]
  },
  {
   "cell_type": "code",
   "execution_count": 11,
   "metadata": {},
   "outputs": [
    {
     "data": {
      "text/plain": [
       "FormulaTerm\n",
       "Response:\n",
       "  period(continuous)\n",
       "Predictors:\n",
       "  0\n",
       "  incid(continuous)\n",
       "  hsz(continuous)\n",
       "  (1 | herd)"
      ]
     },
     "execution_count": 11,
     "metadata": {},
     "output_type": "execute_result"
    }
   ],
   "source": [
    "sch = schema(df)\n",
    "form = apply_schema(f, sch, highDimMixedModel)"
   ]
  },
  {
   "cell_type": "code",
   "execution_count": 12,
   "metadata": {},
   "outputs": [
    {
     "data": {
      "text/plain": [
       "([2.0 14.0; 3.0 12.0; … ; 1.0 15.0; 0.0 15.0], [1.0 0.0 … 0.0 0.0; 1.0 0.0 … 0.0 0.0; … ; 0.0 0.0 … 0.0 1.0; 0.0 0.0 … 0.0 1.0])"
      ]
     },
     "execution_count": 12,
     "metadata": {},
     "output_type": "execute_result"
    }
   ],
   "source": [
    "# when the random effect is the last term, can use form directly instead of form.rhs\n",
    "FixedEffectMatrix,Z = modelmatrix(form,df)"
   ]
  },
  {
   "cell_type": "code",
   "execution_count": null,
   "metadata": {},
   "outputs": [],
   "source": []
  },
  {
   "cell_type": "code",
   "execution_count": 12,
   "metadata": {},
   "outputs": [
    {
     "data": {
      "text/plain": [
       "([2.0 14.0; 3.0 12.0; … ; 1.0 15.0; 0.0 15.0], [1.0 0.0 … 0.0 0.0; 1.0 0.0 … 0.0 0.0; … ; 0.0 0.0 … 0.0 1.0; 0.0 0.0 … 0.0 1.0])"
      ]
     },
     "execution_count": 12,
     "metadata": {},
     "output_type": "execute_result"
    }
   ],
   "source": [
    "modelmatrix(form.rhs,df)"
   ]
  },
  {
   "cell_type": "code",
   "execution_count": 13,
   "metadata": {},
   "outputs": [
    {
     "data": {
      "text/plain": [
       "([1.0, 2.0, 3.0, 4.0, 1.0, 2.0, 3.0, 1.0, 2.0, 3.0  …  3.0, 4.0, 1.0, 2.0, 3.0, 4.0, 1.0, 2.0, 3.0, 4.0], ([2.0 14.0; 3.0 12.0; … ; 1.0 15.0; 0.0 15.0], [1.0 0.0 … 0.0 0.0; 1.0 0.0 … 0.0 0.0; … ; 0.0 0.0 … 0.0 1.0; 0.0 0.0 … 0.0 1.0]))"
      ]
     },
     "execution_count": 13,
     "metadata": {},
     "output_type": "execute_result"
    }
   ],
   "source": [
    "y, pre = modelcols(form,df)"
   ]
  },
  {
   "cell_type": "code",
   "execution_count": 14,
   "metadata": {},
   "outputs": [
    {
     "name": "stderr",
     "output_type": "stream",
     "text": [
      "┌ Warning: n >= p in high dimensional matrix\n",
      "└ @ HighDimMixedModels /Users/zyxu/.julia/dev/HighDimMixedModels/src/bricks.jl:12\n"
     ]
    },
    {
     "data": {
      "text/plain": [
       "XMat{Float64, Matrix{Float64}}([14.0; 12.0; … ; 15.0; 15.0])"
      ]
     },
     "execution_count": 14,
     "metadata": {},
     "output_type": "execute_result"
    }
   ],
   "source": [
    "numOfHDM = 1\n",
    "M = highDimMat(FixedEffectMatrix[:,1:numOfHDM])\n",
    "X = XMat(FixedEffectMatrix[:, (numOfHDM + 1):size(FixedEffectMatrix,2)])"
   ]
  },
  {
   "cell_type": "code",
   "execution_count": null,
   "metadata": {},
   "outputs": [],
   "source": []
  },
  {
   "cell_type": "code",
   "execution_count": null,
   "metadata": {},
   "outputs": [],
   "source": []
  },
  {
   "cell_type": "code",
   "execution_count": null,
   "metadata": {},
   "outputs": [],
   "source": []
  },
  {
   "cell_type": "code",
   "execution_count": null,
   "metadata": {},
   "outputs": [],
   "source": [
    "ml = fit(MixedModel, @formula(period ~ 0 + incid + hsz +(1|herd)), df, REML = true)"
   ]
  },
  {
   "cell_type": "code",
   "execution_count": null,
   "metadata": {},
   "outputs": [],
   "source": [
    "ml = MixedModels.fit(MixedModel, @formula(period ~ 0 + incid + hsz +(1|herd)), df, REML = true)"
   ]
  },
  {
   "cell_type": "code",
   "execution_count": null,
   "metadata": {},
   "outputs": [],
   "source": [
    "sigma, betaM, betaX, opt = fit(HMM, verbose = true, REML = true, alg = :LN_BOBYQA) # :LN_BOBYQA :LN_COBYLA\n",
    "println(\"\")"
   ]
  },
  {
   "cell_type": "code",
   "execution_count": null,
   "metadata": {},
   "outputs": [],
   "source": [
    "HMM::highDimMixedModel"
   ]
  },
  {
   "cell_type": "code",
   "execution_count": null,
   "metadata": {},
   "outputs": [],
   "source": [
    "HMM::MixedModel"
   ]
  },
  {
   "cell_type": "code",
   "execution_count": null,
   "metadata": {},
   "outputs": [],
   "source": [
    "HMM::StatsModels.RegressionModel"
   ]
  },
  {
   "cell_type": "code",
   "execution_count": null,
   "metadata": {},
   "outputs": [],
   "source": [
    "ml::LinearMixedModel"
   ]
  },
  {
   "cell_type": "code",
   "execution_count": null,
   "metadata": {},
   "outputs": [],
   "source": [
    "ml::MixedModel"
   ]
  },
  {
   "cell_type": "code",
   "execution_count": null,
   "metadata": {},
   "outputs": [],
   "source": [
    "ml::StatsModels.RegressionModel"
   ]
  },
  {
   "cell_type": "code",
   "execution_count": null,
   "metadata": {},
   "outputs": [],
   "source": [
    "HMM::MixedModel"
   ]
  },
  {
   "cell_type": "code",
   "execution_count": null,
   "metadata": {},
   "outputs": [],
   "source": [
    "HMM::StatsModels.RegressionModel"
   ]
  },
  {
   "cell_type": "code",
   "execution_count": null,
   "metadata": {},
   "outputs": [],
   "source": [
    "highDimMixedModel::MixedModel"
   ]
  },
  {
   "cell_type": "code",
   "execution_count": null,
   "metadata": {},
   "outputs": [],
   "source": [
    "HMM"
   ]
  },
  {
   "cell_type": "code",
   "execution_count": null,
   "metadata": {},
   "outputs": [],
   "source": [
    "HMM.formula"
   ]
  },
  {
   "cell_type": "markdown",
   "metadata": {},
   "source": [
    "### Now try to use apply_schema in MixedModels"
   ]
  },
  {
   "cell_type": "code",
   "execution_count": null,
   "metadata": {},
   "outputs": [],
   "source": [
    "# try for f2\n",
    "f2 = @formula(period ~ 0 + incid + hsz +(1|herd))\n",
    "sch = schema(f2,df)\n",
    "form = apply_schema(f2, sch, highDimMixedModel) ## multiple dispatch"
   ]
  },
  {
   "cell_type": "code",
   "execution_count": null,
   "metadata": {},
   "outputs": [],
   "source": [
    "y,X = modelcols(form,df)"
   ]
  },
  {
   "cell_type": "code",
   "execution_count": null,
   "metadata": {},
   "outputs": [],
   "source": [
    "Z = X[2]"
   ]
  },
  {
   "cell_type": "code",
   "execution_count": null,
   "metadata": {},
   "outputs": [],
   "source": [
    "X[1]"
   ]
  },
  {
   "cell_type": "code",
   "execution_count": null,
   "metadata": {},
   "outputs": [],
   "source": [
    "df.herd"
   ]
  },
  {
   "cell_type": "code",
   "execution_count": null,
   "metadata": {},
   "outputs": [],
   "source": [
    "form.rhs"
   ]
  },
  {
   "cell_type": "code",
   "execution_count": null,
   "metadata": {},
   "outputs": [],
   "source": []
  },
  {
   "cell_type": "code",
   "execution_count": null,
   "metadata": {},
   "outputs": [],
   "source": []
  },
  {
   "cell_type": "markdown",
   "metadata": {},
   "source": [
    "### Optimization"
   ]
  },
  {
   "cell_type": "code",
   "execution_count": 15,
   "metadata": {},
   "outputs": [
    {
     "name": "stderr",
     "output_type": "stream",
     "text": [
      "┌ Warning: ProgressMeter by default refresh meters with additional information in IJulia via `IJulia.clear_output`, which clears all outputs in the cell. \n",
      "│  - To prevent this behaviour, do `ProgressMeter.ijulia_behavior(:append)`. \n",
      "│  - To disable this warning message, do `ProgressMeter.ijulia_behavior(:clear)`.\n",
      "└ @ ProgressMeter /Users/zyxu/.julia/packages/ProgressMeter/Vf8un/src/ProgressMeter.jl:620\n",
      "\u001b[32mMinimizing 16 \t Time: 0:00:00 (30.18 ms/it)\u001b[39m\n"
     ]
    },
    {
     "data": {
      "text/latex": [
       "\\begin{tabular}\n",
       "{l | r | r | r | r | r}\n",
       " & Est. & SE & z & p & $\\sigma_\\text{herd}$ \\\\\n",
       "\\hline\n",
       "incid & -0.2939 & 0.0890 & -3.30 & 0.0010 &   \\\\\n",
       "hsz & 0.1317 & 0.0239 & 5.52 & <1e-07 &   \\\\\n",
       "(Intercept) &  &  &  &  & 1.1569 \\\\\n",
       "Residual & 1.3496 &  &  &  &  \\\\\n",
       "\\end{tabular}\n"
      ],
      "text/markdown": [
       "|             |    Est. |     SE |     z |      p | σ_herd |\n",
       "|:----------- | -------:| ------:| -----:| ------:| ------:|\n",
       "| incid       | -0.2939 | 0.0890 | -3.30 | 0.0010 |        |\n",
       "| hsz         |  0.1317 | 0.0239 |  5.52 | <1e-07 |        |\n",
       "| (Intercept) |         |        |       |        | 1.1569 |\n",
       "| Residual    |  1.3496 |        |       |        |        |\n"
      ],
      "text/plain": [
       "Linear mixed model fit by REML\n",
       " period ~ 0 + incid + hsz + (1 | herd)\n",
       " REML criterion at convergence: 219.11119977822892\n",
       "\n",
       "Variance components:\n",
       "            Column   VarianceStd.Dev.\n",
       "herd     (Intercept)  1.33834 1.15687\n",
       "Residual              1.82132 1.34956\n",
       " Number of obs: 56; levels of grouping factors: 15\n",
       "\n",
       "  Fixed-effects parameters:\n",
       "─────────────────────────────────────────────\n",
       "           Coef.  Std. Error      z  Pr(>|z|)\n",
       "─────────────────────────────────────────────\n",
       "incid  -0.293874   0.0890102  -3.30    0.0010\n",
       "hsz     0.131742   0.0238714   5.52    <1e-07\n",
       "─────────────────────────────────────────────"
      ]
     },
     "execution_count": 15,
     "metadata": {},
     "output_type": "execute_result"
    }
   ],
   "source": [
    "ml = fit(MixedModel, @formula(period ~ 0 + incid + hsz +(1|herd)), df, REML = true)"
   ]
  },
  {
   "cell_type": "code",
   "execution_count": 16,
   "metadata": {},
   "outputs": [
    {
     "name": "stdout",
     "output_type": "stream",
     "text": [
      "sigma = [1.0, 1.0]\n",
      "negLog = -57.1099018030012\n",
      "The initial object value is -57.1099018030012\n",
      "sigma = [1.0, 1.0]\n",
      "negLog = -57.1099018030012\n",
      "OPTBL: starting point [1.0, 1.0]\n",
      "sigma = [1.0, 1.0]\n",
      "negLog = -57.1099018030012\n",
      "sigma = [1.75, 1.0]\n",
      "negLog = -55.97912076973617\n",
      "sigma = [1.0, 1.75]\n",
      "negLog = -52.37720093978967\n",
      "sigma = [0.25, 1.0]\n",
      "negLog = -64.50473446075652\n",
      "sigma = [1.0, 0.25]\n",
      "negLog = -128.22481961167495\n",
      "sigma = [0.29289321881345254, 0.0]\n",
      "negLog = Inf\n",
      "sigma = [0.9469669914110089, 0.19696699141100893]\n",
      "negLog = -156.76581599673838\n",
      "sigma = [0.995676667220638, 0.13993745974082217]\n",
      "negLog = -207.31013755591323\n",
      "sigma = [0.9952996645647639, 0.06493840728682465]\n",
      "negLog = -405.77399467791014\n",
      "sigma = [0.9878315127277438, 0.06424796674686986]\n",
      "negLog = -410.13655848976134\n",
      "sigma = [0.987341243774038, 0.05676400814509819]\n",
      "negLog = -458.32682425399554\n",
      "sigma = [0.9948025184365511, 0.05600283772361585]\n",
      "negLog = -463.4181543729141\n",
      "sigma = [0.9947292842170775, 0.05525642178789495]\n",
      "negLog = -469.0572593148946\n",
      "sigma = [0.9951857851545717, 0.05466135297333067]\n",
      "negLog = -473.62526662984465\n",
      "sigma = [0.9946641908880741, 0.05412242865475073]\n",
      "negLog = -477.91189431849295\n",
      "sigma = [0.994593640676598, 0.054147877970275336]\n",
      "negLog = -477.71418362885424\n",
      "sigma = [0.9946398946629649, 0.05405147308100603]\n",
      "negLog = -478.47940946755097\n",
      "sigma = [0.9946937837404701, 0.053999310188777606]\n",
      "negLog = -478.8925749561385\n",
      "sigma = [0.9946893101492189, 0.05399329047272804]\n",
      "negLog = -478.9410464756395\n",
      "sigma = [0.9946954834580819, 0.053989031334589564]\n",
      "negLog = -478.9747009013731\n",
      "sigma = [0.9946902649028658, 0.05398364462117065]\n",
      "negLog = -479.01817519385304\n",
      "sigma = [0.9946902649028658, 0.05398364462117065]\n",
      "negLog = -479.01817519385304\n",
      "got -479.01818 at [0.99469, 0.05398] after 22 iterations (returned XTOL_REACHED)\n",
      "\n"
     ]
    }
   ],
   "source": [
    "sigma, betaM, betaX, opt = fit(HMM, verbose = true, REML = true, alg = :LN_BOBYQA) # :LN_BOBYQA :LN_COBYLA\n",
    "println(\"\")"
   ]
  },
  {
   "cell_type": "code",
   "execution_count": 17,
   "metadata": {},
   "outputs": [
    {
     "data": {
      "text/latex": [
       "\\begin{tabular}\n",
       "{l | l}\n",
       " &  \\\\\n",
       "\\hline\n",
       "\\textbf{Initialization} &  \\\\\n",
       "Initial parameter vector & [1.0, 1.0] \\\\\n",
       "Initial objective value & -57.1099018030012 \\\\\n",
       "\\textbf{Optimizer settings}  &  \\\\\n",
       "Optimizer (from NLopt) & \\texttt{LN\\_BOBYQA} \\\\\n",
       "Lower bounds & [0.0, 0.0] \\\\\n",
       "\\texttt{ftol\\_rel} & 1.0e-12 \\\\\n",
       "\\texttt{ftol\\_abs} & 1.0e-8 \\\\\n",
       "\\texttt{xtol\\_rel} & 1.0e-5 \\\\\n",
       "\\texttt{xtol\\_abs} & [1.0e-10, 1.0e-10] \\\\\n",
       "\\texttt{initial\\_step} & [0.75, 0.75] \\\\\n",
       "\\texttt{maxfeval} & -1 \\\\\n",
       "\\texttt{maxtime} & -1.0 \\\\\n",
       "\\textbf{Result} &  \\\\\n",
       "Function evaluations & 22 \\\\\n",
       "Final parameter vector & [0.9947, 0.054] \\\\\n",
       "Final objective value & -479.0182 \\\\\n",
       "Return code & \\texttt{XTOL\\_REACHED} \\\\\n",
       "\\end{tabular}\n"
      ],
      "text/markdown": [
       "|                          |                    |\n",
       "|:------------------------ |:------------------ |\n",
       "| **Initialization**       |                    |\n",
       "| Initial parameter vector | [1.0, 1.0]         |\n",
       "| Initial objective value  | -57.1099018030012  |\n",
       "| **Optimizer settings**   |                    |\n",
       "| Optimizer (from NLopt)   | `LN_BOBYQA`        |\n",
       "| Lower bounds             | [0.0, 0.0]         |\n",
       "| `ftol_rel`               | 1.0e-12            |\n",
       "| `ftol_abs`               | 1.0e-8             |\n",
       "| `xtol_rel`               | 1.0e-5             |\n",
       "| `xtol_abs`               | [1.0e-10, 1.0e-10] |\n",
       "| `initial_step`           | [0.75, 0.75]       |\n",
       "| `maxfeval`               | -1                 |\n",
       "| `maxtime`                | -1.0               |\n",
       "| **Result**               |                    |\n",
       "| Function evaluations     | 22                 |\n",
       "| Final parameter vector   | [0.9947, 0.054]    |\n",
       "| Final objective value    | -479.0182          |\n",
       "| Return code              | `XTOL_REACHED`     |\n"
      ],
      "text/plain": [
       "Initial parameter vector: [1.0, 1.0]\n",
       "Initial objective value:  -57.1099018030012\n",
       "\n",
       "Optimizer (from NLopt):   LN_BOBYQA\n",
       "Lower bounds:             [0.0, 0.0]\n",
       "ftol_rel:                 1.0e-12\n",
       "ftol_abs:                 1.0e-8\n",
       "xtol_rel:                 1.0e-5\n",
       "xtol_abs:                 [1.0e-10, 1.0e-10]\n",
       "initial_step:             [0.75, 0.75]\n",
       "maxfeval:                 -1\n",
       "maxtime:                  -1.0\n",
       "\n",
       "Function evaluations:     22\n",
       "Final parameter vector:   [0.9946902649028658, 0.05398364462117065]\n",
       "Final objective value:    -479.01817519385304\n",
       "Return code:              XTOL_REACHED\n"
      ]
     },
     "execution_count": 17,
     "metadata": {},
     "output_type": "execute_result"
    }
   ],
   "source": [
    "opt"
   ]
  },
  {
   "cell_type": "code",
   "execution_count": null,
   "metadata": {},
   "outputs": [],
   "source": []
  },
  {
   "cell_type": "code",
   "execution_count": null,
   "metadata": {},
   "outputs": [],
   "source": []
  },
  {
   "cell_type": "code",
   "execution_count": null,
   "metadata": {},
   "outputs": [],
   "source": []
  },
  {
   "cell_type": "code",
   "execution_count": null,
   "metadata": {},
   "outputs": [],
   "source": []
  },
  {
   "cell_type": "code",
   "execution_count": null,
   "metadata": {},
   "outputs": [],
   "source": []
  },
  {
   "cell_type": "code",
   "execution_count": null,
   "metadata": {},
   "outputs": [],
   "source": []
  }
 ],
 "metadata": {
  "kernelspec": {
   "display_name": "Julia 1.6.1",
   "language": "julia",
   "name": "julia-1.6"
  },
  "language_info": {
   "file_extension": ".jl",
   "mimetype": "application/julia",
   "name": "julia",
   "version": "1.6.1"
  }
 },
 "nbformat": 4,
 "nbformat_minor": 4
}
