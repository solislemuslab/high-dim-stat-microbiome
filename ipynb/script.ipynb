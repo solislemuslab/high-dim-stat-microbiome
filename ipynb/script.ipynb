{
 "cells": [
  {
   "cell_type": "code",
   "execution_count": 3,
   "metadata": {},
   "outputs": [],
   "source": [
    "include(\"HighDimMixedModels.jl\")\n",
    "using LinearAlgebra"
   ]
  },
  {
   "cell_type": "markdown",
   "metadata": {},
   "source": [
    "$$\n",
    " Y = M\\alpha + X\\beta + Z\\theta + \\varepsilon\n",
    "$$"
   ]
  },
  {
   "cell_type": "code",
   "execution_count": null,
   "metadata": {},
   "outputs": [],
   "source": [
    "X = [1 2;3 4]"
   ]
  },
  {
   "cell_type": "code",
   "execution_count": null,
   "metadata": {},
   "outputs": [],
   "source": [
    "#A = highDimMat{Int64, typeof(X)}([1 2;3 4])"
   ]
  },
  {
   "cell_type": "code",
   "execution_count": null,
   "metadata": {},
   "outputs": [],
   "source": [
    "A = HighDimMM.highDimMat([1 2 3 4;3 4 5 6])"
   ]
  },
  {
   "cell_type": "code",
   "execution_count": null,
   "metadata": {},
   "outputs": [],
   "source": [
    "typeof(X)"
   ]
  },
  {
   "cell_type": "code",
   "execution_count": null,
   "metadata": {},
   "outputs": [],
   "source": [
    "typeof(A)"
   ]
  },
  {
   "cell_type": "code",
   "execution_count": null,
   "metadata": {},
   "outputs": [],
   "source": [
    "eltype(A)"
   ]
  },
  {
   "cell_type": "code",
   "execution_count": null,
   "metadata": {},
   "outputs": [],
   "source": [
    "size(A)"
   ]
  },
  {
   "cell_type": "code",
   "execution_count": null,
   "metadata": {},
   "outputs": [],
   "source": [
    "copyto!(A, [1 2 3;3 4 6])"
   ]
  },
  {
   "cell_type": "code",
   "execution_count": null,
   "metadata": {},
   "outputs": [],
   "source": [
    "A.M"
   ]
  },
  {
   "cell_type": "code",
   "execution_count": null,
   "metadata": {},
   "outputs": [],
   "source": [
    "B = HighDimMM.XMat([1 2 3;3 4 5; 0 0 1; 1 0 0])"
   ]
  },
  {
   "cell_type": "code",
   "execution_count": null,
   "metadata": {},
   "outputs": [],
   "source": [
    "size(B)"
   ]
  },
  {
   "cell_type": "code",
   "execution_count": null,
   "metadata": {},
   "outputs": [],
   "source": [
    "rank([1 2 3;3 4 5; 0 0 1; 1 0 0])"
   ]
  },
  {
   "cell_type": "code",
   "execution_count": null,
   "metadata": {},
   "outputs": [],
   "source": [
    "rank(B)"
   ]
  },
  {
   "cell_type": "code",
   "execution_count": null,
   "metadata": {},
   "outputs": [],
   "source": [
    "A*B"
   ]
  },
  {
   "cell_type": "code",
   "execution_count": null,
   "metadata": {},
   "outputs": [],
   "source": [
    "A.M*B.X"
   ]
  },
  {
   "cell_type": "code",
   "execution_count": null,
   "metadata": {},
   "outputs": [],
   "source": [
    "a = [1 2 3; 4 5 6; 7 8 9]"
   ]
  },
  {
   "cell_type": "code",
   "execution_count": null,
   "metadata": {},
   "outputs": [],
   "source": [
    "b = a[:,1]\n",
    "c = reshape(b, size(b,1),1)"
   ]
  },
  {
   "cell_type": "code",
   "execution_count": null,
   "metadata": {},
   "outputs": [],
   "source": [
    "a"
   ]
  },
  {
   "cell_type": "code",
   "execution_count": null,
   "metadata": {},
   "outputs": [],
   "source": [
    "hcat(c, a)"
   ]
  },
  {
   "cell_type": "code",
   "execution_count": null,
   "metadata": {},
   "outputs": [],
   "source": [
    "a*b"
   ]
  },
  {
   "cell_type": "code",
   "execution_count": null,
   "metadata": {},
   "outputs": [],
   "source": [
    "mul!(a,b)"
   ]
  },
  {
   "cell_type": "code",
   "execution_count": null,
   "metadata": {},
   "outputs": [],
   "source": [
    "?mul!"
   ]
  },
  {
   "cell_type": "code",
   "execution_count": null,
   "metadata": {},
   "outputs": [],
   "source": [
    "+(1,2,3)"
   ]
  },
  {
   "cell_type": "code",
   "execution_count": null,
   "metadata": {},
   "outputs": [],
   "source": []
  },
  {
   "cell_type": "markdown",
   "metadata": {},
   "source": [
    "HDMM"
   ]
  },
  {
   "cell_type": "code",
   "execution_count": 4,
   "metadata": {},
   "outputs": [
    {
     "data": {
      "text/plain": [
       "Dict{Symbol, UnionAll} with 2 entries:\n",
       "  :b => ContinuousTerm\n",
       "  :c => CategoricalTerm"
      ]
     },
     "execution_count": 4,
     "metadata": {},
     "output_type": "execute_result"
    }
   ],
   "source": [
    "using DataFrames\n",
    "using StableRNGs; rng = StableRNG(1);\n",
    "using StatsModels\n",
    "#df = DataFrame(y = rand(rng, 9), a = 1:9, b = rand(rng, 9), c = repeat([\"d\",\"e\",\"f\"], 3), d = vcat(repeat([1,2], 4),1))\n",
    "df = DataFrame(y = rand(rng, 9), a = 1:9, b = rand(rng, 9), c = repeat([\"d\",\"e\",\"f\"], 3))\n",
    "f = @formula(y ~ 1 + a + b + c)\n",
    "contrasts = Dict(:b=>ContinuousTerm, :c => CategoricalTerm)"
   ]
  },
  {
   "cell_type": "code",
   "execution_count": 5,
   "metadata": {},
   "outputs": [
    {
     "data": {
      "text/html": [
       "<table class=\"data-frame\"><thead><tr><th></th><th>y</th><th>a</th><th>b</th><th>c</th></tr><tr><th></th><th>Float64</th><th>Int64</th><th>Float64</th><th>String</th></tr></thead><tbody><p>9 rows × 4 columns</p><tr><th>1</th><td>0.585195</td><td>1</td><td>0.236782</td><td>d</td></tr><tr><th>2</th><td>0.0773379</td><td>2</td><td>0.943741</td><td>e</td></tr><tr><th>3</th><td>0.716628</td><td>3</td><td>0.445671</td><td>f</td></tr><tr><th>4</th><td>0.320357</td><td>4</td><td>0.763679</td><td>d</td></tr><tr><th>5</th><td>0.653093</td><td>5</td><td>0.145071</td><td>e</td></tr><tr><th>6</th><td>0.236639</td><td>6</td><td>0.021124</td><td>f</td></tr><tr><th>7</th><td>0.709684</td><td>7</td><td>0.152545</td><td>d</td></tr><tr><th>8</th><td>0.557787</td><td>8</td><td>0.617492</td><td>e</td></tr><tr><th>9</th><td>0.05079</td><td>9</td><td>0.481531</td><td>f</td></tr></tbody></table>"
      ],
      "text/latex": [
       "\\begin{tabular}{r|cccc}\n",
       "\t& y & a & b & c\\\\\n",
       "\t\\hline\n",
       "\t& Float64 & Int64 & Float64 & String\\\\\n",
       "\t\\hline\n",
       "\t1 & 0.585195 & 1 & 0.236782 & d \\\\\n",
       "\t2 & 0.0773379 & 2 & 0.943741 & e \\\\\n",
       "\t3 & 0.716628 & 3 & 0.445671 & f \\\\\n",
       "\t4 & 0.320357 & 4 & 0.763679 & d \\\\\n",
       "\t5 & 0.653093 & 5 & 0.145071 & e \\\\\n",
       "\t6 & 0.236639 & 6 & 0.021124 & f \\\\\n",
       "\t7 & 0.709684 & 7 & 0.152545 & d \\\\\n",
       "\t8 & 0.557787 & 8 & 0.617492 & e \\\\\n",
       "\t9 & 0.05079 & 9 & 0.481531 & f \\\\\n",
       "\\end{tabular}\n"
      ],
      "text/plain": [
       "\u001b[1m9×4 DataFrame\u001b[0m\n",
       "\u001b[1m Row \u001b[0m│\u001b[1m y         \u001b[0m\u001b[1m a     \u001b[0m\u001b[1m b        \u001b[0m\u001b[1m c      \u001b[0m\n",
       "\u001b[1m     \u001b[0m│\u001b[90m Float64   \u001b[0m\u001b[90m Int64 \u001b[0m\u001b[90m Float64  \u001b[0m\u001b[90m String \u001b[0m\n",
       "─────┼────────────────────────────────────\n",
       "   1 │ 0.585195       1  0.236782  d\n",
       "   2 │ 0.0773379      2  0.943741  e\n",
       "   3 │ 0.716628       3  0.445671  f\n",
       "   4 │ 0.320357       4  0.763679  d\n",
       "   5 │ 0.653093       5  0.145071  e\n",
       "   6 │ 0.236639       6  0.021124  f\n",
       "   7 │ 0.709684       7  0.152545  d\n",
       "   8 │ 0.557787       8  0.617492  e\n",
       "   9 │ 0.05079        9  0.481531  f"
      ]
     },
     "execution_count": 5,
     "metadata": {},
     "output_type": "execute_result"
    }
   ],
   "source": [
    "df"
   ]
  },
  {
   "cell_type": "code",
   "execution_count": 6,
   "metadata": {},
   "outputs": [
    {
     "name": "stderr",
     "output_type": "stream",
     "text": [
      "┌ Warning: n >= p in high dimensional matrix\n",
      "└ @ Main.HighDimMM /Users/zyxu/Documents/julia/highDimMM/bricks.jl:12\n"
     ]
    },
    {
     "data": {
      "text/plain": [
       "Main.HighDimMM.highDimMixedModel{Float64}(y ~ 1 + a + b + c, Main.HighDimMM.highDimMat{Float64, Matrix{Float64}}([1.0; 2.0; … ; 8.0; 9.0]), Main.HighDimMM.XMat{Float64, Matrix{Float64}}([1.0 0.236781883208121; 1.0 0.9437409715735081; … ; 1.0 0.617492416565387; 1.0 0.48153065407402607]), [0.0 0.0; 1.0 0.0; … ; 1.0 0.0; 0.0 1.0], [0.5851946422124186, 0.07733793456911231, 0.7166282400543453, 0.3203570514066232, 0.6530930076222579, 0.2366391513734556, 0.7096838914472361, 0.5577872440804086, 0.05079002172175784])"
      ]
     },
     "execution_count": 6,
     "metadata": {},
     "output_type": "execute_result"
    }
   ],
   "source": [
    "HMM = HighDimMM.highDimMixedModel(f, df, contrasts, 1, 1)"
   ]
  },
  {
   "cell_type": "code",
   "execution_count": 7,
   "metadata": {},
   "outputs": [
    {
     "data": {
      "text/plain": [
       "9×1 Matrix{Float64}:\n",
       " 1.0\n",
       " 2.0\n",
       " 3.0\n",
       " 4.0\n",
       " 5.0\n",
       " 6.0\n",
       " 7.0\n",
       " 8.0\n",
       " 9.0"
      ]
     },
     "execution_count": 7,
     "metadata": {},
     "output_type": "execute_result"
    }
   ],
   "source": [
    "HMM.M.M"
   ]
  },
  {
   "cell_type": "code",
   "execution_count": 8,
   "metadata": {},
   "outputs": [
    {
     "data": {
      "text/plain": [
       "9×2 Matrix{Float64}:\n",
       " 1.0  0.236782\n",
       " 1.0  0.943741\n",
       " 1.0  0.445671\n",
       " 1.0  0.763679\n",
       " 1.0  0.145071\n",
       " 1.0  0.021124\n",
       " 1.0  0.152545\n",
       " 1.0  0.617492\n",
       " 1.0  0.481531"
      ]
     },
     "execution_count": 8,
     "metadata": {},
     "output_type": "execute_result"
    }
   ],
   "source": [
    "HMM.X.X"
   ]
  },
  {
   "cell_type": "code",
   "execution_count": 9,
   "metadata": {},
   "outputs": [
    {
     "data": {
      "text/plain": [
       "9×2 Matrix{Float64}:\n",
       " 0.0  0.0\n",
       " 1.0  0.0\n",
       " 0.0  1.0\n",
       " 0.0  0.0\n",
       " 1.0  0.0\n",
       " 0.0  1.0\n",
       " 0.0  0.0\n",
       " 1.0  0.0\n",
       " 0.0  1.0"
      ]
     },
     "execution_count": 9,
     "metadata": {},
     "output_type": "execute_result"
    }
   ],
   "source": [
    "HMM.Z.Z"
   ]
  },
  {
   "cell_type": "code",
   "execution_count": 10,
   "metadata": {},
   "outputs": [
    {
     "data": {
      "text/plain": [
       "9-element Vector{Float64}:\n",
       " 0.5851946422124186\n",
       " 0.07733793456911231\n",
       " 0.7166282400543453\n",
       " 0.3203570514066232\n",
       " 0.6530930076222579\n",
       " 0.2366391513734556\n",
       " 0.7096838914472361\n",
       " 0.5577872440804086\n",
       " 0.05079002172175784"
      ]
     },
     "execution_count": 10,
     "metadata": {},
     "output_type": "execute_result"
    }
   ],
   "source": [
    "HMM.y"
   ]
  },
  {
   "cell_type": "code",
   "execution_count": null,
   "metadata": {},
   "outputs": [],
   "source": []
  },
  {
   "cell_type": "code",
   "execution_count": null,
   "metadata": {},
   "outputs": [],
   "source": [
    "push!([5, 2, 3], 4)"
   ]
  },
  {
   "cell_type": "code",
   "execution_count": null,
   "metadata": {},
   "outputs": [],
   "source": []
  },
  {
   "cell_type": "code",
   "execution_count": 11,
   "metadata": {},
   "outputs": [
    {
     "data": {
      "text/plain": [
       "9×3 Matrix{Float64}:\n",
       " 1.0  1.0  0.236782\n",
       " 2.0  1.0  0.943741\n",
       " 3.0  1.0  0.445671\n",
       " 4.0  1.0  0.763679\n",
       " 5.0  1.0  0.145071\n",
       " 6.0  1.0  0.021124\n",
       " 7.0  1.0  0.152545\n",
       " 8.0  1.0  0.617492\n",
       " 9.0  1.0  0.481531"
      ]
     },
     "execution_count": 11,
     "metadata": {},
     "output_type": "execute_result"
    }
   ],
   "source": [
    "A = hcat(HMM.M.M, HMM.X.X)"
   ]
  },
  {
   "cell_type": "code",
   "execution_count": 12,
   "metadata": {},
   "outputs": [
    {
     "data": {
      "text/plain": [
       "9×9 Matrix{Float64}:\n",
       "  0.520973   -0.143783     -0.252433    …   0.184977     0.209717\n",
       " -0.143783    0.462356     -0.19791        -0.119911    -0.000619957\n",
       " -0.252433   -0.19791       0.821592       -0.00353017   0.0264953\n",
       " -0.0604651  -0.354986     -0.135189       -0.172444    -0.107198\n",
       " -0.213517    0.0581287    -0.11919        -0.0139248   -0.0563311\n",
       " -0.184352    0.170105     -0.0888158   …  -0.0283347   -0.102937\n",
       " -0.0611175   0.126619     -0.0510196      -0.132019    -0.199864\n",
       "  0.184977   -0.119911     -0.00353017      0.647698    -0.362512\n",
       "  0.209717   -0.000619957   0.0264953      -0.362512     0.59325"
      ]
     },
     "execution_count": 12,
     "metadata": {},
     "output_type": "execute_result"
    }
   ],
   "source": [
    "P = I - A*inv(transpose(A)*A)*transpose(A)"
   ]
  },
  {
   "cell_type": "code",
   "execution_count": 13,
   "metadata": {},
   "outputs": [
    {
     "data": {
      "text/plain": [
       "SVD{Float64, Float64, Matrix{Float64}}\n",
       "U factor:\n",
       "9×9 Matrix{Float64}:\n",
       "  1.34407e-17   0.721784   …   0.587281  -0.358792    -0.0734559\n",
       " -0.190676     -0.199205      -0.192051  -0.666302    -0.23833\n",
       " -0.0463644    -0.349734       0.209233  -0.3661       0.0245039\n",
       "  0.0537586    -0.0837717     -0.189029  -0.477457    -0.00231795\n",
       "  0.648374     -0.295818       0.330352  -0.116465     0.3033\n",
       " -0.0637745    -0.255412   …   0.365092  -0.00493805   0.433344\n",
       " -0.672223     -0.0846755      0.149638  -0.0221965    0.472749\n",
       "  0.286397      0.256278      -0.392585  -0.207657     0.393773\n",
       " -0.0154922     0.290553      -0.346074  -0.0900704    0.528082\n",
       "singular values:\n",
       "9-element Vector{Float64}:\n",
       " 1.0000000000000002\n",
       " 1.0\n",
       " 1.0\n",
       " 1.0\n",
       " 1.0\n",
       " 0.9999999999999999\n",
       " 1.0555910676597907e-15\n",
       " 6.102774479646989e-16\n",
       " 1.0608953044925711e-16\n",
       "Vt factor:\n",
       "9×9 Matrix{Float64}:\n",
       "  0.0       -0.190676   -0.0463644  …  -0.672223    0.286397   -0.0154922\n",
       "  0.721784  -0.199205   -0.349734      -0.0846755   0.256278    0.290553\n",
       "  0.0       -0.517681    0.0175724      0.0823317   0.0976185  -0.314116\n",
       "  0.0        0.177124   -0.256386      -0.40938     0.0725489  -0.0347221\n",
       "  0.0       -0.0397892  -0.15056       -0.155654   -0.696412    0.579134\n",
       "  0.0       -0.292176    0.780011   …  -0.309793    0.0146294   0.270772\n",
       " -0.195942   0.587931    0.0229471     -0.33503     0.177945    0.0182891\n",
       " -0.646602  -0.334942   -0.339135       0.0894628   0.337689    0.428409\n",
       " -0.150131  -0.282479   -0.250737      -0.355143   -0.454537   -0.472103"
      ]
     },
     "execution_count": 13,
     "metadata": {},
     "output_type": "execute_result"
    }
   ],
   "source": [
    "u,s,v = svd(P)"
   ]
  },
  {
   "cell_type": "code",
   "execution_count": 14,
   "metadata": {},
   "outputs": [
    {
     "data": {
      "text/plain": [
       "2.55351295663786e-15"
      ]
     },
     "execution_count": 14,
     "metadata": {},
     "output_type": "execute_result"
    }
   ],
   "source": [
    "u = u[:,1:6]\n",
    "s = diagm(s[1:6])\n",
    "v = v[:,1:6]\n",
    "maximum(u*s*transpose(v) - P)"
   ]
  },
  {
   "cell_type": "code",
   "execution_count": 15,
   "metadata": {},
   "outputs": [
    {
     "data": {
      "text/plain": [
       "6×9 Matrix{Float64}:\n",
       " 0.0       -0.190676   -0.0463644  …  -0.672223    0.286397   -0.0154922\n",
       " 0.721784  -0.199205   -0.349734      -0.0846755   0.256278    0.290553\n",
       " 0.0       -0.517681    0.0175724      0.0823317   0.0976185  -0.314116\n",
       " 0.0        0.177124   -0.256386      -0.40938     0.0725489  -0.0347221\n",
       " 0.0       -0.0397892  -0.15056       -0.155654   -0.696412    0.579134\n",
       " 0.0       -0.292176    0.780011   …  -0.309793    0.0146294   0.270772"
      ]
     },
     "execution_count": 15,
     "metadata": {},
     "output_type": "execute_result"
    }
   ],
   "source": [
    "s*transpose(v)"
   ]
  },
  {
   "cell_type": "code",
   "execution_count": 17,
   "metadata": {},
   "outputs": [
    {
     "data": {
      "text/plain": [
       "6×3 Matrix{Float64}:\n",
       " -5.2354e-15   -9.88792e-16  -4.71845e-16\n",
       " -4.71845e-15  -8.88178e-16  -3.33067e-16\n",
       "  5.55112e-16   3.33067e-16   4.44089e-16\n",
       "  6.38378e-16  -6.93889e-17  -9.71445e-17\n",
       " -3.21965e-15  -5.55112e-16  -1.2809e-16\n",
       "  1.4988e-15    1.66533e-16   5.64184e-18"
      ]
     },
     "execution_count": 17,
     "metadata": {},
     "output_type": "execute_result"
    }
   ],
   "source": [
    "s*transpose(v)*A"
   ]
  },
  {
   "cell_type": "code",
   "execution_count": null,
   "metadata": {},
   "outputs": [],
   "source": [
    "K = transpose(u)*P## use this"
   ]
  },
  {
   "cell_type": "code",
   "execution_count": null,
   "metadata": {},
   "outputs": [],
   "source": [
    "transpose(u)*u*s*transpose(v)"
   ]
  },
  {
   "cell_type": "code",
   "execution_count": null,
   "metadata": {},
   "outputs": [],
   "source": [
    "maximum(transpose(u)*P*A)"
   ]
  },
  {
   "cell_type": "code",
   "execution_count": null,
   "metadata": {},
   "outputs": [],
   "source": [
    "K*A"
   ]
  },
  {
   "cell_type": "code",
   "execution_count": 18,
   "metadata": {},
   "outputs": [
    {
     "data": {
      "text/plain": [
       "9×6 Matrix{Float64}:\n",
       "  0.775828  -0.248522   -0.665225   1.38532    1.9676     1.3052\n",
       "  0.620779  -2.66428    -1.14372   -1.3766     1.69857   -1.81482\n",
       " -1.53403   -0.0768283   0.572958  -1.2075    -2.49606    1.53395\n",
       "  0.358795  -0.348564    0.830155  -0.81888    0.144877  -1.14289\n",
       "  1.94652   -0.442573    0.872718   0.447337  -0.219622  -0.44091\n",
       " -0.121813   2.16696     0.346889   0.679974   0.816193  -1.73046\n",
       "  0.847584   0.0690022  -1.41354    0.287173  -0.334161   0.368597\n",
       "  1.21918   -0.851399   -0.837109  -1.66663   -0.510076  -1.68946\n",
       " -1.42896    0.534756   -0.584069  -0.199521  -1.78439   -1.38653"
      ]
     },
     "execution_count": 18,
     "metadata": {},
     "output_type": "execute_result"
    }
   ],
   "source": [
    "randn(9, 6)"
   ]
  },
  {
   "cell_type": "code",
   "execution_count": 19,
   "metadata": {},
   "outputs": [
    {
     "data": {
      "text/plain": [
       "9×6 Matrix{Float64}:\n",
       "  1.34407e-17   0.721784   -4.77891e-17  …   1.67262e-16  -1.19473e-17\n",
       " -0.190676     -0.199205   -0.517681        -0.0397892    -0.292176\n",
       " -0.0463644    -0.349734    0.0175724       -0.15056       0.780011\n",
       "  0.0537586    -0.0837717   0.764194         0.344961     -0.151601\n",
       "  0.648374     -0.295818   -0.175161         0.10984      -0.336347\n",
       " -0.0637745    -0.255412    0.045242     …   0.00848006    0.024504\n",
       " -0.672223     -0.0846755   0.0823317       -0.155654     -0.309793\n",
       "  0.286397      0.256278    0.0976185       -0.696412      0.0146294\n",
       " -0.0154922     0.290553   -0.314116         0.579134      0.270772"
      ]
     },
     "execution_count": 19,
     "metadata": {},
     "output_type": "execute_result"
    }
   ],
   "source": [
    "u[:,1:6]"
   ]
  },
  {
   "cell_type": "code",
   "execution_count": 21,
   "metadata": {},
   "outputs": [
    {
     "data": {
      "text/plain": [
       "2.0095036745715333e-14"
      ]
     },
     "execution_count": 21,
     "metadata": {},
     "output_type": "execute_result"
    }
   ],
   "source": [
    "maximum(randn(6, 9)*P*A)"
   ]
  },
  {
   "cell_type": "code",
   "execution_count": null,
   "metadata": {},
   "outputs": [],
   "source": []
  }
 ],
 "metadata": {
  "kernelspec": {
   "display_name": "Julia 1.6.1",
   "language": "julia",
   "name": "julia-1.6"
  },
  "language_info": {
   "file_extension": ".jl",
   "mimetype": "application/julia",
   "name": "julia",
   "version": "1.6.1"
  }
 },
 "nbformat": 4,
 "nbformat_minor": 4
}
