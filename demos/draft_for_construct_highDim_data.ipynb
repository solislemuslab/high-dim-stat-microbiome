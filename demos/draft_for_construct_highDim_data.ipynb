{
 "cells": [
  {
   "cell_type": "code",
   "execution_count": 1,
   "metadata": {},
   "outputs": [
    {
     "name": "stdout",
     "output_type": "stream",
     "text": [
      "\u001b[36m\u001b[1m     Project\u001b[22m\u001b[39m demo v0.1.0\n",
      "\u001b[32m\u001b[1m      Status\u001b[22m\u001b[39m `~/Documents/julia/demo/Project.toml`\n",
      " \u001b[90m [336ed68f] \u001b[39m\u001b[37mCSV v0.9.6\u001b[39m\n",
      " \u001b[90m [324d7699] \u001b[39m\u001b[37mCategoricalArrays v0.10.2\u001b[39m\n",
      " \u001b[90m [7876af07] \u001b[39m\u001b[37mExample v0.5.4 `~/.julia/dev/Example`\u001b[39m\n",
      " \u001b[90m [ced58d7a] \u001b[39m\u001b[37mHighDimMixedModels v0.1.0 `~/.julia/dev/HighDimMixedModels`\u001b[39m\n",
      " \u001b[90m [a1dec852] \u001b[39m\u001b[37mMetida v0.12.4\u001b[39m\n",
      " \u001b[90m [ff71e718] \u001b[39m\u001b[37mMixedModels v4.6.0\u001b[39m\n",
      " \u001b[90m [14b8a8f1] \u001b[39m\u001b[37mPkgTemplates v0.7.19\u001b[39m\n",
      " \u001b[90m [bd369af6] \u001b[39m\u001b[37mTables v1.6.0\u001b[39m\n",
      " \u001b[90m [44d3d7a6] \u001b[39m\u001b[37mWeave v0.10.10\u001b[39m\n"
     ]
    }
   ],
   "source": [
    "using Pkg\n",
    "# Pkg.activate(pwd())\n",
    "Pkg.DEFAULT_IO[] = stdout\n",
    "Pkg.status()"
   ]
  },
  {
   "cell_type": "code",
   "execution_count": 2,
   "metadata": {},
   "outputs": [],
   "source": [
    "using LinearAlgebra\n",
    "using DataFrames\n",
    "using StableRNGs; rng = StableRNG(1);\n",
    "using StatsModels\n",
    "using MixedModels\n",
    "using CSV, CategoricalArrays"
   ]
  },
  {
   "cell_type": "code",
   "execution_count": 3,
   "metadata": {},
   "outputs": [],
   "source": [
    "using HighDimMixedModels"
   ]
  },
  {
   "cell_type": "code",
   "execution_count": 4,
   "metadata": {},
   "outputs": [
    {
     "data": {
      "text/html": [
       "<div class=\"data-frame\"><p>5 rows × 4 columns</p><table class=\"data-frame\"><thead><tr><th></th><th>period</th><th>herd</th><th>incid</th><th>hsz</th></tr><tr><th></th><th title=\"Float64\">Float64</th><th title=\"String\">String</th><th title=\"Int8\">Int8</th><th title=\"Int8\">Int8</th></tr></thead><tbody><tr><th>1</th><td>1.0</td><td>H01</td><td>2</td><td>14</td></tr><tr><th>2</th><td>2.0</td><td>H01</td><td>3</td><td>12</td></tr><tr><th>3</th><td>3.0</td><td>H01</td><td>4</td><td>9</td></tr><tr><th>4</th><td>4.0</td><td>H01</td><td>0</td><td>5</td></tr><tr><th>5</th><td>1.0</td><td>H02</td><td>3</td><td>22</td></tr></tbody></table></div>"
      ],
      "text/latex": [
       "\\begin{tabular}{r|cccc}\n",
       "\t& period & herd & incid & hsz\\\\\n",
       "\t\\hline\n",
       "\t& Float64 & String & Int8 & Int8\\\\\n",
       "\t\\hline\n",
       "\t1 & 1.0 & H01 & 2 & 14 \\\\\n",
       "\t2 & 2.0 & H01 & 3 & 12 \\\\\n",
       "\t3 & 3.0 & H01 & 4 & 9 \\\\\n",
       "\t4 & 4.0 & H01 & 0 & 5 \\\\\n",
       "\t5 & 1.0 & H02 & 3 & 22 \\\\\n",
       "\\end{tabular}\n"
      ],
      "text/plain": [
       "\u001b[1m5×4 DataFrame\u001b[0m\n",
       "\u001b[1m Row \u001b[0m│\u001b[1m period  \u001b[0m\u001b[1m herd   \u001b[0m\u001b[1m incid \u001b[0m\u001b[1m hsz  \u001b[0m\n",
       "\u001b[1m     \u001b[0m│\u001b[90m Float64 \u001b[0m\u001b[90m String \u001b[0m\u001b[90m Int8  \u001b[0m\u001b[90m Int8 \u001b[0m\n",
       "─────┼──────────────────────────────\n",
       "   1 │     1.0  H01         2    14\n",
       "   2 │     2.0  H01         3    12\n",
       "   3 │     3.0  H01         4     9\n",
       "   4 │     4.0  H01         0     5\n",
       "   5 │     1.0  H02         3    22"
      ]
     },
     "execution_count": 4,
     "metadata": {},
     "output_type": "execute_result"
    }
   ],
   "source": [
    "#MixedModels.datasets()\n",
    "df = DataFrame(MixedModels.dataset(:cbpp))\n",
    "df[!,:period] = map(x->parse(Float64,x),df[:,:period])\n",
    "select!(df,[:period,:herd,:incid,:hsz])\n",
    "first(df,5)"
   ]
  },
  {
   "cell_type": "code",
   "execution_count": 5,
   "metadata": {},
   "outputs": [
    {
     "data": {
      "text/plain": [
       "FormulaTerm\n",
       "Response:\n",
       "  period(unknown)\n",
       "Predictors:\n",
       "  (herd)->1 | herd"
      ]
     },
     "execution_count": 5,
     "metadata": {},
     "output_type": "execute_result"
    }
   ],
   "source": [
    "f = @formula(period ~ (1|herd))\n",
    "#f = @formula(period ~ herd + incid + hsz)\n",
    "#fit(MixedModel, @formula(period ~ incid + hsz +(1|herd)), df, REML = true)"
   ]
  },
  {
   "cell_type": "code",
   "execution_count": 6,
   "metadata": {},
   "outputs": [],
   "source": [
    "for i in 1:size(df,2)\n",
    "    if(isa(df[1,i], Number))\n",
    "        df[!,i] = convert(Vector{Float64},df[:,i])\n",
    "    end\n",
    "end"
   ]
  },
  {
   "cell_type": "code",
   "execution_count": 7,
   "metadata": {},
   "outputs": [
    {
     "data": {
      "text/plain": [
       "FormulaTerm\n",
       "Response:\n",
       "  period(continuous)\n",
       "Predictors:\n",
       "  1\n",
       "  (1 | herd)"
      ]
     },
     "execution_count": 7,
     "metadata": {},
     "output_type": "execute_result"
    }
   ],
   "source": [
    "sch = schema(df)\n",
    "form = apply_schema(f, sch, highDimMixedModel)"
   ]
  },
  {
   "cell_type": "code",
   "execution_count": 8,
   "metadata": {},
   "outputs": [
    {
     "data": {
      "text/plain": [
       "FormulaTerm\n",
       "Response:\n",
       "  period(unknown)\n",
       "Predictors:\n",
       "  (herd)->1 | herd"
      ]
     },
     "execution_count": 8,
     "metadata": {},
     "output_type": "execute_result"
    }
   ],
   "source": [
    "f"
   ]
  },
  {
   "cell_type": "code",
   "execution_count": 9,
   "metadata": {},
   "outputs": [
    {
     "data": {
      "text/plain": [
       "FormulaTerm\n",
       "Response:\n",
       "  period(continuous)\n",
       "Predictors:\n",
       "  1\n",
       "  (1 | herd)"
      ]
     },
     "execution_count": 9,
     "metadata": {},
     "output_type": "execute_result"
    }
   ],
   "source": [
    "form"
   ]
  },
  {
   "cell_type": "code",
   "execution_count": null,
   "metadata": {},
   "outputs": [],
   "source": []
  },
  {
   "cell_type": "markdown",
   "metadata": {},
   "source": [
    "## High Dim Data"
   ]
  },
  {
   "cell_type": "code",
   "execution_count": 4,
   "metadata": {},
   "outputs": [
    {
     "data": {
      "text/html": [
       "<div class=\"data-frame\"><p>5 rows × 50 columns (omitted printing of 41 columns)</p><table class=\"data-frame\"><thead><tr><th></th><th>...1</th><th>...2</th><th>...3</th><th>...4</th><th>...5</th><th>...6</th><th>...7</th><th>...8</th><th>...9</th></tr><tr><th></th><th title=\"Float64\">Float64</th><th title=\"Float64\">Float64</th><th title=\"Float64\">Float64</th><th title=\"Float64\">Float64</th><th title=\"Float64\">Float64</th><th title=\"Float64\">Float64</th><th title=\"Float64\">Float64</th><th title=\"Float64\">Float64</th><th title=\"Float64\">Float64</th></tr></thead><tbody><tr><th>1</th><td>0.0</td><td>0.0</td><td>0.5</td><td>0.0</td><td>0.0</td><td>0.0</td><td>0.0</td><td>0.5</td><td>0.5</td></tr><tr><th>2</th><td>0.0</td><td>0.0</td><td>0.0</td><td>0.0</td><td>0.0</td><td>0.0</td><td>0.0</td><td>0.0</td><td>0.5</td></tr><tr><th>3</th><td>1.0</td><td>0.0</td><td>0.5</td><td>0.0</td><td>1.0</td><td>0.0</td><td>0.0</td><td>0.0</td><td>0.5</td></tr><tr><th>4</th><td>0.0</td><td>0.0</td><td>1.0</td><td>0.5</td><td>0.0</td><td>0.0</td><td>0.5</td><td>0.0</td><td>0.0</td></tr><tr><th>5</th><td>0.0</td><td>0.5</td><td>0.0</td><td>0.0</td><td>0.0</td><td>1.0</td><td>0.5</td><td>0.0</td><td>1.0</td></tr></tbody></table></div>"
      ],
      "text/latex": [
       "\\begin{tabular}{r|cccccccccc}\n",
       "\t& ...1 & ...2 & ...3 & ...4 & ...5 & ...6 & ...7 & ...8 & ...9 & \\\\\n",
       "\t\\hline\n",
       "\t& Float64 & Float64 & Float64 & Float64 & Float64 & Float64 & Float64 & Float64 & Float64 & \\\\\n",
       "\t\\hline\n",
       "\t1 & 0.0 & 0.0 & 0.5 & 0.0 & 0.0 & 0.0 & 0.0 & 0.5 & 0.5 & $\\dots$ \\\\\n",
       "\t2 & 0.0 & 0.0 & 0.0 & 0.0 & 0.0 & 0.0 & 0.0 & 0.0 & 0.5 & $\\dots$ \\\\\n",
       "\t3 & 1.0 & 0.0 & 0.5 & 0.0 & 1.0 & 0.0 & 0.0 & 0.0 & 0.5 & $\\dots$ \\\\\n",
       "\t4 & 0.0 & 0.0 & 1.0 & 0.5 & 0.0 & 0.0 & 0.5 & 0.0 & 0.0 & $\\dots$ \\\\\n",
       "\t5 & 0.0 & 0.5 & 0.0 & 0.0 & 0.0 & 1.0 & 0.5 & 0.0 & 1.0 & $\\dots$ \\\\\n",
       "\\end{tabular}\n"
      ],
      "text/plain": [
       "\u001b[1m5×50 DataFrame\u001b[0m\n",
       "\u001b[1m Row \u001b[0m│\u001b[1m ...1    \u001b[0m\u001b[1m ...2    \u001b[0m\u001b[1m ...3    \u001b[0m\u001b[1m ...4    \u001b[0m\u001b[1m ...5    \u001b[0m\u001b[1m ...6    \u001b[0m\u001b[1m ...7    \u001b[0m\u001b[1m ...8    \u001b[0m\u001b[1m\u001b[0m ⋯\n",
       "\u001b[1m     \u001b[0m│\u001b[90m Float64 \u001b[0m\u001b[90m Float64 \u001b[0m\u001b[90m Float64 \u001b[0m\u001b[90m Float64 \u001b[0m\u001b[90m Float64 \u001b[0m\u001b[90m Float64 \u001b[0m\u001b[90m Float64 \u001b[0m\u001b[90m Float64 \u001b[0m\u001b[90m\u001b[0m ⋯\n",
       "─────┼──────────────────────────────────────────────────────────────────────────\n",
       "   1 │     0.0      0.0      0.5      0.0      0.0      0.0      0.0      0.5  ⋯\n",
       "   2 │     0.0      0.0      0.0      0.0      0.0      0.0      0.0      0.0\n",
       "   3 │     1.0      0.0      0.5      0.0      1.0      0.0      0.0      0.0\n",
       "   4 │     0.0      0.0      1.0      0.5      0.0      0.0      0.5      0.0\n",
       "   5 │     0.0      0.5      0.0      0.0      0.0      1.0      0.5      0.0  ⋯\n",
       "\u001b[36m                                                              42 columns omitted\u001b[0m"
      ]
     },
     "execution_count": 4,
     "metadata": {},
     "output_type": "execute_result"
    }
   ],
   "source": [
    "raw = DataFrame(CSV.File(\"raws.csv\"))\n",
    "raw = raw[1:30, 1:50]\n",
    "first(raw,5)"
   ]
  },
  {
   "cell_type": "code",
   "execution_count": 5,
   "metadata": {},
   "outputs": [
    {
     "data": {
      "text/html": [
       "<div class=\"data-frame\"><p>5 rows × 8 columns</p><table class=\"data-frame\"><thead><tr><th></th><th>...45</th><th>...46</th><th>...47</th><th>...48</th><th>...49</th><th>...50</th><th>response</th><th>trt</th></tr><tr><th></th><th title=\"Float64\">Float64</th><th title=\"Float64\">Float64</th><th title=\"Float64\">Float64</th><th title=\"Float64\">Float64</th><th title=\"Float64\">Float64</th><th title=\"Float64\">Float64</th><th title=\"Float64\">Float64</th><th title=\"String\">String</th></tr></thead><tbody><tr><th>1</th><td>0.0</td><td>0.0</td><td>0.0</td><td>0.0</td><td>0.0</td><td>0.0</td><td>0.585195</td><td>B</td></tr><tr><th>2</th><td>0.0</td><td>1.5</td><td>0.0</td><td>0.0</td><td>0.5</td><td>0.0</td><td>0.0773379</td><td>B</td></tr><tr><th>3</th><td>0.5</td><td>1.0</td><td>0.0</td><td>1.0</td><td>0.5</td><td>0.0</td><td>0.716628</td><td>C</td></tr><tr><th>4</th><td>0.5</td><td>1.0</td><td>0.0</td><td>0.0</td><td>0.5</td><td>0.0</td><td>0.320357</td><td>B</td></tr><tr><th>5</th><td>0.5</td><td>0.0</td><td>0.0</td><td>1.0</td><td>0.5</td><td>0.0</td><td>0.653093</td><td>B</td></tr></tbody></table></div>"
      ],
      "text/latex": [
       "\\begin{tabular}{r|cccccccc}\n",
       "\t& ...45 & ...46 & ...47 & ...48 & ...49 & ...50 & response & trt\\\\\n",
       "\t\\hline\n",
       "\t& Float64 & Float64 & Float64 & Float64 & Float64 & Float64 & Float64 & String\\\\\n",
       "\t\\hline\n",
       "\t1 & 0.0 & 0.0 & 0.0 & 0.0 & 0.0 & 0.0 & 0.585195 & B \\\\\n",
       "\t2 & 0.0 & 1.5 & 0.0 & 0.0 & 0.5 & 0.0 & 0.0773379 & B \\\\\n",
       "\t3 & 0.5 & 1.0 & 0.0 & 1.0 & 0.5 & 0.0 & 0.716628 & C \\\\\n",
       "\t4 & 0.5 & 1.0 & 0.0 & 0.0 & 0.5 & 0.0 & 0.320357 & B \\\\\n",
       "\t5 & 0.5 & 0.0 & 0.0 & 1.0 & 0.5 & 0.0 & 0.653093 & B \\\\\n",
       "\\end{tabular}\n"
      ],
      "text/plain": [
       "\u001b[1m5×8 DataFrame\u001b[0m\n",
       "\u001b[1m Row \u001b[0m│\u001b[1m ...45   \u001b[0m\u001b[1m ...46   \u001b[0m\u001b[1m ...47   \u001b[0m\u001b[1m ...48   \u001b[0m\u001b[1m ...49   \u001b[0m\u001b[1m ...50   \u001b[0m\u001b[1m response  \u001b[0m\u001b[1m trt   \u001b[0m ⋯\n",
       "\u001b[1m     \u001b[0m│\u001b[90m Float64 \u001b[0m\u001b[90m Float64 \u001b[0m\u001b[90m Float64 \u001b[0m\u001b[90m Float64 \u001b[0m\u001b[90m Float64 \u001b[0m\u001b[90m Float64 \u001b[0m\u001b[90m Float64   \u001b[0m\u001b[90m String\u001b[0m ⋯\n",
       "─────┼──────────────────────────────────────────────────────────────────────────\n",
       "   1 │     0.0      0.0      0.0      0.0      0.0      0.0  0.585195   B      ⋯\n",
       "   2 │     0.0      1.5      0.0      0.0      0.5      0.0  0.0773379  B\n",
       "   3 │     0.5      1.0      0.0      1.0      0.5      0.0  0.716628   C\n",
       "   4 │     0.5      1.0      0.0      0.0      0.5      0.0  0.320357   B\n",
       "   5 │     0.5      0.0      0.0      1.0      0.5      0.0  0.653093   B      ⋯"
      ]
     },
     "execution_count": 5,
     "metadata": {},
     "output_type": "execute_result"
    }
   ],
   "source": [
    "raw[!, :response] = rand(rng, 30)\n",
    "raw[!, :trt] = rand([\"A\",\"B\",\"C\"], 30)\n",
    "df = raw\n",
    "first(df[:,45:52],5)"
   ]
  },
  {
   "cell_type": "code",
   "execution_count": 12,
   "metadata": {},
   "outputs": [],
   "source": [
    "for i in 1:size(df,2)\n",
    "    if(isa(df[1,i], Number))\n",
    "        df[!,i] = convert(Vector{Float64},df[:,i])\n",
    "    end\n",
    "end"
   ]
  },
  {
   "cell_type": "code",
   "execution_count": 13,
   "metadata": {},
   "outputs": [
    {
     "data": {
      "text/plain": [
       "XMat{Float64, Matrix{Float64}}([0.0 0.0; 0.5 0.0; … ; 2.0 0.0; 1.0 1.0])"
      ]
     },
     "execution_count": 13,
     "metadata": {},
     "output_type": "execute_result"
    }
   ],
   "source": [
    "M = highDimMat(Matrix(df[:,1:48]))\n",
    "X = XMat(Matrix(df[:,49:50]))"
   ]
  },
  {
   "cell_type": "code",
   "execution_count": 14,
   "metadata": {},
   "outputs": [
    {
     "data": {
      "text/plain": [
       "FormulaTerm\n",
       "Response:\n",
       "  response(continuous)\n",
       "Predictors:\n",
       "  1\n",
       "  (1 | trt)"
      ]
     },
     "execution_count": 14,
     "metadata": {},
     "output_type": "execute_result"
    }
   ],
   "source": [
    "# The function doesn't need formula to construct M and X, so the formula constucted here is only for extracting Z, \n",
    "# doesn't matter we have intercept or not\n",
    "f = @formula(response ~ (1|trt))\n",
    "sch = schema(df)\n",
    "form = apply_schema(f, sch, highDimMixedModel)"
   ]
  },
  {
   "cell_type": "code",
   "execution_count": 15,
   "metadata": {},
   "outputs": [
    {
     "data": {
      "text/plain": [
       "\"response\""
      ]
     },
     "execution_count": 15,
     "metadata": {},
     "output_type": "execute_result"
    }
   ],
   "source": [
    "name = \"response\""
   ]
  },
  {
   "cell_type": "code",
   "execution_count": 16,
   "metadata": {},
   "outputs": [
    {
     "data": {
      "text/plain": [
       "Term"
      ]
     },
     "execution_count": 16,
     "metadata": {},
     "output_type": "execute_result"
    }
   ],
   "source": [
    "typeof(f.lhs)"
   ]
  },
  {
   "cell_type": "code",
   "execution_count": 26,
   "metadata": {},
   "outputs": [
    {
     "data": {
      "text/plain": [
       "RandomEffectsTerm"
      ]
     },
     "execution_count": 26,
     "metadata": {},
     "output_type": "execute_result"
    }
   ],
   "source": [
    "typeof(form.rhs[2])"
   ]
  },
  {
   "cell_type": "code",
   "execution_count": 32,
   "metadata": {},
   "outputs": [
    {
     "ename": "LoadError",
     "evalue": "MethodError: no method matching CategoricalTerm(::Symbol)\n\u001b[0mClosest candidates are:\n\u001b[0m  CategoricalTerm(::Symbol, \u001b[91m::StatsModels.ContrastsMatrix{C, T, U} where U\u001b[39m) where {C, T} at /Users/zyxu/.julia/packages/StatsModels/m1jYD/src/terms.jl:237",
     "output_type": "error",
     "traceback": [
      "MethodError: no method matching CategoricalTerm(::Symbol)\n\u001b[0mClosest candidates are:\n\u001b[0m  CategoricalTerm(::Symbol, \u001b[91m::StatsModels.ContrastsMatrix{C, T, U} where U\u001b[39m) where {C, T} at /Users/zyxu/.julia/packages/StatsModels/m1jYD/src/terms.jl:237",
      "",
      "Stacktrace:",
      " [1] top-level scope",
      "   @ In[32]:1",
      " [2] eval",
      "   @ ./boot.jl:360 [inlined]",
      " [3] include_string(mapexpr::typeof(REPL.softscope), mod::Module, code::String, filename::String)",
      "   @ Base ./loading.jl:1094"
     ]
    }
   ],
   "source": [
    "CategoricalTerm(:trt)"
   ]
  },
  {
   "cell_type": "code",
   "execution_count": 28,
   "metadata": {},
   "outputs": [
    {
     "data": {
      "text/plain": [
       "Term"
      ]
     },
     "execution_count": 28,
     "metadata": {},
     "output_type": "execute_result"
    }
   ],
   "source": [
    "typeof(term(\"trt\"))"
   ]
  },
  {
   "cell_type": "code",
   "execution_count": 17,
   "metadata": {},
   "outputs": [
    {
     "data": {
      "text/plain": [
       "30×3 HighDimMixedModels.ReMat{Float64, MixedModels.ReMat{Float64, 1}}:\n",
       " 0.0  0.0  1.0\n",
       " 1.0  0.0  0.0\n",
       " 0.0  1.0  0.0\n",
       " 0.0  0.0  1.0\n",
       " 0.0  0.0  1.0\n",
       " 1.0  0.0  0.0\n",
       " 0.0  0.0  1.0\n",
       " 0.0  1.0  0.0\n",
       " 0.0  1.0  0.0\n",
       " 1.0  0.0  0.0\n",
       " 0.0  0.0  1.0\n",
       " 1.0  0.0  0.0\n",
       " 1.0  0.0  0.0\n",
       " ⋮         \n",
       " 1.0  0.0  0.0\n",
       " 0.0  1.0  0.0\n",
       " 0.0  1.0  0.0\n",
       " 1.0  0.0  0.0\n",
       " 0.0  0.0  1.0\n",
       " 1.0  0.0  0.0\n",
       " 1.0  0.0  0.0\n",
       " 0.0  0.0  1.0\n",
       " 0.0  0.0  1.0\n",
       " 1.0  0.0  0.0\n",
       " 0.0  1.0  0.0\n",
       " 0.0  1.0  0.0"
      ]
     },
     "execution_count": 17,
     "metadata": {},
     "output_type": "execute_result"
    }
   ],
   "source": [
    "y, pre = modelcols(form,df)\n",
    "FixedEffectMatrix,ZMatrix = pre \n",
    "Z = HighDimMixedModels.ReMat(ZMatrix)"
   ]
  },
  {
   "cell_type": "code",
   "execution_count": 18,
   "metadata": {},
   "outputs": [
    {
     "data": {
      "text/html": [
       "<div class=\"data-frame\"><p>5 rows × 8 columns</p><table class=\"data-frame\"><thead><tr><th></th><th>...45</th><th>...46</th><th>...47</th><th>...48</th><th>...49</th><th>...50</th><th>response</th><th>trt</th></tr><tr><th></th><th title=\"Float64\">Float64</th><th title=\"Float64\">Float64</th><th title=\"Float64\">Float64</th><th title=\"Float64\">Float64</th><th title=\"Float64\">Float64</th><th title=\"Float64\">Float64</th><th title=\"Float64\">Float64</th><th title=\"String\">String</th></tr></thead><tbody><tr><th>1</th><td>0.0</td><td>0.0</td><td>0.0</td><td>0.0</td><td>0.0</td><td>0.0</td><td>0.585195</td><td>C</td></tr><tr><th>2</th><td>0.0</td><td>1.5</td><td>0.0</td><td>0.0</td><td>0.5</td><td>0.0</td><td>0.0773379</td><td>A</td></tr><tr><th>3</th><td>0.5</td><td>1.0</td><td>0.0</td><td>1.0</td><td>0.5</td><td>0.0</td><td>0.716628</td><td>B</td></tr><tr><th>4</th><td>0.5</td><td>1.0</td><td>0.0</td><td>0.0</td><td>0.5</td><td>0.0</td><td>0.320357</td><td>C</td></tr><tr><th>5</th><td>0.5</td><td>0.0</td><td>0.0</td><td>1.0</td><td>0.5</td><td>0.0</td><td>0.653093</td><td>C</td></tr></tbody></table></div>"
      ],
      "text/latex": [
       "\\begin{tabular}{r|cccccccc}\n",
       "\t& ...45 & ...46 & ...47 & ...48 & ...49 & ...50 & response & trt\\\\\n",
       "\t\\hline\n",
       "\t& Float64 & Float64 & Float64 & Float64 & Float64 & Float64 & Float64 & String\\\\\n",
       "\t\\hline\n",
       "\t1 & 0.0 & 0.0 & 0.0 & 0.0 & 0.0 & 0.0 & 0.585195 & C \\\\\n",
       "\t2 & 0.0 & 1.5 & 0.0 & 0.0 & 0.5 & 0.0 & 0.0773379 & A \\\\\n",
       "\t3 & 0.5 & 1.0 & 0.0 & 1.0 & 0.5 & 0.0 & 0.716628 & B \\\\\n",
       "\t4 & 0.5 & 1.0 & 0.0 & 0.0 & 0.5 & 0.0 & 0.320357 & C \\\\\n",
       "\t5 & 0.5 & 0.0 & 0.0 & 1.0 & 0.5 & 0.0 & 0.653093 & C \\\\\n",
       "\\end{tabular}\n"
      ],
      "text/plain": [
       "\u001b[1m5×8 DataFrame\u001b[0m\n",
       "\u001b[1m Row \u001b[0m│\u001b[1m ...45   \u001b[0m\u001b[1m ...46   \u001b[0m\u001b[1m ...47   \u001b[0m\u001b[1m ...48   \u001b[0m\u001b[1m ...49   \u001b[0m\u001b[1m ...50   \u001b[0m\u001b[1m response  \u001b[0m\u001b[1m trt   \u001b[0m ⋯\n",
       "\u001b[1m     \u001b[0m│\u001b[90m Float64 \u001b[0m\u001b[90m Float64 \u001b[0m\u001b[90m Float64 \u001b[0m\u001b[90m Float64 \u001b[0m\u001b[90m Float64 \u001b[0m\u001b[90m Float64 \u001b[0m\u001b[90m Float64   \u001b[0m\u001b[90m String\u001b[0m ⋯\n",
       "─────┼──────────────────────────────────────────────────────────────────────────\n",
       "   1 │     0.0      0.0      0.0      0.0      0.0      0.0  0.585195   C      ⋯\n",
       "   2 │     0.0      1.5      0.0      0.0      0.5      0.0  0.0773379  A\n",
       "   3 │     0.5      1.0      0.0      1.0      0.5      0.0  0.716628   B\n",
       "   4 │     0.5      1.0      0.0      0.0      0.5      0.0  0.320357   C\n",
       "   5 │     0.5      0.0      0.0      1.0      0.5      0.0  0.653093   C      ⋯"
      ]
     },
     "execution_count": 18,
     "metadata": {},
     "output_type": "execute_result"
    }
   ],
   "source": [
    "first(df[:,45:52], 5)"
   ]
  },
  {
   "cell_type": "code",
   "execution_count": 6,
   "metadata": {},
   "outputs": [
    {
     "name": "stdout",
     "output_type": "stream",
     "text": [
      "response"
     ]
    },
    {
     "ename": "LoadError",
     "evalue": "ArgumentError: blocking variables (those behind |) must be Categorical (:(term(nameOfReMat)) is not)",
     "output_type": "error",
     "traceback": [
      "ArgumentError: blocking variables (those behind |) must be Categorical (:(term(nameOfReMat)) is not)",
      "",
      "Stacktrace:",
      "  [1] apply_schema(t::RandomEffectsTerm, schema::MixedModels.MultiSchema{StatsModels.FullRank}, Mod::Type{highDimMixedModel})",
      "    @ MixedModels ~/.julia/packages/MixedModels/4APVX/src/randomeffectsterm.jl:78",
      "  [2] apply_schema(t::FunctionTerm{typeof(|), HighDimMixedModels.var\"#14#17\", (:nameOfReMat,)}, schema::MixedModels.MultiSchema{StatsModels.FullRank}, Mod::Type{highDimMixedModel})",
      "    @ MixedModels ~/.julia/packages/MixedModels/4APVX/src/randomeffectsterm.jl:45",
      "  [3] _broadcast_getindex_evalf(::typeof(apply_schema), ::FunctionTerm{typeof(|), HighDimMixedModels.var\"#14#17\", (:nameOfReMat,)}, ::MixedModels.MultiSchema{StatsModels.FullRank}, ::Type)",
      "    @ Base.Broadcast ./broadcast.jl:648",
      "  [4] _broadcast_getindex",
      "    @ ./broadcast.jl:621 [inlined]",
      "  [5] (::Base.Broadcast.var\"#19#20\"{Base.Broadcast.Broadcasted{Base.Broadcast.Style{Tuple}, Nothing, typeof(apply_schema), Tuple{Tuple{InterceptTerm{true}, FunctionTerm{typeof(|), HighDimMixedModels.var\"#14#17\", (:nameOfReMat,)}}, Base.RefValue{MixedModels.MultiSchema{StatsModels.FullRank}}, Base.RefValue{UnionAll}}}})(k::Int64)",
      "    @ Base.Broadcast ./broadcast.jl:1098",
      "  [6] ntuple",
      "    @ ./ntuple.jl:49 [inlined]",
      "  [7] copy(bc::Base.Broadcast.Broadcasted{Base.Broadcast.Style{Tuple}, Nothing, typeof(apply_schema), Tuple{Tuple{InterceptTerm{true}, FunctionTerm{typeof(|), HighDimMixedModels.var\"#14#17\", (:nameOfReMat,)}}, Base.RefValue{MixedModels.MultiSchema{StatsModels.FullRank}}, Base.RefValue{UnionAll}}})",
      "    @ Base.Broadcast ./broadcast.jl:1098",
      "  [8] materialize",
      "    @ ./broadcast.jl:883 [inlined]",
      "  [9] apply_schema(t::Tuple{InterceptTerm{true}, FunctionTerm{typeof(|), HighDimMixedModels.var\"#14#17\", (:nameOfReMat,)}}, sch::MixedModels.MultiSchema{StatsModels.FullRank}, Ctx::Type)",
      "    @ MixedModels ~/.julia/packages/MixedModels/4APVX/src/schema.jl:22",
      " [10] apply_schema(t::FormulaTerm{FunctionTerm{typeof(term), HighDimMixedModels.var\"#13#16\", (:nameOfy,)}, FunctionTerm{typeof(|), HighDimMixedModels.var\"#14#17\", (:nameOfReMat,)}}, schema::StatsModels.Schema, Mod::Type{highDimMixedModel})",
      "    @ MixedModels ~/.julia/packages/MixedModels/4APVX/src/schema.jl:47",
      " [11] highDimMixedModel(df::DataFrame, nameOfy::String, nameOfReMat::String, idOfHDM::UnitRange{Int64}, idOfXMat::UnitRange{Int64})",
      "    @ HighDimMixedModels ~/.julia/dev/HighDimMixedModels/src/bricks.jl:383",
      " [12] top-level scope",
      "    @ In[6]:1",
      " [13] eval",
      "    @ ./boot.jl:360 [inlined]",
      " [14] include_string(mapexpr::typeof(REPL.softscope), mod::Module, code::String, filename::String)",
      "    @ Base ./loading.jl:1094"
     ]
    }
   ],
   "source": [
    "HMM = highDimMixedModel(df, \"response\", \"trt\", 1:48, 49:50)"
   ]
  },
  {
   "cell_type": "code",
   "execution_count": null,
   "metadata": {},
   "outputs": [],
   "source": []
  }
 ],
 "metadata": {
  "kernelspec": {
   "display_name": "Julia 1.6.1",
   "language": "julia",
   "name": "julia-1.6"
  },
  "language_info": {
   "file_extension": ".jl",
   "mimetype": "application/julia",
   "name": "julia",
   "version": "1.6.1"
  }
 },
 "nbformat": 4,
 "nbformat_minor": 4
}
