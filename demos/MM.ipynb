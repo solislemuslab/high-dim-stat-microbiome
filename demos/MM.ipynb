{
 "cells": [
  {
   "cell_type": "code",
   "execution_count": 1,
   "metadata": {},
   "outputs": [],
   "source": [
    "using MixedModels\n",
    "using DataFrames\n",
    "using Random\n",
    "using StableRNGs; rng = StableRNG(1);"
   ]
  },
  {
   "cell_type": "code",
   "execution_count": 2,
   "metadata": {},
   "outputs": [],
   "source": [
    "#df = DataFrame(y = rand(rng, 9), a = 1:1:9, b = rand(rng, 9), c = repeat([\"d\",\"e\",\"f\"], 3), d = rand(rng, 9))\n",
    "#df = MixedModels.dataset(:dyestuff)"
   ]
  },
  {
   "cell_type": "code",
   "execution_count": 3,
   "metadata": {},
   "outputs": [
    {
     "data": {
      "text/html": [
       "<div class=\"data-frame\"><p>5 rows × 4 columns</p><table class=\"data-frame\"><thead><tr><th></th><th>herd</th><th>period</th><th>incid</th><th>hsz</th></tr><tr><th></th><th title=\"String\">String</th><th title=\"Float64\">Float64</th><th title=\"Int8\">Int8</th><th title=\"Int8\">Int8</th></tr></thead><tbody><tr><th>1</th><td>H01</td><td>1.0</td><td>2</td><td>14</td></tr><tr><th>2</th><td>H01</td><td>2.0</td><td>3</td><td>12</td></tr><tr><th>3</th><td>H01</td><td>3.0</td><td>4</td><td>9</td></tr><tr><th>4</th><td>H01</td><td>4.0</td><td>0</td><td>5</td></tr><tr><th>5</th><td>H02</td><td>1.0</td><td>3</td><td>22</td></tr></tbody></table></div>"
      ],
      "text/latex": [
       "\\begin{tabular}{r|cccc}\n",
       "\t& herd & period & incid & hsz\\\\\n",
       "\t\\hline\n",
       "\t& String & Float64 & Int8 & Int8\\\\\n",
       "\t\\hline\n",
       "\t1 & H01 & 1.0 & 2 & 14 \\\\\n",
       "\t2 & H01 & 2.0 & 3 & 12 \\\\\n",
       "\t3 & H01 & 3.0 & 4 & 9 \\\\\n",
       "\t4 & H01 & 4.0 & 0 & 5 \\\\\n",
       "\t5 & H02 & 1.0 & 3 & 22 \\\\\n",
       "\\end{tabular}\n"
      ],
      "text/plain": [
       "\u001b[1m5×4 DataFrame\u001b[0m\n",
       "\u001b[1m Row \u001b[0m│\u001b[1m herd   \u001b[0m\u001b[1m period  \u001b[0m\u001b[1m incid \u001b[0m\u001b[1m hsz  \u001b[0m\n",
       "\u001b[1m     \u001b[0m│\u001b[90m String \u001b[0m\u001b[90m Float64 \u001b[0m\u001b[90m Int8  \u001b[0m\u001b[90m Int8 \u001b[0m\n",
       "─────┼──────────────────────────────\n",
       "   1 │ H01         1.0      2    14\n",
       "   2 │ H01         2.0      3    12\n",
       "   3 │ H01         3.0      4     9\n",
       "   4 │ H01         4.0      0     5\n",
       "   5 │ H02         1.0      3    22"
      ]
     },
     "execution_count": 3,
     "metadata": {},
     "output_type": "execute_result"
    }
   ],
   "source": [
    "df = DataFrame(MixedModels.dataset(:cbpp))\n",
    "df[!,:period] = map(x->parse(Float64,x),df[:,:period])\n",
    "#df[!,:period] = convert(Vector{Float64},df[:,:period])\n",
    "first(df,5)"
   ]
  },
  {
   "cell_type": "code",
   "execution_count": 10,
   "metadata": {},
   "outputs": [],
   "source": [
    "#ml = fit(MixedModel, @formula(yield ~ 1 + (1|batch)), df)\n",
    "#ml = fit(MixedModel, @formula(y ~ a + b + d +(1|c)), df, REML = true)\n",
    "#ml = fit(MixedModel, @formula(period ~  incid + hsz +(1|herd)), df, REML = true)"
   ]
  },
  {
   "cell_type": "code",
   "execution_count": 4,
   "metadata": {},
   "outputs": [
    {
     "name": "stderr",
     "output_type": "stream",
     "text": [
      "┌ Warning: ProgressMeter by default refresh meters with additional information in IJulia via `IJulia.clear_output`, which clears all outputs in the cell. \n",
      "│  - To prevent this behaviour, do `ProgressMeter.ijulia_behavior(:append)`. \n",
      "│  - To disable this warning message, do `ProgressMeter.ijulia_behavior(:clear)`.\n",
      "└ @ ProgressMeter /Users/zyxu/.julia/packages/ProgressMeter/Vf8un/src/ProgressMeter.jl:620\n",
      "\u001b[32mMinimizing 16 \t Time: 0:00:00 (30.91 ms/it)\u001b[39m\n"
     ]
    },
    {
     "data": {
      "text/plain": [
       "(Linear mixed model fit by REML\n",
       " period ~ 0 + incid + hsz + (1 | herd)\n",
       " REML criterion at convergence: 219.11119977822892\n",
       "\n",
       "Variance components:\n",
       "            Column   VarianceStd.Dev.\n",
       "herd     (Intercept)  1.33834 1.15687\n",
       "Residual              1.82132 1.34956\n",
       " Number of obs: 56; levels of grouping factors: 15\n",
       "\n",
       "  Fixed-effects parameters:\n",
       "─────────────────────────────────────────────\n",
       "           Coef.  Std. Error      z  Pr(>|z|)\n",
       "─────────────────────────────────────────────\n",
       "incid  -0.293874   0.0890102  -3.30    0.0010\n",
       "hsz     0.131742   0.0238714   5.52    <1e-07\n",
       "─────────────────────────────────────────────, Initial parameter vector: [1.0]\n",
       "Initial objective value:  219.28154799380482\n",
       "\n",
       "Optimizer (from NLopt):   LN_BOBYQA\n",
       "Lower bounds:             [0.0]\n",
       "ftol_rel:                 1.0e-12\n",
       "ftol_abs:                 1.0e-8\n",
       "xtol_rel:                 0.0\n",
       "xtol_abs:                 [1.0e-10]\n",
       "initial_step:             [0.75]\n",
       "maxfeval:                 -1\n",
       "maxtime:                  -1.0\n",
       "\n",
       "Function evaluations:     15\n",
       "Final parameter vector:   [0.8572166056676385]\n",
       "Final objective value:    219.11119977822892\n",
       "Return code:              FTOL_REACHED\n",
       ")"
      ]
     },
     "execution_count": 4,
     "metadata": {},
     "output_type": "execute_result"
    }
   ],
   "source": [
    "ml, optsum = fit(MixedModel, @formula(period ~ 0 + incid + hsz +(1|herd)), df, REML = true)"
   ]
  },
  {
   "cell_type": "code",
   "execution_count": 6,
   "metadata": {},
   "outputs": [
    {
     "data": {
      "text/latex": [
       "\\begin{tabular}\n",
       "{l | r | r | r | r | r}\n",
       " & Est. & SE & z & p & $\\sigma_\\text{herd}$ \\\\\n",
       "\\hline\n",
       "incid & -0.2939 & 0.0890 & -3.30 & 0.0010 &   \\\\\n",
       "hsz & 0.1317 & 0.0239 & 5.52 & <1e-07 &   \\\\\n",
       "(Intercept) &  &  &  &  & 1.1569 \\\\\n",
       "Residual & 1.3496 &  &  &  &  \\\\\n",
       "\\end{tabular}\n"
      ],
      "text/markdown": [
       "|             |    Est. |     SE |     z |      p | σ_herd |\n",
       "|:----------- | -------:| ------:| -----:| ------:| ------:|\n",
       "| incid       | -0.2939 | 0.0890 | -3.30 | 0.0010 |        |\n",
       "| hsz         |  0.1317 | 0.0239 |  5.52 | <1e-07 |        |\n",
       "| (Intercept) |         |        |       |        | 1.1569 |\n",
       "| Residual    |  1.3496 |        |       |        |        |\n"
      ],
      "text/plain": [
       "Linear mixed model fit by REML\n",
       " period ~ 0 + incid + hsz + (1 | herd)\n",
       " REML criterion at convergence: 219.11119977822892\n",
       "\n",
       "Variance components:\n",
       "            Column   VarianceStd.Dev.\n",
       "herd     (Intercept)  1.33834 1.15687\n",
       "Residual              1.82132 1.34956\n",
       " Number of obs: 56; levels of grouping factors: 15\n",
       "\n",
       "  Fixed-effects parameters:\n",
       "─────────────────────────────────────────────\n",
       "           Coef.  Std. Error      z  Pr(>|z|)\n",
       "─────────────────────────────────────────────\n",
       "incid  -0.293874   0.0890102  -3.30    0.0010\n",
       "hsz     0.131742   0.0238714   5.52    <1e-07\n",
       "─────────────────────────────────────────────"
      ]
     },
     "metadata": {},
     "output_type": "display_data"
    }
   ],
   "source": [
    "display(ml)"
   ]
  },
  {
   "cell_type": "code",
   "execution_count": 7,
   "metadata": {},
   "outputs": [
    {
     "name": "stdout",
     "output_type": "stream",
     "text": [
      "Linear mixed model fit by REML\n",
      " period ~ 0 + incid + hsz + (1 | herd)\n",
      " REML criterion at convergence: 219.11119977822892\n",
      "\n",
      "Variance components:\n",
      "            Column   VarianceStd.Dev.\n",
      "herd     (Intercept)  1.33834 1.15687\n",
      "Residual              1.82132 1.34956\n",
      " Number of obs: 56; levels of grouping factors: 15\n",
      "\n",
      "  Fixed-effects parameters:\n",
      "─────────────────────────────────────────────\n",
      "           Coef.  Std. Error      z  Pr(>|z|)\n",
      "─────────────────────────────────────────────\n",
      "incid  -0.293874   0.0890102  -3.30    0.0010\n",
      "hsz     0.131742   0.0238714   5.52    <1e-07\n",
      "─────────────────────────────────────────────"
     ]
    }
   ],
   "source": [
    "show(ml)"
   ]
  },
  {
   "cell_type": "code",
   "execution_count": 8,
   "metadata": {},
   "outputs": [
    {
     "data": {
      "text/latex": [
       "\\begin{tabular}\n",
       "{l | l}\n",
       " &  \\\\\n",
       "\\hline\n",
       "\\textbf{Initialization} &  \\\\\n",
       "Initial parameter vector & [1.0] \\\\\n",
       "Initial objective value & 219.28154799380482 \\\\\n",
       "\\textbf{Optimizer settings}  &  \\\\\n",
       "Optimizer (from NLopt) & \\texttt{LN\\_BOBYQA} \\\\\n",
       "Lower bounds & [0.0] \\\\\n",
       "\\texttt{ftol\\_rel} & 1.0e-12 \\\\\n",
       "\\texttt{ftol\\_abs} & 1.0e-8 \\\\\n",
       "\\texttt{xtol\\_rel} & 0.0 \\\\\n",
       "\\texttt{xtol\\_abs} & [1.0e-10] \\\\\n",
       "\\texttt{initial\\_step} & [0.75] \\\\\n",
       "\\texttt{maxfeval} & -1 \\\\\n",
       "\\texttt{maxtime} & -1.0 \\\\\n",
       "\\textbf{Result} &  \\\\\n",
       "Function evaluations & 15 \\\\\n",
       "Final parameter vector & [0.8572] \\\\\n",
       "Final objective value & 219.1112 \\\\\n",
       "Return code & \\texttt{FTOL\\_REACHED} \\\\\n",
       "\\end{tabular}\n"
      ],
      "text/markdown": [
       "|                          |                    |\n",
       "|:------------------------ |:------------------ |\n",
       "| **Initialization**       |                    |\n",
       "| Initial parameter vector | [1.0]              |\n",
       "| Initial objective value  | 219.28154799380482 |\n",
       "| **Optimizer settings**   |                    |\n",
       "| Optimizer (from NLopt)   | `LN_BOBYQA`        |\n",
       "| Lower bounds             | [0.0]              |\n",
       "| `ftol_rel`               | 1.0e-12            |\n",
       "| `ftol_abs`               | 1.0e-8             |\n",
       "| `xtol_rel`               | 0.0                |\n",
       "| `xtol_abs`               | [1.0e-10]          |\n",
       "| `initial_step`           | [0.75]             |\n",
       "| `maxfeval`               | -1                 |\n",
       "| `maxtime`                | -1.0               |\n",
       "| **Result**               |                    |\n",
       "| Function evaluations     | 15                 |\n",
       "| Final parameter vector   | [0.8572]           |\n",
       "| Final objective value    | 219.1112           |\n",
       "| Return code              | `FTOL_REACHED`     |\n"
      ],
      "text/plain": [
       "Initial parameter vector: [1.0]\n",
       "Initial objective value:  219.28154799380482\n",
       "\n",
       "Optimizer (from NLopt):   LN_BOBYQA\n",
       "Lower bounds:             [0.0]\n",
       "ftol_rel:                 1.0e-12\n",
       "ftol_abs:                 1.0e-8\n",
       "xtol_rel:                 0.0\n",
       "xtol_abs:                 [1.0e-10]\n",
       "initial_step:             [0.75]\n",
       "maxfeval:                 -1\n",
       "maxtime:                  -1.0\n",
       "\n",
       "Function evaluations:     15\n",
       "Final parameter vector:   [0.8572166056676385]\n",
       "Final objective value:    219.11119977822892\n",
       "Return code:              FTOL_REACHED\n"
      ]
     },
     "execution_count": 8,
     "metadata": {},
     "output_type": "execute_result"
    }
   ],
   "source": [
    "ml.optsum"
   ]
  },
  {
   "cell_type": "code",
   "execution_count": 9,
   "metadata": {},
   "outputs": [
    {
     "data": {
      "text/latex": [
       "\\begin{tabular}\n",
       "{l | l}\n",
       " &  \\\\\n",
       "\\hline\n",
       "\\textbf{Initialization} &  \\\\\n",
       "Initial parameter vector & [1.0] \\\\\n",
       "Initial objective value & 219.28154799380482 \\\\\n",
       "\\textbf{Optimizer settings}  &  \\\\\n",
       "Optimizer (from NLopt) & \\texttt{LN\\_BOBYQA} \\\\\n",
       "Lower bounds & [0.0] \\\\\n",
       "\\texttt{ftol\\_rel} & 1.0e-12 \\\\\n",
       "\\texttt{ftol\\_abs} & 1.0e-8 \\\\\n",
       "\\texttt{xtol\\_rel} & 0.0 \\\\\n",
       "\\texttt{xtol\\_abs} & [1.0e-10] \\\\\n",
       "\\texttt{initial\\_step} & [0.75] \\\\\n",
       "\\texttt{maxfeval} & -1 \\\\\n",
       "\\texttt{maxtime} & -1.0 \\\\\n",
       "\\textbf{Result} &  \\\\\n",
       "Function evaluations & 15 \\\\\n",
       "Final parameter vector & [0.8572] \\\\\n",
       "Final objective value & 219.1112 \\\\\n",
       "Return code & \\texttt{FTOL\\_REACHED} \\\\\n",
       "\\end{tabular}\n"
      ],
      "text/markdown": [
       "|                          |                    |\n",
       "|:------------------------ |:------------------ |\n",
       "| **Initialization**       |                    |\n",
       "| Initial parameter vector | [1.0]              |\n",
       "| Initial objective value  | 219.28154799380482 |\n",
       "| **Optimizer settings**   |                    |\n",
       "| Optimizer (from NLopt)   | `LN_BOBYQA`        |\n",
       "| Lower bounds             | [0.0]              |\n",
       "| `ftol_rel`               | 1.0e-12            |\n",
       "| `ftol_abs`               | 1.0e-8             |\n",
       "| `xtol_rel`               | 0.0                |\n",
       "| `xtol_abs`               | [1.0e-10]          |\n",
       "| `initial_step`           | [0.75]             |\n",
       "| `maxfeval`               | -1                 |\n",
       "| `maxtime`                | -1.0               |\n",
       "| **Result**               |                    |\n",
       "| Function evaluations     | 15                 |\n",
       "| Final parameter vector   | [0.8572]           |\n",
       "| Final objective value    | 219.1112           |\n",
       "| Return code              | `FTOL_REACHED`     |\n"
      ],
      "text/plain": [
       "Initial parameter vector: [1.0]\n",
       "Initial objective value:  219.28154799380482\n",
       "\n",
       "Optimizer (from NLopt):   LN_BOBYQA\n",
       "Lower bounds:             [0.0]\n",
       "ftol_rel:                 1.0e-12\n",
       "ftol_abs:                 1.0e-8\n",
       "xtol_rel:                 0.0\n",
       "xtol_abs:                 [1.0e-10]\n",
       "initial_step:             [0.75]\n",
       "maxfeval:                 -1\n",
       "maxtime:                  -1.0\n",
       "\n",
       "Function evaluations:     15\n",
       "Final parameter vector:   [0.8572166056676385]\n",
       "Final objective value:    219.11119977822892\n",
       "Return code:              FTOL_REACHED\n"
      ]
     },
     "execution_count": 9,
     "metadata": {},
     "output_type": "execute_result"
    }
   ],
   "source": [
    "optsum = ml.optsum"
   ]
  },
  {
   "cell_type": "code",
   "execution_count": 10,
   "metadata": {},
   "outputs": [
    {
     "data": {
      "text/plain": [
       "15"
      ]
     },
     "execution_count": 10,
     "metadata": {},
     "output_type": "execute_result"
    }
   ],
   "source": [
    "optsum.feval"
   ]
  },
  {
   "cell_type": "code",
   "execution_count": 11,
   "metadata": {},
   "outputs": [
    {
     "data": {
      "text/plain": [
       "3"
      ]
     },
     "execution_count": 11,
     "metadata": {},
     "output_type": "execute_result"
    }
   ],
   "source": [
    "optsum.feval = 3"
   ]
  },
  {
   "cell_type": "code",
   "execution_count": 15,
   "metadata": {},
   "outputs": [
    {
     "data": {
      "text/plain": [
       "3"
      ]
     },
     "execution_count": 15,
     "metadata": {},
     "output_type": "execute_result"
    }
   ],
   "source": [
    "ml.optsum.feval"
   ]
  },
  {
   "cell_type": "code",
   "execution_count": null,
   "metadata": {},
   "outputs": [],
   "source": []
  },
  {
   "cell_type": "code",
   "execution_count": 14,
   "metadata": {},
   "outputs": [
    {
     "data": {
      "text/plain": [
       "1-element Vector{Float64}:\n",
       " 0.8572166056676385"
      ]
     },
     "execution_count": 14,
     "metadata": {},
     "output_type": "execute_result"
    }
   ],
   "source": [
    "ml.theta"
   ]
  },
  {
   "cell_type": "code",
   "execution_count": 10,
   "metadata": {},
   "outputs": [
    {
     "data": {
      "text/plain": [
       "2-element Vector{Float64}:\n",
       " -0.2938740005613104\n",
       "  0.13174181586374048"
      ]
     },
     "execution_count": 10,
     "metadata": {},
     "output_type": "execute_result"
    }
   ],
   "source": [
    "coef(ml)"
   ]
  },
  {
   "cell_type": "code",
   "execution_count": 11,
   "metadata": {},
   "outputs": [
    {
     "data": {
      "text/markdown": [
       "|       |     Coef. | Std. Error |     z | Pr(>|z|) |\n",
       "|:------|----------:|-----------:|------:|:---------|\n",
       "| incid | -0.293874 |  0.0890102 | -3.30 |   0.0010 |\n",
       "| hsz   |  0.131742 |  0.0238714 |  5.52 |   <1e-07 |"
      ],
      "text/plain": [
       "─────────────────────────────────────────────\n",
       "           Coef.  Std. Error      z  Pr(>|z|)\n",
       "─────────────────────────────────────────────\n",
       "incid  -0.293874   0.0890102  -3.30    0.0010\n",
       "hsz     0.131742   0.0238714   5.52    <1e-07\n",
       "─────────────────────────────────────────────"
      ]
     },
     "execution_count": 11,
     "metadata": {},
     "output_type": "execute_result"
    }
   ],
   "source": [
    "coeftable(ml)"
   ]
  },
  {
   "cell_type": "code",
   "execution_count": 7,
   "metadata": {},
   "outputs": [
    {
     "data": {
      "text/plain": [
       "(herd = ((Intercept) = 1.1568676140930603,),)"
      ]
     },
     "execution_count": 7,
     "metadata": {},
     "output_type": "execute_result"
    }
   ],
   "source": [
    "ml.sigmas"
   ]
  },
  {
   "cell_type": "code",
   "execution_count": 22,
   "metadata": {},
   "outputs": [
    {
     "name": "stderr",
     "output_type": "stream",
     "text": [
      "\u001b[32mProgress: 100%|█████████████████████████████████████████| Time: 0:00:01\u001b[39m\n"
     ]
    }
   ],
   "source": [
    "bs = parametricbootstrap(MersenneTwister(42), 1000, ml);"
   ]
  },
  {
   "cell_type": "code",
   "execution_count": 23,
   "metadata": {},
   "outputs": [
    {
     "data": {
      "text/plain": [
       "13-element Vector{Symbol}:\n",
       " :allpars\n",
       " :objective\n",
       " :σ\n",
       " :β\n",
       " :se\n",
       " :coefpvalues\n",
       " :θ\n",
       " :σs\n",
       " :λ\n",
       " :inds\n",
       " :lowerbd\n",
       " :bstr\n",
       " :fcnames"
      ]
     },
     "execution_count": 23,
     "metadata": {},
     "output_type": "execute_result"
    }
   ],
   "source": [
    "propertynames(bs)"
   ]
  },
  {
   "cell_type": "code",
   "execution_count": 24,
   "metadata": {},
   "outputs": [
    {
     "data": {
      "text/plain": [
       "1000-element Vector{NamedTuple{(:iter, :coefname, :β, :se, :z, :p), Tuple{Int64, Symbol, Float64, Float64, Float64, Float64}}}:\n",
       " (iter = 1, coefname = Symbol(\"(Intercept)\"), β = 1517.0670832927115, se = 20.76271142094811, z = 73.0669059804057, p = 0.0)\n",
       " (iter = 2, coefname = Symbol(\"(Intercept)\"), β = 1503.5781855888436, se = 8.1387737362628, z = 184.7425956676446, p = 0.0)\n",
       " (iter = 3, coefname = Symbol(\"(Intercept)\"), β = 1529.2236379016574, se = 16.523824785737837, z = 92.54659001356465, p = 0.0)\n",
       " (iter = 4, coefname = Symbol(\"(Intercept)\"), β = 1534.7024724975083, se = 15.526932990109588, z = 98.84131486077062, p = 0.0)\n",
       " (iter = 5, coefname = Symbol(\"(Intercept)\"), β = 1474.9402090218232, se = 21.427250612464032, z = 68.83478593207214, p = 0.0)\n",
       " (iter = 6, coefname = Symbol(\"(Intercept)\"), β = 1539.1606508341508, se = 11.646438859176353, z = 132.15719151965752, p = 0.0)\n",
       " (iter = 7, coefname = Symbol(\"(Intercept)\"), β = 1509.4032576634652, se = 17.789447582227066, z = 84.84823661255605, p = 0.0)\n",
       " (iter = 8, coefname = Symbol(\"(Intercept)\"), β = 1535.5559936626441, se = 14.937956033702912, z = 102.7955893161108, p = 0.0)\n",
       " (iter = 9, coefname = Symbol(\"(Intercept)\"), β = 1518.9161462206105, se = 15.053974433707532, z = 100.89801553133951, p = 0.0)\n",
       " (iter = 10, coefname = Symbol(\"(Intercept)\"), β = 1498.0720174906417, se = 26.073879932517432, z = 57.45489437582153, p = 0.0)\n",
       " (iter = 11, coefname = Symbol(\"(Intercept)\"), β = 1523.2864939270228, se = 18.677016492147565, z = 81.55941258430985, p = 0.0)\n",
       " (iter = 12, coefname = Symbol(\"(Intercept)\"), β = 1539.9259284459542, se = 14.311553797974492, z = 107.60019143860531, p = 0.0)\n",
       " (iter = 13, coefname = Symbol(\"(Intercept)\"), β = 1539.7785530873543, se = 15.999607211280175, z = 96.23852215582936, p = 0.0)\n",
       " ⋮\n",
       " (iter = 989, coefname = Symbol(\"(Intercept)\"), β = 1548.8934285350913, se = 15.594905807019403, z = 99.32047347396743, p = 0.0)\n",
       " (iter = 990, coefname = Symbol(\"(Intercept)\"), β = 1512.6180612460187, se = 15.371053997394801, z = 98.40691871243105, p = 0.0)\n",
       " (iter = 991, coefname = Symbol(\"(Intercept)\"), β = 1516.55148296058, se = 16.85618785255326, z = 89.9700155353254, p = 0.0)\n",
       " (iter = 992, coefname = Symbol(\"(Intercept)\"), β = 1538.3314159828349, se = 14.809074123880444, z = 103.87762280845033, p = 0.0)\n",
       " (iter = 993, coefname = Symbol(\"(Intercept)\"), β = 1523.3564832793027, se = 8.799056832724808, z = 173.1272467310072, p = 0.0)\n",
       " (iter = 994, coefname = Symbol(\"(Intercept)\"), β = 1521.3946860989274, se = 21.31387540059908, z = 71.38048137675445, p = 0.0)\n",
       " (iter = 995, coefname = Symbol(\"(Intercept)\"), β = 1546.0538781523062, se = 16.51400903595825, z = 93.62074798347682, p = 0.0)\n",
       " (iter = 996, coefname = Symbol(\"(Intercept)\"), β = 1511.8702087780662, se = 11.10429791489609, z = 136.15180539689382, p = 0.0)\n",
       " (iter = 997, coefname = Symbol(\"(Intercept)\"), β = 1514.1125557427906, se = 14.418489623453095, z = 105.0118698479997, p = 0.0)\n",
       " (iter = 998, coefname = Symbol(\"(Intercept)\"), β = 1498.3795009457242, se = 25.649682012258104, z = 58.417079019913054, p = 0.0)\n",
       " (iter = 999, coefname = Symbol(\"(Intercept)\"), β = 1526.1076747922416, se = 16.22412120273579, z = 94.06411945042063, p = 0.0)\n",
       " (iter = 1000, coefname = Symbol(\"(Intercept)\"), β = 1557.7546433870125, se = 12.557577103806015, z = 124.04898098653763, p = 0.0)"
      ]
     },
     "execution_count": 24,
     "metadata": {},
     "output_type": "execute_result"
    }
   ],
   "source": [
    "bs.coefpvalues"
   ]
  },
  {
   "cell_type": "code",
   "execution_count": 25,
   "metadata": {},
   "outputs": [
    {
     "data": {
      "text/html": [
       "<table class=\"data-frame\"><thead><tr><th></th><th>iter</th><th>coefname</th><th>β</th><th>se</th><th>z</th><th>p</th></tr><tr><th></th><th>Int64</th><th>Symbol</th><th>Float64</th><th>Float64</th><th>Float64</th><th>Float64</th></tr></thead><tbody><p>1,000 rows × 6 columns</p><tr><th>1</th><td>1</td><td>(Intercept)</td><td>1517.07</td><td>20.7627</td><td>73.0669</td><td>0.0</td></tr><tr><th>2</th><td>2</td><td>(Intercept)</td><td>1503.58</td><td>8.13877</td><td>184.743</td><td>0.0</td></tr><tr><th>3</th><td>3</td><td>(Intercept)</td><td>1529.22</td><td>16.5238</td><td>92.5466</td><td>0.0</td></tr><tr><th>4</th><td>4</td><td>(Intercept)</td><td>1534.7</td><td>15.5269</td><td>98.8413</td><td>0.0</td></tr><tr><th>5</th><td>5</td><td>(Intercept)</td><td>1474.94</td><td>21.4273</td><td>68.8348</td><td>0.0</td></tr><tr><th>6</th><td>6</td><td>(Intercept)</td><td>1539.16</td><td>11.6464</td><td>132.157</td><td>0.0</td></tr><tr><th>7</th><td>7</td><td>(Intercept)</td><td>1509.4</td><td>17.7894</td><td>84.8482</td><td>0.0</td></tr><tr><th>8</th><td>8</td><td>(Intercept)</td><td>1535.56</td><td>14.938</td><td>102.796</td><td>0.0</td></tr><tr><th>9</th><td>9</td><td>(Intercept)</td><td>1518.92</td><td>15.054</td><td>100.898</td><td>0.0</td></tr><tr><th>10</th><td>10</td><td>(Intercept)</td><td>1498.07</td><td>26.0739</td><td>57.4549</td><td>0.0</td></tr><tr><th>11</th><td>11</td><td>(Intercept)</td><td>1523.29</td><td>18.677</td><td>81.5594</td><td>0.0</td></tr><tr><th>12</th><td>12</td><td>(Intercept)</td><td>1539.93</td><td>14.3116</td><td>107.6</td><td>0.0</td></tr><tr><th>13</th><td>13</td><td>(Intercept)</td><td>1539.78</td><td>15.9996</td><td>96.2385</td><td>0.0</td></tr><tr><th>14</th><td>14</td><td>(Intercept)</td><td>1509.74</td><td>11.0545</td><td>136.572</td><td>0.0</td></tr><tr><th>15</th><td>15</td><td>(Intercept)</td><td>1512.66</td><td>12.2711</td><td>123.27</td><td>0.0</td></tr><tr><th>16</th><td>16</td><td>(Intercept)</td><td>1531.22</td><td>15.0654</td><td>101.638</td><td>0.0</td></tr><tr><th>17</th><td>17</td><td>(Intercept)</td><td>1508.06</td><td>19.5314</td><td>77.2118</td><td>0.0</td></tr><tr><th>18</th><td>18</td><td>(Intercept)</td><td>1537.72</td><td>26.7267</td><td>57.5348</td><td>0.0</td></tr><tr><th>19</th><td>19</td><td>(Intercept)</td><td>1530.06</td><td>13.2393</td><td>115.569</td><td>0.0</td></tr><tr><th>20</th><td>20</td><td>(Intercept)</td><td>1507.68</td><td>18.5435</td><td>81.3052</td><td>0.0</td></tr><tr><th>21</th><td>21</td><td>(Intercept)</td><td>1514.11</td><td>15.996</td><td>94.6554</td><td>0.0</td></tr><tr><th>22</th><td>22</td><td>(Intercept)</td><td>1511.94</td><td>16.737</td><td>90.3352</td><td>0.0</td></tr><tr><th>23</th><td>23</td><td>(Intercept)</td><td>1506.64</td><td>18.6821</td><td>80.646</td><td>0.0</td></tr><tr><th>24</th><td>24</td><td>(Intercept)</td><td>1522.4</td><td>18.6202</td><td>81.7608</td><td>0.0</td></tr><tr><th>25</th><td>25</td><td>(Intercept)</td><td>1539.31</td><td>12.4916</td><td>123.228</td><td>0.0</td></tr><tr><th>26</th><td>26</td><td>(Intercept)</td><td>1506.33</td><td>22.8148</td><td>66.0241</td><td>0.0</td></tr><tr><th>27</th><td>27</td><td>(Intercept)</td><td>1511.26</td><td>25.6959</td><td>58.8131</td><td>0.0</td></tr><tr><th>28</th><td>28</td><td>(Intercept)</td><td>1519.06</td><td>13.6309</td><td>111.442</td><td>0.0</td></tr><tr><th>29</th><td>29</td><td>(Intercept)</td><td>1499.24</td><td>13.918</td><td>107.72</td><td>0.0</td></tr><tr><th>30</th><td>30</td><td>(Intercept)</td><td>1548.21</td><td>18.5781</td><td>83.3356</td><td>0.0</td></tr><tr><th>&vellip;</th><td>&vellip;</td><td>&vellip;</td><td>&vellip;</td><td>&vellip;</td><td>&vellip;</td><td>&vellip;</td></tr></tbody></table>"
      ],
      "text/latex": [
       "\\begin{tabular}{r|cccccc}\n",
       "\t& iter & coefname & β & se & z & p\\\\\n",
       "\t\\hline\n",
       "\t& Int64 & Symbol & Float64 & Float64 & Float64 & Float64\\\\\n",
       "\t\\hline\n",
       "\t1 & 1 & (Intercept) & 1517.07 & 20.7627 & 73.0669 & 0.0 \\\\\n",
       "\t2 & 2 & (Intercept) & 1503.58 & 8.13877 & 184.743 & 0.0 \\\\\n",
       "\t3 & 3 & (Intercept) & 1529.22 & 16.5238 & 92.5466 & 0.0 \\\\\n",
       "\t4 & 4 & (Intercept) & 1534.7 & 15.5269 & 98.8413 & 0.0 \\\\\n",
       "\t5 & 5 & (Intercept) & 1474.94 & 21.4273 & 68.8348 & 0.0 \\\\\n",
       "\t6 & 6 & (Intercept) & 1539.16 & 11.6464 & 132.157 & 0.0 \\\\\n",
       "\t7 & 7 & (Intercept) & 1509.4 & 17.7894 & 84.8482 & 0.0 \\\\\n",
       "\t8 & 8 & (Intercept) & 1535.56 & 14.938 & 102.796 & 0.0 \\\\\n",
       "\t9 & 9 & (Intercept) & 1518.92 & 15.054 & 100.898 & 0.0 \\\\\n",
       "\t10 & 10 & (Intercept) & 1498.07 & 26.0739 & 57.4549 & 0.0 \\\\\n",
       "\t11 & 11 & (Intercept) & 1523.29 & 18.677 & 81.5594 & 0.0 \\\\\n",
       "\t12 & 12 & (Intercept) & 1539.93 & 14.3116 & 107.6 & 0.0 \\\\\n",
       "\t13 & 13 & (Intercept) & 1539.78 & 15.9996 & 96.2385 & 0.0 \\\\\n",
       "\t14 & 14 & (Intercept) & 1509.74 & 11.0545 & 136.572 & 0.0 \\\\\n",
       "\t15 & 15 & (Intercept) & 1512.66 & 12.2711 & 123.27 & 0.0 \\\\\n",
       "\t16 & 16 & (Intercept) & 1531.22 & 15.0654 & 101.638 & 0.0 \\\\\n",
       "\t17 & 17 & (Intercept) & 1508.06 & 19.5314 & 77.2118 & 0.0 \\\\\n",
       "\t18 & 18 & (Intercept) & 1537.72 & 26.7267 & 57.5348 & 0.0 \\\\\n",
       "\t19 & 19 & (Intercept) & 1530.06 & 13.2393 & 115.569 & 0.0 \\\\\n",
       "\t20 & 20 & (Intercept) & 1507.68 & 18.5435 & 81.3052 & 0.0 \\\\\n",
       "\t21 & 21 & (Intercept) & 1514.11 & 15.996 & 94.6554 & 0.0 \\\\\n",
       "\t22 & 22 & (Intercept) & 1511.94 & 16.737 & 90.3352 & 0.0 \\\\\n",
       "\t23 & 23 & (Intercept) & 1506.64 & 18.6821 & 80.646 & 0.0 \\\\\n",
       "\t24 & 24 & (Intercept) & 1522.4 & 18.6202 & 81.7608 & 0.0 \\\\\n",
       "\t25 & 25 & (Intercept) & 1539.31 & 12.4916 & 123.228 & 0.0 \\\\\n",
       "\t26 & 26 & (Intercept) & 1506.33 & 22.8148 & 66.0241 & 0.0 \\\\\n",
       "\t27 & 27 & (Intercept) & 1511.26 & 25.6959 & 58.8131 & 0.0 \\\\\n",
       "\t28 & 28 & (Intercept) & 1519.06 & 13.6309 & 111.442 & 0.0 \\\\\n",
       "\t29 & 29 & (Intercept) & 1499.24 & 13.918 & 107.72 & 0.0 \\\\\n",
       "\t30 & 30 & (Intercept) & 1548.21 & 18.5781 & 83.3356 & 0.0 \\\\\n",
       "\t$\\dots$ & $\\dots$ & $\\dots$ & $\\dots$ & $\\dots$ & $\\dots$ & $\\dots$ \\\\\n",
       "\\end{tabular}\n"
      ],
      "text/plain": [
       "\u001b[1m1000×6 DataFrame\u001b[0m\n",
       "\u001b[1m  Row \u001b[0m│\u001b[1m iter  \u001b[0m\u001b[1m coefname    \u001b[0m\u001b[1m β       \u001b[0m\u001b[1m se       \u001b[0m\u001b[1m z        \u001b[0m\u001b[1m p       \u001b[0m\n",
       "\u001b[1m      \u001b[0m│\u001b[90m Int64 \u001b[0m\u001b[90m Symbol      \u001b[0m\u001b[90m Float64 \u001b[0m\u001b[90m Float64  \u001b[0m\u001b[90m Float64  \u001b[0m\u001b[90m Float64 \u001b[0m\n",
       "──────┼──────────────────────────────────────────────────────────\n",
       "    1 │     1  (Intercept)  1517.07  20.7627    73.0669      0.0\n",
       "    2 │     2  (Intercept)  1503.58   8.13877  184.743       0.0\n",
       "    3 │     3  (Intercept)  1529.22  16.5238    92.5466      0.0\n",
       "    4 │     4  (Intercept)  1534.7   15.5269    98.8413      0.0\n",
       "    5 │     5  (Intercept)  1474.94  21.4273    68.8348      0.0\n",
       "    6 │     6  (Intercept)  1539.16  11.6464   132.157       0.0\n",
       "    7 │     7  (Intercept)  1509.4   17.7894    84.8482      0.0\n",
       "    8 │     8  (Intercept)  1535.56  14.938    102.796       0.0\n",
       "    9 │     9  (Intercept)  1518.92  15.054    100.898       0.0\n",
       "   10 │    10  (Intercept)  1498.07  26.0739    57.4549      0.0\n",
       "   11 │    11  (Intercept)  1523.29  18.677     81.5594      0.0\n",
       "  ⋮   │   ⋮         ⋮          ⋮        ⋮         ⋮         ⋮\n",
       "  991 │   991  (Intercept)  1516.55  16.8562    89.97        0.0\n",
       "  992 │   992  (Intercept)  1538.33  14.8091   103.878       0.0\n",
       "  993 │   993  (Intercept)  1523.36   8.79906  173.127       0.0\n",
       "  994 │   994  (Intercept)  1521.39  21.3139    71.3805      0.0\n",
       "  995 │   995  (Intercept)  1546.05  16.514     93.6207      0.0\n",
       "  996 │   996  (Intercept)  1511.87  11.1043   136.152       0.0\n",
       "  997 │   997  (Intercept)  1514.11  14.4185   105.012       0.0\n",
       "  998 │   998  (Intercept)  1498.38  25.6497    58.4171      0.0\n",
       "  999 │   999  (Intercept)  1526.11  16.2241    94.0641      0.0\n",
       " 1000 │  1000  (Intercept)  1557.75  12.5576   124.049       0.0\n",
       "\u001b[36m                                                 979 rows omitted\u001b[0m"
      ]
     },
     "execution_count": 25,
     "metadata": {},
     "output_type": "execute_result"
    }
   ],
   "source": [
    "DataFrame(bs.coefpvalues)"
   ]
  },
  {
   "cell_type": "code",
   "execution_count": 27,
   "metadata": {},
   "outputs": [
    {
     "data": {
      "text/html": [
       "<table class=\"data-frame\"><thead><tr><th></th><th>iter</th><th>coefname</th><th>β</th></tr><tr><th></th><th>Int64</th><th>Symbol</th><th>Float64</th></tr></thead><tbody><p>1,000 rows × 3 columns</p><tr><th>1</th><td>1</td><td>(Intercept)</td><td>1517.07</td></tr><tr><th>2</th><td>2</td><td>(Intercept)</td><td>1503.58</td></tr><tr><th>3</th><td>3</td><td>(Intercept)</td><td>1529.22</td></tr><tr><th>4</th><td>4</td><td>(Intercept)</td><td>1534.7</td></tr><tr><th>5</th><td>5</td><td>(Intercept)</td><td>1474.94</td></tr><tr><th>6</th><td>6</td><td>(Intercept)</td><td>1539.16</td></tr><tr><th>7</th><td>7</td><td>(Intercept)</td><td>1509.4</td></tr><tr><th>8</th><td>8</td><td>(Intercept)</td><td>1535.56</td></tr><tr><th>9</th><td>9</td><td>(Intercept)</td><td>1518.92</td></tr><tr><th>10</th><td>10</td><td>(Intercept)</td><td>1498.07</td></tr><tr><th>11</th><td>11</td><td>(Intercept)</td><td>1523.29</td></tr><tr><th>12</th><td>12</td><td>(Intercept)</td><td>1539.93</td></tr><tr><th>13</th><td>13</td><td>(Intercept)</td><td>1539.78</td></tr><tr><th>14</th><td>14</td><td>(Intercept)</td><td>1509.74</td></tr><tr><th>15</th><td>15</td><td>(Intercept)</td><td>1512.66</td></tr><tr><th>16</th><td>16</td><td>(Intercept)</td><td>1531.22</td></tr><tr><th>17</th><td>17</td><td>(Intercept)</td><td>1508.06</td></tr><tr><th>18</th><td>18</td><td>(Intercept)</td><td>1537.72</td></tr><tr><th>19</th><td>19</td><td>(Intercept)</td><td>1530.06</td></tr><tr><th>20</th><td>20</td><td>(Intercept)</td><td>1507.68</td></tr><tr><th>21</th><td>21</td><td>(Intercept)</td><td>1514.11</td></tr><tr><th>22</th><td>22</td><td>(Intercept)</td><td>1511.94</td></tr><tr><th>23</th><td>23</td><td>(Intercept)</td><td>1506.64</td></tr><tr><th>24</th><td>24</td><td>(Intercept)</td><td>1522.4</td></tr><tr><th>25</th><td>25</td><td>(Intercept)</td><td>1539.31</td></tr><tr><th>26</th><td>26</td><td>(Intercept)</td><td>1506.33</td></tr><tr><th>27</th><td>27</td><td>(Intercept)</td><td>1511.26</td></tr><tr><th>28</th><td>28</td><td>(Intercept)</td><td>1519.06</td></tr><tr><th>29</th><td>29</td><td>(Intercept)</td><td>1499.24</td></tr><tr><th>30</th><td>30</td><td>(Intercept)</td><td>1548.21</td></tr><tr><th>&vellip;</th><td>&vellip;</td><td>&vellip;</td><td>&vellip;</td></tr></tbody></table>"
      ],
      "text/latex": [
       "\\begin{tabular}{r|ccc}\n",
       "\t& iter & coefname & β\\\\\n",
       "\t\\hline\n",
       "\t& Int64 & Symbol & Float64\\\\\n",
       "\t\\hline\n",
       "\t1 & 1 & (Intercept) & 1517.07 \\\\\n",
       "\t2 & 2 & (Intercept) & 1503.58 \\\\\n",
       "\t3 & 3 & (Intercept) & 1529.22 \\\\\n",
       "\t4 & 4 & (Intercept) & 1534.7 \\\\\n",
       "\t5 & 5 & (Intercept) & 1474.94 \\\\\n",
       "\t6 & 6 & (Intercept) & 1539.16 \\\\\n",
       "\t7 & 7 & (Intercept) & 1509.4 \\\\\n",
       "\t8 & 8 & (Intercept) & 1535.56 \\\\\n",
       "\t9 & 9 & (Intercept) & 1518.92 \\\\\n",
       "\t10 & 10 & (Intercept) & 1498.07 \\\\\n",
       "\t11 & 11 & (Intercept) & 1523.29 \\\\\n",
       "\t12 & 12 & (Intercept) & 1539.93 \\\\\n",
       "\t13 & 13 & (Intercept) & 1539.78 \\\\\n",
       "\t14 & 14 & (Intercept) & 1509.74 \\\\\n",
       "\t15 & 15 & (Intercept) & 1512.66 \\\\\n",
       "\t16 & 16 & (Intercept) & 1531.22 \\\\\n",
       "\t17 & 17 & (Intercept) & 1508.06 \\\\\n",
       "\t18 & 18 & (Intercept) & 1537.72 \\\\\n",
       "\t19 & 19 & (Intercept) & 1530.06 \\\\\n",
       "\t20 & 20 & (Intercept) & 1507.68 \\\\\n",
       "\t21 & 21 & (Intercept) & 1514.11 \\\\\n",
       "\t22 & 22 & (Intercept) & 1511.94 \\\\\n",
       "\t23 & 23 & (Intercept) & 1506.64 \\\\\n",
       "\t24 & 24 & (Intercept) & 1522.4 \\\\\n",
       "\t25 & 25 & (Intercept) & 1539.31 \\\\\n",
       "\t26 & 26 & (Intercept) & 1506.33 \\\\\n",
       "\t27 & 27 & (Intercept) & 1511.26 \\\\\n",
       "\t28 & 28 & (Intercept) & 1519.06 \\\\\n",
       "\t29 & 29 & (Intercept) & 1499.24 \\\\\n",
       "\t30 & 30 & (Intercept) & 1548.21 \\\\\n",
       "\t$\\dots$ & $\\dots$ & $\\dots$ & $\\dots$ \\\\\n",
       "\\end{tabular}\n"
      ],
      "text/plain": [
       "\u001b[1m1000×3 DataFrame\u001b[0m\n",
       "\u001b[1m  Row \u001b[0m│\u001b[1m iter  \u001b[0m\u001b[1m coefname    \u001b[0m\u001b[1m β       \u001b[0m\n",
       "\u001b[1m      \u001b[0m│\u001b[90m Int64 \u001b[0m\u001b[90m Symbol      \u001b[0m\u001b[90m Float64 \u001b[0m\n",
       "──────┼─────────────────────────────\n",
       "    1 │     1  (Intercept)  1517.07\n",
       "    2 │     2  (Intercept)  1503.58\n",
       "    3 │     3  (Intercept)  1529.22\n",
       "    4 │     4  (Intercept)  1534.7\n",
       "    5 │     5  (Intercept)  1474.94\n",
       "    6 │     6  (Intercept)  1539.16\n",
       "    7 │     7  (Intercept)  1509.4\n",
       "    8 │     8  (Intercept)  1535.56\n",
       "    9 │     9  (Intercept)  1518.92\n",
       "   10 │    10  (Intercept)  1498.07\n",
       "   11 │    11  (Intercept)  1523.29\n",
       "  ⋮   │   ⋮         ⋮          ⋮\n",
       "  991 │   991  (Intercept)  1516.55\n",
       "  992 │   992  (Intercept)  1538.33\n",
       "  993 │   993  (Intercept)  1523.36\n",
       "  994 │   994  (Intercept)  1521.39\n",
       "  995 │   995  (Intercept)  1546.05\n",
       "  996 │   996  (Intercept)  1511.87\n",
       "  997 │   997  (Intercept)  1514.11\n",
       "  998 │   998  (Intercept)  1498.38\n",
       "  999 │   999  (Intercept)  1526.11\n",
       " 1000 │  1000  (Intercept)  1557.75\n",
       "\u001b[36m                    979 rows omitted\u001b[0m"
      ]
     },
     "execution_count": 27,
     "metadata": {},
     "output_type": "execute_result"
    }
   ],
   "source": [
    "DataFrame(bs.β)"
   ]
  },
  {
   "cell_type": "code",
   "execution_count": null,
   "metadata": {},
   "outputs": [],
   "source": []
  }
 ],
 "metadata": {
  "kernelspec": {
   "display_name": "Julia 1.6.1",
   "language": "julia",
   "name": "julia-1.6"
  },
  "language_info": {
   "file_extension": ".jl",
   "mimetype": "application/julia",
   "name": "julia",
   "version": "1.6.1"
  }
 },
 "nbformat": 4,
 "nbformat_minor": 4
}
