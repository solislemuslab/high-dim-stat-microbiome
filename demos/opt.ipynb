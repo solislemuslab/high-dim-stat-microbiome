{
 "cells": [
  {
   "cell_type": "code",
   "execution_count": 1,
   "metadata": {},
   "outputs": [
    {
     "name": "stdout",
     "output_type": "stream",
     "text": [
      "\u001b[36m\u001b[1m     Project\u001b[22m\u001b[39m demo v0.1.0\n",
      "\u001b[32m\u001b[1m      Status\u001b[22m\u001b[39m `~/Documents/julia/demo/Project.toml`\n",
      " \u001b[90m [336ed68f] \u001b[39m\u001b[37mCSV v0.9.6\u001b[39m\n",
      " \u001b[90m [7876af07] \u001b[39m\u001b[37mExample v0.5.4 `~/.julia/dev/Example`\u001b[39m\n",
      " \u001b[90m [ced58d7a] \u001b[39m\u001b[37mHighDimMixedModels v0.1.0 `~/.julia/dev/HighDimMixedModels`\u001b[39m\n",
      " \u001b[90m [ff71e718] \u001b[39m\u001b[37mMixedModels v4.4.0 `~/.julia/dev/MixedModels`\u001b[39m\n",
      " \u001b[90m [14b8a8f1] \u001b[39m\u001b[37mPkgTemplates v0.7.19\u001b[39m\n",
      " \u001b[90m [bd369af6] \u001b[39m\u001b[37mTables v1.6.0\u001b[39m\n",
      " \u001b[90m [44d3d7a6] \u001b[39m\u001b[37mWeave v0.10.10\u001b[39m\n"
     ]
    }
   ],
   "source": [
    "using Pkg\n",
    "Pkg.DEFAULT_IO[] = stdout\n",
    "Pkg.status()"
   ]
  },
  {
   "cell_type": "code",
   "execution_count": 2,
   "metadata": {},
   "outputs": [],
   "source": [
    "using LinearAlgebra\n",
    "using DataFrames\n",
    "using StableRNGs; rng = StableRNG(1);\n",
    "using StatsModels\n",
    "using MixedModels\n",
    "using NLopt\n",
    "using HighDimMixedModels"
   ]
  },
  {
   "cell_type": "code",
   "execution_count": 3,
   "metadata": {},
   "outputs": [
    {
     "data": {
      "text/html": [
       "<div class=\"data-frame\"><p>5 rows × 4 columns</p><table class=\"data-frame\"><thead><tr><th></th><th>period</th><th>herd</th><th>incid</th><th>hsz</th></tr><tr><th></th><th title=\"Float64\">Float64</th><th title=\"String\">String</th><th title=\"Int8\">Int8</th><th title=\"Int8\">Int8</th></tr></thead><tbody><tr><th>1</th><td>1.0</td><td>H01</td><td>2</td><td>14</td></tr><tr><th>2</th><td>2.0</td><td>H01</td><td>3</td><td>12</td></tr><tr><th>3</th><td>3.0</td><td>H01</td><td>4</td><td>9</td></tr><tr><th>4</th><td>4.0</td><td>H01</td><td>0</td><td>5</td></tr><tr><th>5</th><td>1.0</td><td>H02</td><td>3</td><td>22</td></tr></tbody></table></div>"
      ],
      "text/latex": [
       "\\begin{tabular}{r|cccc}\n",
       "\t& period & herd & incid & hsz\\\\\n",
       "\t\\hline\n",
       "\t& Float64 & String & Int8 & Int8\\\\\n",
       "\t\\hline\n",
       "\t1 & 1.0 & H01 & 2 & 14 \\\\\n",
       "\t2 & 2.0 & H01 & 3 & 12 \\\\\n",
       "\t3 & 3.0 & H01 & 4 & 9 \\\\\n",
       "\t4 & 4.0 & H01 & 0 & 5 \\\\\n",
       "\t5 & 1.0 & H02 & 3 & 22 \\\\\n",
       "\\end{tabular}\n"
      ],
      "text/plain": [
       "\u001b[1m5×4 DataFrame\u001b[0m\n",
       "\u001b[1m Row \u001b[0m│\u001b[1m period  \u001b[0m\u001b[1m herd   \u001b[0m\u001b[1m incid \u001b[0m\u001b[1m hsz  \u001b[0m\n",
       "\u001b[1m     \u001b[0m│\u001b[90m Float64 \u001b[0m\u001b[90m String \u001b[0m\u001b[90m Int8  \u001b[0m\u001b[90m Int8 \u001b[0m\n",
       "─────┼──────────────────────────────\n",
       "   1 │     1.0  H01         2    14\n",
       "   2 │     2.0  H01         3    12\n",
       "   3 │     3.0  H01         4     9\n",
       "   4 │     4.0  H01         0     5\n",
       "   5 │     1.0  H02         3    22"
      ]
     },
     "execution_count": 3,
     "metadata": {},
     "output_type": "execute_result"
    }
   ],
   "source": [
    "df = DataFrame(MixedModels.dataset(:cbpp))\n",
    "df[!,:period] = map(x->parse(Float64,x),df[:,:period])\n",
    "select!(df,[:period,:herd,:incid,:hsz])\n",
    "first(df,5)"
   ]
  },
  {
   "cell_type": "markdown",
   "metadata": {},
   "source": [
    "#### parse random effect in formula"
   ]
  },
  {
   "cell_type": "code",
   "execution_count": 4,
   "metadata": {},
   "outputs": [
    {
     "name": "stderr",
     "output_type": "stream",
     "text": [
      "┌ Warning: n >= p in high dimensional matrix\n",
      "└ @ HighDimMixedModels /Users/zyxu/.julia/dev/HighDimMixedModels/src/bricks.jl:12\n"
     ]
    },
    {
     "data": {
      "text/plain": []
     },
     "execution_count": 4,
     "metadata": {},
     "output_type": "execute_result"
    }
   ],
   "source": [
    "f = @formula(period ~ 0 + incid + hsz + (1|herd))\n",
    "HMM = highDimMixedModel(f, df, 1)"
   ]
  },
  {
   "cell_type": "code",
   "execution_count": 5,
   "metadata": {},
   "outputs": [
    {
     "data": {
      "text/plain": [
       "56×15 Matrix{Float64}:\n",
       " 1.0  0.0  0.0  0.0  0.0  0.0  0.0  0.0  0.0  0.0  0.0  0.0  0.0  0.0  0.0\n",
       " 1.0  0.0  0.0  0.0  0.0  0.0  0.0  0.0  0.0  0.0  0.0  0.0  0.0  0.0  0.0\n",
       " 1.0  0.0  0.0  0.0  0.0  0.0  0.0  0.0  0.0  0.0  0.0  0.0  0.0  0.0  0.0\n",
       " 1.0  0.0  0.0  0.0  0.0  0.0  0.0  0.0  0.0  0.0  0.0  0.0  0.0  0.0  0.0\n",
       " 0.0  1.0  0.0  0.0  0.0  0.0  0.0  0.0  0.0  0.0  0.0  0.0  0.0  0.0  0.0\n",
       " 0.0  1.0  0.0  0.0  0.0  0.0  0.0  0.0  0.0  0.0  0.0  0.0  0.0  0.0  0.0\n",
       " 0.0  1.0  0.0  0.0  0.0  0.0  0.0  0.0  0.0  0.0  0.0  0.0  0.0  0.0  0.0\n",
       " 0.0  0.0  1.0  0.0  0.0  0.0  0.0  0.0  0.0  0.0  0.0  0.0  0.0  0.0  0.0\n",
       " 0.0  0.0  1.0  0.0  0.0  0.0  0.0  0.0  0.0  0.0  0.0  0.0  0.0  0.0  0.0\n",
       " 0.0  0.0  1.0  0.0  0.0  0.0  0.0  0.0  0.0  0.0  0.0  0.0  0.0  0.0  0.0\n",
       " 0.0  0.0  1.0  0.0  0.0  0.0  0.0  0.0  0.0  0.0  0.0  0.0  0.0  0.0  0.0\n",
       " 0.0  0.0  0.0  1.0  0.0  0.0  0.0  0.0  0.0  0.0  0.0  0.0  0.0  0.0  0.0\n",
       " 0.0  0.0  0.0  1.0  0.0  0.0  0.0  0.0  0.0  0.0  0.0  0.0  0.0  0.0  0.0\n",
       " ⋮                        ⋮                        ⋮                   \n",
       " 0.0  0.0  0.0  0.0  0.0  0.0  0.0  0.0  0.0  0.0  0.0  0.0  1.0  0.0  0.0\n",
       " 0.0  0.0  0.0  0.0  0.0  0.0  0.0  0.0  0.0  0.0  0.0  0.0  1.0  0.0  0.0\n",
       " 0.0  0.0  0.0  0.0  0.0  0.0  0.0  0.0  0.0  0.0  0.0  0.0  1.0  0.0  0.0\n",
       " 0.0  0.0  0.0  0.0  0.0  0.0  0.0  0.0  0.0  0.0  0.0  0.0  1.0  0.0  0.0\n",
       " 0.0  0.0  0.0  0.0  0.0  0.0  0.0  0.0  0.0  0.0  0.0  0.0  0.0  1.0  0.0\n",
       " 0.0  0.0  0.0  0.0  0.0  0.0  0.0  0.0  0.0  0.0  0.0  0.0  0.0  1.0  0.0\n",
       " 0.0  0.0  0.0  0.0  0.0  0.0  0.0  0.0  0.0  0.0  0.0  0.0  0.0  1.0  0.0\n",
       " 0.0  0.0  0.0  0.0  0.0  0.0  0.0  0.0  0.0  0.0  0.0  0.0  0.0  1.0  0.0\n",
       " 0.0  0.0  0.0  0.0  0.0  0.0  0.0  0.0  0.0  0.0  0.0  0.0  0.0  0.0  1.0\n",
       " 0.0  0.0  0.0  0.0  0.0  0.0  0.0  0.0  0.0  0.0  0.0  0.0  0.0  0.0  1.0\n",
       " 0.0  0.0  0.0  0.0  0.0  0.0  0.0  0.0  0.0  0.0  0.0  0.0  0.0  0.0  1.0\n",
       " 0.0  0.0  0.0  0.0  0.0  0.0  0.0  0.0  0.0  0.0  0.0  0.0  0.0  0.0  1.0"
      ]
     },
     "execution_count": 5,
     "metadata": {},
     "output_type": "execute_result"
    }
   ],
   "source": [
    "HMM.Z.Z"
   ]
  },
  {
   "cell_type": "code",
   "execution_count": 6,
   "metadata": {},
   "outputs": [
    {
     "name": "stdout",
     "output_type": "stream",
     "text": [
      "sigma = [1.0, 1.0]\n",
      "negLog = -57.1099018030012\n",
      "The initial object value is -57.1099018030012\n",
      "sigma = [1.0, 1.0]\n",
      "negLog = -57.1099018030012\n",
      "OPTBL: starting point [1.0, 1.0]\n",
      "sigma = [1.0, 1.0]\n",
      "negLog = -57.1099018030012\n",
      "sigma = [1.75, 1.0]\n",
      "negLog = -55.97912076973617\n",
      "sigma = [1.0, 1.75]\n",
      "negLog = -52.37720093978967\n",
      "sigma = [0.25, 1.0]\n",
      "negLog = -64.50473446075652\n",
      "sigma = [1.0, 0.25]\n",
      "negLog = -128.22481961167495\n",
      "sigma = [0.29289321881345254, 0.0]\n",
      "negLog = Inf\n",
      "sigma = [0.9469669914110089, 0.19696699141100893]\n",
      "negLog = -156.76581599673838\n",
      "sigma = [0.995676667220638, 0.13993745974082217]\n",
      "negLog = -207.31013755591323\n",
      "sigma = [0.9952996645647639, 0.06493840728682465]\n",
      "negLog = -405.77399467791014\n",
      "sigma = [0.9878315127277438, 0.06424796674686986]\n",
      "negLog = -410.13655848976134\n",
      "sigma = [0.987341243774038, 0.05676400814509819]\n",
      "negLog = -458.32682425399554\n",
      "sigma = [0.9948025184365511, 0.05600283772361585]\n",
      "negLog = -463.4181543729141\n",
      "sigma = [0.9947292842170775, 0.05525642178789495]\n",
      "negLog = -469.0572593148946\n",
      "sigma = [0.9951857851545717, 0.05466135297333067]\n",
      "negLog = -473.62526662984465\n",
      "sigma = [0.9946641908880741, 0.05412242865475073]\n",
      "negLog = -477.91189431849295\n",
      "sigma = [0.994593640676598, 0.054147877970275336]\n",
      "negLog = -477.71418362885424\n",
      "sigma = [0.9946398946629649, 0.05405147308100603]\n",
      "negLog = -478.47940946755097\n",
      "sigma = [0.9946937837404701, 0.053999310188777606]\n",
      "negLog = -478.8925749561385\n",
      "sigma = [0.9946893101492189, 0.05399329047272804]\n",
      "negLog = -478.9410464756395\n",
      "sigma = [0.9946954834580819, 0.053989031334589564]\n",
      "negLog = -478.9747009013731\n",
      "sigma = [0.9946902649028658, 0.05398364462117065]\n",
      "negLog = -479.01817519385304\n",
      "sigma = [0.9946902649028658, 0.05398364462117065]\n",
      "negLog = -479.01817519385304\n",
      "got -479.01818 at [0.99469, 0.05398] after 22 iterations (returned XTOL_REACHED)\n",
      "\n"
     ]
    }
   ],
   "source": [
    "sigma, betaM, betaX, opt = fit(HMM, verbose = true, REML = true, alg = :LN_BOBYQA) # :LN_BOBYQA :LN_COBYLA\n",
    "println(\"\")"
   ]
  },
  {
   "cell_type": "code",
   "execution_count": null,
   "metadata": {},
   "outputs": [],
   "source": []
  },
  {
   "cell_type": "markdown",
   "metadata": {},
   "source": [
    "## debug opt"
   ]
  },
  {
   "cell_type": "code",
   "execution_count": 7,
   "metadata": {},
   "outputs": [],
   "source": [
    "n = size(HMM.M, 1)\n",
    "A = hcat(HMM.M.M, HMM.X.X)\n",
    "P = I - A*inv(transpose(A)*A)*transpose(A)\n",
    "u,s,v = svd(P)\n",
    "r = size(HMM.M,2) + size(HMM.X,2)  # simplify: assume fixed effect full rank\n",
    "#C = randn((n-r),n)\n",
    "C = transpose(u[:,1:(n-r)]) \n",
    "K = C*P\n",
    "Z = HMM.Z.Z\n",
    "y = HMM.y\n",
    "# C can be any full rank matrix with size n,r, e.g. randn(n,r)\n",
    "print()"
   ]
  },
  {
   "cell_type": "code",
   "execution_count": 8,
   "metadata": {},
   "outputs": [
    {
     "data": {
      "text/plain": [
       "56×2 Matrix{Float64}:\n",
       "  2.0  14.0\n",
       "  3.0  12.0\n",
       "  4.0   9.0\n",
       "  0.0   5.0\n",
       "  3.0  22.0\n",
       "  1.0  18.0\n",
       "  1.0  21.0\n",
       "  8.0  22.0\n",
       "  2.0  16.0\n",
       "  0.0  16.0\n",
       "  2.0  20.0\n",
       "  2.0  10.0\n",
       "  0.0  10.0\n",
       "  ⋮    \n",
       "  1.0  21.0\n",
       "  2.0  24.0\n",
       "  0.0  19.0\n",
       "  0.0  23.0\n",
       " 11.0  19.0\n",
       "  0.0   2.0\n",
       "  0.0   3.0\n",
       "  0.0   2.0\n",
       "  1.0  19.0\n",
       "  1.0  15.0\n",
       "  1.0  15.0\n",
       "  0.0  15.0"
      ]
     },
     "execution_count": 8,
     "metadata": {},
     "output_type": "execute_result"
    }
   ],
   "source": [
    "A"
   ]
  },
  {
   "cell_type": "markdown",
   "metadata": {},
   "source": [
    "#### (a) construct Opt by optsum object"
   ]
  },
  {
   "cell_type": "code",
   "execution_count": 9,
   "metadata": {},
   "outputs": [
    {
     "name": "stdout",
     "output_type": "stream",
     "text": [
      "sigma = [1.0, 1.0]\n",
      "negLog = 57.1099018030012\n",
      "The initial object value is 57.1099018030012\n",
      "sigma = [1.0, 1.0]\n",
      "negLog = 57.1099018030012\n"
     ]
    },
    {
     "data": {
      "text/plain": [
       "57.1099018030012"
      ]
     },
     "execution_count": 9,
     "metadata": {},
     "output_type": "execute_result"
    }
   ],
   "source": [
    "alg = :LN_BOBYQA\n",
    "verbose = true\n",
    "## add optsum\n",
    "# init para\n",
    "sigma = [1.0,1.0]\n",
    "lbd = [0.0; 0.0]\n",
    "optsum = OptSummary(Float64.(sigma), lbd, alg; ftol_rel=(1.0e-12), ftol_abs=(1.0e-8), xtol_rel = 1e-5)\n",
    "optsum.REML = true\n",
    "\n",
    "## init opt based on optsum\n",
    "opt = Opt(optsum)\n",
    "\n",
    "function negLogLik(sigma::Vector{Float64}, g::Vector{Float64})\n",
    "    n = length(y)\n",
    "    Sigma = sigma[1]*Z*transpose(Z) + sigma[2]*diagm(ones(n))\n",
    "    #negLog = -1/2*log(det(K*Sigma*transpose(K))) - 1/2*transpose(y)*transpose(K)*inv(K*Sigma*transpose(K))*K*y\n",
    "    negLog = 1/2*log(det(K*Sigma*transpose(K))) + 1/2*transpose(y)*transpose(K)*inv(K*Sigma*transpose(K))*K*y\n",
    "    #println(\"OPT: parameter $(sigma) || objective eval $(negLog)\")\n",
    "    @show sigma\n",
    "    @show negLog\n",
    "\n",
    "    return negLog\n",
    "end\n",
    "\n",
    "println(\"The initial object value is $(negLogLik(Float64.(sigma), [1.0,1.0]))\")\n",
    "\n",
    "opt.min_objective = negLogLik\n",
    "optsum.finitial = negLogLik(optsum.initial, [1.0,1.0])  # the second field not useful right now"
   ]
  },
  {
   "cell_type": "code",
   "execution_count": 10,
   "metadata": {},
   "outputs": [
    {
     "name": "stdout",
     "output_type": "stream",
     "text": [
      "OPTBL: starting point [1.0, 1.0]\n",
      "sigma = [1.0, 1.0]\n",
      "negLog = 57.1099018030012\n",
      "sigma = [1.75, 1.0]\n",
      "negLog = 55.97912076973617\n",
      "sigma = [1.0, 1.75]\n",
      "negLog = 52.37720093978967\n",
      "sigma = [0.25, 1.0]\n",
      "negLog = 64.50473446075652\n",
      "sigma = [1.0, 0.25]\n",
      "negLog = 128.22481961167495\n",
      "sigma = [1.510389333579731, 1.4284710320133605]\n",
      "negLog = 52.78019245866251\n",
      "sigma = [0.8451353314889427, 1.437431307110896]\n",
      "negLog = 53.411902302579605\n",
      "sigma = [1.0, 1.9]\n",
      "negLog = 52.31808747690741\n",
      "sigma = [0.822599313455345, 1.9607062304338283]\n",
      "negLog = 52.490735469672636\n",
      "sigma = [1.048013829974836, 1.957616595969803]\n",
      "negLog = 52.30520784011165\n",
      "sigma = [1.0036098308862278, 2.0180590054596546]\n",
      "negLog = 52.357982155798666\n",
      "sigma = [1.0739875442712838, 1.9305681918459645]\n",
      "negLog = 52.28417164563711\n",
      "sigma = [1.1350679280066387, 1.887045936358205]\n",
      "negLog = 52.251667221635145\n",
      "sigma = [1.2289088557480747, 1.849055393660007]\n",
      "negLog = 52.22563694469997\n",
      "sigma = [1.257874889898738, 1.8483895067953622]\n",
      "negLog = 52.221764542962624\n",
      "sigma = [1.2891927914610897, 1.8507084659272266]\n",
      "negLog = 52.21956750163348\n",
      "sigma = [1.293103660612978, 1.8508421531318722]\n",
      "negLog = 52.219402412578\n",
      "sigma = [1.2896727233995116, 1.8575113862090147]\n",
      "negLog = 52.220508744809614\n",
      "sigma = [1.2966898696059388, 1.844255112441334]\n",
      "negLog = 52.21852177088397\n",
      "sigma = [1.3087498347445332, 1.8353356258610487]\n",
      "negLog = 52.21740586815373\n",
      "sigma = [1.3371319314453567, 1.8256167480006626]\n",
      "negLog = 52.216598688421634\n",
      "sigma = [1.3419529809414614, 1.8243286505645167]\n",
      "negLog = 52.21659489283887\n",
      "sigma = [1.3381020552231015, 1.8178927845690445]\n",
      "negLog = 52.216583679164366\n",
      "sigma = [1.3355243730361481, 1.822496652382402]\n",
      "negLog = 52.21655496988426\n",
      "sigma = [1.3415669095365033, 1.8203530399719878]\n",
      "negLog = 52.21655566661392\n",
      "sigma = [1.330431452419552, 1.8169910044102695]\n",
      "negLog = 52.21668419322788\n",
      "sigma = [1.338497224307076, 1.8214836196955138]\n",
      "negLog = 52.21654810783059\n",
      "sigma = [1.3373951873946395, 1.8216862380122827]\n",
      "negLog = 52.216548735359225\n",
      "sigma = [1.3391007101699393, 1.821038305409504]\n",
      "negLog = 52.21654845371778\n",
      "sigma = [1.3382123982693646, 1.82078980838958]\n",
      "negLog = 52.216548896325975\n",
      "sigma = [1.3382706800968085, 1.8212985517999483]\n",
      "negLog = 52.2165479927191\n",
      "sigma = [1.3383190003454069, 1.8213128791002569]\n",
      "negLog = 52.21654798673772\n"
     ]
    },
    {
     "data": {
      "text/plain": [
       "(52.21654798673772, [1.3383190003454069, 1.8213128791002569], :FTOL_REACHED)"
      ]
     },
     "execution_count": 10,
     "metadata": {},
     "output_type": "execute_result"
    }
   ],
   "source": [
    "if verbose println(\"OPTBL: starting point $(sigma)\") ; end    # to stdout\n",
    "(optf,optx,ret) = optimize(opt, sigma)"
   ]
  },
  {
   "cell_type": "code",
   "execution_count": 11,
   "metadata": {},
   "outputs": [
    {
     "name": "stdout",
     "output_type": "stream",
     "text": [
      "got 52.21655 at [1.33832, 1.82131] after 32 iterations (returned FTOL_REACHED)\n"
     ]
    },
    {
     "data": {
      "text/latex": [
       "\\begin{tabular}\n",
       "{l | l}\n",
       " &  \\\\\n",
       "\\hline\n",
       "\\textbf{Initialization} &  \\\\\n",
       "Initial parameter vector & [1.0, 1.0] \\\\\n",
       "Initial objective value & 57.1099018030012 \\\\\n",
       "\\textbf{Optimizer settings}  &  \\\\\n",
       "Optimizer (from NLopt) & \\texttt{LN\\_BOBYQA} \\\\\n",
       "Lower bounds & [0.0, 0.0] \\\\\n",
       "\\texttt{ftol\\_rel} & 1.0e-12 \\\\\n",
       "\\texttt{ftol\\_abs} & 1.0e-8 \\\\\n",
       "\\texttt{xtol\\_rel} & 1.0e-5 \\\\\n",
       "\\texttt{xtol\\_abs} & [1.0e-10, 1.0e-10] \\\\\n",
       "\\texttt{initial\\_step} & [0.75, 0.75] \\\\\n",
       "\\texttt{maxfeval} & -1 \\\\\n",
       "\\texttt{maxtime} & -1.0 \\\\\n",
       "\\textbf{Result} &  \\\\\n",
       "Function evaluations & 32 \\\\\n",
       "Final parameter vector & [1.3383, 1.8213] \\\\\n",
       "Final objective value & 52.2165 \\\\\n",
       "Return code & \\texttt{FTOL\\_REACHED} \\\\\n",
       "\\end{tabular}\n"
      ],
      "text/markdown": [
       "|                          |                    |\n",
       "|:------------------------ |:------------------ |\n",
       "| **Initialization**       |                    |\n",
       "| Initial parameter vector | [1.0, 1.0]         |\n",
       "| Initial objective value  | 57.1099018030012   |\n",
       "| **Optimizer settings**   |                    |\n",
       "| Optimizer (from NLopt)   | `LN_BOBYQA`        |\n",
       "| Lower bounds             | [0.0, 0.0]         |\n",
       "| `ftol_rel`               | 1.0e-12            |\n",
       "| `ftol_abs`               | 1.0e-8             |\n",
       "| `xtol_rel`               | 1.0e-5             |\n",
       "| `xtol_abs`               | [1.0e-10, 1.0e-10] |\n",
       "| `initial_step`           | [0.75, 0.75]       |\n",
       "| `maxfeval`               | -1                 |\n",
       "| `maxtime`                | -1.0               |\n",
       "| **Result**               |                    |\n",
       "| Function evaluations     | 32                 |\n",
       "| Final parameter vector   | [1.3383, 1.8213]   |\n",
       "| Final objective value    | 52.2165            |\n",
       "| Return code              | `FTOL_REACHED`     |\n"
      ],
      "text/plain": [
       "Initial parameter vector: [1.0, 1.0]\n",
       "Initial objective value:  57.1099018030012\n",
       "\n",
       "Optimizer (from NLopt):   LN_BOBYQA\n",
       "Lower bounds:             [0.0, 0.0]\n",
       "ftol_rel:                 1.0e-12\n",
       "ftol_abs:                 1.0e-8\n",
       "xtol_rel:                 1.0e-5\n",
       "xtol_abs:                 [1.0e-10, 1.0e-10]\n",
       "initial_step:             [0.75, 0.75]\n",
       "maxfeval:                 -1\n",
       "maxtime:                  -1.0\n",
       "\n",
       "Function evaluations:     32\n",
       "Final parameter vector:   [1.3383190003454069, 1.8213128791002569]\n",
       "Final objective value:    52.21654798673772\n",
       "Return code:              FTOL_REACHED\n"
      ]
     },
     "execution_count": 11,
     "metadata": {},
     "output_type": "execute_result"
    }
   ],
   "source": [
    "Sigma = optx[1]*Z*transpose(Z) + optx[2]*diagm(ones(n))\n",
    "beta = inv(transpose(A)*inv(Sigma)*A)*transpose(A)*inv(Sigma)*y\n",
    "betaM = beta[1:size(HMM.M,2)]\n",
    "betaX = beta[(size(HMM.M,2) + 1): size(beta)[1]]\n",
    "\n",
    "optsum.feval = opt.numevals\n",
    "optsum.final = optx\n",
    "optsum.fmin = optf\n",
    "optsum.returnvalue = ret\n",
    "\n",
    "if verbose println(\"got $(round(optf, digits=5)) at $(round.(optx, digits=5)) after $(opt.numevals) iterations (returned $(ret))\") ; end\n",
    "\n",
    "HMM.optsum = optsum"
   ]
  },
  {
   "cell_type": "code",
   "execution_count": 13,
   "metadata": {},
   "outputs": [
    {
     "data": {
      "text/plain": [
       "2-element Vector{Float64}:\n",
       " -0.2938738291611581\n",
       "  0.1317420744001128"
      ]
     },
     "execution_count": 13,
     "metadata": {},
     "output_type": "execute_result"
    }
   ],
   "source": [
    "beta"
   ]
  },
  {
   "cell_type": "code",
   "execution_count": 14,
   "metadata": {},
   "outputs": [
    {
     "data": {
      "text/plain": [
       "32"
      ]
     },
     "execution_count": 14,
     "metadata": {},
     "output_type": "execute_result"
    }
   ],
   "source": [
    "optsum.feval"
   ]
  },
  {
   "cell_type": "code",
   "execution_count": 15,
   "metadata": {},
   "outputs": [
    {
     "data": {
      "text/plain": [
       "3"
      ]
     },
     "execution_count": 15,
     "metadata": {},
     "output_type": "execute_result"
    }
   ],
   "source": [
    "f = optsum.feval\n",
    "f = 3\n",
    "f"
   ]
  },
  {
   "cell_type": "code",
   "execution_count": 16,
   "metadata": {},
   "outputs": [
    {
     "data": {
      "text/plain": [
       "32"
      ]
     },
     "execution_count": 16,
     "metadata": {},
     "output_type": "execute_result"
    }
   ],
   "source": [
    "optsum.feval"
   ]
  },
  {
   "cell_type": "code",
   "execution_count": 17,
   "metadata": {},
   "outputs": [
    {
     "data": {
      "text/plain": [
       "1-element Vector{Float64}:\n",
       " -0.2938738291611581"
      ]
     },
     "execution_count": 17,
     "metadata": {},
     "output_type": "execute_result"
    }
   ],
   "source": [
    "betaM"
   ]
  },
  {
   "cell_type": "code",
   "execution_count": 18,
   "metadata": {},
   "outputs": [
    {
     "data": {
      "text/plain": [
       "1-element Vector{Float64}:\n",
       " 0.1317420744001128"
      ]
     },
     "execution_count": 18,
     "metadata": {},
     "output_type": "execute_result"
    }
   ],
   "source": [
    "betaX"
   ]
  },
  {
   "cell_type": "markdown",
   "metadata": {},
   "source": [
    "#### (b) construct opt by Opt(:LN_BOBYQA, 2)"
   ]
  },
  {
   "cell_type": "code",
   "execution_count": 19,
   "metadata": {},
   "outputs": [
    {
     "data": {
      "text/plain": [
       "2-element Vector{Float64}:\n",
       " 0.75\n",
       " 0.75"
      ]
     },
     "execution_count": 19,
     "metadata": {},
     "output_type": "execute_result"
    }
   ],
   "source": [
    "using NLopt\n",
    "alg = :LN_BOBYQA # :LN_COBYLA\n",
    "verbose = true\n",
    "## add optsum\n",
    "# init para\n",
    "sigma = [1.0,1.0]\n",
    "lbd = [0.0; 0.0]\n",
    "optsum = OptSummary(Float64.(sigma), lbd, alg; ftol_rel=(1.0e-12), ftol_abs=(1.0e-8), xtol_rel = 1e-5)\n",
    "optsum.REML = true\n",
    "\n",
    "## init opt based on optsum\n",
    "#opt = Opt(optsum)\n",
    "\n",
    "## init opt based on Opt function\n",
    "opt = Opt(:LN_BOBYQA, 2)\n",
    "\n",
    "NLopt.ftol_rel!(opt, optsum.ftol_rel) # relative criterion on objective\n",
    "NLopt.ftol_abs!(opt, optsum.ftol_abs) # absolute criterion on objective\n",
    "NLopt.xtol_rel!(opt, optsum.xtol_rel) # relative criterion on parameter values\n",
    "NLopt.xtol_abs!(opt, optsum.xtol_abs) # absolute criterion on parameter values\n",
    "NLopt.lower_bounds!(opt, lbd)\n",
    "NLopt.maxeval!(opt, optsum.maxfeval)\n",
    "NLopt.maxtime!(opt, optsum.maxtime)\n",
    "optsum.initial_step = NLopt.initial_step(opt, optsum.initial, similar(lbd))"
   ]
  },
  {
   "cell_type": "code",
   "execution_count": 20,
   "metadata": {},
   "outputs": [
    {
     "data": {
      "text/plain": [
       "Opt(LN_BOBYQA, 2)"
      ]
     },
     "execution_count": 20,
     "metadata": {},
     "output_type": "execute_result"
    }
   ],
   "source": [
    "opt"
   ]
  },
  {
   "cell_type": "code",
   "execution_count": 21,
   "metadata": {},
   "outputs": [
    {
     "name": "stdout",
     "output_type": "stream",
     "text": [
      "sigma = [1.0, 1.0]\n",
      "negLog = 57.1099018030012\n",
      "The initial object value is 57.1099018030012\n",
      "sigma = [1.0, 1.0]\n",
      "negLog = 57.1099018030012\n",
      "OPTBL: starting point [1.0, 1.0]\n",
      "sigma = [1.0, 1.0]\n",
      "negLog = 57.1099018030012\n",
      "sigma = [1.75, 1.0]\n",
      "negLog = 55.97912076973617\n",
      "sigma = [1.0, 1.75]\n",
      "negLog = 52.37720093978967\n",
      "sigma = [0.25, 1.0]\n",
      "negLog = 64.50473446075652\n",
      "sigma = [1.0, 0.25]\n",
      "negLog = 128.22481961167495\n",
      "sigma = [1.510389333579731, 1.4284710320133605]\n",
      "negLog = 52.78019245866251\n",
      "sigma = [0.8451353314889427, 1.437431307110896]\n",
      "negLog = 53.411902302579605\n",
      "sigma = [1.0, 1.9]\n",
      "negLog = 52.31808747690741\n",
      "sigma = [0.822599313455345, 1.9607062304338283]\n",
      "negLog = 52.490735469672636\n",
      "sigma = [1.048013829974836, 1.957616595969803]\n",
      "negLog = 52.30520784011165\n",
      "sigma = [1.0036098308862278, 2.0180590054596546]\n",
      "negLog = 52.357982155798666\n",
      "sigma = [1.0739875442712838, 1.9305681918459645]\n",
      "negLog = 52.28417164563711\n",
      "sigma = [1.1350679280066387, 1.887045936358205]\n",
      "negLog = 52.251667221635145\n",
      "sigma = [1.2289088557480747, 1.849055393660007]\n",
      "negLog = 52.22563694469997\n",
      "sigma = [1.257874889898738, 1.8483895067953622]\n",
      "negLog = 52.221764542962624\n",
      "sigma = [1.2891927914610897, 1.8507084659272266]\n",
      "negLog = 52.21956750163348\n",
      "sigma = [1.293103660612978, 1.8508421531318722]\n",
      "negLog = 52.219402412578\n",
      "sigma = [1.2896727233995116, 1.8575113862090147]\n",
      "negLog = 52.220508744809614\n",
      "sigma = [1.2966898696059388, 1.844255112441334]\n",
      "negLog = 52.21852177088397\n",
      "sigma = [1.3087498347445332, 1.8353356258610487]\n",
      "negLog = 52.21740586815373\n",
      "sigma = [1.3371319314453567, 1.8256167480006626]\n",
      "negLog = 52.216598688421634\n",
      "sigma = [1.3419529809414614, 1.8243286505645167]\n",
      "negLog = 52.21659489283887\n",
      "sigma = [1.3381020552231015, 1.8178927845690445]\n",
      "negLog = 52.216583679164366\n",
      "sigma = [1.3355243730361481, 1.822496652382402]\n",
      "negLog = 52.21655496988426\n",
      "sigma = [1.3415669095365033, 1.8203530399719878]\n",
      "negLog = 52.21655566661392\n",
      "sigma = [1.330431452419552, 1.8169910044102695]\n",
      "negLog = 52.21668419322788\n",
      "sigma = [1.338497224307076, 1.8214836196955138]\n",
      "negLog = 52.21654810783059\n",
      "sigma = [1.3373951873946395, 1.8216862380122827]\n",
      "negLog = 52.216548735359225\n",
      "sigma = [1.3391007101699393, 1.821038305409504]\n",
      "negLog = 52.21654845371778\n",
      "sigma = [1.3382123982693646, 1.82078980838958]\n",
      "negLog = 52.216548896325975\n",
      "sigma = [1.3382706800968085, 1.8212985517999483]\n",
      "negLog = 52.2165479927191\n",
      "sigma = [1.3383190003454069, 1.8213128791002569]\n",
      "negLog = 52.21654798673772\n"
     ]
    },
    {
     "data": {
      "text/plain": [
       "(52.21654798673772, [1.3383190003454069, 1.8213128791002569], :FTOL_REACHED)"
      ]
     },
     "execution_count": 21,
     "metadata": {},
     "output_type": "execute_result"
    }
   ],
   "source": [
    "function negLogLik(sigma::Vector{Float64}, g::Vector{Float64})\n",
    "    n = length(y)\n",
    "    Sigma = sigma[1]*Z*transpose(Z) + sigma[2]*diagm(ones(n))\n",
    "    negLog = 1/2*log(det(K*Sigma*transpose(K))) + 1/2*transpose(y)*transpose(K)*inv(K*Sigma*transpose(K))*K*y\n",
    "    #println(\"OPT: parameter $(sigma) || objective eval $(negLog)\")\n",
    "    @show sigma\n",
    "    @show negLog\n",
    "\n",
    "    return negLog\n",
    "end\n",
    "\n",
    "println(\"The initial object value is $(negLogLik(Float64.(sigma), [1.0,1.0]))\")\n",
    "\n",
    "opt.min_objective = negLogLik\n",
    "optsum.finitial = negLogLik(optsum.initial, [1.0,1.0])  # the second field not useful right now\n",
    "\n",
    "if verbose println(\"OPTBL: starting point $(sigma)\") ; end    # to stdout\n",
    "(optf,optx,ret) = optimize(opt, sigma)"
   ]
  },
  {
   "cell_type": "code",
   "execution_count": 22,
   "metadata": {},
   "outputs": [
    {
     "name": "stdout",
     "output_type": "stream",
     "text": [
      "got 52.21655 at [1.33832, 1.82131] after 32 iterations (returned FTOL_REACHED)\n"
     ]
    }
   ],
   "source": [
    "if verbose println(\"got $(round(optf, digits=5)) at $(round.(optx, digits=5)) after $(opt.numevals) iterations (returned $(ret))\") ; end"
   ]
  },
  {
   "cell_type": "code",
   "execution_count": null,
   "metadata": {},
   "outputs": [],
   "source": []
  },
  {
   "cell_type": "markdown",
   "metadata": {},
   "source": [
    "#### (c) No REML"
   ]
  },
  {
   "cell_type": "code",
   "execution_count": 23,
   "metadata": {},
   "outputs": [],
   "source": [
    "n = size(HMM.M, 1)\n",
    "A = hcat(HMM.M.M, HMM.X.X)\n",
    "#P = I - A*inv(transpose(A)*A)*transpose(A)\n",
    "#u,s,v = svd(P)\n",
    "r = size(HMM.M,2) + size(HMM.X,2)  # simplify: assume fixed effect full rank\n",
    "#C = randn((n-r),n)\n",
    "#C = transpose(u[:,1:(n-r)]) \n",
    "#K = C*P\n",
    "Z = HMM.Z.Z\n",
    "y = HMM.y\n",
    "# C can be any full rank matrix with size n,r, e.g. randn(n,r)\n",
    "print()"
   ]
  },
  {
   "cell_type": "markdown",
   "metadata": {},
   "source": [
    "$$\n",
    "\\mathbf{y} \\text { is } N_{n}(\\mathbf{X} \\boldsymbol{\\beta}, \\mathbf{\\Sigma}), \\quad \\text { where } \\quad \\mathbf{\\Sigma}= \\sigma_{z}^{2}\n",
    "\\mathbf{Z} \\mathbf{Z}^{\\prime}+\\sigma^{2} \\mathbf{I}_{n} \n",
    "$$"
   ]
  },
  {
   "cell_type": "markdown",
   "metadata": {},
   "source": [
    "The objective function is:\n",
    "$$\n",
    "\\frac{n-r}{2} \\ln (2 \\pi)-\\frac{1}{2} \\ln \\left| \\Sigma \\right|-\\frac{1}{2} (\\mathbf{y}-A \\beta)^{\\prime}\\left(\\mathbf{K} \\Sigma \\mathbf{K}^{\\prime}\\right)^{-1}(\\mathbf{y}-A \\beta)\n",
    "$$"
   ]
  },
  {
   "cell_type": "markdown",
   "metadata": {},
   "source": [
    "__In this part I set parameter in optimization to be sigma(2 element vector) and beta(2 element vector, this specific to the data)__"
   ]
  },
  {
   "cell_type": "code",
   "execution_count": 24,
   "metadata": {},
   "outputs": [
    {
     "name": "stdout",
     "output_type": "stream",
     "text": [
      "para = [1.0, 1.0, 3.0, 4.0]\n",
      "negLog = 57.109901803001115\n",
      "The initial object value is 57.109901803001115\n",
      "para = [1.0, 1.0, 3.0, 4.0]\n",
      "negLog = 57.109901803001115\n"
     ]
    },
    {
     "data": {
      "text/plain": [
       "57.109901803001115"
      ]
     },
     "execution_count": 24,
     "metadata": {},
     "output_type": "execute_result"
    }
   ],
   "source": [
    "alg = :LN_BOBYQA\n",
    "verbose = true\n",
    "## add optsum\n",
    "# init para\n",
    "para = [1.0, 1.0, 3.0, 4.0] # sigma and beta\n",
    "lbd = [0.0, 0.0, 0.0, 0.0]\n",
    "optsum = OptSummary(Float64.(para), lbd, alg; ftol_rel=(1.0e-12), ftol_abs=(1.0e-8), xtol_rel = 1e-5)\n",
    "optsum.REML = true\n",
    "\n",
    "## init opt based on optsum\n",
    "opt = Opt(optsum)\n",
    "\n",
    "function negLogLik(para::Vector{Float64}, g::Vector{Float64})\n",
    "    n = length(y)\n",
    "    Sigma = para[1]*Z*transpose(Z) + para[2]*diagm(ones(n))\n",
    "    negLog = 1/2*log(det(K*Sigma*transpose(K))) + 1/2*transpose(y-A*para[3:4])*transpose(K)*inv(K*Sigma*transpose(K))*K*(y-A*para[3:4])\n",
    "    #println(\"OPT: parameter $(para) || objective eval $(negLog)\")\n",
    "    @show para\n",
    "    @show negLog\n",
    "\n",
    "    return negLog\n",
    "end\n",
    "\n",
    "println(\"The initial object value is $(negLogLik(Float64.(para), [1.0,1.0]))\")\n",
    "\n",
    "opt.min_objective = negLogLik\n",
    "optsum.finitial = negLogLik(optsum.initial, [1.0,1.0, 3.0, 4.0])  # the second field not useful right now"
   ]
  },
  {
   "cell_type": "code",
   "execution_count": 25,
   "metadata": {},
   "outputs": [
    {
     "name": "stdout",
     "output_type": "stream",
     "text": [
      "OPTBL: starting point [1.0, 1.0, 3.0, 4.0]\n",
      "para = [1.0, 1.0, 3.0, 4.0]\n",
      "negLog = 57.109901803001115\n",
      "para = [1.75, 1.0, 3.0, 4.0]\n",
      "negLog = 55.979120769736056\n",
      "para = [1.0, 1.75, 3.0, 4.0]\n",
      "negLog = 52.37720093978956\n",
      "para = [1.0, 1.0, 5.25, 4.0]\n",
      "negLog = 57.10990180300113\n",
      "para = [1.0, 1.0, 3.0, 7.0]\n",
      "negLog = 57.10990180300106\n",
      "para = [0.25, 1.0, 3.0, 4.0]\n",
      "negLog = 64.50473446075647\n",
      "para = [1.0, 0.25, 3.0, 4.0]\n",
      "negLog = 128.2248196116742\n",
      "para = [1.0, 1.0, 0.75, 4.0]\n",
      "negLog = 57.109901803001044\n",
      "para = [1.0, 1.0, 3.0, 1.0]\n",
      "negLog = 57.10990180300117\n",
      "para = [1.5103893335797347, 1.4284710320133616, 2.999999999999983, 4.00000000000003]\n",
      "negLog = 52.78019245866247\n",
      "para = [0.8451353314889464, 1.4374313071108966, 2.999999999999997, 4.000000000000005]\n",
      "negLog = 53.411902302579506\n",
      "para = [1.0, 1.9, 3.0, 4.0]\n",
      "negLog = 52.31808747690738\n",
      "para = [0.8170269316937663, 1.9409524880147997, 2.9999999999999725, 4.00000000000005]\n",
      "negLog = 52.49733594190326\n",
      "para = [1.0, 1.957616595969803, 2.855958510075492, 4.0]\n",
      "negLog = 52.33003407814742\n",
      "para = [1.021049620285529, 1.8752724868485422, 2.7971843886368317, 3.999999999999726]\n",
      "negLog = 52.304295866892204\n",
      "para = [1.0076852899640716, 1.9061027022943486, 2.5960301383322033, 4.000000000042645]\n",
      "negLog = 52.313572151440695\n",
      "para = [1.0224166885954467, 1.932117088465227, 2.784012521814999, 4.1948351026819255]\n",
      "negLog = 52.30948008790688\n",
      "para = [1.0574438113077649, 1.8447983686984228, 2.937578104156909, 4.137506192104365]\n",
      "negLog = 52.28586062948078\n",
      "para = [1.1157464516544076, 1.7734435092687435, 3.2797993253874296, 4.263773712122026]\n",
      "negLog = 52.28046193137642\n",
      "para = [1.143031342868197, 1.7368480784512834, 3.277825336315688, 4.138233360569266]\n",
      "negLog = 52.29137701573967\n",
      "para = [1.1234012878377742, 1.8245948255805216, 3.2983037198586502, 4.479621824515729]\n",
      "negLog = 52.25740246179631\n",
      "para = [1.1350527530052, 1.8197669734768873, 3.2335574665415807, 4.76246874664244]\n",
      "negLog = 52.25373740969383\n",
      "para = [1.1665826691603618, 1.8517425953821474, 3.367942856908071, 4.922559736188198]\n",
      "negLog = 52.23941443694237\n",
      "para = [1.1506916617372853, 1.8934375599618167, 3.382516697958734, 5.162906357968025]\n",
      "negLog = 52.248269903892485\n",
      "para = [1.1981643030824622, 1.8394367771543996, 3.4157421716315453, 4.930099926692232]\n",
      "negLog = 52.231534430048654\n",
      "para = [1.2459200324974593, 1.8141238134088034, 3.555853604768111, 5.021524055523073]\n",
      "negLog = 52.22433241647323\n",
      "para = [1.3268472770691189, 1.7940612213412672, 3.829203087449025, 5.362019176553767]\n",
      "negLog = 52.21919662755847\n",
      "para = [1.3243045557449074, 1.7998496182422425, 3.835544996486454, 5.3898905764176845]\n",
      "negLog = 52.218377311687945\n",
      "para = [1.3288206961973859, 1.7980202701346915, 3.8576772951036604, 5.412059610823587]\n",
      "negLog = 52.21846633499108\n",
      "para = [1.3300782275818555, 1.7968370202933275, 3.82467641660126, 5.38651098398046]\n",
      "negLog = 52.2186019875611\n",
      "para = [1.3219220393485047, 1.806226126692164, 3.831031812716151, 5.40095442929178]\n",
      "negLog = 52.21767682885079\n",
      "para = [1.321626927467586, 1.8149989453414952, 3.820905024143105, 5.447697285392604]\n",
      "negLog = 52.21698328581784\n",
      "para = [1.3257331626570987, 1.8230644827348528, 3.844652456399391, 5.483569476128442]\n",
      "negLog = 52.2166577510945\n",
      "para = [1.3293356909294123, 1.8236815688989634, 3.8671670953773347, 5.533420097149642]\n",
      "negLog = 52.21660616276719\n",
      "para = [1.3305548378470364, 1.8215788676225626, 3.8862328921373948, 5.5208007929164316]\n",
      "negLog = 52.216592549349485\n",
      "para = [1.3336899665740434, 1.8227763462436444, 3.8919781432471514, 5.546030833876441]\n",
      "negLog = 52.21656429503691\n",
      "para = [1.329454165269459, 1.8282069882397198, 3.9008633900386824, 5.546871386943562]\n",
      "negLog = 52.21668990914407\n",
      "para = [1.3382039310369205, 1.823898446864901, 3.896801700386013, 5.523392874339766]\n",
      "negLog = 52.216567321450654\n",
      "para = [1.3367140266411925, 1.8227094345144457, 3.8942750990646804, 5.534575245340062]\n",
      "negLog = 52.2165535647469\n",
      "para = [1.3378891351170994, 1.8243271041291615, 3.9087598213501886, 5.556093742028528]\n",
      "negLog = 52.216573579547\n",
      "para = [1.3388980892296705, 1.8159238365399148, 3.9012502078377445, 5.5352650237170975]\n",
      "negLog = 52.216631919304284\n",
      "para = [1.339886332014235, 1.8200146542103093, 3.9076793505575598, 5.517157615369428]\n",
      "negLog = 52.21655292663734\n",
      "para = [1.3454624565922175, 1.8176963638812182, 3.916189722790389, 5.530860159900455]\n",
      "negLog = 52.21660076122126\n",
      "para = [1.3384973463987744, 1.8204627691153945, 3.8979945380327417, 5.512241227483801]\n",
      "negLog = 52.21655005419481\n",
      "para = [1.3371041149239116, 1.8216697458486248, 3.8983016845545713, 5.5252974940946515]\n",
      "negLog = 52.21654910168162\n",
      "para = [1.337490867073344, 1.8227739379542378, 3.9001984340076934, 5.530584561692964]\n",
      "negLog = 52.2165536175155\n",
      "para = [1.3366241736367759, 1.8221388262121863, 3.8958706834690986, 5.5190896226063995]\n",
      "negLog = 52.21655087752433\n",
      "para = [1.3373207571046508, 1.8215537237557937, 3.8963498243578822, 5.526420337412563]\n",
      "negLog = 52.216548713816465\n",
      "para = [1.3377667624184277, 1.8215334308664475, 3.897720052156666, 5.524847804900009]\n",
      "negLog = 52.216548256075214\n",
      "para = [1.338093013083354, 1.8212984484067274, 3.8985662064989253, 5.522580504379063]\n",
      "negLog = 52.216548039684064\n",
      "para = [1.3390190817396064, 1.8207242762496232, 3.9004129033390207, 5.519272811156151]\n",
      "negLog = 52.21654900070608\n",
      "para = [1.3379095555447442, 1.8213545142037824, 3.897835326562709, 5.5219788777405565]\n",
      "negLog = 52.21654811764017\n",
      "para = [1.3380347707060052, 1.8211223764784314, 3.89853244759825, 5.522681390237975]\n",
      "negLog = 52.21654823100015\n",
      "para = [1.3380552658413272, 1.8213797753709386, 3.898532990228256, 5.523237707293599]\n",
      "negLog = 52.21654804298244\n",
      "para = [1.338061690769393, 1.8213003683381785, 3.89873537317233, 5.522427637405891]\n",
      "negLog = 52.21654805218665\n",
      "para = [1.3380757261571867, 1.8213661917781347, 3.8985497031710326, 5.522474166381298]\n",
      "negLog = 52.2165480346999\n"
     ]
    },
    {
     "data": {
      "text/plain": [
       "(52.2165480346999, [1.3380757261571867, 1.8213661917781347, 3.8985497031710326, 5.522474166381298], :FTOL_REACHED)"
      ]
     },
     "execution_count": 25,
     "metadata": {},
     "output_type": "execute_result"
    }
   ],
   "source": [
    "if verbose println(\"OPTBL: starting point $(para)\") ; end    # to stdout\n",
    "(optf,optx,ret) = optimize(opt, para)"
   ]
  },
  {
   "cell_type": "code",
   "execution_count": 26,
   "metadata": {},
   "outputs": [
    {
     "name": "stdout",
     "output_type": "stream",
     "text": [
      "got 52.21655 at [1.33808, 1.82137, 3.89855, 5.52247] after 56 iterations (returned FTOL_REACHED)\n"
     ]
    },
    {
     "data": {
      "text/latex": [
       "\\begin{tabular}\n",
       "{l | l}\n",
       " &  \\\\\n",
       "\\hline\n",
       "\\textbf{Initialization} &  \\\\\n",
       "Initial parameter vector & [1.0, 1.0, 3.0, 4.0] \\\\\n",
       "Initial objective value & 57.109901803001115 \\\\\n",
       "\\textbf{Optimizer settings}  &  \\\\\n",
       "Optimizer (from NLopt) & \\texttt{LN\\_BOBYQA} \\\\\n",
       "Lower bounds & [0.0, 0.0, 0.0, 0.0] \\\\\n",
       "\\texttt{ftol\\_rel} & 1.0e-12 \\\\\n",
       "\\texttt{ftol\\_abs} & 1.0e-8 \\\\\n",
       "\\texttt{xtol\\_rel} & 1.0e-5 \\\\\n",
       "\\texttt{xtol\\_abs} & [1.0e-10, 1.0e-10, 1.0e-10, 1.0e-10] \\\\\n",
       "\\texttt{initial\\_step} & [0.75, 0.75, 2.25, 3.0] \\\\\n",
       "\\texttt{maxfeval} & -1 \\\\\n",
       "\\texttt{maxtime} & -1.0 \\\\\n",
       "\\textbf{Result} &  \\\\\n",
       "Function evaluations & 56 \\\\\n",
       "Final parameter vector & [1.3381, 1.8214, 3.8985, 5.5225] \\\\\n",
       "Final objective value & 52.2165 \\\\\n",
       "Return code & \\texttt{FTOL\\_REACHED} \\\\\n",
       "\\end{tabular}\n"
      ],
      "text/markdown": [
       "|                          |                                      |\n",
       "|:------------------------ |:------------------------------------ |\n",
       "| **Initialization**       |                                      |\n",
       "| Initial parameter vector | [1.0, 1.0, 3.0, 4.0]                 |\n",
       "| Initial objective value  | 57.109901803001115                   |\n",
       "| **Optimizer settings**   |                                      |\n",
       "| Optimizer (from NLopt)   | `LN_BOBYQA`                          |\n",
       "| Lower bounds             | [0.0, 0.0, 0.0, 0.0]                 |\n",
       "| `ftol_rel`               | 1.0e-12                              |\n",
       "| `ftol_abs`               | 1.0e-8                               |\n",
       "| `xtol_rel`               | 1.0e-5                               |\n",
       "| `xtol_abs`               | [1.0e-10, 1.0e-10, 1.0e-10, 1.0e-10] |\n",
       "| `initial_step`           | [0.75, 0.75, 2.25, 3.0]              |\n",
       "| `maxfeval`               | -1                                   |\n",
       "| `maxtime`                | -1.0                                 |\n",
       "| **Result**               |                                      |\n",
       "| Function evaluations     | 56                                   |\n",
       "| Final parameter vector   | [1.3381, 1.8214, 3.8985, 5.5225]     |\n",
       "| Final objective value    | 52.2165                              |\n",
       "| Return code              | `FTOL_REACHED`                       |\n"
      ],
      "text/plain": [
       "Initial parameter vector: [1.0, 1.0, 3.0, 4.0]\n",
       "Initial objective value:  57.109901803001115\n",
       "\n",
       "Optimizer (from NLopt):   LN_BOBYQA\n",
       "Lower bounds:             [0.0, 0.0, 0.0, 0.0]\n",
       "ftol_rel:                 1.0e-12\n",
       "ftol_abs:                 1.0e-8\n",
       "xtol_rel:                 1.0e-5\n",
       "xtol_abs:                 [1.0e-10, 1.0e-10, 1.0e-10, 1.0e-10]\n",
       "initial_step:             [0.75, 0.75, 2.25, 3.0]\n",
       "maxfeval:                 -1\n",
       "maxtime:                  -1.0\n",
       "\n",
       "Function evaluations:     56\n",
       "Final parameter vector:   [1.3380757261571867, 1.8213661917781347, 3.8985497031710326, 5.522474166381298]\n",
       "Final objective value:    52.2165480346999\n",
       "Return code:              FTOL_REACHED\n"
      ]
     },
     "execution_count": 26,
     "metadata": {},
     "output_type": "execute_result"
    }
   ],
   "source": [
    "Sigma = optx[1]*Z*transpose(Z) + optx[2]*diagm(ones(n))\n",
    "beta = inv(transpose(A)*inv(Sigma)*A)*transpose(A)*inv(Sigma)*y\n",
    "betaM = beta[1:size(HMM.M,2)]\n",
    "betaX = beta[(size(HMM.M,2) + 1): size(beta)[1]]\n",
    "\n",
    "optsum.feval = opt.numevals\n",
    "optsum.final = optx\n",
    "optsum.fmin = optf\n",
    "optsum.returnvalue = ret\n",
    "\n",
    "if verbose println(\"got $(round(optf, digits=5)) at $(round.(optx, digits=5)) after $(opt.numevals) iterations (returned $(ret))\") ; end\n",
    "\n",
    "HMM.optsum = optsum"
   ]
  },
  {
   "cell_type": "code",
   "execution_count": null,
   "metadata": {},
   "outputs": [],
   "source": []
  },
  {
   "cell_type": "code",
   "execution_count": null,
   "metadata": {},
   "outputs": [],
   "source": []
  },
  {
   "cell_type": "code",
   "execution_count": null,
   "metadata": {},
   "outputs": [],
   "source": []
  }
 ],
 "metadata": {
  "kernelspec": {
   "display_name": "Julia 1.6.1",
   "language": "julia",
   "name": "julia-1.6"
  },
  "language_info": {
   "file_extension": ".jl",
   "mimetype": "application/julia",
   "name": "julia",
   "version": "1.6.1"
  }
 },
 "nbformat": 4,
 "nbformat_minor": 4
}
