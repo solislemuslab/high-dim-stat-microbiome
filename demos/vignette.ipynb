{
 "cells": [
  {
   "cell_type": "code",
   "execution_count": 2,
   "metadata": {},
   "outputs": [
    {
     "name": "stdout",
     "output_type": "stream",
     "text": [
      "\u001b[36m\u001b[1m     Project\u001b[22m\u001b[39m demo v0.1.0\n",
      "\u001b[32m\u001b[1m      Status\u001b[22m\u001b[39m `~/Documents/julia/demo/Project.toml`\n",
      " \u001b[90m [336ed68f] \u001b[39m\u001b[37mCSV v0.9.6\u001b[39m\n",
      " \u001b[90m [324d7699] \u001b[39m\u001b[37mCategoricalArrays v0.10.2\u001b[39m\n",
      " \u001b[90m [7876af07] \u001b[39m\u001b[37mExample v0.5.4 `~/.julia/dev/Example`\u001b[39m\n",
      " \u001b[90m [ced58d7a] \u001b[39m\u001b[37mHighDimMixedModels v0.1.0 `~/.julia/dev/HighDimMixedModels`\u001b[39m\n",
      " \u001b[90m [a1dec852] \u001b[39m\u001b[37mMetida v0.12.4\u001b[39m\n",
      " \u001b[90m [ff71e718] \u001b[39m\u001b[37mMixedModels v4.6.0\u001b[39m\n",
      " \u001b[90m [14b8a8f1] \u001b[39m\u001b[37mPkgTemplates v0.7.19\u001b[39m\n",
      " \u001b[90m [bd369af6] \u001b[39m\u001b[37mTables v1.6.0\u001b[39m\n",
      " \u001b[90m [44d3d7a6] \u001b[39m\u001b[37mWeave v0.10.10\u001b[39m\n"
     ]
    }
   ],
   "source": [
    "using Pkg\n",
    "# Pkg.activate(pwd())\n",
    "Pkg.DEFAULT_IO[] = stdout\n",
    "Pkg.status()"
   ]
  },
  {
   "cell_type": "markdown",
   "metadata": {},
   "source": [
    "#### calling packages"
   ]
  },
  {
   "cell_type": "code",
   "execution_count": 3,
   "metadata": {},
   "outputs": [],
   "source": [
    "using LinearAlgebra\n",
    "using DataFrames\n",
    "using StableRNGs; rng = StableRNG(1);\n",
    "using StatsModels\n",
    "using MixedModels"
   ]
  },
  {
   "cell_type": "markdown",
   "metadata": {},
   "source": [
    "#### using HighDimMixedModels"
   ]
  },
  {
   "cell_type": "code",
   "execution_count": 4,
   "metadata": {},
   "outputs": [
    {
     "name": "stderr",
     "output_type": "stream",
     "text": [
      "┌ Info: Precompiling HighDimMixedModels [ced58d7a-d58c-464d-86d9-3a8462bebd28]\n",
      "└ @ Base loading.jl:1317\n",
      "WARNING: Method definition (::Type{HighDimMixedModels.highDimMixedModel{T} where T<:AbstractFloat})(StatsModels.FormulaTerm{L, R} where R where L, DataFrames.DataFrame, Base.Dict{Symbol, UnionAll}, Union{Int64, AbstractArray{Int64, 1}}, Union{Int64, AbstractArray{Int64, 1}}, Union{Int64, AbstractArray{Int64, 1}}) where {T} in module HighDimMixedModels at /Users/zyxu/.julia/dev/HighDimMixedModels/src/bricks.jl:194 overwritten at /Users/zyxu/.julia/dev/HighDimMixedModels/src/bricks.jl:341.\n",
      "  ** incremental compilation may be fatally broken for this module **\n",
      "\n"
     ]
    }
   ],
   "source": [
    "using HighDimMixedModels"
   ]
  },
  {
   "cell_type": "markdown",
   "metadata": {},
   "source": [
    "**Set up data and formula**"
   ]
  },
  {
   "cell_type": "code",
   "execution_count": 5,
   "metadata": {},
   "outputs": [
    {
     "data": {
      "text/html": [
       "<div class=\"data-frame\"><p>5 rows × 4 columns</p><table class=\"data-frame\"><thead><tr><th></th><th>period</th><th>herd</th><th>incid</th><th>hsz</th></tr><tr><th></th><th title=\"Float64\">Float64</th><th title=\"String\">String</th><th title=\"Int8\">Int8</th><th title=\"Int8\">Int8</th></tr></thead><tbody><tr><th>1</th><td>1.0</td><td>H01</td><td>2</td><td>14</td></tr><tr><th>2</th><td>2.0</td><td>H01</td><td>3</td><td>12</td></tr><tr><th>3</th><td>3.0</td><td>H01</td><td>4</td><td>9</td></tr><tr><th>4</th><td>4.0</td><td>H01</td><td>0</td><td>5</td></tr><tr><th>5</th><td>1.0</td><td>H02</td><td>3</td><td>22</td></tr></tbody></table></div>"
      ],
      "text/latex": [
       "\\begin{tabular}{r|cccc}\n",
       "\t& period & herd & incid & hsz\\\\\n",
       "\t\\hline\n",
       "\t& Float64 & String & Int8 & Int8\\\\\n",
       "\t\\hline\n",
       "\t1 & 1.0 & H01 & 2 & 14 \\\\\n",
       "\t2 & 2.0 & H01 & 3 & 12 \\\\\n",
       "\t3 & 3.0 & H01 & 4 & 9 \\\\\n",
       "\t4 & 4.0 & H01 & 0 & 5 \\\\\n",
       "\t5 & 1.0 & H02 & 3 & 22 \\\\\n",
       "\\end{tabular}\n"
      ],
      "text/plain": [
       "\u001b[1m5×4 DataFrame\u001b[0m\n",
       "\u001b[1m Row \u001b[0m│\u001b[1m period  \u001b[0m\u001b[1m herd   \u001b[0m\u001b[1m incid \u001b[0m\u001b[1m hsz  \u001b[0m\n",
       "\u001b[1m     \u001b[0m│\u001b[90m Float64 \u001b[0m\u001b[90m String \u001b[0m\u001b[90m Int8  \u001b[0m\u001b[90m Int8 \u001b[0m\n",
       "─────┼──────────────────────────────\n",
       "   1 │     1.0  H01         2    14\n",
       "   2 │     2.0  H01         3    12\n",
       "   3 │     3.0  H01         4     9\n",
       "   4 │     4.0  H01         0     5\n",
       "   5 │     1.0  H02         3    22"
      ]
     },
     "execution_count": 5,
     "metadata": {},
     "output_type": "execute_result"
    }
   ],
   "source": [
    "df = DataFrame(MixedModels.dataset(:cbpp))\n",
    "df[!,:period] = map(x->parse(Float64,x),df[:,:period])\n",
    "select!(df,[:period,:herd,:incid,:hsz])\n",
    "first(df,5)"
   ]
  },
  {
   "cell_type": "code",
   "execution_count": 6,
   "metadata": {},
   "outputs": [
    {
     "data": {
      "text/plain": [
       "FormulaTerm\n",
       "Response:\n",
       "  period(unknown)\n",
       "Predictors:\n",
       "  incid(unknown)\n",
       "  hsz(unknown)\n",
       "  (herd)->1 | herd"
      ]
     },
     "execution_count": 6,
     "metadata": {},
     "output_type": "execute_result"
    }
   ],
   "source": [
    "f = @formula(period ~ 0 + incid + hsz + (1|herd))"
   ]
  },
  {
   "cell_type": "markdown",
   "metadata": {},
   "source": [
    "### Construct object"
   ]
  },
  {
   "cell_type": "markdown",
   "metadata": {},
   "source": [
    "#### parse random effect in formula"
   ]
  },
  {
   "cell_type": "code",
   "execution_count": 7,
   "metadata": {},
   "outputs": [
    {
     "name": "stderr",
     "output_type": "stream",
     "text": [
      "┌ Warning: n >= p in high dimensional matrix\n",
      "└ @ HighDimMixedModels /Users/zyxu/.julia/dev/HighDimMixedModels/src/bricks.jl:12\n"
     ]
    },
    {
     "data": {
      "text/plain": []
     },
     "execution_count": 7,
     "metadata": {},
     "output_type": "execute_result"
    }
   ],
   "source": [
    "HMM = highDimMixedModel(f, df, 1)"
   ]
  },
  {
   "cell_type": "markdown",
   "metadata": {},
   "source": [
    "__Check whether module load the data correctly__"
   ]
  },
  {
   "cell_type": "code",
   "execution_count": 8,
   "metadata": {},
   "outputs": [
    {
     "ename": "LoadError",
     "evalue": "AssertionError: sum(HMM.M.M .!= df[:, :incid]) == 0",
     "output_type": "error",
     "traceback": [
      "AssertionError: sum(HMM.M.M .!= df[:, :incid]) == 0",
      "",
      "Stacktrace:",
      " [1] top-level scope",
      "   @ In[8]:1",
      " [2] eval",
      "   @ ./boot.jl:360 [inlined]",
      " [3] include_string(mapexpr::typeof(REPL.softscope), mod::Module, code::String, filename::String)",
      "   @ Base ./loading.jl:1094"
     ]
    }
   ],
   "source": [
    "@assert sum(HMM.M.M .!= df[:,:incid]) == 0\n",
    "@assert sum(HMM.X.X .!= df[:,:hsz]) == 0\n",
    "@assert size(HMM.Z.Z) == (56,15)"
   ]
  },
  {
   "cell_type": "markdown",
   "metadata": {},
   "source": [
    "### Optimization"
   ]
  },
  {
   "cell_type": "markdown",
   "metadata": {},
   "source": [
    "#### MixedModel"
   ]
  },
  {
   "cell_type": "code",
   "execution_count": 8,
   "metadata": {},
   "outputs": [
    {
     "name": "stderr",
     "output_type": "stream",
     "text": [
      "┌ Warning: ProgressMeter by default refresh meters with additional information in IJulia via `IJulia.clear_output`, which clears all outputs in the cell. \n",
      "│  - To prevent this behaviour, do `ProgressMeter.ijulia_behavior(:append)`. \n",
      "│  - To disable this warning message, do `ProgressMeter.ijulia_behavior(:clear)`.\n",
      "└ @ ProgressMeter /Users/zyxu/.julia/packages/ProgressMeter/Vf8un/src/ProgressMeter.jl:620\n",
      "\u001b[32mMinimizing 16 \t Time: 0:00:00 (30.89 ms/it)\u001b[39m\n"
     ]
    },
    {
     "data": {
      "text/latex": [
       "\\begin{tabular}\n",
       "{l | r | r | r | r | r}\n",
       " & Est. & SE & z & p & $\\sigma_\\text{herd}$ \\\\\n",
       "\\hline\n",
       "incid & -0.2939 & 0.0890 & -3.30 & 0.0010 &   \\\\\n",
       "hsz & 0.1317 & 0.0239 & 5.52 & <1e-07 &   \\\\\n",
       "(Intercept) &  &  &  &  & 1.1569 \\\\\n",
       "Residual & 1.3496 &  &  &  &  \\\\\n",
       "\\end{tabular}\n"
      ],
      "text/markdown": [
       "|             |    Est. |     SE |     z |      p | σ_herd |\n",
       "|:----------- | -------:| ------:| -----:| ------:| ------:|\n",
       "| incid       | -0.2939 | 0.0890 | -3.30 | 0.0010 |        |\n",
       "| hsz         |  0.1317 | 0.0239 |  5.52 | <1e-07 |        |\n",
       "| (Intercept) |         |        |       |        | 1.1569 |\n",
       "| Residual    |  1.3496 |        |       |        |        |\n"
      ],
      "text/plain": [
       "Linear mixed model fit by REML\n",
       " period ~ 0 + incid + hsz + (1 | herd)\n",
       " REML criterion at convergence: 219.11119977822892\n",
       "\n",
       "Variance components:\n",
       "            Column   VarianceStd.Dev.\n",
       "herd     (Intercept)  1.33834 1.15687\n",
       "Residual              1.82132 1.34956\n",
       " Number of obs: 56; levels of grouping factors: 15\n",
       "\n",
       "  Fixed-effects parameters:\n",
       "─────────────────────────────────────────────\n",
       "           Coef.  Std. Error      z  Pr(>|z|)\n",
       "─────────────────────────────────────────────\n",
       "incid  -0.293874   0.0890102  -3.30    0.0010\n",
       "hsz     0.131742   0.0238714   5.52    <1e-07\n",
       "─────────────────────────────────────────────"
      ]
     },
     "execution_count": 8,
     "metadata": {},
     "output_type": "execute_result"
    }
   ],
   "source": [
    "ml = fit(MixedModel, @formula(period ~ 0 + incid + hsz +(1|herd)), df, REML = true)"
   ]
  },
  {
   "cell_type": "code",
   "execution_count": 14,
   "metadata": {},
   "outputs": [
    {
     "name": "stdout",
     "output_type": "stream",
     "text": [
      "Linear mixed model fit by REML\n",
      " period ~ 0 + incid + hsz + (1 | herd)\n",
      " REML criterion at convergence: 219.11119977822892\n",
      "\n",
      "Variance components:\n",
      "            Column   VarianceStd.Dev.\n",
      "herd     (Intercept)  1.33834 1.15687\n",
      "Residual              1.82132 1.34956\n",
      " Number of obs: 56; levels of grouping factors: 15\n",
      "\n",
      "  Fixed-effects parameters:\n",
      "─────────────────────────────────────────────\n",
      "           Coef.  Std. Error      z  Pr(>|z|)\n",
      "─────────────────────────────────────────────\n",
      "incid  -0.293874   0.0890102  -3.30    0.0010\n",
      "hsz     0.131742   0.0238714   5.52    <1e-07\n",
      "─────────────────────────────────────────────"
     ]
    }
   ],
   "source": [
    "show(ml)"
   ]
  },
  {
   "cell_type": "code",
   "execution_count": null,
   "metadata": {},
   "outputs": [],
   "source": []
  },
  {
   "cell_type": "markdown",
   "metadata": {},
   "source": [
    "HighDimMixedModel"
   ]
  },
  {
   "cell_type": "code",
   "execution_count": 10,
   "metadata": {},
   "outputs": [
    {
     "name": "stdout",
     "output_type": "stream",
     "text": [
      "sigma = [1.0, 1.0]\n",
      "negLog = 57.1099018030012\n",
      "The initial object value is 57.1099018030012\n",
      "sigma = [1.0, 1.0]\n",
      "negLog = 57.1099018030012\n",
      "OPTBL: starting point [1.0, 1.0]\n",
      "sigma = [1.0, 1.0]\n",
      "negLog = 57.1099018030012\n",
      "sigma = [1.75, 1.0]\n",
      "negLog = 55.97912076973617\n",
      "sigma = [1.0, 1.75]\n",
      "negLog = 52.37720093978967\n",
      "sigma = [0.25, 1.0]\n",
      "negLog = 64.50473446075652\n",
      "sigma = [1.0, 0.25]\n",
      "negLog = 128.22481961167495\n",
      "sigma = [1.510389333579731, 1.4284710320133605]\n",
      "negLog = 52.78019245866251\n",
      "sigma = [0.8451353314889427, 1.437431307110896]\n",
      "negLog = 53.411902302579605\n",
      "sigma = [1.0, 1.9]\n",
      "negLog = 52.31808747690741\n",
      "sigma = [0.822599313455345, 1.9607062304338283]\n",
      "negLog = 52.490735469672636\n",
      "sigma = [1.048013829974836, 1.957616595969803]\n",
      "negLog = 52.30520784011165\n",
      "sigma = [1.0036098308862278, 2.0180590054596546]\n",
      "negLog = 52.357982155798666\n",
      "sigma = [1.0739875442712838, 1.9305681918459645]\n",
      "negLog = 52.28417164563711\n",
      "sigma = [1.1350679280066387, 1.887045936358205]\n",
      "negLog = 52.251667221635145\n",
      "sigma = [1.2289088557480747, 1.849055393660007]\n",
      "negLog = 52.22563694469997\n",
      "sigma = [1.257874889898738, 1.8483895067953622]\n",
      "negLog = 52.221764542962624\n",
      "sigma = [1.2891927914610897, 1.8507084659272266]\n",
      "negLog = 52.21956750163348\n",
      "sigma = [1.293103660612978, 1.8508421531318722]\n",
      "negLog = 52.219402412578\n",
      "sigma = [1.2896727233995116, 1.8575113862090147]\n",
      "negLog = 52.220508744809614\n",
      "sigma = [1.2966898696059388, 1.844255112441334]\n",
      "negLog = 52.21852177088397\n",
      "sigma = [1.3087498347445332, 1.8353356258610487]\n",
      "negLog = 52.21740586815373\n",
      "sigma = [1.3371319314453567, 1.8256167480006626]\n",
      "negLog = 52.216598688421634\n",
      "sigma = [1.3419529809414614, 1.8243286505645167]\n",
      "negLog = 52.21659489283887\n",
      "sigma = [1.3381020552231015, 1.8178927845690445]\n",
      "negLog = 52.216583679164366\n",
      "sigma = [1.3355243730361481, 1.822496652382402]\n",
      "negLog = 52.21655496988426\n",
      "sigma = [1.3415669095365033, 1.8203530399719878]\n",
      "negLog = 52.21655566661392\n",
      "sigma = [1.330431452419552, 1.8169910044102695]\n",
      "negLog = 52.21668419322788\n",
      "sigma = [1.338497224307076, 1.8214836196955138]\n",
      "negLog = 52.21654810783059\n",
      "sigma = [1.3373951873946395, 1.8216862380122827]\n",
      "negLog = 52.216548735359225\n",
      "sigma = [1.3391007101699393, 1.821038305409504]\n",
      "negLog = 52.21654845371778\n",
      "sigma = [1.3382123982693646, 1.82078980838958]\n",
      "negLog = 52.216548896325975\n",
      "sigma = [1.3382706800968085, 1.8212985517999483]\n",
      "negLog = 52.2165479927191\n",
      "sigma = [1.3383190003454069, 1.8213128791002569]\n",
      "negLog = 52.21654798673772\n",
      "got 52.21655 at [1.33832, 1.82131] after 32 iterations (returned FTOL_REACHED)\n",
      "\n"
     ]
    }
   ],
   "source": [
    "sigma, betaM, betaX, opt = fit(HMM, verbose = true, REML = true, alg = :LN_BOBYQA) # :LN_BOBYQA :LN_COBYLA\n",
    "println(\"\")"
   ]
  },
  {
   "cell_type": "code",
   "execution_count": 11,
   "metadata": {},
   "outputs": [
    {
     "data": {
      "text/plain": [
       "1-element Vector{Float64}:\n",
       " -0.2938738291611581"
      ]
     },
     "execution_count": 11,
     "metadata": {},
     "output_type": "execute_result"
    }
   ],
   "source": [
    "betaM"
   ]
  },
  {
   "cell_type": "code",
   "execution_count": 12,
   "metadata": {},
   "outputs": [
    {
     "data": {
      "text/plain": [
       "1-element Vector{Float64}:\n",
       " 0.1317420744001128"
      ]
     },
     "execution_count": 12,
     "metadata": {},
     "output_type": "execute_result"
    }
   ],
   "source": [
    "betaX"
   ]
  },
  {
   "cell_type": "code",
   "execution_count": null,
   "metadata": {},
   "outputs": [],
   "source": []
  }
 ],
 "metadata": {
  "kernelspec": {
   "display_name": "Julia 1.6.1",
   "language": "julia",
   "name": "julia-1.6"
  },
  "language_info": {
   "file_extension": ".jl",
   "mimetype": "application/julia",
   "name": "julia",
   "version": "1.6.1"
  }
 },
 "nbformat": 4,
 "nbformat_minor": 4
}
