{
 "cells": [
  {
   "cell_type": "code",
   "execution_count": 47,
   "metadata": {},
   "outputs": [
    {
     "data": {
      "text/plain": [
       "IJulia.IJuliaStdio{Base.PipeEndpoint}(IOContext(Base.PipeEndpoint(RawFD(42) open, 0 bytes waiting)))"
      ]
     },
     "execution_count": 47,
     "metadata": {},
     "output_type": "execute_result"
    }
   ],
   "source": [
    "using Pkg\n",
    "Pkg.DEFAULT_IO[] = stdout"
   ]
  },
  {
   "cell_type": "code",
   "execution_count": 48,
   "metadata": {},
   "outputs": [
    {
     "name": "stdout",
     "output_type": "stream",
     "text": [
      "\u001b[32m\u001b[1m  Activating\u001b[22m\u001b[39m environment at `~/Documents/julia/demo/Project.toml`\n"
     ]
    }
   ],
   "source": [
    "Pkg.activate(\"/Users/zyxu/Documents/julia/demo\")"
   ]
  },
  {
   "cell_type": "code",
   "execution_count": 49,
   "metadata": {},
   "outputs": [
    {
     "name": "stdout",
     "output_type": "stream",
     "text": [
      "\u001b[36m\u001b[1m     Project\u001b[22m\u001b[39m demo v0.1.0\n",
      "\u001b[32m\u001b[1m      Status\u001b[22m\u001b[39m `~/Documents/julia/demo/Project.toml`\n",
      " \u001b[90m [336ed68f] \u001b[39m\u001b[37mCSV v0.9.6\u001b[39m\n",
      " \u001b[90m [324d7699] \u001b[39m\u001b[37mCategoricalArrays v0.10.2\u001b[39m\n",
      " \u001b[90m [7876af07] \u001b[39m\u001b[37mExample v0.5.4 `~/.julia/dev/Example`\u001b[39m\n",
      " \u001b[90m [ced58d7a] \u001b[39m\u001b[37mHighDimMixedModels v0.1.0 `~/.julia/dev/HighDimMixedModels`\u001b[39m\n",
      " \u001b[90m [a1dec852] \u001b[39m\u001b[37mMetida v0.12.4\u001b[39m\n",
      " \u001b[90m [ff71e718] \u001b[39m\u001b[37mMixedModels v4.6.0\u001b[39m\n",
      " \u001b[90m [14b8a8f1] \u001b[39m\u001b[37mPkgTemplates v0.7.19\u001b[39m\n",
      " \u001b[90m [bd369af6] \u001b[39m\u001b[37mTables v1.6.0\u001b[39m\n",
      " \u001b[90m [44d3d7a6] \u001b[39m\u001b[37mWeave v0.10.10\u001b[39m\n"
     ]
    }
   ],
   "source": [
    "Pkg.status()"
   ]
  },
  {
   "cell_type": "code",
   "execution_count": 50,
   "metadata": {},
   "outputs": [],
   "source": [
    "using DataFrames\n",
    "using LinearAlgebra\n",
    "using StableRNGs; rng = StableRNG(1);\n",
    "using StatsModels\n",
    "using MixedModels\n",
    "using Metida\n",
    "using CSV\n",
    "using CategoricalArrays;"
   ]
  },
  {
   "cell_type": "code",
   "execution_count": 51,
   "metadata": {},
   "outputs": [],
   "source": [
    "using HighDimMixedModels"
   ]
  },
  {
   "cell_type": "code",
   "execution_count": 31,
   "metadata": {},
   "outputs": [
    {
     "data": {
      "text/html": [
       "<div class=\"data-frame\"><p>5 rows × 4 columns</p><table class=\"data-frame\"><thead><tr><th></th><th>subject</th><th>factor</th><th>time</th><th>response</th></tr><tr><th></th><th title=\"Float64\">Float64</th><th title=\"CategoricalValue{Float64, UInt32}\">Cat…</th><th title=\"Float64\">Float64</th><th title=\"Float64\">Float64</th></tr></thead><tbody><tr><th>1</th><td>1.0</td><td>0.0</td><td>1.0</td><td>20.6844</td></tr><tr><th>2</th><td>1.0</td><td>0.0</td><td>2.0</td><td>22.6859</td></tr><tr><th>3</th><td>1.0</td><td>0.0</td><td>2.5</td><td>25.5273</td></tr><tr><th>4</th><td>1.0</td><td>0.0</td><td>3.0</td><td>25.0032</td></tr><tr><th>5</th><td>1.0</td><td>0.0</td><td>6.0</td><td>30.8101</td></tr></tbody></table></div>"
      ],
      "text/latex": [
       "\\begin{tabular}{r|cccc}\n",
       "\t& subject & factor & time & response\\\\\n",
       "\t\\hline\n",
       "\t& Float64 & Cat… & Float64 & Float64\\\\\n",
       "\t\\hline\n",
       "\t1 & 1.0 & 0.0 & 1.0 & 20.6844 \\\\\n",
       "\t2 & 1.0 & 0.0 & 2.0 & 22.6859 \\\\\n",
       "\t3 & 1.0 & 0.0 & 2.5 & 25.5273 \\\\\n",
       "\t4 & 1.0 & 0.0 & 3.0 & 25.0032 \\\\\n",
       "\t5 & 1.0 & 0.0 & 6.0 & 30.8101 \\\\\n",
       "\\end{tabular}\n"
      ],
      "text/plain": [
       "\u001b[1m5×4 DataFrame\u001b[0m\n",
       "\u001b[1m Row \u001b[0m│\u001b[1m subject \u001b[0m\u001b[1m factor \u001b[0m\u001b[1m time    \u001b[0m\u001b[1m response \u001b[0m\n",
       "\u001b[1m     \u001b[0m│\u001b[90m Float64 \u001b[0m\u001b[90m Cat…   \u001b[0m\u001b[90m Float64 \u001b[0m\u001b[90m Float64  \u001b[0m\n",
       "─────┼────────────────────────────────────\n",
       "   1 │     1.0  0.0         1.0   20.6844\n",
       "   2 │     1.0  0.0         2.0   22.6859\n",
       "   3 │     1.0  0.0         2.5   25.5273\n",
       "   4 │     1.0  0.0         3.0   25.0032\n",
       "   5 │     1.0  0.0         6.0   30.8101"
      ]
     },
     "execution_count": 31,
     "metadata": {},
     "output_type": "execute_result"
    }
   ],
   "source": [
    "df = CSV.File(joinpath(dirname(pathof(Metida)), \"..\", \"test\", \"csv\", \"1fptime.csv\"); types = [String, Float64, String, String]) |> DataFrame\n",
    "df[!,:response] = map(x->parse(Float64,x),df[:,:response])\n",
    "df[!,:subject] = map(x->parse(Float64,x),df[:,:subject])\n",
    "df[!,:time] = map(x->parse(Float64,x),df[:,:time])\n",
    "transform!(df, :factor => categorical, renamecols=false)\n",
    "first(df,5)"
   ]
  },
  {
   "cell_type": "code",
   "execution_count": 7,
   "metadata": {},
   "outputs": [
    {
     "data": {
      "text/plain": [
       "Linear Mixed Model: response ~ 0 + subject + time\n",
       "Random 1: \n",
       "    Model: 1|factor\n",
       "    Type: SI (1), Subjects: 2\n",
       "Repeated: \n",
       "    Residual only\n",
       "Blocks: 2, Maximum block size: 200\n",
       "Status: \u001b[32mconverged\u001b[39m (No Errors)\n",
       "    -2 logREML: 1746.4    BIC: 1758.37\n",
       "\n",
       "    Fixed-effects parameters:\n",
       "─────────────────────────────────────────────\n",
       "           Coef.  Std. Error      z  Pr(>|z|)\n",
       "─────────────────────────────────────────────\n",
       "subject  0.01459   0.0179209   0.81    0.4156\n",
       "time     1.32128   0.0202266  65.32    <1e-99\n",
       "─────────────────────────────────────────────\n",
       "    Variance components:\n",
       "    θ vector: [23.1199, 2.06687]\n",
       "  Random 1   σ²    var   534.53\n",
       "  Residual   σ²    var   4.27195\n"
      ]
     },
     "execution_count": 7,
     "metadata": {},
     "output_type": "execute_result"
    }
   ],
   "source": [
    "lmm = LMM(@formula(response ~ 0 + subject + time), df;\n",
    "random = VarEffect(@covstr(1|factor), SI)\n",
    ")\n",
    "fit!(lmm)"
   ]
  },
  {
   "cell_type": "code",
   "execution_count": null,
   "metadata": {},
   "outputs": [],
   "source": []
  },
  {
   "cell_type": "code",
   "execution_count": 8,
   "metadata": {},
   "outputs": [
    {
     "name": "stderr",
     "output_type": "stream",
     "text": [
      "┌ Warning: ProgressMeter by default refresh meters with additional information in IJulia via `IJulia.clear_output`, which clears all outputs in the cell. \n",
      "│  - To prevent this behaviour, do `ProgressMeter.ijulia_behavior(:append)`. \n",
      "│  - To disable this warning message, do `ProgressMeter.ijulia_behavior(:clear)`.\n",
      "└ @ ProgressMeter /Users/zyxu/.julia/packages/ProgressMeter/Vf8un/src/ProgressMeter.jl:620\n",
      "\u001b[32mMinimizing 59 \t Time: 0:00:00 ( 7.37 ms/it)\u001b[39m\n"
     ]
    },
    {
     "data": {
      "text/latex": [
       "\\begin{tabular}\n",
       "{l | r | r | r | r | r}\n",
       " & Est. & SE & z & p & $\\sigma_\\text{factor}$ \\\\\n",
       "\\hline\n",
       "subject & 0.0146 & 0.0179 & 0.81 & 0.4156 &   \\\\\n",
       "time & 1.3213 & 0.0202 & 65.32 & <1e-99 &   \\\\\n",
       "(Intercept) &  &  &  &  & 23.1199 \\\\\n",
       "Residual & 2.0669 &  &  &  &  \\\\\n",
       "\\end{tabular}\n"
      ],
      "text/markdown": [
       "|             |   Est. |     SE |     z |      p | σ_factor |\n",
       "|:----------- | ------:| ------:| -----:| ------:| --------:|\n",
       "| subject     | 0.0146 | 0.0179 |  0.81 | 0.4156 |          |\n",
       "| time        | 1.3213 | 0.0202 | 65.32 | <1e-99 |          |\n",
       "| (Intercept) |        |        |       |        |  23.1199 |\n",
       "| Residual    | 2.0669 |        |       |        |          |\n"
      ],
      "text/plain": [
       "Linear mixed model fit by REML\n",
       " response ~ 0 + subject + time + (1 | factor)\n",
       " REML criterion at convergence: 1746.4048302275257\n",
       "\n",
       "Variance components:\n",
       "            Column    Variance Std.Dev. \n",
       "factor   (Intercept)  534.52916 23.11989\n",
       "Residual                4.27196  2.06687\n",
       " Number of obs: 400; levels of grouping factors: 2\n",
       "\n",
       "  Fixed-effects parameters:\n",
       "─────────────────────────────────────────────\n",
       "           Coef.  Std. Error      z  Pr(>|z|)\n",
       "─────────────────────────────────────────────\n",
       "subject  0.01459   0.0179209   0.81    0.4156\n",
       "time     1.32128   0.0202266  65.32    <1e-99\n",
       "─────────────────────────────────────────────"
      ]
     },
     "execution_count": 8,
     "metadata": {},
     "output_type": "execute_result"
    }
   ],
   "source": [
    "fm = @formula(response ~ 0 + subject + time + (1|factor))\n",
    "mm = fit(MixedModel, fm, df, REML=true)"
   ]
  },
  {
   "cell_type": "code",
   "execution_count": 9,
   "metadata": {},
   "outputs": [
    {
     "name": "stdout",
     "output_type": "stream",
     "text": [
      "Linear mixed model fit by REML\n",
      " response ~ 0 + subject + time + (1 | factor)\n",
      " REML criterion at convergence: 1746.4048302275257\n",
      "\n",
      "Variance components:\n",
      "            Column    Variance Std.Dev. \n",
      "factor   (Intercept)  534.52916 23.11989\n",
      "Residual                4.27196  2.06687\n",
      " Number of obs: 400; levels of grouping factors: 2\n",
      "\n",
      "  Fixed-effects parameters:\n",
      "─────────────────────────────────────────────\n",
      "           Coef.  Std. Error      z  Pr(>|z|)\n",
      "─────────────────────────────────────────────\n",
      "subject  0.01459   0.0179209   0.81    0.4156\n",
      "time     1.32128   0.0202266  65.32    <1e-99\n",
      "─────────────────────────────────────────────"
     ]
    }
   ],
   "source": [
    "show(mm)"
   ]
  },
  {
   "cell_type": "code",
   "execution_count": null,
   "metadata": {},
   "outputs": [],
   "source": []
  },
  {
   "cell_type": "code",
   "execution_count": null,
   "metadata": {},
   "outputs": [],
   "source": []
  },
  {
   "cell_type": "markdown",
   "metadata": {},
   "source": [
    "### High Dim Mixed Models"
   ]
  },
  {
   "cell_type": "code",
   "execution_count": 10,
   "metadata": {},
   "outputs": [
    {
     "name": "stderr",
     "output_type": "stream",
     "text": [
      "┌ Warning: n >= p in high dimensional matrix\n",
      "└ @ HighDimMixedModels /Users/zyxu/.julia/dev/HighDimMixedModels/src/bricks.jl:12\n"
     ]
    },
    {
     "data": {
      "text/plain": []
     },
     "execution_count": 10,
     "metadata": {},
     "output_type": "execute_result"
    }
   ],
   "source": [
    "fm = @formula(response ~ 0 + subject + time + (1|factor))\n",
    "HMM = highDimMixedModel(fm, df, 1)"
   ]
  },
  {
   "cell_type": "code",
   "execution_count": 11,
   "metadata": {},
   "outputs": [],
   "source": [
    "@assert sum(HMM.M.M .!= df[:,:subject]) == 0\n",
    "@assert sum(HMM.X.X .!= df[:,:time]) == 0\n",
    "@assert size(HMM.Z.Z) == (400,2)"
   ]
  },
  {
   "cell_type": "code",
   "execution_count": 12,
   "metadata": {},
   "outputs": [
    {
     "name": "stdout",
     "output_type": "stream",
     "text": [
      "The initial object value is 1368.1479171012957\n",
      "OPTBL: starting point [1.0, 1.0]\n",
      "got 497.15843 at [471.22619, 4.27625] after 152 iterations (returned XTOL_REACHED)\n",
      "\n"
     ]
    }
   ],
   "source": [
    "sigma, betaM, betaX, opt = fit(HMM, verbose = true, REML = true, alg = :LN_BOBYQA) # :LN_BOBYQA :LN_COBYLA\n",
    "println(\"\")"
   ]
  },
  {
   "cell_type": "code",
   "execution_count": 13,
   "metadata": {},
   "outputs": [
    {
     "data": {
      "text/plain": [
       "2-element Vector{Float64}:\n",
       " 471.22619093741525\n",
       "   4.276254962547461"
      ]
     },
     "execution_count": 13,
     "metadata": {},
     "output_type": "execute_result"
    }
   ],
   "source": [
    "sigma"
   ]
  },
  {
   "cell_type": "code",
   "execution_count": 14,
   "metadata": {},
   "outputs": [
    {
     "data": {
      "text/plain": [
       "1-element Vector{Float64}:\n",
       " 0.014629276887517986"
      ]
     },
     "execution_count": 14,
     "metadata": {},
     "output_type": "execute_result"
    }
   ],
   "source": [
    "betaM"
   ]
  },
  {
   "cell_type": "code",
   "execution_count": 15,
   "metadata": {},
   "outputs": [
    {
     "data": {
      "text/plain": [
       "1-element Vector{Float64}:\n",
       " 1.3213197389570914"
      ]
     },
     "execution_count": 15,
     "metadata": {},
     "output_type": "execute_result"
    }
   ],
   "source": [
    "betaX"
   ]
  },
  {
   "cell_type": "code",
   "execution_count": null,
   "metadata": {},
   "outputs": [],
   "source": []
  },
  {
   "cell_type": "code",
   "execution_count": null,
   "metadata": {},
   "outputs": [],
   "source": []
  },
  {
   "cell_type": "code",
   "execution_count": null,
   "metadata": {},
   "outputs": [],
   "source": []
  },
  {
   "cell_type": "markdown",
   "metadata": {},
   "source": [
    "## High dimensional Data"
   ]
  },
  {
   "cell_type": "code",
   "execution_count": 54,
   "metadata": {},
   "outputs": [
    {
     "data": {
      "text/html": [
       "<div class=\"data-frame\"><p>5 rows × 8 columns</p><table class=\"data-frame\"><thead><tr><th></th><th>...45</th><th>...46</th><th>...47</th><th>...48</th><th>...49</th><th>...50</th><th>response</th><th>trt</th></tr><tr><th></th><th title=\"Float64\">Float64</th><th title=\"Float64\">Float64</th><th title=\"Float64\">Float64</th><th title=\"Float64\">Float64</th><th title=\"Float64\">Float64</th><th title=\"Float64\">Float64</th><th title=\"Float64\">Float64</th><th title=\"String\">String</th></tr></thead><tbody><tr><th>1</th><td>0.0</td><td>0.0</td><td>0.0</td><td>0.0</td><td>0.0</td><td>0.0</td><td>0.585195</td><td>C</td></tr><tr><th>2</th><td>0.0</td><td>1.5</td><td>0.0</td><td>0.0</td><td>0.5</td><td>0.0</td><td>0.0773379</td><td>B</td></tr><tr><th>3</th><td>0.5</td><td>1.0</td><td>0.0</td><td>1.0</td><td>0.5</td><td>0.0</td><td>0.716628</td><td>B</td></tr><tr><th>4</th><td>0.5</td><td>1.0</td><td>0.0</td><td>0.0</td><td>0.5</td><td>0.0</td><td>0.320357</td><td>A</td></tr><tr><th>5</th><td>0.5</td><td>0.0</td><td>0.0</td><td>1.0</td><td>0.5</td><td>0.0</td><td>0.653093</td><td>C</td></tr></tbody></table></div>"
      ],
      "text/latex": [
       "\\begin{tabular}{r|cccccccc}\n",
       "\t& ...45 & ...46 & ...47 & ...48 & ...49 & ...50 & response & trt\\\\\n",
       "\t\\hline\n",
       "\t& Float64 & Float64 & Float64 & Float64 & Float64 & Float64 & Float64 & String\\\\\n",
       "\t\\hline\n",
       "\t1 & 0.0 & 0.0 & 0.0 & 0.0 & 0.0 & 0.0 & 0.585195 & C \\\\\n",
       "\t2 & 0.0 & 1.5 & 0.0 & 0.0 & 0.5 & 0.0 & 0.0773379 & B \\\\\n",
       "\t3 & 0.5 & 1.0 & 0.0 & 1.0 & 0.5 & 0.0 & 0.716628 & B \\\\\n",
       "\t4 & 0.5 & 1.0 & 0.0 & 0.0 & 0.5 & 0.0 & 0.320357 & A \\\\\n",
       "\t5 & 0.5 & 0.0 & 0.0 & 1.0 & 0.5 & 0.0 & 0.653093 & C \\\\\n",
       "\\end{tabular}\n"
      ],
      "text/plain": [
       "\u001b[1m5×8 DataFrame\u001b[0m\n",
       "\u001b[1m Row \u001b[0m│\u001b[1m ...45   \u001b[0m\u001b[1m ...46   \u001b[0m\u001b[1m ...47   \u001b[0m\u001b[1m ...48   \u001b[0m\u001b[1m ...49   \u001b[0m\u001b[1m ...50   \u001b[0m\u001b[1m response  \u001b[0m\u001b[1m trt   \u001b[0m ⋯\n",
       "\u001b[1m     \u001b[0m│\u001b[90m Float64 \u001b[0m\u001b[90m Float64 \u001b[0m\u001b[90m Float64 \u001b[0m\u001b[90m Float64 \u001b[0m\u001b[90m Float64 \u001b[0m\u001b[90m Float64 \u001b[0m\u001b[90m Float64   \u001b[0m\u001b[90m String\u001b[0m ⋯\n",
       "─────┼──────────────────────────────────────────────────────────────────────────\n",
       "   1 │     0.0      0.0      0.0      0.0      0.0      0.0  0.585195   C      ⋯\n",
       "   2 │     0.0      1.5      0.0      0.0      0.5      0.0  0.0773379  B\n",
       "   3 │     0.5      1.0      0.0      1.0      0.5      0.0  0.716628   B\n",
       "   4 │     0.5      1.0      0.0      0.0      0.5      0.0  0.320357   A\n",
       "   5 │     0.5      0.0      0.0      1.0      0.5      0.0  0.653093   C      ⋯"
      ]
     },
     "execution_count": 54,
     "metadata": {},
     "output_type": "execute_result"
    }
   ],
   "source": [
    "raw = DataFrame(CSV.File(\"raws.csv\"))\n",
    "raw = raw[1:30, 1:50]\n",
    "\n",
    "raw[!, :response] = rand(rng, 30)\n",
    "raw[!, :trt] = rand([\"A\",\"B\",\"C\"], 30)\n",
    "first(raw[:,45:52],5)"
   ]
  },
  {
   "cell_type": "code",
   "execution_count": null,
   "metadata": {},
   "outputs": [],
   "source": []
  },
  {
   "cell_type": "code",
   "execution_count": null,
   "metadata": {},
   "outputs": [],
   "source": []
  },
  {
   "cell_type": "code",
   "execution_count": null,
   "metadata": {},
   "outputs": [],
   "source": []
  },
  {
   "cell_type": "code",
   "execution_count": null,
   "metadata": {},
   "outputs": [],
   "source": []
  },
  {
   "cell_type": "code",
   "execution_count": null,
   "metadata": {},
   "outputs": [],
   "source": []
  },
  {
   "cell_type": "code",
   "execution_count": null,
   "metadata": {},
   "outputs": [],
   "source": []
  },
  {
   "cell_type": "code",
   "execution_count": null,
   "metadata": {},
   "outputs": [],
   "source": []
  },
  {
   "cell_type": "code",
   "execution_count": null,
   "metadata": {},
   "outputs": [],
   "source": []
  }
 ],
 "metadata": {
  "kernelspec": {
   "display_name": "Julia 1.6.1",
   "language": "julia",
   "name": "julia-1.6"
  },
  "language_info": {
   "file_extension": ".jl",
   "mimetype": "application/julia",
   "name": "julia",
   "version": "1.6.1"
  }
 },
 "nbformat": 4,
 "nbformat_minor": 4
}
