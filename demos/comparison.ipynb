{
 "cells": [
  {
   "cell_type": "code",
   "execution_count": 1,
   "metadata": {},
   "outputs": [
    {
     "data": {
      "text/plain": [
       "IJulia.IJuliaStdio{Base.PipeEndpoint}(IOContext(Base.PipeEndpoint(RawFD(42) open, 0 bytes waiting)))"
      ]
     },
     "execution_count": 1,
     "metadata": {},
     "output_type": "execute_result"
    }
   ],
   "source": [
    "using Pkg\n",
    "Pkg.DEFAULT_IO[] = stdout"
   ]
  },
  {
   "cell_type": "code",
   "execution_count": 2,
   "metadata": {},
   "outputs": [
    {
     "name": "stdout",
     "output_type": "stream",
     "text": [
      "\u001b[32m\u001b[1m  Activating\u001b[22m\u001b[39m environment at `~/Documents/julia/demo/Project.toml`\n"
     ]
    }
   ],
   "source": [
    "Pkg.activate(\"/Users/zyxu/Documents/julia/demo\")"
   ]
  },
  {
   "cell_type": "code",
   "execution_count": 3,
   "metadata": {},
   "outputs": [
    {
     "name": "stdout",
     "output_type": "stream",
     "text": [
      "\u001b[36m\u001b[1m     Project\u001b[22m\u001b[39m demo v0.1.0\n",
      "\u001b[32m\u001b[1m      Status\u001b[22m\u001b[39m `~/Documents/julia/demo/Project.toml`\n",
      " \u001b[90m [336ed68f] \u001b[39m\u001b[37mCSV v0.9.6\u001b[39m\n",
      " \u001b[90m [324d7699] \u001b[39m\u001b[37mCategoricalArrays v0.10.2\u001b[39m\n",
      " \u001b[90m [7876af07] \u001b[39m\u001b[37mExample v0.5.4 `~/.julia/dev/Example`\u001b[39m\n",
      " \u001b[90m [ced58d7a] \u001b[39m\u001b[37mHighDimMixedModels v0.1.0 `~/.julia/dev/HighDimMixedModels`\u001b[39m\n",
      " \u001b[90m [a1dec852] \u001b[39m\u001b[37mMetida v0.12.4\u001b[39m\n",
      " \u001b[90m [ff71e718] \u001b[39m\u001b[37mMixedModels v4.6.0\u001b[39m\n",
      " \u001b[90m [14b8a8f1] \u001b[39m\u001b[37mPkgTemplates v0.7.19\u001b[39m\n",
      " \u001b[90m [bd369af6] \u001b[39m\u001b[37mTables v1.6.0\u001b[39m\n",
      " \u001b[90m [44d3d7a6] \u001b[39m\u001b[37mWeave v0.10.10\u001b[39m\n"
     ]
    }
   ],
   "source": [
    "Pkg.status()"
   ]
  },
  {
   "cell_type": "code",
   "execution_count": 4,
   "metadata": {},
   "outputs": [],
   "source": [
    "using DataFrames\n",
    "using LinearAlgebra\n",
    "using StableRNGs; rng = StableRNG(1);\n",
    "using StatsModels\n",
    "using MixedModels\n",
    "using Metida\n",
    "using CSV\n",
    "using CategoricalArrays;"
   ]
  },
  {
   "cell_type": "code",
   "execution_count": 5,
   "metadata": {},
   "outputs": [],
   "source": [
    "using HighDimMixedModels"
   ]
  },
  {
   "cell_type": "code",
   "execution_count": 9,
   "metadata": {},
   "outputs": [
    {
     "data": {
      "text/html": [
       "<div class=\"data-frame\"><p>5 rows × 4 columns</p><table class=\"data-frame\"><thead><tr><th></th><th>subject</th><th>factor</th><th>response</th><th>time</th></tr><tr><th></th><th title=\"Float64\">Float64</th><th title=\"CategoricalValue{Float64, UInt32}\">Cat…</th><th title=\"Float64\">Float64</th><th title=\"Float64\">Float64</th></tr></thead><tbody><tr><th>1</th><td>1.0</td><td>1.0</td><td>46.951</td><td>1.0</td></tr><tr><th>2</th><td>1.0</td><td>1.0</td><td>46.3568</td><td>2.0</td></tr><tr><th>3</th><td>1.0</td><td>1.0</td><td>49.1365</td><td>3.0</td></tr><tr><th>4</th><td>1.0</td><td>1.0</td><td>48.1</td><td>4.0</td></tr><tr><th>5</th><td>1.0</td><td>1.0</td><td>48.2826</td><td>5.0</td></tr></tbody></table></div>"
      ],
      "text/latex": [
       "\\begin{tabular}{r|cccc}\n",
       "\t& subject & factor & response & time\\\\\n",
       "\t\\hline\n",
       "\t& Float64 & Cat… & Float64 & Float64\\\\\n",
       "\t\\hline\n",
       "\t1 & 1.0 & 1.0 & 46.951 & 1.0 \\\\\n",
       "\t2 & 1.0 & 1.0 & 46.3568 & 2.0 \\\\\n",
       "\t3 & 1.0 & 1.0 & 49.1365 & 3.0 \\\\\n",
       "\t4 & 1.0 & 1.0 & 48.1 & 4.0 \\\\\n",
       "\t5 & 1.0 & 1.0 & 48.2826 & 5.0 \\\\\n",
       "\\end{tabular}\n"
      ],
      "text/plain": [
       "\u001b[1m5×4 DataFrame\u001b[0m\n",
       "\u001b[1m Row \u001b[0m│\u001b[1m subject \u001b[0m\u001b[1m factor \u001b[0m\u001b[1m response \u001b[0m\u001b[1m time    \u001b[0m\n",
       "\u001b[1m     \u001b[0m│\u001b[90m Float64 \u001b[0m\u001b[90m Cat…   \u001b[0m\u001b[90m Float64  \u001b[0m\u001b[90m Float64 \u001b[0m\n",
       "─────┼────────────────────────────────────\n",
       "   1 │     1.0  1.0      46.951       1.0\n",
       "   2 │     1.0  1.0      46.3568      2.0\n",
       "   3 │     1.0  1.0      49.1365      3.0\n",
       "   4 │     1.0  1.0      48.1         4.0\n",
       "   5 │     1.0  1.0      48.2826      5.0"
      ]
     },
     "execution_count": 9,
     "metadata": {},
     "output_type": "execute_result"
    }
   ],
   "source": [
    "#df = CSV.File(joinpath(dirname(pathof(Metida)), \"..\", \"test\", \"csv\", \"1fptime.csv\"); types = [String, Float64, String, String]) |> DataFrame\n",
    "df = CSV.File(joinpath(dirname(pathof(Metida)), \"..\", \"test\", \"csv\", \"1freparma.csv\"); types = [String, Float64, String, String]) |> DataFrame\n",
    "\n",
    "df[!,:response] = map(x->parse(Float64,x),df[:,:response])\n",
    "df[!,:subject] = map(x->parse(Float64,x),df[:,:subject])\n",
    "df[!,:time] = map(x->parse(Float64,x),df[:,:time])\n",
    "transform!(df, :factor => categorical, renamecols=false)\n",
    "first(df,5)"
   ]
  },
  {
   "cell_type": "code",
   "execution_count": 7,
   "metadata": {},
   "outputs": [
    {
     "data": {
      "text/plain": [
       "Linear Mixed Model: response ~ 0 + subject + time\n",
       "Random 1: \n",
       "    Model: 1|factor\n",
       "    Type: SI (1), Subjects: 2\n",
       "Repeated: \n",
       "    Residual only\n",
       "Blocks: 2, Maximum block size: 120\n",
       "Status: \u001b[32mconverged\u001b[39m (No Errors)\n",
       "    -2 logREML: 1346.31    BIC: 1357.25\n",
       "\n",
       "    Fixed-effects parameters:\n",
       "──────────────────────────────────────────────\n",
       "             Coef.  Std. Error     z  Pr(>|z|)\n",
       "──────────────────────────────────────────────\n",
       "subject  0.0356667   0.0710864  0.50    0.6159\n",
       "time     0.648923    0.085435   7.60    <1e-13\n",
       "──────────────────────────────────────────────\n",
       "    Variance components:\n",
       "    θ vector: [47.0302, 3.802]\n",
       "  Random 1   σ²    var   2211.84\n",
       "  Residual   σ²    var   14.4552\n"
      ]
     },
     "execution_count": 7,
     "metadata": {},
     "output_type": "execute_result"
    }
   ],
   "source": [
    "lmm = LMM(@formula(response ~ 0 + subject + time), df;\n",
    "random = VarEffect(@covstr(1|factor), SI)\n",
    ")\n",
    "fit!(lmm)"
   ]
  },
  {
   "cell_type": "code",
   "execution_count": 8,
   "metadata": {},
   "outputs": [
    {
     "name": "stderr",
     "output_type": "stream",
     "text": [
      "┌ Warning: ProgressMeter by default refresh meters with additional information in IJulia via `IJulia.clear_output`, which clears all outputs in the cell. \n",
      "│  - To prevent this behaviour, do `ProgressMeter.ijulia_behavior(:append)`. \n",
      "│  - To disable this warning message, do `ProgressMeter.ijulia_behavior(:clear)`.\n",
      "└ @ ProgressMeter /Users/zyxu/.julia/packages/ProgressMeter/Vf8un/src/ProgressMeter.jl:620\n",
      "\u001b[32mMinimizing 66 \t Time: 0:00:00 ( 6.15 ms/it)\u001b[39m\n"
     ]
    },
    {
     "data": {
      "text/latex": [
       "\\begin{tabular}\n",
       "{l | r | r | r | r | r}\n",
       " & Est. & SE & z & p & $\\sigma_\\text{factor}$ \\\\\n",
       "\\hline\n",
       "subject & 0.0357 & 0.0711 & 0.50 & 0.6159 &   \\\\\n",
       "time & 0.6489 & 0.0854 & 7.60 & <1e-13 &   \\\\\n",
       "(Intercept) &  &  &  &  & 47.0302 \\\\\n",
       "Residual & 3.8020 &  &  &  &  \\\\\n",
       "\\end{tabular}\n"
      ],
      "text/markdown": [
       "|             |   Est. |     SE |    z |      p | σ_factor |\n",
       "|:----------- | ------:| ------:| ----:| ------:| --------:|\n",
       "| subject     | 0.0357 | 0.0711 | 0.50 | 0.6159 |          |\n",
       "| time        | 0.6489 | 0.0854 | 7.60 | <1e-13 |          |\n",
       "| (Intercept) |        |        |      |        |  47.0302 |\n",
       "| Residual    | 3.8020 |        |      |        |          |\n"
      ],
      "text/plain": [
       "Linear mixed model fit by REML\n",
       " response ~ 0 + subject + time + (1 | factor)\n",
       " REML criterion at convergence: 1346.311176818838\n",
       "\n",
       "Variance components:\n",
       "            Column    Variance Std.Dev.\n",
       "factor   (Intercept)  2211.8406 47.0302\n",
       "Residual                14.4552  3.8020\n",
       " Number of obs: 240; levels of grouping factors: 2\n",
       "\n",
       "  Fixed-effects parameters:\n",
       "──────────────────────────────────────────────\n",
       "             Coef.  Std. Error     z  Pr(>|z|)\n",
       "──────────────────────────────────────────────\n",
       "subject  0.0356667   0.0710864  0.50    0.6159\n",
       "time     0.648923    0.085435   7.60    <1e-13\n",
       "──────────────────────────────────────────────"
      ]
     },
     "execution_count": 8,
     "metadata": {},
     "output_type": "execute_result"
    }
   ],
   "source": [
    "fm = @formula(response ~ 0 + subject + time + (1|factor))\n",
    "mm = fit(MixedModel, fm, df, REML=true)"
   ]
  },
  {
   "cell_type": "code",
   "execution_count": 9,
   "metadata": {},
   "outputs": [
    {
     "name": "stdout",
     "output_type": "stream",
     "text": [
      "Linear mixed model fit by REML\n",
      " response ~ 0 + subject + time + (1 | factor)\n",
      " REML criterion at convergence: 1346.311176818838\n",
      "\n",
      "Variance components:\n",
      "            Column    Variance Std.Dev.\n",
      "factor   (Intercept)  2211.8406 47.0302\n",
      "Residual                14.4552  3.8020\n",
      " Number of obs: 240; levels of grouping factors: 2\n",
      "\n",
      "  Fixed-effects parameters:\n",
      "──────────────────────────────────────────────\n",
      "             Coef.  Std. Error     z  Pr(>|z|)\n",
      "──────────────────────────────────────────────\n",
      "subject  0.0356667   0.0710864  0.50    0.6159\n",
      "time     0.648923    0.085435   7.60    <1e-13\n",
      "──────────────────────────────────────────────"
     ]
    }
   ],
   "source": [
    "show(mm)"
   ]
  },
  {
   "cell_type": "code",
   "execution_count": 14,
   "metadata": {},
   "outputs": [
    {
     "data": {
      "text/latex": [
       "\\begin{tabular}\n",
       "{l | l}\n",
       " &  \\\\\n",
       "\\hline\n",
       "\\textbf{Initialization} &  \\\\\n",
       "Initial parameter vector & [1.0] \\\\\n",
       "Initial objective value & 1523.5690721546475 \\\\\n",
       "\\textbf{Optimizer settings}  &  \\\\\n",
       "Optimizer (from NLopt) & \\texttt{LN\\_BOBYQA} \\\\\n",
       "Lower bounds & [0.0] \\\\\n",
       "\\texttt{ftol\\_rel} & 1.0e-12 \\\\\n",
       "\\texttt{ftol\\_abs} & 1.0e-8 \\\\\n",
       "\\texttt{xtol\\_rel} & 0.0 \\\\\n",
       "\\texttt{xtol\\_abs} & [1.0e-10] \\\\\n",
       "\\texttt{initial\\_step} & [0.75] \\\\\n",
       "\\texttt{maxfeval} & -1 \\\\\n",
       "\\texttt{maxtime} & -1.0 \\\\\n",
       "\\textbf{Result} &  \\\\\n",
       "Function evaluations & 65 \\\\\n",
       "Final parameter vector & [12.3699] \\\\\n",
       "Final objective value & 1346.3112 \\\\\n",
       "Return code & \\texttt{FTOL\\_REACHED} \\\\\n",
       "\\end{tabular}\n"
      ],
      "text/markdown": [
       "|                          |                    |\n",
       "|:------------------------ |:------------------ |\n",
       "| **Initialization**       |                    |\n",
       "| Initial parameter vector | [1.0]              |\n",
       "| Initial objective value  | 1523.5690721546475 |\n",
       "| **Optimizer settings**   |                    |\n",
       "| Optimizer (from NLopt)   | `LN_BOBYQA`        |\n",
       "| Lower bounds             | [0.0]              |\n",
       "| `ftol_rel`               | 1.0e-12            |\n",
       "| `ftol_abs`               | 1.0e-8             |\n",
       "| `xtol_rel`               | 0.0                |\n",
       "| `xtol_abs`               | [1.0e-10]          |\n",
       "| `initial_step`           | [0.75]             |\n",
       "| `maxfeval`               | -1                 |\n",
       "| `maxtime`                | -1.0               |\n",
       "| **Result**               |                    |\n",
       "| Function evaluations     | 65                 |\n",
       "| Final parameter vector   | [12.3699]          |\n",
       "| Final objective value    | 1346.3112          |\n",
       "| Return code              | `FTOL_REACHED`     |\n"
      ],
      "text/plain": [
       "Initial parameter vector: [1.0]\n",
       "Initial objective value:  1523.5690721546475\n",
       "\n",
       "Optimizer (from NLopt):   LN_BOBYQA\n",
       "Lower bounds:             [0.0]\n",
       "ftol_rel:                 1.0e-12\n",
       "ftol_abs:                 1.0e-8\n",
       "xtol_rel:                 0.0\n",
       "xtol_abs:                 [1.0e-10]\n",
       "initial_step:             [0.75]\n",
       "maxfeval:                 -1\n",
       "maxtime:                  -1.0\n",
       "\n",
       "Function evaluations:     65\n",
       "Final parameter vector:   [12.369873614183739]\n",
       "Final objective value:    1346.311176818838\n",
       "Return code:              FTOL_REACHED\n"
      ]
     },
     "execution_count": 14,
     "metadata": {},
     "output_type": "execute_result"
    }
   ],
   "source": [
    "mm.optsum"
   ]
  },
  {
   "cell_type": "code",
   "execution_count": null,
   "metadata": {},
   "outputs": [],
   "source": []
  },
  {
   "cell_type": "markdown",
   "metadata": {},
   "source": [
    "### High Dim Mixed Models"
   ]
  },
  {
   "cell_type": "code",
   "execution_count": 10,
   "metadata": {},
   "outputs": [
    {
     "name": "stderr",
     "output_type": "stream",
     "text": [
      "┌ Warning: n >= p in high dimensional matrix\n",
      "└ @ HighDimMixedModels /Users/zyxu/.julia/dev/HighDimMixedModels/src/bricks.jl:12\n"
     ]
    },
    {
     "data": {
      "text/plain": []
     },
     "execution_count": 10,
     "metadata": {},
     "output_type": "execute_result"
    }
   ],
   "source": [
    "fm = @formula(response ~ 0 + subject + time + (1|factor))\n",
    "HMM = highDimMixedModel(fm, df, 1)"
   ]
  },
  {
   "cell_type": "code",
   "execution_count": 11,
   "metadata": {},
   "outputs": [],
   "source": [
    "@assert sum(HMM.M.M .!= df[:,:subject]) == 0\n",
    "@assert sum(HMM.X.X .!= df[:,:time]) == 0\n",
    "#@assert size(HMM.Z.Z) == (400,2)"
   ]
  },
  {
   "cell_type": "code",
   "execution_count": 12,
   "metadata": {},
   "outputs": [
    {
     "name": "stdout",
     "output_type": "stream",
     "text": [
      "sigma = [2200.0, 14.0]\n",
      "negLog = 445.681758297818\n",
      "The initial object value is 445.681758297818\n",
      "sigma = [2200.0, 14.0]\n",
      "negLog = 445.681758297818\n",
      "OPTBL: starting point [2200.0, 14.0]\n",
      "sigma = [2200.0, 14.0]\n",
      "negLog = 445.681758297818\n",
      "sigma = [3850.0, 14.0]\n",
      "negLog = 445.81040926220794\n",
      "sigma = [2200.0, 24.5]\n",
      "negLog = Inf\n",
      "sigma = [550.0, 14.0]\n",
      "negLog = 447.30774360979615\n",
      "sigma = [2200.0, 3.5]\n",
      "negLog = 647.6079505559085\n",
      "sigma = [2216.5, 14.0]\n",
      "negLog = 445.68174593672404\n",
      "sigma = [2233.0, 14.0]\n",
      "negLog = 445.68178871779236\n",
      "sigma = [2216.664991750619, 13.895005249606285]\n",
      "negLog = 445.71408729587415\n",
      "sigma = [2216.5, 14.0105]\n",
      "negLog = 445.6789039114469\n",
      "sigma = [2216.485000687968, 14.020999566146537]\n",
      "negLog = 445.6761324675332\n",
      "sigma = [2218.1029034470635, 14.023060546103492]\n",
      "negLog = 445.6755984940186\n",
      "sigma = [2218.2572075521484, 14.023432437532758]\n",
      "negLog = 445.67550230626125\n",
      "sigma = [2218.19742641448, 14.024411098096314]\n",
      "negLog = 445.6752490055942\n",
      "sigma = [2218.298621871879, 14.025240435923726]\n",
      "negLog = 445.67503502666216\n",
      "sigma = [2218.3127305689945, 14.025185992544845]\n",
      "negLog = 445.6750490872509\n",
      "sigma = [2218.3068073199224, 14.025331604524128]\n",
      "negLog = 445.67501152709565\n",
      "sigma = [2218.2934747720665, 14.025393463903555]\n",
      "negLog = 445.6749955606798\n",
      "sigma = [2218.294346436238, 14.025402379132288]\n",
      "negLog = 445.674993263423\n",
      "sigma = [2218.2929170064235, 14.025407623750931]\n",
      "negLog = 445.6749919094881\n",
      "sigma = [2218.293907934694, 14.025416019317301]\n",
      "negLog = 445.6749897464234\n",
      "sigma = [2218.2937929044706, 14.02541677208593]\n",
      "negLog = 445.67498955221777\n",
      "sigma = [2218.2939145283285, 14.025417481642432]\n",
      "negLog = 445.6749893694529\n",
      "sigma = [2218.2937861129817, 14.025418140962415]\n",
      "negLog = 445.67498919932586\n",
      "sigma = [2218.293793792691, 14.025418233895925]\n",
      "negLog = 445.6749891753759\n",
      "sigma = [2218.293778981753, 14.025418280174097]\n",
      "negLog = 445.6749891634206\n",
      "sigma = [2218.293788604967, 14.025418365466708]\n",
      "negLog = 445.674989141453\n",
      "sigma = [2218.2937874966833, 14.025418373245472]\n",
      "negLog = 445.67498913944206\n",
      "got 445.67499 at [2218.29379, 14.02542] after 27 iterations (returned FTOL_REACHED)\n",
      "\n"
     ]
    }
   ],
   "source": [
    "sigma, betaM, betaX, opt = fit(HMM, verbose = true, REML = true, alg = :LN_BOBYQA) # :LN_BOBYQA :LN_COBYLA\n",
    "println(\"\")"
   ]
  },
  {
   "cell_type": "code",
   "execution_count": 38,
   "metadata": {},
   "outputs": [
    {
     "data": {
      "text/plain": [
       "2-element Vector{Float64}:\n",
       "  4.824793629869606\n",
       " 19.001012598276105"
      ]
     },
     "execution_count": 38,
     "metadata": {},
     "output_type": "execute_result"
    }
   ],
   "source": [
    "sigma"
   ]
  },
  {
   "cell_type": "code",
   "execution_count": 39,
   "metadata": {},
   "outputs": [
    {
     "data": {
      "text/plain": [
       "1-element Vector{Float64}:\n",
       " 0.6958072278744662"
      ]
     },
     "execution_count": 39,
     "metadata": {},
     "output_type": "execute_result"
    }
   ],
   "source": [
    "betaM"
   ]
  },
  {
   "cell_type": "code",
   "execution_count": 40,
   "metadata": {},
   "outputs": [
    {
     "data": {
      "text/plain": [
       "1-element Vector{Float64}:\n",
       " 1.455761621906421"
      ]
     },
     "execution_count": 40,
     "metadata": {},
     "output_type": "execute_result"
    }
   ],
   "source": [
    "betaX"
   ]
  },
  {
   "cell_type": "code",
   "execution_count": null,
   "metadata": {},
   "outputs": [],
   "source": []
  },
  {
   "cell_type": "code",
   "execution_count": null,
   "metadata": {},
   "outputs": [],
   "source": []
  },
  {
   "cell_type": "code",
   "execution_count": null,
   "metadata": {},
   "outputs": [],
   "source": []
  },
  {
   "cell_type": "markdown",
   "metadata": {},
   "source": [
    "## High dimensional Data"
   ]
  },
  {
   "cell_type": "code",
   "execution_count": 54,
   "metadata": {},
   "outputs": [
    {
     "data": {
      "text/html": [
       "<div class=\"data-frame\"><p>5 rows × 8 columns</p><table class=\"data-frame\"><thead><tr><th></th><th>...45</th><th>...46</th><th>...47</th><th>...48</th><th>...49</th><th>...50</th><th>response</th><th>trt</th></tr><tr><th></th><th title=\"Float64\">Float64</th><th title=\"Float64\">Float64</th><th title=\"Float64\">Float64</th><th title=\"Float64\">Float64</th><th title=\"Float64\">Float64</th><th title=\"Float64\">Float64</th><th title=\"Float64\">Float64</th><th title=\"String\">String</th></tr></thead><tbody><tr><th>1</th><td>0.0</td><td>0.0</td><td>0.0</td><td>0.0</td><td>0.0</td><td>0.0</td><td>0.585195</td><td>C</td></tr><tr><th>2</th><td>0.0</td><td>1.5</td><td>0.0</td><td>0.0</td><td>0.5</td><td>0.0</td><td>0.0773379</td><td>B</td></tr><tr><th>3</th><td>0.5</td><td>1.0</td><td>0.0</td><td>1.0</td><td>0.5</td><td>0.0</td><td>0.716628</td><td>B</td></tr><tr><th>4</th><td>0.5</td><td>1.0</td><td>0.0</td><td>0.0</td><td>0.5</td><td>0.0</td><td>0.320357</td><td>A</td></tr><tr><th>5</th><td>0.5</td><td>0.0</td><td>0.0</td><td>1.0</td><td>0.5</td><td>0.0</td><td>0.653093</td><td>C</td></tr></tbody></table></div>"
      ],
      "text/latex": [
       "\\begin{tabular}{r|cccccccc}\n",
       "\t& ...45 & ...46 & ...47 & ...48 & ...49 & ...50 & response & trt\\\\\n",
       "\t\\hline\n",
       "\t& Float64 & Float64 & Float64 & Float64 & Float64 & Float64 & Float64 & String\\\\\n",
       "\t\\hline\n",
       "\t1 & 0.0 & 0.0 & 0.0 & 0.0 & 0.0 & 0.0 & 0.585195 & C \\\\\n",
       "\t2 & 0.0 & 1.5 & 0.0 & 0.0 & 0.5 & 0.0 & 0.0773379 & B \\\\\n",
       "\t3 & 0.5 & 1.0 & 0.0 & 1.0 & 0.5 & 0.0 & 0.716628 & B \\\\\n",
       "\t4 & 0.5 & 1.0 & 0.0 & 0.0 & 0.5 & 0.0 & 0.320357 & A \\\\\n",
       "\t5 & 0.5 & 0.0 & 0.0 & 1.0 & 0.5 & 0.0 & 0.653093 & C \\\\\n",
       "\\end{tabular}\n"
      ],
      "text/plain": [
       "\u001b[1m5×8 DataFrame\u001b[0m\n",
       "\u001b[1m Row \u001b[0m│\u001b[1m ...45   \u001b[0m\u001b[1m ...46   \u001b[0m\u001b[1m ...47   \u001b[0m\u001b[1m ...48   \u001b[0m\u001b[1m ...49   \u001b[0m\u001b[1m ...50   \u001b[0m\u001b[1m response  \u001b[0m\u001b[1m trt   \u001b[0m ⋯\n",
       "\u001b[1m     \u001b[0m│\u001b[90m Float64 \u001b[0m\u001b[90m Float64 \u001b[0m\u001b[90m Float64 \u001b[0m\u001b[90m Float64 \u001b[0m\u001b[90m Float64 \u001b[0m\u001b[90m Float64 \u001b[0m\u001b[90m Float64   \u001b[0m\u001b[90m String\u001b[0m ⋯\n",
       "─────┼──────────────────────────────────────────────────────────────────────────\n",
       "   1 │     0.0      0.0      0.0      0.0      0.0      0.0  0.585195   C      ⋯\n",
       "   2 │     0.0      1.5      0.0      0.0      0.5      0.0  0.0773379  B\n",
       "   3 │     0.5      1.0      0.0      1.0      0.5      0.0  0.716628   B\n",
       "   4 │     0.5      1.0      0.0      0.0      0.5      0.0  0.320357   A\n",
       "   5 │     0.5      0.0      0.0      1.0      0.5      0.0  0.653093   C      ⋯"
      ]
     },
     "execution_count": 54,
     "metadata": {},
     "output_type": "execute_result"
    }
   ],
   "source": [
    "raw = DataFrame(CSV.File(\"raws.csv\"))\n",
    "raw = raw[1:30, 1:50]\n",
    "\n",
    "raw[!, :response] = rand(rng, 30)\n",
    "raw[!, :trt] = rand([\"A\",\"B\",\"C\"], 30)\n",
    "first(raw[:,45:52],5)"
   ]
  },
  {
   "cell_type": "code",
   "execution_count": null,
   "metadata": {},
   "outputs": [],
   "source": []
  },
  {
   "cell_type": "code",
   "execution_count": null,
   "metadata": {},
   "outputs": [],
   "source": []
  },
  {
   "cell_type": "code",
   "execution_count": null,
   "metadata": {},
   "outputs": [],
   "source": []
  },
  {
   "cell_type": "code",
   "execution_count": null,
   "metadata": {},
   "outputs": [],
   "source": []
  },
  {
   "cell_type": "code",
   "execution_count": 48,
   "metadata": {},
   "outputs": [],
   "source": [
    "n = size(HMM.M, 1)\n",
    "A = hcat(HMM.M.M, HMM.X.X)\n",
    "P = I - A*inv(transpose(A)*A)*transpose(A)\n",
    "u,s,v = svd(P)\n",
    "r = size(HMM.M,2) + size(HMM.X,2)  # simplify: assume fixed effect full rank\n",
    "#C = randn((n-r),n)\n",
    "C = transpose(u[:,1:(n-r)]) \n",
    "K = C*P\n",
    "Z = HMM.Z.Z\n",
    "y = HMM.y\n",
    "# C can be any full rank matrix with size n,r, e.g. randn(n,r)\n",
    "print()"
   ]
  },
  {
   "cell_type": "code",
   "execution_count": 49,
   "metadata": {},
   "outputs": [
    {
     "data": {
      "text/plain": [
       "negLogLik (generic function with 1 method)"
      ]
     },
     "execution_count": 49,
     "metadata": {},
     "output_type": "execute_result"
    }
   ],
   "source": [
    "\n",
    "function negLogLik(sigma::Vector{Float64}, g::Vector{Float64})\n",
    "    n = length(y)\n",
    "    Sigma = sigma[1]*Z*transpose(Z) + sigma[2]*diagm(ones(n))\n",
    "    negLog = 1/2*log(det(K*Sigma*transpose(K))) + 1/2*transpose(y)*transpose(K)*inv(K*Sigma*transpose(K))*K*y\n",
    "    #println(\"OPT: parameter $(sigma) || objective eval $(negLog)\")\n",
    "    @show sigma\n",
    "    @show negLog\n",
    "\n",
    "    return negLog\n",
    "end"
   ]
  },
  {
   "cell_type": "code",
   "execution_count": 50,
   "metadata": {},
   "outputs": [
    {
     "name": "stdout",
     "output_type": "stream",
     "text": [
      "sigma = [2200.0, 24.5]\n",
      "negLog = Inf\n"
     ]
    },
    {
     "data": {
      "text/plain": [
       "Inf"
      ]
     },
     "execution_count": 50,
     "metadata": {},
     "output_type": "execute_result"
    }
   ],
   "source": [
    "negLogLik([2200.0 , 24.5], [0.0,0.0])"
   ]
  },
  {
   "cell_type": "code",
   "execution_count": 51,
   "metadata": {},
   "outputs": [
    {
     "data": {
      "text/plain": [
       "240"
      ]
     },
     "execution_count": 51,
     "metadata": {},
     "output_type": "execute_result"
    }
   ],
   "source": [
    "n = length(y)"
   ]
  },
  {
   "cell_type": "code",
   "execution_count": 52,
   "metadata": {},
   "outputs": [
    {
     "data": {
      "text/plain": [
       "2-element Vector{Float64}:\n",
       " 2200.0\n",
       "   24.5"
      ]
     },
     "execution_count": 52,
     "metadata": {},
     "output_type": "execute_result"
    }
   ],
   "source": [
    "sigma = [2200.0 , 24.5]"
   ]
  },
  {
   "cell_type": "code",
   "execution_count": 53,
   "metadata": {},
   "outputs": [
    {
     "data": {
      "text/plain": [
       "240×240 Matrix{Float64}:\n",
       " 2224.5  2200.0  2200.0  2200.0  2200.0  …     0.0     0.0     0.0     0.0\n",
       " 2200.0  2224.5  2200.0  2200.0  2200.0        0.0     0.0     0.0     0.0\n",
       " 2200.0  2200.0  2224.5  2200.0  2200.0        0.0     0.0     0.0     0.0\n",
       " 2200.0  2200.0  2200.0  2224.5  2200.0        0.0     0.0     0.0     0.0\n",
       " 2200.0  2200.0  2200.0  2200.0  2224.5        0.0     0.0     0.0     0.0\n",
       " 2200.0  2200.0  2200.0  2200.0  2200.0  …     0.0     0.0     0.0     0.0\n",
       " 2200.0  2200.0  2200.0  2200.0  2200.0        0.0     0.0     0.0     0.0\n",
       " 2200.0  2200.0  2200.0  2200.0  2200.0        0.0     0.0     0.0     0.0\n",
       " 2200.0  2200.0  2200.0  2200.0  2200.0        0.0     0.0     0.0     0.0\n",
       " 2200.0  2200.0  2200.0  2200.0  2200.0        0.0     0.0     0.0     0.0\n",
       "    0.0     0.0     0.0     0.0     0.0  …  2200.0  2200.0  2200.0  2200.0\n",
       "    0.0     0.0     0.0     0.0     0.0     2200.0  2200.0  2200.0  2200.0\n",
       "    0.0     0.0     0.0     0.0     0.0     2200.0  2200.0  2200.0  2200.0\n",
       "    ⋮                                    ⋱                          \n",
       " 2200.0  2200.0  2200.0  2200.0  2200.0        0.0     0.0     0.0     0.0\n",
       " 2200.0  2200.0  2200.0  2200.0  2200.0        0.0     0.0     0.0     0.0\n",
       "    0.0     0.0     0.0     0.0     0.0  …  2200.0  2200.0  2200.0  2200.0\n",
       "    0.0     0.0     0.0     0.0     0.0     2200.0  2200.0  2200.0  2200.0\n",
       "    0.0     0.0     0.0     0.0     0.0     2200.0  2200.0  2200.0  2200.0\n",
       "    0.0     0.0     0.0     0.0     0.0     2200.0  2200.0  2200.0  2200.0\n",
       "    0.0     0.0     0.0     0.0     0.0     2200.0  2200.0  2200.0  2200.0\n",
       "    0.0     0.0     0.0     0.0     0.0  …  2200.0  2200.0  2200.0  2200.0\n",
       "    0.0     0.0     0.0     0.0     0.0     2224.5  2200.0  2200.0  2200.0\n",
       "    0.0     0.0     0.0     0.0     0.0     2200.0  2224.5  2200.0  2200.0\n",
       "    0.0     0.0     0.0     0.0     0.0     2200.0  2200.0  2224.5  2200.0\n",
       "    0.0     0.0     0.0     0.0     0.0     2200.0  2200.0  2200.0  2224.5"
      ]
     },
     "execution_count": 53,
     "metadata": {},
     "output_type": "execute_result"
    }
   ],
   "source": [
    "Sigma = sigma[1]*Z*transpose(Z) + sigma[2]*diagm(ones(n))"
   ]
  },
  {
   "cell_type": "code",
   "execution_count": 54,
   "metadata": {},
   "outputs": [
    {
     "data": {
      "text/plain": [
       "Inf"
      ]
     },
     "execution_count": 54,
     "metadata": {},
     "output_type": "execute_result"
    }
   ],
   "source": [
    "negLog = 1/2*log(det(K*Sigma*transpose(K))) "
   ]
  },
  {
   "cell_type": "code",
   "execution_count": 55,
   "metadata": {},
   "outputs": [
    {
     "data": {
      "text/plain": [
       "238×240 Matrix{Float64}:\n",
       " -2.94451e-20   0.0466504    -0.0170941   …   0.0510636   -0.00207091\n",
       " -2.05322e-19  -0.0496783     0.0395708      -0.0363789    0.010993\n",
       "  6.41966e-19   0.000171218   0.0519133      -0.0049346   -0.00377829\n",
       " -1.34922e-18   0.131597     -0.075034        0.0351687   -0.0151265\n",
       " -3.5239e-19   -0.0956999    -0.00164722     -0.0416952    0.00499927\n",
       "  6.46778e-19  -0.0898978    -0.0466286   …   0.00544828   0.00859205\n",
       " -3.39007e-19   0.098675     -0.0658652      -0.00823248  -0.00756623\n",
       " -8.48762e-20  -0.0308788     0.0415333      -0.0100817    0.00404112\n",
       " -3.37464e-19  -0.0194747     0.0635107       0.0134814    0.00548691\n",
       "  2.83801e-19   0.00314105   -0.0375957      -0.0462907    0.000495605\n",
       "  3.07301e-19  -0.0733903    -0.0431255   …   0.0453955    0.00810663\n",
       "  7.40189e-19   0.0467832     0.0896087       0.0377275    0.00471873\n",
       " -6.13821e-19  -0.0797151    -0.0309555      -0.00292084  -0.00690537\n",
       "  ⋮                                       ⋱               \n",
       "  5.72188e-20   0.0664431    -0.0657677      -0.0553702   -0.169019\n",
       "  7.23047e-19   0.0106579     0.0727412       0.020287     2.13306e-5\n",
       " -3.20876e-19  -0.247201      0.0265098       0.0159098   -0.00431381\n",
       "  3.85154e-20  -0.0138857     0.0475226       0.0482454   -0.0198923\n",
       " -6.30916e-19  -8.28677e-5   -0.120223    …  -0.0515747    0.0115848\n",
       "  1.1417e-19   -0.00352585    0.0168335      -0.0476368    0.00113098\n",
       " -2.05333e-20   0.0788001     0.00264292     -0.0211705   -0.00313655\n",
       "  1.28727e-19   0.0362634    -0.350813       -0.0117499    0.0182005\n",
       "  4.01818e-20  -0.0441412     0.0184111      -0.0105082    0.0144351\n",
       " -5.5119e-19    0.0197247     0.00765497  …   0.0102409   -0.00182367\n",
       " -2.90222e-19   0.0781575    -0.00841618      0.00849639   0.000248783\n",
       " -6.6796e-19   -0.0734747     0.0702959       0.0338496    0.00187443"
      ]
     },
     "execution_count": 55,
     "metadata": {},
     "output_type": "execute_result"
    }
   ],
   "source": [
    "K"
   ]
  },
  {
   "cell_type": "code",
   "execution_count": 56,
   "metadata": {},
   "outputs": [
    {
     "data": {
      "text/plain": [
       "Inf"
      ]
     },
     "execution_count": 56,
     "metadata": {},
     "output_type": "execute_result"
    }
   ],
   "source": [
    "det(K*Sigma*transpose(K))"
   ]
  },
  {
   "cell_type": "code",
   "execution_count": 57,
   "metadata": {},
   "outputs": [
    {
     "data": {
      "text/plain": [
       "238×238 Matrix{Float64}:\n",
       "   719.818    -885.513      -893.559   …   -527.868     638.14    -1036.08\n",
       "  -885.513    1159.67       1102.21         685.224    -803.221    1262.6\n",
       "  -893.559    1102.21       1344.99         615.968    -865.673    1605.26\n",
       "   -55.5432     83.1054       11.8485        63.742     -35.2111    -11.8998\n",
       "  1027.75    -1344.58      -1148.96        -842.515     897.737   -1258.21\n",
       " -1044.72     1368.28       1160.66    …    859.05     -910.632    1267.44\n",
       " -1513.39     1920.96       1975.68        1137.77    -1397.1      2304.06\n",
       "  -303.088     414.907       250.346        280.529    -241.314     230.345\n",
       "  -634.736     791.179       898.396        451.907    -604.438    1077.3\n",
       "   729.222    -925.961      -950.268       -548.846     672.735   -1107.49\n",
       "  1372.77    -1793.72      -1545.41    …  -1121.45     1201.95    -1697.69\n",
       " -1190.64     1476.36       1722.43         834.2     -1143.66     2079.99\n",
       "    55.0928    -82.7592      -10.1754       -63.7967     34.508      14.3111\n",
       "     ⋮                                 ⋱      ⋮                   \n",
       "  -508.083     662.708       577.637        413.015    -446.359     637.337\n",
       "  -457.985     628.115       372.685        425.929    -363.156     339.156\n",
       "  -498.547     693.977       356.444        481.5      -382.278     290.881\n",
       "  1010.71    -1346.05      -1015.51        -870.002     852.559   -1055.45\n",
       " -1112.81     1458.95       1229.16    …    917.633    -968.092    1338.68\n",
       " -2244.29     2958.29       2402.34        1878.42    -1932.14     2578.01\n",
       "   -20.2354      0.516047    147.551        -28.6885    -50.7586    223.431\n",
       "  -526.589     714.469       465.732        476.24     -427.412     449.147\n",
       "   243.323    -336.9        -182.656       -231.854     188.877    -155.784\n",
       "  -527.868     685.224       615.968   …    447.859    -467.935     687.34\n",
       "   638.14     -803.221      -865.673       -467.935     622.237   -1023.38\n",
       " -1036.08     1262.6        1605.26         687.34    -1023.38     2003.71"
      ]
     },
     "execution_count": 57,
     "metadata": {},
     "output_type": "execute_result"
    }
   ],
   "source": [
    "K*Sigma*transpose(K)"
   ]
  },
  {
   "cell_type": "code",
   "execution_count": 58,
   "metadata": {},
   "outputs": [
    {
     "data": {
      "text/plain": [
       "238"
      ]
     },
     "execution_count": 58,
     "metadata": {},
     "output_type": "execute_result"
    }
   ],
   "source": [
    "rank(K*Sigma*transpose(K))"
   ]
  },
  {
   "cell_type": "code",
   "execution_count": null,
   "metadata": {},
   "outputs": [],
   "source": []
  }
 ],
 "metadata": {
  "kernelspec": {
   "display_name": "Julia 1.6.1",
   "language": "julia",
   "name": "julia-1.6"
  },
  "language_info": {
   "file_extension": ".jl",
   "mimetype": "application/julia",
   "name": "julia",
   "version": "1.6.1"
  }
 },
 "nbformat": 4,
 "nbformat_minor": 4
}
