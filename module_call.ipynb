{
 "cells": [
  {
   "cell_type": "markdown",
   "metadata": {},
   "source": [
    "### using all packages"
   ]
  },
  {
   "cell_type": "code",
   "execution_count": 1,
   "metadata": {},
   "outputs": [],
   "source": [
    "using LinearAlgebra\n",
    "using DataFrames\n",
    "using StableRNGs; rng = StableRNG(1);\n",
    "using StatsModels\n",
    "using MixedModels"
   ]
  },
  {
   "cell_type": "markdown",
   "metadata": {},
   "source": [
    "### using module"
   ]
  },
  {
   "cell_type": "code",
   "execution_count": 2,
   "metadata": {},
   "outputs": [],
   "source": [
    "include(\"HighDimMixedModels.jl\")\n",
    "import .HighDimMM   #https://docs.julialang.org/en/v1/manual/variables-and-scoping/"
   ]
  },
  {
   "cell_type": "markdown",
   "metadata": {},
   "source": [
    "**Set up data and formula, specify factor variables(CategoricalTerm)**"
   ]
  },
  {
   "cell_type": "code",
   "execution_count": 3,
   "metadata": {},
   "outputs": [
    {
     "data": {
      "text/html": [
       "<table class=\"data-frame\"><thead><tr><th></th><th>y</th><th>a</th><th>b</th><th>c</th><th>d</th></tr><tr><th></th><th>Float64</th><th>Int64</th><th>Float64</th><th>String</th><th>Float64</th></tr></thead><tbody><p>9 rows × 5 columns</p><tr><th>1</th><td>0.585195</td><td>1</td><td>0.236782</td><td>d</td><td>0.752223</td></tr><tr><th>2</th><td>0.0773379</td><td>2</td><td>0.943741</td><td>e</td><td>0.314815</td></tr><tr><th>3</th><td>0.716628</td><td>3</td><td>0.445671</td><td>f</td><td>0.858522</td></tr><tr><th>4</th><td>0.320357</td><td>4</td><td>0.763679</td><td>d</td><td>0.698713</td></tr><tr><th>5</th><td>0.653093</td><td>5</td><td>0.145071</td><td>e</td><td>0.757746</td></tr><tr><th>6</th><td>0.236639</td><td>6</td><td>0.021124</td><td>f</td><td>0.419294</td></tr><tr><th>7</th><td>0.709684</td><td>7</td><td>0.152545</td><td>d</td><td>0.412607</td></tr><tr><th>8</th><td>0.557787</td><td>8</td><td>0.617492</td><td>e</td><td>0.454589</td></tr><tr><th>9</th><td>0.05079</td><td>9</td><td>0.481531</td><td>f</td><td>0.380933</td></tr></tbody></table>"
      ],
      "text/latex": [
       "\\begin{tabular}{r|ccccc}\n",
       "\t& y & a & b & c & d\\\\\n",
       "\t\\hline\n",
       "\t& Float64 & Int64 & Float64 & String & Float64\\\\\n",
       "\t\\hline\n",
       "\t1 & 0.585195 & 1 & 0.236782 & d & 0.752223 \\\\\n",
       "\t2 & 0.0773379 & 2 & 0.943741 & e & 0.314815 \\\\\n",
       "\t3 & 0.716628 & 3 & 0.445671 & f & 0.858522 \\\\\n",
       "\t4 & 0.320357 & 4 & 0.763679 & d & 0.698713 \\\\\n",
       "\t5 & 0.653093 & 5 & 0.145071 & e & 0.757746 \\\\\n",
       "\t6 & 0.236639 & 6 & 0.021124 & f & 0.419294 \\\\\n",
       "\t7 & 0.709684 & 7 & 0.152545 & d & 0.412607 \\\\\n",
       "\t8 & 0.557787 & 8 & 0.617492 & e & 0.454589 \\\\\n",
       "\t9 & 0.05079 & 9 & 0.481531 & f & 0.380933 \\\\\n",
       "\\end{tabular}\n"
      ],
      "text/plain": [
       "\u001b[1m9×5 DataFrame\u001b[0m\n",
       "\u001b[1m Row \u001b[0m│\u001b[1m y         \u001b[0m\u001b[1m a     \u001b[0m\u001b[1m b        \u001b[0m\u001b[1m c      \u001b[0m\u001b[1m d        \u001b[0m\n",
       "\u001b[1m     \u001b[0m│\u001b[90m Float64   \u001b[0m\u001b[90m Int64 \u001b[0m\u001b[90m Float64  \u001b[0m\u001b[90m String \u001b[0m\u001b[90m Float64  \u001b[0m\n",
       "─────┼──────────────────────────────────────────────\n",
       "   1 │ 0.585195       1  0.236782  d       0.752223\n",
       "   2 │ 0.0773379      2  0.943741  e       0.314815\n",
       "   3 │ 0.716628       3  0.445671  f       0.858522\n",
       "   4 │ 0.320357       4  0.763679  d       0.698713\n",
       "   5 │ 0.653093       5  0.145071  e       0.757746\n",
       "   6 │ 0.236639       6  0.021124  f       0.419294\n",
       "   7 │ 0.709684       7  0.152545  d       0.412607\n",
       "   8 │ 0.557787       8  0.617492  e       0.454589\n",
       "   9 │ 0.05079        9  0.481531  f       0.380933"
      ]
     },
     "execution_count": 3,
     "metadata": {},
     "output_type": "execute_result"
    }
   ],
   "source": [
    "#df = DataFrame(y = rand(rng, 9), a = 1:9, b = rand(rng, 9), c = repeat([\"d\",\"e\",\"f\"], 3), d = vcat(repeat([1,2], 4),1))\n",
    "df = DataFrame(y = rand(rng, 9), a = 1:1:9, b = rand(rng, 9), c = repeat([\"d\",\"e\",\"f\"], 3), d = rand(rng, 9))\n",
    "f = @formula(y ~  a + b + c + d)\n",
    "contrasts = Dict( :a => ContinuousTerm, :b=>ContinuousTerm, :c => CategoricalTerm)\n",
    "df"
   ]
  },
  {
   "cell_type": "code",
   "execution_count": 47,
   "metadata": {},
   "outputs": [
    {
     "data": {
      "text/html": [
       "<table class=\"data-frame\"><thead><tr><th></th><th>herd</th><th>period</th><th>incid</th><th>hsz</th></tr><tr><th></th><th>String</th><th>Float64</th><th>Int8</th><th>Int8</th></tr></thead><tbody><p>5 rows × 4 columns</p><tr><th>1</th><td>H01</td><td>1.0</td><td>2</td><td>14</td></tr><tr><th>2</th><td>H01</td><td>2.0</td><td>3</td><td>12</td></tr><tr><th>3</th><td>H01</td><td>3.0</td><td>4</td><td>9</td></tr><tr><th>4</th><td>H01</td><td>4.0</td><td>0</td><td>5</td></tr><tr><th>5</th><td>H02</td><td>1.0</td><td>3</td><td>22</td></tr></tbody></table>"
      ],
      "text/latex": [
       "\\begin{tabular}{r|cccc}\n",
       "\t& herd & period & incid & hsz\\\\\n",
       "\t\\hline\n",
       "\t& String & Float64 & Int8 & Int8\\\\\n",
       "\t\\hline\n",
       "\t1 & H01 & 1.0 & 2 & 14 \\\\\n",
       "\t2 & H01 & 2.0 & 3 & 12 \\\\\n",
       "\t3 & H01 & 3.0 & 4 & 9 \\\\\n",
       "\t4 & H01 & 4.0 & 0 & 5 \\\\\n",
       "\t5 & H02 & 1.0 & 3 & 22 \\\\\n",
       "\\end{tabular}\n"
      ],
      "text/plain": [
       "\u001b[1m5×4 DataFrame\u001b[0m\n",
       "\u001b[1m Row \u001b[0m│\u001b[1m herd   \u001b[0m\u001b[1m period  \u001b[0m\u001b[1m incid \u001b[0m\u001b[1m hsz  \u001b[0m\n",
       "\u001b[1m     \u001b[0m│\u001b[90m String \u001b[0m\u001b[90m Float64 \u001b[0m\u001b[90m Int8  \u001b[0m\u001b[90m Int8 \u001b[0m\n",
       "─────┼──────────────────────────────\n",
       "   1 │ H01         1.0      2    14\n",
       "   2 │ H01         2.0      3    12\n",
       "   3 │ H01         3.0      4     9\n",
       "   4 │ H01         4.0      0     5\n",
       "   5 │ H02         1.0      3    22"
      ]
     },
     "execution_count": 47,
     "metadata": {},
     "output_type": "execute_result"
    }
   ],
   "source": [
    "#MixedModels.datasets()\n",
    "df = DataFrame(MixedModels.dataset(:cbpp))\n",
    "df[!,:period] = map(x->parse(Float64,x),df[:,:period])\n",
    "first(df,5)"
   ]
  },
  {
   "cell_type": "code",
   "execution_count": 48,
   "metadata": {},
   "outputs": [
    {
     "data": {
      "text/html": [
       "<table class=\"data-frame\"><thead><tr><th></th><th>period</th><th>herd</th><th>incid</th><th>hsz</th></tr><tr><th></th><th>Float64</th><th>String</th><th>Int8</th><th>Int8</th></tr></thead><tbody><p>5 rows × 4 columns</p><tr><th>1</th><td>1.0</td><td>H01</td><td>2</td><td>14</td></tr><tr><th>2</th><td>2.0</td><td>H01</td><td>3</td><td>12</td></tr><tr><th>3</th><td>3.0</td><td>H01</td><td>4</td><td>9</td></tr><tr><th>4</th><td>4.0</td><td>H01</td><td>0</td><td>5</td></tr><tr><th>5</th><td>1.0</td><td>H02</td><td>3</td><td>22</td></tr></tbody></table>"
      ],
      "text/latex": [
       "\\begin{tabular}{r|cccc}\n",
       "\t& period & herd & incid & hsz\\\\\n",
       "\t\\hline\n",
       "\t& Float64 & String & Int8 & Int8\\\\\n",
       "\t\\hline\n",
       "\t1 & 1.0 & H01 & 2 & 14 \\\\\n",
       "\t2 & 2.0 & H01 & 3 & 12 \\\\\n",
       "\t3 & 3.0 & H01 & 4 & 9 \\\\\n",
       "\t4 & 4.0 & H01 & 0 & 5 \\\\\n",
       "\t5 & 1.0 & H02 & 3 & 22 \\\\\n",
       "\\end{tabular}\n"
      ],
      "text/plain": [
       "\u001b[1m5×4 DataFrame\u001b[0m\n",
       "\u001b[1m Row \u001b[0m│\u001b[1m period  \u001b[0m\u001b[1m herd   \u001b[0m\u001b[1m incid \u001b[0m\u001b[1m hsz  \u001b[0m\n",
       "\u001b[1m     \u001b[0m│\u001b[90m Float64 \u001b[0m\u001b[90m String \u001b[0m\u001b[90m Int8  \u001b[0m\u001b[90m Int8 \u001b[0m\n",
       "─────┼──────────────────────────────\n",
       "   1 │     1.0  H01         2    14\n",
       "   2 │     2.0  H01         3    12\n",
       "   3 │     3.0  H01         4     9\n",
       "   4 │     4.0  H01         0     5\n",
       "   5 │     1.0  H02         3    22"
      ]
     },
     "execution_count": 48,
     "metadata": {},
     "output_type": "execute_result"
    }
   ],
   "source": [
    "select!(df,[:period,:herd,:incid,:hsz])\n",
    "first(df,5)"
   ]
  },
  {
   "cell_type": "code",
   "execution_count": 49,
   "metadata": {},
   "outputs": [
    {
     "data": {
      "text/plain": [
       "Dict{Symbol, UnionAll} with 3 entries:\n",
       "  :hsz   => ContinuousTerm\n",
       "  :herd  => CategoricalTerm\n",
       "  :incid => ContinuousTerm"
      ]
     },
     "execution_count": 49,
     "metadata": {},
     "output_type": "execute_result"
    }
   ],
   "source": [
    "f = @formula(period ~ herd + incid + hsz)\n",
    "contrasts = Dict( :incid => ContinuousTerm, :hsz => ContinuousTerm, :herd => CategoricalTerm)\n",
    "#fit(MixedModel, @formula(period ~ incid + hsz +(1|herd)), df, REML = true)"
   ]
  },
  {
   "cell_type": "markdown",
   "metadata": {},
   "source": [
    "### Construct object"
   ]
  },
  {
   "cell_type": "markdown",
   "metadata": {},
   "source": [
    "#### 1.Number of variables indicates M,X,Z"
   ]
  },
  {
   "cell_type": "code",
   "execution_count": null,
   "metadata": {},
   "outputs": [],
   "source": [
    "HMM = HighDimMM.highDimMixedModel(f, df, contrasts, 1, 1)"
   ]
  },
  {
   "cell_type": "markdown",
   "metadata": {},
   "source": [
    "#### 2.indices indicates M,X,Z"
   ]
  },
  {
   "cell_type": "code",
   "execution_count": null,
   "metadata": {},
   "outputs": [],
   "source": [
    "HMM = HighDimMM.highDimMixedModel(f, df, contrasts, 1, [2,4],3)"
   ]
  },
  {
   "cell_type": "markdown",
   "metadata": {},
   "source": [
    "#### 3.variable names indicates M,X,Z"
   ]
  },
  {
   "cell_type": "code",
   "execution_count": 50,
   "metadata": {},
   "outputs": [
    {
     "name": "stderr",
     "output_type": "stream",
     "text": [
      "┌ Warning: n >= p in high dimensional matrix\n",
      "└ @ Main.HighDimMM /Users/zyxu/Documents/julia/highDimMM/bricks.jl:12\n"
     ]
    },
    {
     "data": {
      "text/plain": [
       "Main.HighDimMM.highDimMixedModel{Float64}(period ~ herd + incid + hsz, Main.HighDimMM.highDimMat{Float64, Matrix{Float64}}([2.0; 3.0; … ; 1.0; 0.0]), Main.HighDimMM.XMat{Float64, Matrix{Float64}}([14.0; 12.0; … ; 15.0; 15.0]), [0.0 0.0 … 0.0 0.0; 0.0 0.0 … 0.0 0.0; … ; 0.0 0.0 … 0.0 1.0; 0.0 0.0 … 0.0 1.0], [1.0, 2.0, 3.0, 4.0, 1.0, 2.0, 3.0, 1.0, 2.0, 3.0  …  3.0, 4.0, 1.0, 2.0, 3.0, 4.0, 1.0, 2.0, 3.0, 4.0])"
      ]
     },
     "execution_count": 50,
     "metadata": {},
     "output_type": "execute_result"
    }
   ],
   "source": [
    "#HMM = HighDimMM.highDimMixedModel(f, df, contrasts, \"a\", [\"b\",\"d\"],\"c\")\n",
    "HMM = HighDimMM.highDimMixedModel(f, df, contrasts, \"incid\", \"hsz\",\"herd\")"
   ]
  },
  {
   "cell_type": "code",
   "execution_count": 53,
   "metadata": {},
   "outputs": [
    {
     "data": {
      "text/plain": [
       "5-element Vector{Float64}:\n",
       " 2.0\n",
       " 3.0\n",
       " 4.0\n",
       " 0.0\n",
       " 3.0"
      ]
     },
     "execution_count": 53,
     "metadata": {},
     "output_type": "execute_result"
    }
   ],
   "source": [
    "first(HMM.M.M,5)"
   ]
  },
  {
   "cell_type": "code",
   "execution_count": 54,
   "metadata": {},
   "outputs": [
    {
     "data": {
      "text/plain": [
       "5-element Vector{Float64}:\n",
       " 14.0\n",
       " 12.0\n",
       "  9.0\n",
       "  5.0\n",
       " 22.0"
      ]
     },
     "execution_count": 54,
     "metadata": {},
     "output_type": "execute_result"
    }
   ],
   "source": [
    "first(HMM.X.X,5)"
   ]
  },
  {
   "cell_type": "code",
   "execution_count": 57,
   "metadata": {},
   "outputs": [
    {
     "data": {
      "text/plain": [
       "(56, 14)"
      ]
     },
     "execution_count": 57,
     "metadata": {},
     "output_type": "execute_result"
    }
   ],
   "source": [
    "size(HMM.Z.Z)"
   ]
  },
  {
   "cell_type": "code",
   "execution_count": null,
   "metadata": {},
   "outputs": [],
   "source": []
  },
  {
   "cell_type": "code",
   "execution_count": null,
   "metadata": {},
   "outputs": [],
   "source": [
    "\n",
    "\n",
    "y, pred = modelcols(form, df);\n",
    "terms = form.rhs.terms\n",
    "M = highDimMat(modelmatrix(terms[idOfHDM],df))\n",
    "X = XMat(modelmatrix(terms[idOfXMat],df))\n",
    "\n",
    "#preTerms = Vector(1:length(form.rhs.terms))\n",
    "#idOfReMat = preTerms[preTerms .∉ Ref(vcat(idOfHDM, idOfXmat))]\n",
    "Z = ReMat(modelmatrix(terms[idOfReMat],df))"
   ]
  },
  {
   "cell_type": "code",
   "execution_count": null,
   "metadata": {},
   "outputs": [],
   "source": []
  },
  {
   "cell_type": "code",
   "execution_count": null,
   "metadata": {},
   "outputs": [],
   "source": []
  },
  {
   "cell_type": "code",
   "execution_count": null,
   "metadata": {},
   "outputs": [],
   "source": []
  },
  {
   "cell_type": "markdown",
   "metadata": {},
   "source": [
    "### Optimization"
   ]
  },
  {
   "cell_type": "markdown",
   "metadata": {},
   "source": [
    "$$\n",
    "\\mathbf{y} \\text { is } N_{n}(\\mathbf{X} \\boldsymbol{\\beta}, \\mathbf{\\Sigma}), \\quad \\text { where } \\quad \\mathbf{\\Sigma}= \\sigma_{z}^{2}\n",
    "\\mathbf{Z} \\mathbf{Z}^{\\prime}+\\sigma^{2} \\mathbf{I}_{n} \n",
    "$$"
   ]
  },
  {
   "cell_type": "markdown",
   "metadata": {},
   "source": [
    "Let $$\\mathbf{P}=\\mathbf{I}-\\mathbf{H}=\\mathbf{I}-\\mathbf{X}\\left(\\mathbf{X}^{\\prime} \\mathbf{X}\\right)^{-} \\mathbf{X}^{\\prime}$$"
   ]
  },
  {
   "cell_type": "markdown",
   "metadata": {},
   "source": [
    "$$\\mathbf{K}=\\mathbf{C}\\mathbf{P} \\in R^{(n-r)\\times n}$$"
   ]
  },
  {
   "cell_type": "markdown",
   "metadata": {},
   "source": [
    "$$\n",
    "Ky \\sim N_{n-r}\\left(\\mathbf{0}, \\mathbf{K} \\mathbf{\\Sigma} \\mathbf{K}^{\\prime}\\right) = N_{n-r}\\left[\\mathbf{0}, \\mathbf{K}\\left(\\sigma_{z}^{2} \\mathbf{Z} \\mathbf{Z}^{\\prime}+\\sigma^{2} \\mathbf{I}_{n} \\right) \\mathbf{K}^{\\prime}\\right]\n",
    "$$\n",
    "To simplify, we assume fixed effect as full rank, where r is the number of fixed effects."
   ]
  },
  {
   "cell_type": "markdown",
   "metadata": {},
   "source": [
    "The objective function is:\n",
    "$$\n",
    "\\frac{n-r}{2} \\ln (2 \\pi)-\\frac{1}{2} \\ln \\left|\\mathbf{K} \\Sigma \\mathbf{K}^{\\prime}\\right|-\\frac{1}{2} \\mathbf{y}^{\\prime} \\mathbf{K}^{\\prime}\\left(\\mathbf{K} \\Sigma \\mathbf{K}^{\\prime}\\right)^{-1} \\mathbf{K} \\mathbf{y}\n",
    "$$"
   ]
  },
  {
   "cell_type": "code",
   "execution_count": 58,
   "metadata": {},
   "outputs": [
    {
     "name": "stdout",
     "output_type": "stream",
     "text": [
      "OPTBL: starting point [2, 2]\n",
      "got -59.50728 at [1.74096, 4.54947] after 21 iterations (returned XTOL_REACHED)\n"
     ]
    },
    {
     "data": {
      "text/plain": [
       "([1.7409605161664736, 4.549470851735325], [-0.2687180171748196, 0.14439723933741055])"
      ]
     },
     "execution_count": 58,
     "metadata": {},
     "output_type": "execute_result"
    }
   ],
   "source": [
    "sigma, beta = HighDimMM.fit!(HMM, verbose = true, REML = true, alg = :LN_BOBYQA) # :LN_BOBYQA :LN_COBYLA"
   ]
  },
  {
   "cell_type": "code",
   "execution_count": 59,
   "metadata": {},
   "outputs": [
    {
     "data": {
      "text/plain": [
       "2-element Vector{Float64}:\n",
       " 1.7409605161664736\n",
       " 4.549470851735325"
      ]
     },
     "execution_count": 59,
     "metadata": {},
     "output_type": "execute_result"
    }
   ],
   "source": [
    "sigma"
   ]
  },
  {
   "cell_type": "markdown",
   "metadata": {},
   "source": [
    "After getting estimate of sigma, we estimate beta\n",
    "$$\n",
    "\\hat{\\beta}(\\theta) = (X^T\\Sigma^{-1}X)^{-1}X^T\\Sigma^{-1}y\n",
    "$$"
   ]
  },
  {
   "cell_type": "code",
   "execution_count": 60,
   "metadata": {},
   "outputs": [
    {
     "data": {
      "text/plain": [
       "2-element Vector{Float64}:\n",
       " -0.2687180171748196\n",
       "  0.14439723933741055"
      ]
     },
     "execution_count": 60,
     "metadata": {},
     "output_type": "execute_result"
    }
   ],
   "source": [
    "beta"
   ]
  },
  {
   "cell_type": "code",
   "execution_count": null,
   "metadata": {},
   "outputs": [],
   "source": []
  },
  {
   "cell_type": "code",
   "execution_count": null,
   "metadata": {},
   "outputs": [],
   "source": []
  },
  {
   "cell_type": "code",
   "execution_count": null,
   "metadata": {},
   "outputs": [],
   "source": []
  },
  {
   "cell_type": "code",
   "execution_count": null,
   "metadata": {},
   "outputs": [],
   "source": []
  },
  {
   "cell_type": "code",
   "execution_count": null,
   "metadata": {},
   "outputs": [],
   "source": []
  },
  {
   "cell_type": "code",
   "execution_count": null,
   "metadata": {},
   "outputs": [],
   "source": []
  },
  {
   "cell_type": "code",
   "execution_count": null,
   "metadata": {},
   "outputs": [],
   "source": []
  },
  {
   "cell_type": "code",
   "execution_count": null,
   "metadata": {},
   "outputs": [],
   "source": []
  },
  {
   "cell_type": "code",
   "execution_count": null,
   "metadata": {},
   "outputs": [],
   "source": []
  },
  {
   "cell_type": "code",
   "execution_count": null,
   "metadata": {},
   "outputs": [],
   "source": []
  },
  {
   "cell_type": "code",
   "execution_count": null,
   "metadata": {},
   "outputs": [],
   "source": []
  }
 ],
 "metadata": {
  "kernelspec": {
   "display_name": "Julia 1.6.1",
   "language": "julia",
   "name": "julia-1.6"
  },
  "language_info": {
   "file_extension": ".jl",
   "mimetype": "application/julia",
   "name": "julia",
   "version": "1.6.1"
  }
 },
 "nbformat": 4,
 "nbformat_minor": 4
}
