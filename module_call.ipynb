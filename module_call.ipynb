{
 "cells": [
  {
   "cell_type": "markdown",
   "metadata": {},
   "source": [
    "### using all packages"
   ]
  },
  {
   "cell_type": "code",
   "execution_count": 1,
   "metadata": {},
   "outputs": [
    {
     "name": "stdout",
     "output_type": "stream",
     "text": [
      "\u001b[36m\u001b[1m     Project\u001b[22m\u001b[39m demo v0.1.0\n",
      "\u001b[32m\u001b[1m      Status\u001b[22m\u001b[39m `~/Documents/julia/demo/Project.toml`\n",
      " \u001b[90m [336ed68f] \u001b[39m\u001b[37mCSV v0.9.6\u001b[39m\n",
      " \u001b[90m [7876af07] \u001b[39m\u001b[37mExample v0.5.4 `~/.julia/dev/Example`\u001b[39m\n",
      " \u001b[90m [ced58d7a] \u001b[39m\u001b[37mHighDimMixedModels v0.1.0 `~/.julia/dev/HighDimMixedModels`\u001b[39m\n",
      " \u001b[90m [14b8a8f1] \u001b[39m\u001b[37mPkgTemplates v0.7.19\u001b[39m\n",
      " \u001b[90m [bd369af6] \u001b[39m\u001b[37mTables v1.6.0\u001b[39m\n",
      " \u001b[90m [44d3d7a6] \u001b[39m\u001b[37mWeave v0.10.10\u001b[39m\n",
      " \u001b[90m [508b3551] \u001b[39m\u001b[37mhighDimMM v0.1.0 `~/.julia/dev/highDimMM`\u001b[39m\n"
     ]
    }
   ],
   "source": [
    "using Pkg\n",
    "Pkg.DEFAULT_IO[] = stdout\n",
    "Pkg.status()"
   ]
  },
  {
   "cell_type": "code",
   "execution_count": 2,
   "metadata": {},
   "outputs": [],
   "source": [
    "using LinearAlgebra\n",
    "using DataFrames\n",
    "using StableRNGs; rng = StableRNG(1);\n",
    "using StatsModels\n",
    "using MixedModels"
   ]
  },
  {
   "cell_type": "markdown",
   "metadata": {},
   "source": [
    "### using module"
   ]
  },
  {
   "cell_type": "code",
   "execution_count": 3,
   "metadata": {},
   "outputs": [
    {
     "name": "stderr",
     "output_type": "stream",
     "text": [
      "┌ Info: Precompiling HighDimMixedModels [ced58d7a-d58c-464d-86d9-3a8462bebd28]\n",
      "└ @ Base loading.jl:1317\n"
     ]
    }
   ],
   "source": [
    "using HighDimMixedModels"
   ]
  },
  {
   "cell_type": "code",
   "execution_count": 4,
   "metadata": {},
   "outputs": [],
   "source": [
    "#include(\"HighDimMixedModels.jl\")\n",
    "#import .HighDimMM   #https://docs.julialang.org/en/v1/manual/variables-and-scoping/"
   ]
  },
  {
   "cell_type": "markdown",
   "metadata": {},
   "source": [
    "**Set up data and formula, specify factor variables(CategoricalTerm)**"
   ]
  },
  {
   "cell_type": "code",
   "execution_count": null,
   "metadata": {},
   "outputs": [],
   "source": [
    "#df = DataFrame(y = rand(rng, 9), a = 1:9, b = rand(rng, 9), c = repeat([\"d\",\"e\",\"f\"], 3), d = vcat(repeat([1,2], 4),1))\n",
    "df = DataFrame(y = rand(rng, 9), a = 1:1:9, b = rand(rng, 9), c = repeat([\"d\",\"e\",\"f\"], 3), d = rand(rng, 9))\n",
    "f = @formula(y ~  a + b + c + d)\n",
    "contrasts = Dict( :a => ContinuousTerm, :b=>ContinuousTerm, :c => CategoricalTerm)\n",
    "df"
   ]
  },
  {
   "cell_type": "code",
   "execution_count": 5,
   "metadata": {},
   "outputs": [
    {
     "data": {
      "text/html": [
       "<div class=\"data-frame\"><p>5 rows × 4 columns</p><table class=\"data-frame\"><thead><tr><th></th><th>herd</th><th>period</th><th>incid</th><th>hsz</th></tr><tr><th></th><th title=\"String\">String</th><th title=\"String\">String</th><th title=\"Int8\">Int8</th><th title=\"Int8\">Int8</th></tr></thead><tbody><tr><th>1</th><td>H01</td><td>1</td><td>2</td><td>14</td></tr><tr><th>2</th><td>H01</td><td>2</td><td>3</td><td>12</td></tr><tr><th>3</th><td>H01</td><td>3</td><td>4</td><td>9</td></tr><tr><th>4</th><td>H01</td><td>4</td><td>0</td><td>5</td></tr><tr><th>5</th><td>H02</td><td>1</td><td>3</td><td>22</td></tr></tbody></table></div>"
      ],
      "text/latex": [
       "\\begin{tabular}{r|cccc}\n",
       "\t& herd & period & incid & hsz\\\\\n",
       "\t\\hline\n",
       "\t& String & String & Int8 & Int8\\\\\n",
       "\t\\hline\n",
       "\t1 & H01 & 1 & 2 & 14 \\\\\n",
       "\t2 & H01 & 2 & 3 & 12 \\\\\n",
       "\t3 & H01 & 3 & 4 & 9 \\\\\n",
       "\t4 & H01 & 4 & 0 & 5 \\\\\n",
       "\t5 & H02 & 1 & 3 & 22 \\\\\n",
       "\\end{tabular}\n"
      ],
      "text/plain": [
       "\u001b[1m5×4 DataFrame\u001b[0m\n",
       "\u001b[1m Row \u001b[0m│\u001b[1m herd   \u001b[0m\u001b[1m period \u001b[0m\u001b[1m incid \u001b[0m\u001b[1m hsz  \u001b[0m\n",
       "\u001b[1m     \u001b[0m│\u001b[90m String \u001b[0m\u001b[90m String \u001b[0m\u001b[90m Int8  \u001b[0m\u001b[90m Int8 \u001b[0m\n",
       "─────┼─────────────────────────────\n",
       "   1 │ H01     1           2    14\n",
       "   2 │ H01     2           3    12\n",
       "   3 │ H01     3           4     9\n",
       "   4 │ H01     4           0     5\n",
       "   5 │ H02     1           3    22"
      ]
     },
     "execution_count": 5,
     "metadata": {},
     "output_type": "execute_result"
    }
   ],
   "source": [
    "df = DataFrame(MixedModels.dataset(:cbpp))\n",
    "first(df,5)"
   ]
  },
  {
   "cell_type": "code",
   "execution_count": 6,
   "metadata": {},
   "outputs": [
    {
     "data": {
      "text/html": [
       "<div class=\"data-frame\"><p>5 rows × 4 columns</p><table class=\"data-frame\"><thead><tr><th></th><th>herd</th><th>period</th><th>incid</th><th>hsz</th></tr><tr><th></th><th title=\"String\">String</th><th title=\"Float64\">Float64</th><th title=\"Int8\">Int8</th><th title=\"Int8\">Int8</th></tr></thead><tbody><tr><th>1</th><td>H01</td><td>1.0</td><td>2</td><td>14</td></tr><tr><th>2</th><td>H01</td><td>2.0</td><td>3</td><td>12</td></tr><tr><th>3</th><td>H01</td><td>3.0</td><td>4</td><td>9</td></tr><tr><th>4</th><td>H01</td><td>4.0</td><td>0</td><td>5</td></tr><tr><th>5</th><td>H02</td><td>1.0</td><td>3</td><td>22</td></tr></tbody></table></div>"
      ],
      "text/latex": [
       "\\begin{tabular}{r|cccc}\n",
       "\t& herd & period & incid & hsz\\\\\n",
       "\t\\hline\n",
       "\t& String & Float64 & Int8 & Int8\\\\\n",
       "\t\\hline\n",
       "\t1 & H01 & 1.0 & 2 & 14 \\\\\n",
       "\t2 & H01 & 2.0 & 3 & 12 \\\\\n",
       "\t3 & H01 & 3.0 & 4 & 9 \\\\\n",
       "\t4 & H01 & 4.0 & 0 & 5 \\\\\n",
       "\t5 & H02 & 1.0 & 3 & 22 \\\\\n",
       "\\end{tabular}\n"
      ],
      "text/plain": [
       "\u001b[1m5×4 DataFrame\u001b[0m\n",
       "\u001b[1m Row \u001b[0m│\u001b[1m herd   \u001b[0m\u001b[1m period  \u001b[0m\u001b[1m incid \u001b[0m\u001b[1m hsz  \u001b[0m\n",
       "\u001b[1m     \u001b[0m│\u001b[90m String \u001b[0m\u001b[90m Float64 \u001b[0m\u001b[90m Int8  \u001b[0m\u001b[90m Int8 \u001b[0m\n",
       "─────┼──────────────────────────────\n",
       "   1 │ H01         1.0      2    14\n",
       "   2 │ H01         2.0      3    12\n",
       "   3 │ H01         3.0      4     9\n",
       "   4 │ H01         4.0      0     5\n",
       "   5 │ H02         1.0      3    22"
      ]
     },
     "execution_count": 6,
     "metadata": {},
     "output_type": "execute_result"
    }
   ],
   "source": [
    "#MixedModels.datasets()\n",
    "df = DataFrame(MixedModels.dataset(:cbpp))\n",
    "df[!,:period] = map(x->parse(Float64,x),df[:,:period])\n",
    "first(df,5)"
   ]
  },
  {
   "cell_type": "code",
   "execution_count": 7,
   "metadata": {},
   "outputs": [
    {
     "data": {
      "text/html": [
       "<div class=\"data-frame\"><p>5 rows × 4 columns</p><table class=\"data-frame\"><thead><tr><th></th><th>period</th><th>herd</th><th>incid</th><th>hsz</th></tr><tr><th></th><th title=\"Float64\">Float64</th><th title=\"String\">String</th><th title=\"Int8\">Int8</th><th title=\"Int8\">Int8</th></tr></thead><tbody><tr><th>1</th><td>1.0</td><td>H01</td><td>2</td><td>14</td></tr><tr><th>2</th><td>2.0</td><td>H01</td><td>3</td><td>12</td></tr><tr><th>3</th><td>3.0</td><td>H01</td><td>4</td><td>9</td></tr><tr><th>4</th><td>4.0</td><td>H01</td><td>0</td><td>5</td></tr><tr><th>5</th><td>1.0</td><td>H02</td><td>3</td><td>22</td></tr></tbody></table></div>"
      ],
      "text/latex": [
       "\\begin{tabular}{r|cccc}\n",
       "\t& period & herd & incid & hsz\\\\\n",
       "\t\\hline\n",
       "\t& Float64 & String & Int8 & Int8\\\\\n",
       "\t\\hline\n",
       "\t1 & 1.0 & H01 & 2 & 14 \\\\\n",
       "\t2 & 2.0 & H01 & 3 & 12 \\\\\n",
       "\t3 & 3.0 & H01 & 4 & 9 \\\\\n",
       "\t4 & 4.0 & H01 & 0 & 5 \\\\\n",
       "\t5 & 1.0 & H02 & 3 & 22 \\\\\n",
       "\\end{tabular}\n"
      ],
      "text/plain": [
       "\u001b[1m5×4 DataFrame\u001b[0m\n",
       "\u001b[1m Row \u001b[0m│\u001b[1m period  \u001b[0m\u001b[1m herd   \u001b[0m\u001b[1m incid \u001b[0m\u001b[1m hsz  \u001b[0m\n",
       "\u001b[1m     \u001b[0m│\u001b[90m Float64 \u001b[0m\u001b[90m String \u001b[0m\u001b[90m Int8  \u001b[0m\u001b[90m Int8 \u001b[0m\n",
       "─────┼──────────────────────────────\n",
       "   1 │     1.0  H01         2    14\n",
       "   2 │     2.0  H01         3    12\n",
       "   3 │     3.0  H01         4     9\n",
       "   4 │     4.0  H01         0     5\n",
       "   5 │     1.0  H02         3    22"
      ]
     },
     "execution_count": 7,
     "metadata": {},
     "output_type": "execute_result"
    }
   ],
   "source": [
    "select!(df,[:period,:herd,:incid,:hsz])\n",
    "first(df,5)"
   ]
  },
  {
   "cell_type": "code",
   "execution_count": 8,
   "metadata": {},
   "outputs": [
    {
     "data": {
      "text/plain": [
       "FormulaTerm\n",
       "Response:\n",
       "  period(unknown)\n",
       "Predictors:\n",
       "  0\n",
       "  (herd)->1 | herd\n",
       "  incid(unknown)\n",
       "  hsz(unknown)"
      ]
     },
     "execution_count": 8,
     "metadata": {},
     "output_type": "execute_result"
    }
   ],
   "source": [
    "#f = @formula(period ~ 0 + herd + incid + hsz)\n",
    "f = @formula(period ~ 0 +(1|herd) + incid + hsz )\n",
    "#f = @formula(period ~ herd + incid + hsz)\n",
    "#contrasts = Dict( :incid => ContinuousTerm, :hsz => ContinuousTerm, :herd => CategoricalTerm)\n",
    "#fit(MixedModel, @formula(period ~ incid + hsz +(1|herd)), df, REML = true)"
   ]
  },
  {
   "cell_type": "markdown",
   "metadata": {},
   "source": [
    "### Construct object"
   ]
  },
  {
   "cell_type": "markdown",
   "metadata": {},
   "source": [
    "#### 1.Number of variables indicates M,X,Z"
   ]
  },
  {
   "cell_type": "code",
   "execution_count": null,
   "metadata": {},
   "outputs": [],
   "source": [
    "HMM = HighDimMM.highDimMixedModel(f, df, contrasts, 1, 1)"
   ]
  },
  {
   "cell_type": "markdown",
   "metadata": {},
   "source": [
    "#### 2.indices indicates M,X,Z"
   ]
  },
  {
   "cell_type": "code",
   "execution_count": null,
   "metadata": {},
   "outputs": [],
   "source": [
    "HMM = HighDimMM.highDimMixedModel(f, df, contrasts, 1, [2,4],3)"
   ]
  },
  {
   "cell_type": "code",
   "execution_count": null,
   "metadata": {},
   "outputs": [],
   "source": [
    "HMM = highDimMixedModel(f, df, contrasts, 2, 3, 1)"
   ]
  },
  {
   "cell_type": "markdown",
   "metadata": {},
   "source": [
    "#### 3.variable names indicates M,X,Z"
   ]
  },
  {
   "cell_type": "code",
   "execution_count": null,
   "metadata": {},
   "outputs": [],
   "source": [
    "#HMM = HighDimMM.highDimMixedModel(f, df, contrasts, \"a\", [\"b\",\"d\"],\"c\")\n",
    "HMM = highDimMixedModel(f, df, contrasts, \"incid\", \"hsz\", \"herd\")"
   ]
  },
  {
   "cell_type": "code",
   "execution_count": null,
   "metadata": {},
   "outputs": [],
   "source": [
    "first(HMM.M.M,5)"
   ]
  },
  {
   "cell_type": "code",
   "execution_count": null,
   "metadata": {},
   "outputs": [],
   "source": [
    "first(HMM.X.X,5)"
   ]
  },
  {
   "cell_type": "code",
   "execution_count": null,
   "metadata": {},
   "outputs": [],
   "source": [
    "size(HMM.Z.Z)"
   ]
  },
  {
   "cell_type": "code",
   "execution_count": null,
   "metadata": {},
   "outputs": [],
   "source": [
    "y, pred = modelcols(form, df);\n",
    "terms = form.rhs.terms\n",
    "M = highDimMat(modelmatrix(terms[idOfHDM],df))\n",
    "X = XMat(modelmatrix(terms[idOfXMat],df))\n",
    "\n",
    "#preTerms = Vector(1:length(form.rhs.terms))\n",
    "#idOfReMat = preTerms[preTerms .∉ Ref(vcat(idOfHDM, idOfXmat))]\n",
    "Z = ReMat(modelmatrix(terms[idOfReMat],df))"
   ]
  },
  {
   "cell_type": "code",
   "execution_count": null,
   "metadata": {},
   "outputs": [],
   "source": []
  },
  {
   "cell_type": "markdown",
   "metadata": {},
   "source": [
    "#### 4. parse random effect in formula"
   ]
  },
  {
   "cell_type": "code",
   "execution_count": 9,
   "metadata": {},
   "outputs": [
    {
     "name": "stderr",
     "output_type": "stream",
     "text": [
      "┌ Warning: n >= p in high dimensional matrix\n",
      "└ @ HighDimMixedModels /Users/zyxu/.julia/dev/HighDimMixedModels/src/bricks.jl:12\n"
     ]
    },
    {
     "data": {
      "text/plain": []
     },
     "execution_count": 9,
     "metadata": {},
     "output_type": "execute_result"
    }
   ],
   "source": [
    "HMM = highDimMixedModel(f, df, 1)"
   ]
  },
  {
   "cell_type": "code",
   "execution_count": 10,
   "metadata": {},
   "outputs": [
    {
     "data": {
      "text/plain": [
       "5-element Vector{Float64}:\n",
       " 2.0\n",
       " 3.0\n",
       " 4.0\n",
       " 0.0\n",
       " 3.0"
      ]
     },
     "execution_count": 10,
     "metadata": {},
     "output_type": "execute_result"
    }
   ],
   "source": [
    "first(HMM.M.M,5)"
   ]
  },
  {
   "cell_type": "code",
   "execution_count": 11,
   "metadata": {},
   "outputs": [
    {
     "data": {
      "text/plain": [
       "5-element Vector{Float64}:\n",
       " 14.0\n",
       " 12.0\n",
       "  9.0\n",
       "  5.0\n",
       " 22.0"
      ]
     },
     "execution_count": 11,
     "metadata": {},
     "output_type": "execute_result"
    }
   ],
   "source": [
    "first(HMM.X.X,5)"
   ]
  },
  {
   "cell_type": "code",
   "execution_count": 12,
   "metadata": {},
   "outputs": [
    {
     "data": {
      "text/plain": [
       "(56, 15)"
      ]
     },
     "execution_count": 12,
     "metadata": {},
     "output_type": "execute_result"
    }
   ],
   "source": [
    "size(HMM.Z.Z)"
   ]
  },
  {
   "cell_type": "markdown",
   "metadata": {},
   "source": [
    "### Optimization"
   ]
  },
  {
   "cell_type": "markdown",
   "metadata": {},
   "source": [
    "$$\n",
    "\\mathbf{y} \\text { is } N_{n}(\\mathbf{X} \\boldsymbol{\\beta}, \\mathbf{\\Sigma}), \\quad \\text { where } \\quad \\mathbf{\\Sigma}= \\sigma_{z}^{2}\n",
    "\\mathbf{Z} \\mathbf{Z}^{\\prime}+\\sigma^{2} \\mathbf{I}_{n} \n",
    "$$"
   ]
  },
  {
   "cell_type": "markdown",
   "metadata": {},
   "source": [
    "Let $$\\mathbf{P}=\\mathbf{I}-\\mathbf{H}=\\mathbf{I}-\\mathbf{X}\\left(\\mathbf{X}^{\\prime} \\mathbf{X}\\right)^{-} \\mathbf{X}^{\\prime}$$"
   ]
  },
  {
   "cell_type": "markdown",
   "metadata": {},
   "source": [
    "$$\\mathbf{K}=\\mathbf{C}\\mathbf{P} \\in R^{(n-r)\\times n}$$"
   ]
  },
  {
   "cell_type": "markdown",
   "metadata": {},
   "source": [
    "$$\n",
    "Ky \\sim N_{n-r}\\left(\\mathbf{0}, \\mathbf{K} \\mathbf{\\Sigma} \\mathbf{K}^{\\prime}\\right) = N_{n-r}\\left[\\mathbf{0}, \\mathbf{K}\\left(\\sigma_{z}^{2} \\mathbf{Z} \\mathbf{Z}^{\\prime}+\\sigma^{2} \\mathbf{I}_{n} \\right) \\mathbf{K}^{\\prime}\\right]\n",
    "$$\n",
    "To simplify, we assume fixed effect as full rank, where r is the number of fixed effects."
   ]
  },
  {
   "cell_type": "markdown",
   "metadata": {},
   "source": [
    "The objective function is:\n",
    "$$\n",
    "\\frac{n-r}{2} \\ln (2 \\pi)-\\frac{1}{2} \\ln \\left|\\mathbf{K} \\Sigma \\mathbf{K}^{\\prime}\\right|-\\frac{1}{2} \\mathbf{y}^{\\prime} \\mathbf{K}^{\\prime}\\left(\\mathbf{K} \\Sigma \\mathbf{K}^{\\prime}\\right)^{-1} \\mathbf{K} \\mathbf{y}\n",
    "$$"
   ]
  },
  {
   "cell_type": "code",
   "execution_count": null,
   "metadata": {},
   "outputs": [],
   "source": [
    "#include(\"HighDimMixedModels.jl\")\n",
    "#import .HighDimMM   #https://docs.julialang.org/en/v1/manual/variables-and-scoping/\n",
    "#HMM = HighDimMM.highDimMixedModel(f, df, contrasts, \"incid\", \"hsz\",\"herd\")"
   ]
  },
  {
   "cell_type": "code",
   "execution_count": 15,
   "metadata": {},
   "outputs": [
    {
     "data": {
      "text/plain": []
     },
     "execution_count": 15,
     "metadata": {},
     "output_type": "execute_result"
    }
   ],
   "source": [
    "HMM::highDimMixedModel"
   ]
  },
  {
   "cell_type": "code",
   "execution_count": 16,
   "metadata": {},
   "outputs": [
    {
     "data": {
      "text/plain": []
     },
     "execution_count": 16,
     "metadata": {},
     "output_type": "execute_result"
    }
   ],
   "source": [
    "HMM::MixedModel"
   ]
  },
  {
   "cell_type": "code",
   "execution_count": 17,
   "metadata": {},
   "outputs": [
    {
     "name": "stdout",
     "output_type": "stream",
     "text": [
      "sigma = [1.0, 1.0]\n",
      "negLog = -57.1099018030012\n",
      "The initial object value is -57.1099018030012\n",
      "sigma = [1.0, 1.0]\n",
      "negLog = -57.1099018030012\n",
      "OPTBL: starting point [1.0, 1.0]\n",
      "sigma = [1.0, 1.0]\n",
      "negLog = -57.1099018030012\n",
      "sigma = [1.75, 1.0]\n",
      "negLog = -55.97912076973617\n",
      "sigma = [1.0, 1.75]\n",
      "negLog = -52.37720093978967\n",
      "sigma = [0.25, 1.0]\n",
      "negLog = -64.50473446075652\n",
      "sigma = [1.0, 0.25]\n",
      "negLog = -128.22481961167495\n",
      "sigma = [0.29289321881345254, 0.0]\n",
      "negLog = Inf\n",
      "sigma = [0.9469669914110089, 0.19696699141100893]\n",
      "negLog = -156.76581599673838\n",
      "sigma = [0.995676667220638, 0.13993745974082217]\n",
      "negLog = -207.31013755591323\n",
      "sigma = [0.9952996645647639, 0.06493840728682465]\n",
      "negLog = -405.77399467791014\n",
      "sigma = [0.9878315127277438, 0.06424796674686986]\n",
      "negLog = -410.13655848976134\n",
      "sigma = [0.987341243774038, 0.05676400814509819]\n",
      "negLog = -458.32682425399554\n",
      "sigma = [0.9948025184365511, 0.05600283772361585]\n",
      "negLog = -463.4181543729141\n",
      "sigma = [0.9947292842170775, 0.05525642178789495]\n",
      "negLog = -469.0572593148946\n",
      "sigma = [0.9951857851545717, 0.05466135297333067]\n",
      "negLog = -473.62526662984465\n",
      "sigma = [0.9946641908880741, 0.05412242865475073]\n",
      "negLog = -477.91189431849295\n",
      "sigma = [0.994593640676598, 0.054147877970275336]\n",
      "negLog = -477.71418362885424\n",
      "sigma = [0.9946398946629649, 0.05405147308100603]\n",
      "negLog = -478.47940946755097\n",
      "sigma = [0.9946937837404701, 0.053999310188777606]\n",
      "negLog = -478.8925749561385\n",
      "sigma = [0.9946893101492189, 0.05399329047272804]\n",
      "negLog = -478.9410464756395\n",
      "sigma = [0.9946954834580819, 0.053989031334589564]\n",
      "negLog = -478.9747009013731\n",
      "sigma = [0.9946902649028658, 0.05398364462117065]\n",
      "negLog = -479.01817519385304\n",
      "sigma = [0.9946902649028658, 0.05398364462117065]\n",
      "negLog = -479.01817519385304\n",
      "got -479.01818 at [0.99469, 0.05398] after 22 iterations (returned XTOL_REACHED)\n",
      "\n"
     ]
    }
   ],
   "source": [
    "sigma, betaM, betaX, opt = fit(HMM, verbose = true, REML = true, alg = :LN_BOBYQA) # :LN_BOBYQA :LN_COBYLA\n",
    "println(\"\")"
   ]
  },
  {
   "cell_type": "code",
   "execution_count": null,
   "metadata": {},
   "outputs": [],
   "source": [
    "HMM.optsum"
   ]
  },
  {
   "cell_type": "code",
   "execution_count": null,
   "metadata": {},
   "outputs": [],
   "source": [
    "opt"
   ]
  },
  {
   "cell_type": "code",
   "execution_count": null,
   "metadata": {},
   "outputs": [],
   "source": [
    "display(HMM)"
   ]
  },
  {
   "cell_type": "code",
   "execution_count": null,
   "metadata": {},
   "outputs": [],
   "source": [
    "opt"
   ]
  },
  {
   "cell_type": "code",
   "execution_count": null,
   "metadata": {},
   "outputs": [],
   "source": [
    "show(opt)"
   ]
  },
  {
   "cell_type": "code",
   "execution_count": null,
   "metadata": {},
   "outputs": [],
   "source": [
    "display(opt)"
   ]
  },
  {
   "cell_type": "code",
   "execution_count": null,
   "metadata": {},
   "outputs": [],
   "source": [
    "sigma"
   ]
  },
  {
   "cell_type": "markdown",
   "metadata": {},
   "source": [
    "After getting estimate of sigma, we estimate beta\n",
    "$$\n",
    "\\hat{\\beta}(\\theta) = (X^T\\Sigma^{-1}X)^{-1}X^T\\Sigma^{-1}y\n",
    "$$"
   ]
  },
  {
   "cell_type": "code",
   "execution_count": null,
   "metadata": {},
   "outputs": [],
   "source": [
    "beta"
   ]
  },
  {
   "cell_type": "code",
   "execution_count": null,
   "metadata": {},
   "outputs": [],
   "source": []
  },
  {
   "cell_type": "code",
   "execution_count": null,
   "metadata": {},
   "outputs": [],
   "source": []
  },
  {
   "cell_type": "code",
   "execution_count": null,
   "metadata": {},
   "outputs": [],
   "source": []
  },
  {
   "cell_type": "code",
   "execution_count": null,
   "metadata": {},
   "outputs": [],
   "source": []
  },
  {
   "cell_type": "code",
   "execution_count": null,
   "metadata": {},
   "outputs": [],
   "source": [
    "data = MixedModels.dataset(:cbpp)"
   ]
  },
  {
   "cell_type": "code",
   "execution_count": null,
   "metadata": {},
   "outputs": [],
   "source": [
    "using CSV"
   ]
  },
  {
   "cell_type": "code",
   "execution_count": null,
   "metadata": {},
   "outputs": [],
   "source": [
    "CSV.write(\"cbpp\",data)"
   ]
  },
  {
   "cell_type": "code",
   "execution_count": null,
   "metadata": {},
   "outputs": [],
   "source": [
    "pwd"
   ]
  },
  {
   "cell_type": "code",
   "execution_count": null,
   "metadata": {},
   "outputs": [],
   "source": [
    "isnothing(12)"
   ]
  },
  {
   "cell_type": "code",
   "execution_count": null,
   "metadata": {},
   "outputs": [],
   "source": [
    "Type{<:MixedModel}"
   ]
  },
  {
   "cell_type": "code",
   "execution_count": null,
   "metadata": {},
   "outputs": [],
   "source": [
    "using Pkg"
   ]
  },
  {
   "cell_type": "code",
   "execution_count": null,
   "metadata": {},
   "outputs": [],
   "source": [
    "print(Pkg.status())"
   ]
  },
  {
   "cell_type": "code",
   "execution_count": null,
   "metadata": {},
   "outputs": [],
   "source": []
  }
 ],
 "metadata": {
  "kernelspec": {
   "display_name": "Julia 1.6.1",
   "language": "julia",
   "name": "julia-1.6"
  },
  "language_info": {
   "file_extension": ".jl",
   "mimetype": "application/julia",
   "name": "julia",
   "version": "1.6.1"
  }
 },
 "nbformat": 4,
 "nbformat_minor": 4
}
