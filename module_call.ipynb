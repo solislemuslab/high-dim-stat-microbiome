{
 "cells": [
  {
   "cell_type": "markdown",
   "metadata": {},
   "source": [
    "### using all packages"
   ]
  },
  {
   "cell_type": "code",
   "execution_count": 1,
   "metadata": {},
   "outputs": [],
   "source": [
    "using LinearAlgebra\n",
    "using DataFrames\n",
    "using StableRNGs; rng = StableRNG(1);\n",
    "using StatsModels\n",
    "using MixedModels"
   ]
  },
  {
   "cell_type": "markdown",
   "metadata": {},
   "source": [
    "### using module"
   ]
  },
  {
   "cell_type": "code",
   "execution_count": 2,
   "metadata": {},
   "outputs": [],
   "source": [
    "include(\"HighDimMixedModels.jl\")\n",
    "import .HighDimMM   #https://docs.julialang.org/en/v1/manual/variables-and-scoping/"
   ]
  },
  {
   "cell_type": "markdown",
   "metadata": {},
   "source": [
    "**Set up data and formula, specify factor variables(CategoricalTerm)**"
   ]
  },
  {
   "cell_type": "code",
   "execution_count": 3,
   "metadata": {},
   "outputs": [
    {
     "data": {
      "text/html": [
       "<table class=\"data-frame\"><thead><tr><th></th><th>y</th><th>a</th><th>b</th><th>c</th><th>d</th></tr><tr><th></th><th>Float64</th><th>Int64</th><th>Float64</th><th>String</th><th>Float64</th></tr></thead><tbody><p>9 rows × 5 columns</p><tr><th>1</th><td>0.585195</td><td>1</td><td>0.236782</td><td>d</td><td>0.752223</td></tr><tr><th>2</th><td>0.0773379</td><td>2</td><td>0.943741</td><td>e</td><td>0.314815</td></tr><tr><th>3</th><td>0.716628</td><td>3</td><td>0.445671</td><td>f</td><td>0.858522</td></tr><tr><th>4</th><td>0.320357</td><td>4</td><td>0.763679</td><td>d</td><td>0.698713</td></tr><tr><th>5</th><td>0.653093</td><td>5</td><td>0.145071</td><td>e</td><td>0.757746</td></tr><tr><th>6</th><td>0.236639</td><td>6</td><td>0.021124</td><td>f</td><td>0.419294</td></tr><tr><th>7</th><td>0.709684</td><td>7</td><td>0.152545</td><td>d</td><td>0.412607</td></tr><tr><th>8</th><td>0.557787</td><td>8</td><td>0.617492</td><td>e</td><td>0.454589</td></tr><tr><th>9</th><td>0.05079</td><td>9</td><td>0.481531</td><td>f</td><td>0.380933</td></tr></tbody></table>"
      ],
      "text/latex": [
       "\\begin{tabular}{r|ccccc}\n",
       "\t& y & a & b & c & d\\\\\n",
       "\t\\hline\n",
       "\t& Float64 & Int64 & Float64 & String & Float64\\\\\n",
       "\t\\hline\n",
       "\t1 & 0.585195 & 1 & 0.236782 & d & 0.752223 \\\\\n",
       "\t2 & 0.0773379 & 2 & 0.943741 & e & 0.314815 \\\\\n",
       "\t3 & 0.716628 & 3 & 0.445671 & f & 0.858522 \\\\\n",
       "\t4 & 0.320357 & 4 & 0.763679 & d & 0.698713 \\\\\n",
       "\t5 & 0.653093 & 5 & 0.145071 & e & 0.757746 \\\\\n",
       "\t6 & 0.236639 & 6 & 0.021124 & f & 0.419294 \\\\\n",
       "\t7 & 0.709684 & 7 & 0.152545 & d & 0.412607 \\\\\n",
       "\t8 & 0.557787 & 8 & 0.617492 & e & 0.454589 \\\\\n",
       "\t9 & 0.05079 & 9 & 0.481531 & f & 0.380933 \\\\\n",
       "\\end{tabular}\n"
      ],
      "text/plain": [
       "\u001b[1m9×5 DataFrame\u001b[0m\n",
       "\u001b[1m Row \u001b[0m│\u001b[1m y         \u001b[0m\u001b[1m a     \u001b[0m\u001b[1m b        \u001b[0m\u001b[1m c      \u001b[0m\u001b[1m d        \u001b[0m\n",
       "\u001b[1m     \u001b[0m│\u001b[90m Float64   \u001b[0m\u001b[90m Int64 \u001b[0m\u001b[90m Float64  \u001b[0m\u001b[90m String \u001b[0m\u001b[90m Float64  \u001b[0m\n",
       "─────┼──────────────────────────────────────────────\n",
       "   1 │ 0.585195       1  0.236782  d       0.752223\n",
       "   2 │ 0.0773379      2  0.943741  e       0.314815\n",
       "   3 │ 0.716628       3  0.445671  f       0.858522\n",
       "   4 │ 0.320357       4  0.763679  d       0.698713\n",
       "   5 │ 0.653093       5  0.145071  e       0.757746\n",
       "   6 │ 0.236639       6  0.021124  f       0.419294\n",
       "   7 │ 0.709684       7  0.152545  d       0.412607\n",
       "   8 │ 0.557787       8  0.617492  e       0.454589\n",
       "   9 │ 0.05079        9  0.481531  f       0.380933"
      ]
     },
     "execution_count": 3,
     "metadata": {},
     "output_type": "execute_result"
    }
   ],
   "source": [
    "#df = DataFrame(y = rand(rng, 9), a = 1:9, b = rand(rng, 9), c = repeat([\"d\",\"e\",\"f\"], 3), d = vcat(repeat([1,2], 4),1))\n",
    "df = DataFrame(y = rand(rng, 9), a = 1:1:9, b = rand(rng, 9), c = repeat([\"d\",\"e\",\"f\"], 3), d = rand(rng, 9))\n",
    "f = @formula(y ~  a + b + c + d)\n",
    "contrasts = Dict( :a => ContinuousTerm, :b=>ContinuousTerm, :c => CategoricalTerm)\n",
    "df"
   ]
  },
  {
   "cell_type": "code",
   "execution_count": 6,
   "metadata": {},
   "outputs": [
    {
     "data": {
      "text/html": [
       "<table class=\"data-frame\"><thead><tr><th></th><th>herd</th><th>period</th><th>incid</th><th>hsz</th></tr><tr><th></th><th>String</th><th>Float64</th><th>Int8</th><th>Int8</th></tr></thead><tbody><p>5 rows × 4 columns</p><tr><th>1</th><td>H01</td><td>1.0</td><td>2</td><td>14</td></tr><tr><th>2</th><td>H01</td><td>2.0</td><td>3</td><td>12</td></tr><tr><th>3</th><td>H01</td><td>3.0</td><td>4</td><td>9</td></tr><tr><th>4</th><td>H01</td><td>4.0</td><td>0</td><td>5</td></tr><tr><th>5</th><td>H02</td><td>1.0</td><td>3</td><td>22</td></tr></tbody></table>"
      ],
      "text/latex": [
       "\\begin{tabular}{r|cccc}\n",
       "\t& herd & period & incid & hsz\\\\\n",
       "\t\\hline\n",
       "\t& String & Float64 & Int8 & Int8\\\\\n",
       "\t\\hline\n",
       "\t1 & H01 & 1.0 & 2 & 14 \\\\\n",
       "\t2 & H01 & 2.0 & 3 & 12 \\\\\n",
       "\t3 & H01 & 3.0 & 4 & 9 \\\\\n",
       "\t4 & H01 & 4.0 & 0 & 5 \\\\\n",
       "\t5 & H02 & 1.0 & 3 & 22 \\\\\n",
       "\\end{tabular}\n"
      ],
      "text/plain": [
       "\u001b[1m5×4 DataFrame\u001b[0m\n",
       "\u001b[1m Row \u001b[0m│\u001b[1m herd   \u001b[0m\u001b[1m period  \u001b[0m\u001b[1m incid \u001b[0m\u001b[1m hsz  \u001b[0m\n",
       "\u001b[1m     \u001b[0m│\u001b[90m String \u001b[0m\u001b[90m Float64 \u001b[0m\u001b[90m Int8  \u001b[0m\u001b[90m Int8 \u001b[0m\n",
       "─────┼──────────────────────────────\n",
       "   1 │ H01         1.0      2    14\n",
       "   2 │ H01         2.0      3    12\n",
       "   3 │ H01         3.0      4     9\n",
       "   4 │ H01         4.0      0     5\n",
       "   5 │ H02         1.0      3    22"
      ]
     },
     "execution_count": 6,
     "metadata": {},
     "output_type": "execute_result"
    }
   ],
   "source": [
    "#MixedModels.datasets()\n",
    "df = DataFrame(MixedModels.dataset(:cbpp))\n",
    "df[!,:period] = map(x->parse(Float64,x),df[:,:period])\n",
    "first(df,5)"
   ]
  },
  {
   "cell_type": "code",
   "execution_count": 7,
   "metadata": {},
   "outputs": [
    {
     "data": {
      "text/html": [
       "<table class=\"data-frame\"><thead><tr><th></th><th>period</th><th>herd</th><th>incid</th><th>hsz</th></tr><tr><th></th><th>Float64</th><th>String</th><th>Int8</th><th>Int8</th></tr></thead><tbody><p>5 rows × 4 columns</p><tr><th>1</th><td>1.0</td><td>H01</td><td>2</td><td>14</td></tr><tr><th>2</th><td>2.0</td><td>H01</td><td>3</td><td>12</td></tr><tr><th>3</th><td>3.0</td><td>H01</td><td>4</td><td>9</td></tr><tr><th>4</th><td>4.0</td><td>H01</td><td>0</td><td>5</td></tr><tr><th>5</th><td>1.0</td><td>H02</td><td>3</td><td>22</td></tr></tbody></table>"
      ],
      "text/latex": [
       "\\begin{tabular}{r|cccc}\n",
       "\t& period & herd & incid & hsz\\\\\n",
       "\t\\hline\n",
       "\t& Float64 & String & Int8 & Int8\\\\\n",
       "\t\\hline\n",
       "\t1 & 1.0 & H01 & 2 & 14 \\\\\n",
       "\t2 & 2.0 & H01 & 3 & 12 \\\\\n",
       "\t3 & 3.0 & H01 & 4 & 9 \\\\\n",
       "\t4 & 4.0 & H01 & 0 & 5 \\\\\n",
       "\t5 & 1.0 & H02 & 3 & 22 \\\\\n",
       "\\end{tabular}\n"
      ],
      "text/plain": [
       "\u001b[1m5×4 DataFrame\u001b[0m\n",
       "\u001b[1m Row \u001b[0m│\u001b[1m period  \u001b[0m\u001b[1m herd   \u001b[0m\u001b[1m incid \u001b[0m\u001b[1m hsz  \u001b[0m\n",
       "\u001b[1m     \u001b[0m│\u001b[90m Float64 \u001b[0m\u001b[90m String \u001b[0m\u001b[90m Int8  \u001b[0m\u001b[90m Int8 \u001b[0m\n",
       "─────┼──────────────────────────────\n",
       "   1 │     1.0  H01         2    14\n",
       "   2 │     2.0  H01         3    12\n",
       "   3 │     3.0  H01         4     9\n",
       "   4 │     4.0  H01         0     5\n",
       "   5 │     1.0  H02         3    22"
      ]
     },
     "execution_count": 7,
     "metadata": {},
     "output_type": "execute_result"
    }
   ],
   "source": [
    "select!(df,[:period,:herd,:incid,:hsz])\n",
    "first(df,5)"
   ]
  },
  {
   "cell_type": "code",
   "execution_count": 8,
   "metadata": {},
   "outputs": [
    {
     "data": {
      "text/plain": [
       "Dict{Symbol, UnionAll} with 3 entries:\n",
       "  :hsz   => ContinuousTerm\n",
       "  :herd  => CategoricalTerm\n",
       "  :incid => ContinuousTerm"
      ]
     },
     "execution_count": 8,
     "metadata": {},
     "output_type": "execute_result"
    }
   ],
   "source": [
    "f = @formula(period ~ herd + incid + hsz)\n",
    "contrasts = Dict( :incid => ContinuousTerm, :hsz => ContinuousTerm, :herd => CategoricalTerm)\n",
    "#fit(MixedModel, @formula(period ~ incid + hsz +(1|herd)), df, REML = true)"
   ]
  },
  {
   "cell_type": "markdown",
   "metadata": {},
   "source": [
    "### Construct object"
   ]
  },
  {
   "cell_type": "markdown",
   "metadata": {},
   "source": [
    "#### 1.Number of variables indicates M,X,Z"
   ]
  },
  {
   "cell_type": "code",
   "execution_count": null,
   "metadata": {},
   "outputs": [],
   "source": [
    "HMM = HighDimMM.highDimMixedModel(f, df, contrasts, 1, 1)"
   ]
  },
  {
   "cell_type": "markdown",
   "metadata": {},
   "source": [
    "#### 2.indices indicates M,X,Z"
   ]
  },
  {
   "cell_type": "code",
   "execution_count": null,
   "metadata": {},
   "outputs": [],
   "source": [
    "HMM = HighDimMM.highDimMixedModel(f, df, contrasts, 1, [2,4],3)"
   ]
  },
  {
   "cell_type": "markdown",
   "metadata": {},
   "source": [
    "#### 3.variable names indicates M,X,Z"
   ]
  },
  {
   "cell_type": "code",
   "execution_count": 9,
   "metadata": {},
   "outputs": [
    {
     "name": "stderr",
     "output_type": "stream",
     "text": [
      "┌ Warning: n >= p in high dimensional matrix\n",
      "└ @ Main.HighDimMM /Users/zyxu/Documents/julia/highDimMM/bricks.jl:12\n"
     ]
    },
    {
     "data": {
      "text/plain": []
     },
     "execution_count": 9,
     "metadata": {},
     "output_type": "execute_result"
    }
   ],
   "source": [
    "#HMM = HighDimMM.highDimMixedModel(f, df, contrasts, \"a\", [\"b\",\"d\"],\"c\")\n",
    "HMM = HighDimMM.highDimMixedModel(f, df, contrasts, \"incid\", \"hsz\",\"herd\")"
   ]
  },
  {
   "cell_type": "code",
   "execution_count": 10,
   "metadata": {},
   "outputs": [
    {
     "data": {
      "text/plain": [
       "5-element Vector{Float64}:\n",
       " 2.0\n",
       " 3.0\n",
       " 4.0\n",
       " 0.0\n",
       " 3.0"
      ]
     },
     "execution_count": 10,
     "metadata": {},
     "output_type": "execute_result"
    }
   ],
   "source": [
    "first(HMM.M.M,5)"
   ]
  },
  {
   "cell_type": "code",
   "execution_count": 11,
   "metadata": {},
   "outputs": [
    {
     "data": {
      "text/plain": [
       "5-element Vector{Float64}:\n",
       " 14.0\n",
       " 12.0\n",
       "  9.0\n",
       "  5.0\n",
       " 22.0"
      ]
     },
     "execution_count": 11,
     "metadata": {},
     "output_type": "execute_result"
    }
   ],
   "source": [
    "first(HMM.X.X,5)"
   ]
  },
  {
   "cell_type": "code",
   "execution_count": 19,
   "metadata": {},
   "outputs": [
    {
     "data": {
      "text/plain": [
       "(56, 14)"
      ]
     },
     "execution_count": 19,
     "metadata": {},
     "output_type": "execute_result"
    }
   ],
   "source": [
    "size(HMM.Z.Z)"
   ]
  },
  {
   "cell_type": "code",
   "execution_count": null,
   "metadata": {},
   "outputs": [],
   "source": [
    "y, pred = modelcols(form, df);\n",
    "terms = form.rhs.terms\n",
    "M = highDimMat(modelmatrix(terms[idOfHDM],df))\n",
    "X = XMat(modelmatrix(terms[idOfXMat],df))\n",
    "\n",
    "#preTerms = Vector(1:length(form.rhs.terms))\n",
    "#idOfReMat = preTerms[preTerms .∉ Ref(vcat(idOfHDM, idOfXmat))]\n",
    "Z = ReMat(modelmatrix(terms[idOfReMat],df))"
   ]
  },
  {
   "cell_type": "code",
   "execution_count": null,
   "metadata": {},
   "outputs": [],
   "source": []
  },
  {
   "cell_type": "code",
   "execution_count": null,
   "metadata": {},
   "outputs": [],
   "source": []
  },
  {
   "cell_type": "code",
   "execution_count": null,
   "metadata": {},
   "outputs": [],
   "source": []
  },
  {
   "cell_type": "markdown",
   "metadata": {},
   "source": [
    "### Optimization"
   ]
  },
  {
   "cell_type": "markdown",
   "metadata": {},
   "source": [
    "$$\n",
    "\\mathbf{y} \\text { is } N_{n}(\\mathbf{X} \\boldsymbol{\\beta}, \\mathbf{\\Sigma}), \\quad \\text { where } \\quad \\mathbf{\\Sigma}= \\sigma_{z}^{2}\n",
    "\\mathbf{Z} \\mathbf{Z}^{\\prime}+\\sigma^{2} \\mathbf{I}_{n} \n",
    "$$"
   ]
  },
  {
   "cell_type": "markdown",
   "metadata": {},
   "source": [
    "Let $$\\mathbf{P}=\\mathbf{I}-\\mathbf{H}=\\mathbf{I}-\\mathbf{X}\\left(\\mathbf{X}^{\\prime} \\mathbf{X}\\right)^{-} \\mathbf{X}^{\\prime}$$"
   ]
  },
  {
   "cell_type": "markdown",
   "metadata": {},
   "source": [
    "$$\\mathbf{K}=\\mathbf{C}\\mathbf{P} \\in R^{(n-r)\\times n}$$"
   ]
  },
  {
   "cell_type": "markdown",
   "metadata": {},
   "source": [
    "$$\n",
    "Ky \\sim N_{n-r}\\left(\\mathbf{0}, \\mathbf{K} \\mathbf{\\Sigma} \\mathbf{K}^{\\prime}\\right) = N_{n-r}\\left[\\mathbf{0}, \\mathbf{K}\\left(\\sigma_{z}^{2} \\mathbf{Z} \\mathbf{Z}^{\\prime}+\\sigma^{2} \\mathbf{I}_{n} \\right) \\mathbf{K}^{\\prime}\\right]\n",
    "$$\n",
    "To simplify, we assume fixed effect as full rank, where r is the number of fixed effects."
   ]
  },
  {
   "cell_type": "markdown",
   "metadata": {},
   "source": [
    "The objective function is:\n",
    "$$\n",
    "\\frac{n-r}{2} \\ln (2 \\pi)-\\frac{1}{2} \\ln \\left|\\mathbf{K} \\Sigma \\mathbf{K}^{\\prime}\\right|-\\frac{1}{2} \\mathbf{y}^{\\prime} \\mathbf{K}^{\\prime}\\left(\\mathbf{K} \\Sigma \\mathbf{K}^{\\prime}\\right)^{-1} \\mathbf{K} \\mathbf{y}\n",
    "$$"
   ]
  },
  {
   "cell_type": "code",
   "execution_count": 50,
   "metadata": {},
   "outputs": [
    {
     "name": "stderr",
     "output_type": "stream",
     "text": [
      "WARNING: replacing module HighDimMM.\n",
      "┌ Warning: n >= p in high dimensional matrix\n",
      "└ @ Main.HighDimMM /Users/zyxu/Documents/julia/highDimMM/bricks.jl:12\n"
     ]
    },
    {
     "data": {
      "text/plain": []
     },
     "execution_count": 50,
     "metadata": {},
     "output_type": "execute_result"
    }
   ],
   "source": [
    "include(\"HighDimMixedModels.jl\")\n",
    "import .HighDimMM   #https://docs.julialang.org/en/v1/manual/variables-and-scoping/\n",
    "HMM = HighDimMM.highDimMixedModel(f, df, contrasts, \"incid\", \"hsz\",\"herd\")"
   ]
  },
  {
   "cell_type": "code",
   "execution_count": 54,
   "metadata": {},
   "outputs": [
    {
     "name": "stdout",
     "output_type": "stream",
     "text": [
      "sigma = [1.5, 1.5]\n",
      "negLog = -55.42022892537054\n",
      "The initial object value is -55.42022892537054\n",
      "sigma = [1.5, 1.5]\n",
      "negLog = -55.42022892537054\n",
      "OPTBL: starting point [1.5, 1.5]\n",
      "sigma = [1.5, 1.5]\n",
      "negLog = -55.42022892537054\n",
      "sigma = [2.625, 1.5]\n",
      "negLog = -56.410930728972986\n",
      "sigma = [2.625, 2.625]\n",
      "negLog = -55.703752290415146\n",
      "sigma = [3.5406536917518467, 0.8463920771737735]\n",
      "negLog = -67.55427132321276\n",
      "sigma = [4.664039325095646, 0.7861449295504178]\n",
      "negLog = -70.77586409759834\n",
      "sigma = [5.468776021004419, 1.5722898591008356]\n",
      "negLog = -58.566262269973535\n",
      "sigma = [4.725648228604872, 0.2270290265317405]\n",
      "negLog = -177.0870938482737\n",
      "sigma = [4.210998764297321, 2.7755575615628914e-17]\n",
      "negLog = Inf\n",
      "sigma = [NaN, NaN]\n",
      "negLog = NaN\n",
      "sigma = [NaN, NaN]\n",
      "negLog = NaN\n",
      "sigma = [NaN, NaN]\n",
      "negLog = NaN\n",
      "sigma = [4.724585329271449, 0.28300127417115684]\n",
      "negLog = -145.10626768354598\n",
      "sigma = [NaN, NaN]\n",
      "negLog = NaN\n",
      "sigma = [4.7722908084308795, 0.22777802921369125]\n",
      "negLog = -176.5723495949748\n",
      "sigma = [4.725190448852134, 0.08640477164412172]\n",
      "negLog = -456.69745528084553\n",
      "sigma = [4.836139112936597, 0.0]\n",
      "negLog = Inf\n",
      "sigma = [NaN, NaN]\n",
      "negLog = NaN\n",
      "sigma = [4.741126774153093, 0.0885661853942319]\n",
      "negLog = -445.4265696128931\n",
      "sigma = [NaN, NaN]\n",
      "negLog = NaN\n",
      "sigma = [4.739733737088641, 0.08803187639581236]\n",
      "negLog = -448.16111049151095\n",
      "sigma = [NaN, NaN]\n",
      "negLog = NaN\n",
      "sigma = [4.7453933664994015, 0.11041948938346872]\n",
      "negLog = -356.6986824930341\n",
      "sigma = [NaN, NaN]\n",
      "negLog = NaN\n",
      "sigma = [NaN, NaN]\n",
      "negLog = NaN\n",
      "sigma = [4.723637383311952, 0.09257781317615815]\n",
      "negLog = -425.9144982578447\n",
      "sigma = [4.730639935440727, 0.05167344558272232]\n",
      "negLog = -770.5503078533201\n",
      "sigma = [4.74850925131128, 0.021397226129479554]\n",
      "negLog = -1893.6764697990473\n",
      "sigma = [4.783660206820379, 0.022007341577449734]\n",
      "negLog = -1840.2755683292792\n",
      "sigma = [4.720614437670991, 0.04279445225895911]\n",
      "negLog = -934.0609317811846\n",
      "sigma = [4.748104376152842, 0.003823764472147932]\n",
      "negLog = -10806.562427113888\n",
      "sigma = [4.7652615700894145, 4.7704895589362195e-18]\n",
      "negLog = Inf\n",
      "sigma = [NaN, NaN]\n",
      "negLog = NaN\n",
      "sigma = [NaN, NaN]\n",
      "negLog = NaN\n",
      "sigma = [NaN, NaN]\n",
      "negLog = NaN\n",
      "sigma = [4.7463527018176155, 0.003838771646853517]\n",
      "negLog = -10764.05123572607\n",
      "sigma = [4.750270185509357, 0.0]\n",
      "negLog = Inf\n",
      "sigma = [NaN, NaN]\n",
      "negLog = NaN\n",
      "sigma = [NaN, NaN]\n",
      "negLog = NaN\n",
      "sigma = [NaN, NaN]\n",
      "negLog = NaN\n",
      "sigma = [4.748104430566512, 0.004311237665673707]\n",
      "negLog = -9577.162355828154\n",
      "sigma = [4.74810553586823, 0.00272513227174514]\n",
      "negLog = -15191.72320336592\n",
      "sigma = [4.748102803397143, 0.001626502857291194]\n",
      "negLog = -25506.422069241988\n",
      "sigma = [4.747725160449613, 0.0005948149873992164]\n",
      "negLog = -69907.84191332177\n",
      "sigma = [4.746631867094037, 0.00048663136869615207]\n",
      "negLog = -85472.85424103138\n",
      "sigma = [4.745646887922835, 0.0009732627373923041]\n",
      "negLog = -42685.91615438126\n",
      "sigma = [4.746377036905134, 2.710505431213761e-19]\n",
      "negLog = Inf\n",
      "sigma = [NaN, NaN]\n",
      "negLog = NaN\n",
      "sigma = [4.746624670983121, 0.000524611839793387]\n",
      "negLog = -79277.03412472279\n",
      "sigma = [NaN, NaN]\n",
      "negLog = NaN\n",
      "sigma = [4.746589954379215, 0.0005346959171499258]\n",
      "negLog = -77779.89295615097\n",
      "sigma = [NaN, NaN]\n",
      "negLog = NaN\n",
      "sigma = [4.746605639275931, 0.0005143179002832667]\n",
      "negLog = -80865.89380906086\n",
      "sigma = [NaN, NaN]\n",
      "negLog = NaN\n",
      "sigma = [4.746607149846732, 0.0005222690407482366]\n",
      "negLog = -79633.13700720381\n",
      "sigma = [NaN, NaN]\n",
      "negLog = NaN\n",
      "sigma = [4.746603608342805, 0.0005403029160615788]\n",
      "negLog = -76971.62346334718\n",
      "sigma = [NaN, NaN]\n",
      "negLog = NaN\n",
      "sigma = [4.746525706002188, 0.0005023868198628499]\n",
      "negLog = -82788.92298640881\n",
      "sigma = [NaN, NaN]\n",
      "negLog = NaN\n",
      "sigma = [NaN, NaN]\n",
      "negLog = NaN\n",
      "sigma = [4.74663300250288, 0.0005418861996308924]\n",
      "negLog = -76746.41617970985\n",
      "sigma = [4.746633464364409, 0.00034931155634803735]\n",
      "negLog = -119117.54518195671\n",
      "sigma = [4.74662725264786, 0.00021212301195211648]\n",
      "negLog = -196233.2635386915\n",
      "sigma = [4.746541523502382, 0.00010483929579938227]\n",
      "negLog = -397176.5228361859\n",
      "sigma = [4.7464092105718505, 6.806198553418753e-5]\n",
      "negLog = -611868.4683627135\n",
      "sigma = [4.746287522376666, 4.412434957191166e-6]\n",
      "negLog = -9.440465483516049e6\n",
      "sigma = [4.746424780573339, 8.824869914382332e-6]\n",
      "negLog = -4.720135202926571e6\n",
      "sigma = [4.7461502641799935, 3.5575383784680614e-20]\n",
      "negLog = Inf\n",
      "sigma = [NaN, NaN]\n",
      "negLog = NaN\n",
      "sigma = [NaN, NaN]\n",
      "negLog = NaN\n",
      "sigma = [4.746294214273951, 1.3087531702726185e-5]\n",
      "negLog = -3.182707984318887e6\n",
      "sigma = [4.746321569925054, 8.824869914382332e-6]\n",
      "negLog = -4.720135202408414e6\n",
      "sigma = [4.7462890105312905, 2.0642269343507997e-5]\n",
      "negLog = -2.0178237250287405e6\n",
      "sigma = [4.746253474828278, 8.824869914382332e-6]\n",
      "negLog = -4.720135202161175e6\n",
      "sigma = [4.74630411173172, 8.824869914382332e-6]\n",
      "negLog = -4.720135202356419e6\n",
      "sigma = [4.746277173805859, 8.824869914382332e-6]\n",
      "negLog = -4.72013520234647e6\n",
      "got -4.72013520235e6 at [4.74628, 1.0e-5] after 76 iterations (returned XTOL_REACHED)\n",
      "\n"
     ]
    }
   ],
   "source": [
    "sigma, betaM, betaX, opt = HighDimMM.fit(HMM, verbose = true, REML = true, alg = :LN_BOBYQA) # :LN_BOBYQA :LN_COBYLA\n",
    "println(\"\")"
   ]
  },
  {
   "cell_type": "code",
   "execution_count": 55,
   "metadata": {},
   "outputs": [
    {
     "data": {
      "text/plain": [
       "Linear mixed model fit by REML\n",
       " period ~ herd + incid + hsz\n",
       " REML criterion at convergence: -4.72013520234647e6\n"
      ]
     },
     "execution_count": 55,
     "metadata": {},
     "output_type": "execute_result"
    },
    {
     "name": "stdout",
     "output_type": "stream",
     "text": [
      "σ_z : 4.746277173805859\n",
      "σ : 8.824869914382332e-6\n",
      "β_M : [-0.2355940802560706]\n",
      "β_X : Float64[]\n"
     ]
    }
   ],
   "source": [
    "HMM"
   ]
  },
  {
   "cell_type": "code",
   "execution_count": 53,
   "metadata": {},
   "outputs": [
    {
     "data": {
      "text/latex": [
       "\\begin{tabular}\n",
       "{l | l}\n",
       " &  \\\\\n",
       "\\hline\n",
       "\\textbf{Initialization} &  \\\\\n",
       "Initial parameter vector & [1.5, 1.5] \\\\\n",
       "Initial objective value & -55.42022892537054 \\\\\n",
       "\\textbf{Optimizer settings}  &  \\\\\n",
       "Optimizer (from NLopt) & \\texttt{LN\\_BOBYQA} \\\\\n",
       "Lower bounds & [0.0, 0.0] \\\\\n",
       "\\texttt{ftol\\_rel} & 1.0e-12 \\\\\n",
       "\\texttt{ftol\\_abs} & 1.0e-8 \\\\\n",
       "\\texttt{xtol\\_rel} & 1.0e-5 \\\\\n",
       "\\texttt{xtol\\_abs} & [0.0, 0.0] \\\\\n",
       "\\texttt{initial\\_step} & [1.125, 1.125] \\\\\n",
       "\\texttt{maxfeval} & -1 \\\\\n",
       "\\texttt{maxtime} & -1.0 \\\\\n",
       "\\textbf{Result} &  \\\\\n",
       "Function evaluations & 22 \\\\\n",
       "Final parameter vector & [1.3156, 0.1566] \\\\\n",
       "Final objective value & -253.7661 \\\\\n",
       "Return code & \\texttt{XTOL\\_REACHED} \\\\\n",
       "\\end{tabular}\n"
      ],
      "text/markdown": [
       "|                          |                    |\n",
       "|:------------------------ |:------------------ |\n",
       "| **Initialization**       |                    |\n",
       "| Initial parameter vector | [1.5, 1.5]         |\n",
       "| Initial objective value  | -55.42022892537054 |\n",
       "| **Optimizer settings**   |                    |\n",
       "| Optimizer (from NLopt)   | `LN_BOBYQA`        |\n",
       "| Lower bounds             | [0.0, 0.0]         |\n",
       "| `ftol_rel`               | 1.0e-12            |\n",
       "| `ftol_abs`               | 1.0e-8             |\n",
       "| `xtol_rel`               | 1.0e-5             |\n",
       "| `xtol_abs`               | [0.0, 0.0]         |\n",
       "| `initial_step`           | [1.125, 1.125]     |\n",
       "| `maxfeval`               | -1                 |\n",
       "| `maxtime`                | -1.0               |\n",
       "| **Result**               |                    |\n",
       "| Function evaluations     | 22                 |\n",
       "| Final parameter vector   | [1.3156, 0.1566]   |\n",
       "| Final objective value    | -253.7661          |\n",
       "| Return code              | `XTOL_REACHED`     |\n"
      ],
      "text/plain": [
       "Initial parameter vector: [1.5, 1.5]\n",
       "Initial objective value:  -55.42022892537054\n",
       "\n",
       "Optimizer (from NLopt):   LN_BOBYQA\n",
       "Lower bounds:             [0.0, 0.0]\n",
       "ftol_rel:                 1.0e-12\n",
       "ftol_abs:                 1.0e-8\n",
       "xtol_rel:                 1.0e-5\n",
       "xtol_abs:                 [0.0, 0.0]\n",
       "initial_step:             [1.125, 1.125]\n",
       "maxfeval:                 -1\n",
       "maxtime:                  -1.0\n",
       "\n",
       "Function evaluations:     22\n",
       "Final parameter vector:   [1.3155687067256467, 0.15664584862363043]\n",
       "Final objective value:    -253.76606475628182\n",
       "Return code:              XTOL_REACHED\n"
      ]
     },
     "execution_count": 53,
     "metadata": {},
     "output_type": "execute_result"
    }
   ],
   "source": [
    "HMM.optsum"
   ]
  },
  {
   "cell_type": "code",
   "execution_count": 45,
   "metadata": {},
   "outputs": [
    {
     "data": {
      "text/latex": [
       "\\begin{tabular}\n",
       "{l | l}\n",
       " &  \\\\\n",
       "\\hline\n",
       "\\textbf{Initialization} &  \\\\\n",
       "Initial parameter vector & [1.0, 1.0] \\\\\n",
       "Initial objective value & -61.76979106719719 \\\\\n",
       "\\textbf{Optimizer settings}  &  \\\\\n",
       "Optimizer (from NLopt) & \\texttt{LN\\_BOBYQA} \\\\\n",
       "Lower bounds & [0.0, 0.0] \\\\\n",
       "\\texttt{ftol\\_rel} & 1.0e-12 \\\\\n",
       "\\texttt{ftol\\_abs} & 1.0e-8 \\\\\n",
       "\\texttt{xtol\\_rel} & 1.0e-5 \\\\\n",
       "\\texttt{xtol\\_abs} & [0.0, 0.0] \\\\\n",
       "\\texttt{initial\\_step} & [0.75, 0.75] \\\\\n",
       "\\texttt{maxfeval} & -1 \\\\\n",
       "\\texttt{maxtime} & -1.0 \\\\\n",
       "\\textbf{Result} &  \\\\\n",
       "Function evaluations & 22 \\\\\n",
       "Final parameter vector & [0.9947, 0.054] \\\\\n",
       "Final objective value & -743.9667 \\\\\n",
       "Return code & \\texttt{XTOL\\_REACHED} \\\\\n",
       "\\end{tabular}\n"
      ],
      "text/markdown": [
       "|                          |                    |\n",
       "|:------------------------ |:------------------ |\n",
       "| **Initialization**       |                    |\n",
       "| Initial parameter vector | [1.0, 1.0]         |\n",
       "| Initial objective value  | -61.76979106719719 |\n",
       "| **Optimizer settings**   |                    |\n",
       "| Optimizer (from NLopt)   | `LN_BOBYQA`        |\n",
       "| Lower bounds             | [0.0, 0.0]         |\n",
       "| `ftol_rel`               | 1.0e-12            |\n",
       "| `ftol_abs`               | 1.0e-8             |\n",
       "| `xtol_rel`               | 1.0e-5             |\n",
       "| `xtol_abs`               | [0.0, 0.0]         |\n",
       "| `initial_step`           | [0.75, 0.75]       |\n",
       "| `maxfeval`               | -1                 |\n",
       "| `maxtime`                | -1.0               |\n",
       "| **Result**               |                    |\n",
       "| Function evaluations     | 22                 |\n",
       "| Final parameter vector   | [0.9947, 0.054]    |\n",
       "| Final objective value    | -743.9667          |\n",
       "| Return code              | `XTOL_REACHED`     |\n"
      ],
      "text/plain": [
       "Initial parameter vector: [1.0, 1.0]\n",
       "Initial objective value:  -61.76979106719719\n",
       "\n",
       "Optimizer (from NLopt):   LN_BOBYQA\n",
       "Lower bounds:             [0.0, 0.0]\n",
       "ftol_rel:                 1.0e-12\n",
       "ftol_abs:                 1.0e-8\n",
       "xtol_rel:                 1.0e-5\n",
       "xtol_abs:                 [0.0, 0.0]\n",
       "initial_step:             [0.75, 0.75]\n",
       "maxfeval:                 -1\n",
       "maxtime:                  -1.0\n",
       "\n",
       "Function evaluations:     22\n",
       "Final parameter vector:   [0.9946902649028658, 0.05398364462117065]\n",
       "Final objective value:    -743.9667300124138\n",
       "Return code:              XTOL_REACHED\n"
      ]
     },
     "execution_count": 45,
     "metadata": {},
     "output_type": "execute_result"
    }
   ],
   "source": [
    "opt"
   ]
  },
  {
   "cell_type": "code",
   "execution_count": null,
   "metadata": {},
   "outputs": [],
   "source": [
    "display(HMM)"
   ]
  },
  {
   "cell_type": "code",
   "execution_count": null,
   "metadata": {},
   "outputs": [],
   "source": [
    "opt"
   ]
  },
  {
   "cell_type": "code",
   "execution_count": null,
   "metadata": {},
   "outputs": [],
   "source": [
    "show(opt)"
   ]
  },
  {
   "cell_type": "code",
   "execution_count": null,
   "metadata": {},
   "outputs": [],
   "source": [
    "display(opt)"
   ]
  },
  {
   "cell_type": "code",
   "execution_count": null,
   "metadata": {},
   "outputs": [],
   "source": [
    "sigma"
   ]
  },
  {
   "cell_type": "markdown",
   "metadata": {},
   "source": [
    "After getting estimate of sigma, we estimate beta\n",
    "$$\n",
    "\\hat{\\beta}(\\theta) = (X^T\\Sigma^{-1}X)^{-1}X^T\\Sigma^{-1}y\n",
    "$$"
   ]
  },
  {
   "cell_type": "code",
   "execution_count": null,
   "metadata": {},
   "outputs": [],
   "source": [
    "beta"
   ]
  },
  {
   "cell_type": "code",
   "execution_count": null,
   "metadata": {},
   "outputs": [],
   "source": []
  },
  {
   "cell_type": "code",
   "execution_count": null,
   "metadata": {},
   "outputs": [],
   "source": []
  },
  {
   "cell_type": "code",
   "execution_count": null,
   "metadata": {},
   "outputs": [],
   "source": []
  },
  {
   "cell_type": "code",
   "execution_count": null,
   "metadata": {},
   "outputs": [],
   "source": []
  },
  {
   "cell_type": "code",
   "execution_count": null,
   "metadata": {},
   "outputs": [],
   "source": [
    "data = MixedModels.dataset(:cbpp)"
   ]
  },
  {
   "cell_type": "code",
   "execution_count": null,
   "metadata": {},
   "outputs": [],
   "source": [
    "using CSV"
   ]
  },
  {
   "cell_type": "code",
   "execution_count": null,
   "metadata": {},
   "outputs": [],
   "source": [
    "CSV.write(\"cbpp\",data)"
   ]
  },
  {
   "cell_type": "code",
   "execution_count": null,
   "metadata": {},
   "outputs": [],
   "source": [
    "pwd"
   ]
  },
  {
   "cell_type": "code",
   "execution_count": null,
   "metadata": {},
   "outputs": [],
   "source": [
    "isnothing(12)"
   ]
  },
  {
   "cell_type": "code",
   "execution_count": null,
   "metadata": {},
   "outputs": [],
   "source": []
  }
 ],
 "metadata": {
  "kernelspec": {
   "display_name": "Julia 1.6.1",
   "language": "julia",
   "name": "julia-1.6"
  },
  "language_info": {
   "file_extension": ".jl",
   "mimetype": "application/julia",
   "name": "julia",
   "version": "1.6.1"
  }
 },
 "nbformat": 4,
 "nbformat_minor": 4
}
