{
 "cells": [
  {
   "cell_type": "markdown",
   "metadata": {},
   "source": [
    "### using all packages"
   ]
  },
  {
   "cell_type": "code",
   "execution_count": 10,
   "metadata": {},
   "outputs": [],
   "source": [
    "using LinearAlgebra\n",
    "using DataFrames\n",
    "using StableRNGs; rng = StableRNG(1);\n",
    "using StatsModels\n",
    "using MixedModels"
   ]
  },
  {
   "cell_type": "markdown",
   "metadata": {},
   "source": [
    "### using module"
   ]
  },
  {
   "cell_type": "code",
   "execution_count": 11,
   "metadata": {},
   "outputs": [
    {
     "name": "stderr",
     "output_type": "stream",
     "text": [
      "WARNING: replacing module HighDimMM.\n"
     ]
    }
   ],
   "source": [
    "include(\"HighDimMixedModels.jl\")\n",
    "import .HighDimMM   #https://docs.julialang.org/en/v1/manual/variables-and-scoping/"
   ]
  },
  {
   "cell_type": "markdown",
   "metadata": {},
   "source": [
    "**Set up data and formula, specify factor variables(CategoricalTerm)**"
   ]
  },
  {
   "cell_type": "code",
   "execution_count": 5,
   "metadata": {},
   "outputs": [
    {
     "data": {
      "text/html": [
       "<table class=\"data-frame\"><thead><tr><th></th><th>y</th><th>a</th><th>b</th><th>c</th><th>d</th></tr><tr><th></th><th>Float64</th><th>Int64</th><th>Float64</th><th>String</th><th>Float64</th></tr></thead><tbody><p>9 rows × 5 columns</p><tr><th>1</th><td>0.585195</td><td>1</td><td>0.236782</td><td>d</td><td>0.752223</td></tr><tr><th>2</th><td>0.0773379</td><td>2</td><td>0.943741</td><td>e</td><td>0.314815</td></tr><tr><th>3</th><td>0.716628</td><td>3</td><td>0.445671</td><td>f</td><td>0.858522</td></tr><tr><th>4</th><td>0.320357</td><td>4</td><td>0.763679</td><td>d</td><td>0.698713</td></tr><tr><th>5</th><td>0.653093</td><td>5</td><td>0.145071</td><td>e</td><td>0.757746</td></tr><tr><th>6</th><td>0.236639</td><td>6</td><td>0.021124</td><td>f</td><td>0.419294</td></tr><tr><th>7</th><td>0.709684</td><td>7</td><td>0.152545</td><td>d</td><td>0.412607</td></tr><tr><th>8</th><td>0.557787</td><td>8</td><td>0.617492</td><td>e</td><td>0.454589</td></tr><tr><th>9</th><td>0.05079</td><td>9</td><td>0.481531</td><td>f</td><td>0.380933</td></tr></tbody></table>"
      ],
      "text/latex": [
       "\\begin{tabular}{r|ccccc}\n",
       "\t& y & a & b & c & d\\\\\n",
       "\t\\hline\n",
       "\t& Float64 & Int64 & Float64 & String & Float64\\\\\n",
       "\t\\hline\n",
       "\t1 & 0.585195 & 1 & 0.236782 & d & 0.752223 \\\\\n",
       "\t2 & 0.0773379 & 2 & 0.943741 & e & 0.314815 \\\\\n",
       "\t3 & 0.716628 & 3 & 0.445671 & f & 0.858522 \\\\\n",
       "\t4 & 0.320357 & 4 & 0.763679 & d & 0.698713 \\\\\n",
       "\t5 & 0.653093 & 5 & 0.145071 & e & 0.757746 \\\\\n",
       "\t6 & 0.236639 & 6 & 0.021124 & f & 0.419294 \\\\\n",
       "\t7 & 0.709684 & 7 & 0.152545 & d & 0.412607 \\\\\n",
       "\t8 & 0.557787 & 8 & 0.617492 & e & 0.454589 \\\\\n",
       "\t9 & 0.05079 & 9 & 0.481531 & f & 0.380933 \\\\\n",
       "\\end{tabular}\n"
      ],
      "text/plain": [
       "\u001b[1m9×5 DataFrame\u001b[0m\n",
       "\u001b[1m Row \u001b[0m│\u001b[1m y         \u001b[0m\u001b[1m a     \u001b[0m\u001b[1m b        \u001b[0m\u001b[1m c      \u001b[0m\u001b[1m d        \u001b[0m\n",
       "\u001b[1m     \u001b[0m│\u001b[90m Float64   \u001b[0m\u001b[90m Int64 \u001b[0m\u001b[90m Float64  \u001b[0m\u001b[90m String \u001b[0m\u001b[90m Float64  \u001b[0m\n",
       "─────┼──────────────────────────────────────────────\n",
       "   1 │ 0.585195       1  0.236782  d       0.752223\n",
       "   2 │ 0.0773379      2  0.943741  e       0.314815\n",
       "   3 │ 0.716628       3  0.445671  f       0.858522\n",
       "   4 │ 0.320357       4  0.763679  d       0.698713\n",
       "   5 │ 0.653093       5  0.145071  e       0.757746\n",
       "   6 │ 0.236639       6  0.021124  f       0.419294\n",
       "   7 │ 0.709684       7  0.152545  d       0.412607\n",
       "   8 │ 0.557787       8  0.617492  e       0.454589\n",
       "   9 │ 0.05079        9  0.481531  f       0.380933"
      ]
     },
     "execution_count": 5,
     "metadata": {},
     "output_type": "execute_result"
    }
   ],
   "source": [
    "#df = DataFrame(y = rand(rng, 9), a = 1:9, b = rand(rng, 9), c = repeat([\"d\",\"e\",\"f\"], 3), d = vcat(repeat([1,2], 4),1))\n",
    "df = DataFrame(y = rand(rng, 9), a = 1:1:9, b = rand(rng, 9), c = repeat([\"d\",\"e\",\"f\"], 3), d = rand(rng, 9))\n",
    "f = @formula(y ~  a + b + c + d)\n",
    "contrasts = Dict( :a => ContinuousTerm, :b=>ContinuousTerm, :c => CategoricalTerm)\n",
    "df"
   ]
  },
  {
   "cell_type": "markdown",
   "metadata": {},
   "source": [
    "### Construct object"
   ]
  },
  {
   "cell_type": "markdown",
   "metadata": {},
   "source": [
    "#### 1.Number of variables indicates M,X,Z"
   ]
  },
  {
   "cell_type": "code",
   "execution_count": 6,
   "metadata": {},
   "outputs": [
    {
     "name": "stderr",
     "output_type": "stream",
     "text": [
      "┌ Warning: n >= p in high dimensional matrix\n",
      "└ @ Main.HighDimMM /Users/zyxu/Documents/julia/highDimMM/bricks.jl:12\n"
     ]
    },
    {
     "data": {
      "text/plain": [
       "Main.HighDimMM.highDimMixedModel{Float64}(y ~ a + b + c + d, Main.HighDimMM.highDimMat{Float64, Matrix{Float64}}([0.236781883208121; 0.9437409715735081; … ; 0.617492416565387; 0.48153065407402607]), Main.HighDimMM.XMat{Float64, Matrix{Float64}}([1.0 0.0; 2.0 1.0; … ; 8.0 1.0; 9.0 0.0]), [0.0 0.7522231521093703; 0.0 0.31481548090434086; … ; 0.0 0.45458919106592477; 1.0 0.38093255230858825], [0.5851946422124186, 0.07733793456911231, 0.7166282400543453, 0.3203570514066232, 0.6530930076222579, 0.2366391513734556, 0.7096838914472361, 0.5577872440804086, 0.05079002172175784])"
      ]
     },
     "execution_count": 6,
     "metadata": {},
     "output_type": "execute_result"
    }
   ],
   "source": [
    "HMM = HighDimMM.highDimMixedModel(f, df, contrasts, 1, 1)"
   ]
  },
  {
   "cell_type": "markdown",
   "metadata": {},
   "source": [
    "#### 2.indices indicates M,X,Z"
   ]
  },
  {
   "cell_type": "code",
   "execution_count": 7,
   "metadata": {},
   "outputs": [
    {
     "name": "stderr",
     "output_type": "stream",
     "text": [
      "┌ Warning: n >= p in high dimensional matrix\n",
      "└ @ Main.HighDimMM /Users/zyxu/Documents/julia/highDimMM/bricks.jl:12\n"
     ]
    },
    {
     "data": {
      "text/plain": [
       "Main.HighDimMM.highDimMixedModel{Float64}(y ~ a + b + c + d, Main.HighDimMM.highDimMat{Float64, Matrix{Float64}}([1.0; 2.0; … ; 8.0; 9.0]), Main.HighDimMM.XMat{Float64, Matrix{Float64}}([0.236781883208121 0.7522231521093703; 0.9437409715735081 0.31481548090434086; … ; 0.617492416565387 0.45458919106592477; 0.48153065407402607 0.38093255230858825]), [0.0 0.0; 1.0 0.0; … ; 1.0 0.0; 0.0 1.0], [0.5851946422124186, 0.07733793456911231, 0.7166282400543453, 0.3203570514066232, 0.6530930076222579, 0.2366391513734556, 0.7096838914472361, 0.5577872440804086, 0.05079002172175784])"
      ]
     },
     "execution_count": 7,
     "metadata": {},
     "output_type": "execute_result"
    }
   ],
   "source": [
    "HMM = HighDimMM.highDimMixedModel(f, df, contrasts, 1, [2,4],3)"
   ]
  },
  {
   "cell_type": "markdown",
   "metadata": {},
   "source": [
    "### 3.variable names indicates M,X,Z"
   ]
  },
  {
   "cell_type": "code",
   "execution_count": 12,
   "metadata": {},
   "outputs": [
    {
     "name": "stderr",
     "output_type": "stream",
     "text": [
      "┌ Warning: n >= p in high dimensional matrix\n",
      "└ @ Main.HighDimMM /Users/zyxu/Documents/julia/highDimMM/bricks.jl:12\n"
     ]
    },
    {
     "data": {
      "text/plain": [
       "Main.HighDimMM.highDimMixedModel{Float64}(y ~ a + b + c + d, Main.HighDimMM.highDimMat{Float64, Matrix{Float64}}([1.0; 2.0; … ; 8.0; 9.0]), Main.HighDimMM.XMat{Float64, Matrix{Float64}}([0.236781883208121 0.7522231521093703; 0.9437409715735081 0.31481548090434086; … ; 0.617492416565387 0.45458919106592477; 0.48153065407402607 0.38093255230858825]), [0.0 0.0; 1.0 0.0; … ; 1.0 0.0; 0.0 1.0], [0.5851946422124186, 0.07733793456911231, 0.7166282400543453, 0.3203570514066232, 0.6530930076222579, 0.2366391513734556, 0.7096838914472361, 0.5577872440804086, 0.05079002172175784])"
      ]
     },
     "execution_count": 12,
     "metadata": {},
     "output_type": "execute_result"
    }
   ],
   "source": [
    "HMM = HighDimMM.highDimMixedModel(f, df, contrasts, \"a\", [\"b\",\"d\"],\"c\")"
   ]
  },
  {
   "cell_type": "markdown",
   "metadata": {},
   "source": [
    "### Optimization"
   ]
  },
  {
   "cell_type": "markdown",
   "metadata": {},
   "source": [
    "$$\n",
    "\\mathbf{y} \\text { is } N_{n}(\\mathbf{X} \\boldsymbol{\\beta}, \\mathbf{\\Sigma}), \\quad \\text { where } \\quad \\mathbf{\\Sigma}= \\sigma_{z}^{2}\n",
    "\\mathbf{Z} \\mathbf{Z}^{\\prime}+\\sigma^{2} \\mathbf{I}_{n} \n",
    "$$"
   ]
  },
  {
   "cell_type": "markdown",
   "metadata": {},
   "source": [
    "Let $$\\mathbf{P}=\\mathbf{I}-\\mathbf{H}=\\mathbf{I}-\\mathbf{X}\\left(\\mathbf{X}^{\\prime} \\mathbf{X}\\right)^{-} \\mathbf{X}^{\\prime}$$"
   ]
  },
  {
   "cell_type": "markdown",
   "metadata": {},
   "source": [
    "$$\\mathbf{K}=\\mathbf{C}\\mathbf{P} \\in R^{(n-r)\\times n}$$"
   ]
  },
  {
   "cell_type": "markdown",
   "metadata": {},
   "source": [
    "$$\n",
    "Ky \\sim N_{n-r}\\left(\\mathbf{0}, \\mathbf{K} \\mathbf{\\Sigma} \\mathbf{K}^{\\prime}\\right) = N_{n-r}\\left[\\mathbf{0}, \\mathbf{K}\\left(\\sigma_{z}^{2} \\mathbf{Z} \\mathbf{Z}^{\\prime}+\\sigma^{2} \\mathbf{I}_{n} \\right) \\mathbf{K}^{\\prime}\\right]\n",
    "$$\n",
    "To simplify, we assume fixed effect as full rank, where r is the number of fixed effects."
   ]
  },
  {
   "cell_type": "markdown",
   "metadata": {},
   "source": [
    "The objective function is:\n",
    "$$\n",
    "\\frac{n-r}{2} \\ln (2 \\pi)-\\frac{1}{2} \\ln \\left|\\mathbf{K} \\Sigma \\mathbf{K}^{\\prime}\\right|-\\frac{1}{2} \\mathbf{y}^{\\prime} \\mathbf{K}^{\\prime}\\left(\\mathbf{K} \\Sigma \\mathbf{K}^{\\prime}\\right)^{-1} \\mathbf{K} \\mathbf{y}\n",
    "$$"
   ]
  },
  {
   "cell_type": "code",
   "execution_count": 14,
   "metadata": {},
   "outputs": [
    {
     "name": "stdout",
     "output_type": "stream",
     "text": [
      "OPTBL: starting point [2, 2]\n",
      "got -39.83898 at [188229.14752, 496891.01255] after 265679 iterations (returned FORCED_STOP)\n"
     ]
    },
    {
     "data": {
      "text/plain": [
       "([188229.14751929764, 496891.0125509644], [0.01727688920494593, -0.2990299131352748, 0.871836712849253])"
      ]
     },
     "execution_count": 14,
     "metadata": {},
     "output_type": "execute_result"
    }
   ],
   "source": [
    "sigma, beta = HighDimMM.fit!(HMM, verbose = true, REML = true, alg = :LN_COBYLA)"
   ]
  },
  {
   "cell_type": "code",
   "execution_count": 16,
   "metadata": {},
   "outputs": [
    {
     "data": {
      "text/plain": [
       "2-element Vector{Float64}:\n",
       " 188229.14751929764\n",
       " 496891.0125509644"
      ]
     },
     "execution_count": 16,
     "metadata": {},
     "output_type": "execute_result"
    }
   ],
   "source": [
    "sigma"
   ]
  },
  {
   "cell_type": "markdown",
   "metadata": {},
   "source": [
    "After getting estimate of sigma, we estimate beta\n",
    "$$\n",
    "\\hat{\\beta}(\\theta) = (X^T\\Sigma^{-1}X)^{-1}X^T\\Sigma^{-1}y\n",
    "$$"
   ]
  },
  {
   "cell_type": "code",
   "execution_count": 15,
   "metadata": {},
   "outputs": [
    {
     "data": {
      "text/plain": [
       "3-element Vector{Float64}:\n",
       "  0.01727688920494593\n",
       " -0.2990299131352748\n",
       "  0.871836712849253"
      ]
     },
     "execution_count": 15,
     "metadata": {},
     "output_type": "execute_result"
    }
   ],
   "source": [
    "beta"
   ]
  },
  {
   "cell_type": "code",
   "execution_count": null,
   "metadata": {},
   "outputs": [],
   "source": []
  }
 ],
 "metadata": {
  "kernelspec": {
   "display_name": "Julia 1.6.1",
   "language": "julia",
   "name": "julia-1.6"
  },
  "language_info": {
   "file_extension": ".jl",
   "mimetype": "application/julia",
   "name": "julia",
   "version": "1.6.1"
  }
 },
 "nbformat": 4,
 "nbformat_minor": 4
}
