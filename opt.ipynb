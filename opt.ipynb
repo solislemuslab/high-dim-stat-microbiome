{
 "cells": [
  {
   "cell_type": "code",
   "execution_count": 1,
   "metadata": {},
   "outputs": [
    {
     "name": "stdout",
     "output_type": "stream",
     "text": [
      "\u001b[36m\u001b[1m     Project\u001b[22m\u001b[39m demo v0.1.0\n",
      "\u001b[32m\u001b[1m      Status\u001b[22m\u001b[39m `~/Documents/julia/demo/Project.toml`\n",
      " \u001b[90m [336ed68f] \u001b[39m\u001b[37mCSV v0.9.6\u001b[39m\n",
      " \u001b[90m [7876af07] \u001b[39m\u001b[37mExample v0.5.4 `~/.julia/dev/Example`\u001b[39m\n",
      " \u001b[90m [ced58d7a] \u001b[39m\u001b[37mHighDimMixedModels v0.1.0 `~/.julia/dev/HighDimMixedModels`\u001b[39m\n",
      " \u001b[90m [ff71e718] \u001b[39m\u001b[37mMixedModels v4.4.0 `~/.julia/dev/MixedModels`\u001b[39m\n",
      " \u001b[90m [14b8a8f1] \u001b[39m\u001b[37mPkgTemplates v0.7.19\u001b[39m\n",
      " \u001b[90m [bd369af6] \u001b[39m\u001b[37mTables v1.6.0\u001b[39m\n",
      " \u001b[90m [44d3d7a6] \u001b[39m\u001b[37mWeave v0.10.10\u001b[39m\n"
     ]
    }
   ],
   "source": [
    "using Pkg\n",
    "Pkg.DEFAULT_IO[] = stdout\n",
    "Pkg.status()"
   ]
  },
  {
   "cell_type": "code",
   "execution_count": 2,
   "metadata": {},
   "outputs": [],
   "source": [
    "using LinearAlgebra\n",
    "using DataFrames\n",
    "using StableRNGs; rng = StableRNG(1);\n",
    "using StatsModels\n",
    "using MixedModels\n",
    "using NLopt\n",
    "using HighDimMixedModels"
   ]
  },
  {
   "cell_type": "code",
   "execution_count": 3,
   "metadata": {},
   "outputs": [
    {
     "data": {
      "text/html": [
       "<div class=\"data-frame\"><p>5 rows × 4 columns</p><table class=\"data-frame\"><thead><tr><th></th><th>period</th><th>herd</th><th>incid</th><th>hsz</th></tr><tr><th></th><th title=\"Float64\">Float64</th><th title=\"String\">String</th><th title=\"Int8\">Int8</th><th title=\"Int8\">Int8</th></tr></thead><tbody><tr><th>1</th><td>1.0</td><td>H01</td><td>2</td><td>14</td></tr><tr><th>2</th><td>2.0</td><td>H01</td><td>3</td><td>12</td></tr><tr><th>3</th><td>3.0</td><td>H01</td><td>4</td><td>9</td></tr><tr><th>4</th><td>4.0</td><td>H01</td><td>0</td><td>5</td></tr><tr><th>5</th><td>1.0</td><td>H02</td><td>3</td><td>22</td></tr></tbody></table></div>"
      ],
      "text/latex": [
       "\\begin{tabular}{r|cccc}\n",
       "\t& period & herd & incid & hsz\\\\\n",
       "\t\\hline\n",
       "\t& Float64 & String & Int8 & Int8\\\\\n",
       "\t\\hline\n",
       "\t1 & 1.0 & H01 & 2 & 14 \\\\\n",
       "\t2 & 2.0 & H01 & 3 & 12 \\\\\n",
       "\t3 & 3.0 & H01 & 4 & 9 \\\\\n",
       "\t4 & 4.0 & H01 & 0 & 5 \\\\\n",
       "\t5 & 1.0 & H02 & 3 & 22 \\\\\n",
       "\\end{tabular}\n"
      ],
      "text/plain": [
       "\u001b[1m5×4 DataFrame\u001b[0m\n",
       "\u001b[1m Row \u001b[0m│\u001b[1m period  \u001b[0m\u001b[1m herd   \u001b[0m\u001b[1m incid \u001b[0m\u001b[1m hsz  \u001b[0m\n",
       "\u001b[1m     \u001b[0m│\u001b[90m Float64 \u001b[0m\u001b[90m String \u001b[0m\u001b[90m Int8  \u001b[0m\u001b[90m Int8 \u001b[0m\n",
       "─────┼──────────────────────────────\n",
       "   1 │     1.0  H01         2    14\n",
       "   2 │     2.0  H01         3    12\n",
       "   3 │     3.0  H01         4     9\n",
       "   4 │     4.0  H01         0     5\n",
       "   5 │     1.0  H02         3    22"
      ]
     },
     "execution_count": 3,
     "metadata": {},
     "output_type": "execute_result"
    }
   ],
   "source": [
    "df = DataFrame(MixedModels.dataset(:cbpp))\n",
    "df[!,:period] = map(x->parse(Float64,x),df[:,:period])\n",
    "select!(df,[:period,:herd,:incid,:hsz])\n",
    "first(df,5)"
   ]
  },
  {
   "cell_type": "markdown",
   "metadata": {},
   "source": [
    "#### parse random effect in formula"
   ]
  },
  {
   "cell_type": "code",
   "execution_count": 4,
   "metadata": {},
   "outputs": [
    {
     "name": "stderr",
     "output_type": "stream",
     "text": [
      "┌ Warning: n >= p in high dimensional matrix\n",
      "└ @ HighDimMixedModels /Users/zyxu/.julia/dev/HighDimMixedModels/src/bricks.jl:12\n"
     ]
    },
    {
     "data": {
      "text/plain": []
     },
     "execution_count": 4,
     "metadata": {},
     "output_type": "execute_result"
    }
   ],
   "source": [
    "f = @formula(period ~ 0 + incid + hsz + (1|herd))\n",
    "HMM = highDimMixedModel(f, df, 1)"
   ]
  },
  {
   "cell_type": "code",
   "execution_count": 9,
   "metadata": {},
   "outputs": [
    {
     "name": "stdout",
     "output_type": "stream",
     "text": [
      "sigma = [1.0, 1.0]\n",
      "negLog = -57.1099018030012\n",
      "The initial object value is -57.1099018030012\n",
      "sigma = [1.0, 1.0]\n",
      "negLog = -57.1099018030012\n",
      "OPTBL: starting point [1.0, 1.0]\n",
      "sigma = [1.0, 1.0]\n",
      "negLog = -57.1099018030012\n",
      "sigma = [1.75, 1.0]\n",
      "negLog = -55.97912076973617\n",
      "sigma = [1.0, 1.75]\n",
      "negLog = -52.37720093978967\n",
      "sigma = [0.25, 1.0]\n",
      "negLog = -64.50473446075652\n",
      "sigma = [1.0, 0.25]\n",
      "negLog = -128.22481961167495\n",
      "sigma = [0.29289321881345254, 0.0]\n",
      "negLog = Inf\n",
      "sigma = [0.9469669914110089, 0.19696699141100893]\n",
      "negLog = -156.76581599673838\n",
      "sigma = [0.995676667220638, 0.13993745974082217]\n",
      "negLog = -207.31013755591323\n",
      "sigma = [0.9952996645647639, 0.06493840728682465]\n",
      "negLog = -405.77399467791014\n",
      "sigma = [0.9878315127277438, 0.06424796674686986]\n",
      "negLog = -410.13655848976134\n",
      "sigma = [0.987341243774038, 0.05676400814509819]\n",
      "negLog = -458.32682425399554\n",
      "sigma = [0.9948025184365511, 0.05600283772361585]\n",
      "negLog = -463.4181543729141\n",
      "sigma = [0.9947292842170775, 0.05525642178789495]\n",
      "negLog = -469.0572593148946\n",
      "sigma = [0.9951857851545717, 0.05466135297333067]\n",
      "negLog = -473.62526662984465\n",
      "sigma = [0.9946641908880741, 0.05412242865475073]\n",
      "negLog = -477.91189431849295\n",
      "sigma = [0.994593640676598, 0.054147877970275336]\n",
      "negLog = -477.71418362885424\n",
      "sigma = [0.9946398946629649, 0.05405147308100603]\n",
      "negLog = -478.47940946755097\n",
      "sigma = [0.9946937837404701, 0.053999310188777606]\n",
      "negLog = -478.8925749561385\n",
      "sigma = [0.9946893101492189, 0.05399329047272804]\n",
      "negLog = -478.9410464756395\n",
      "sigma = [0.9946954834580819, 0.053989031334589564]\n",
      "negLog = -478.9747009013731\n",
      "sigma = [0.9946902649028658, 0.05398364462117065]\n",
      "negLog = -479.01817519385304\n",
      "sigma = [0.9946902649028658, 0.05398364462117065]\n",
      "negLog = -479.01817519385304\n",
      "got -479.01818 at [0.99469, 0.05398] after 22 iterations (returned XTOL_REACHED)\n",
      "\n"
     ]
    }
   ],
   "source": [
    "sigma, betaM, betaX, opt = fit(HMM, verbose = true, REML = true, alg = :LN_BOBYQA) # :LN_BOBYQA :LN_COBYLA\n",
    "println(\"\")"
   ]
  },
  {
   "cell_type": "code",
   "execution_count": null,
   "metadata": {},
   "outputs": [],
   "source": []
  },
  {
   "cell_type": "markdown",
   "metadata": {},
   "source": [
    "## debug opt"
   ]
  },
  {
   "cell_type": "code",
   "execution_count": 50,
   "metadata": {},
   "outputs": [],
   "source": [
    "n = size(HMM.M, 1)\n",
    "A = hcat(HMM.M.M, HMM.X.X)\n",
    "P = I - A*inv(transpose(A)*A)*transpose(A)\n",
    "u,s,v = svd(P)\n",
    "r = size(HMM.M,2) + size(HMM.X,2)  # simplify: assume fixed effect full rank\n",
    "#C = randn((n-r),n)\n",
    "C = transpose(u[:,1:(n-r)]) \n",
    "K = C*P\n",
    "Z = HMM.Z.Z\n",
    "y = HMM.y\n",
    "# C can be any full rank matrix with size n,r, e.g. randn(n,r)\n",
    "print()"
   ]
  },
  {
   "cell_type": "code",
   "execution_count": 51,
   "metadata": {},
   "outputs": [
    {
     "data": {
      "text/plain": [
       "54×56 Matrix{Float64}:\n",
       " -1.1638e-17    0.164752    -0.0399541   …   0.0674121    -0.222677\n",
       "  1.8836e-18   -0.403341     0.123302       -0.241088     -0.152237\n",
       "  2.81172e-18   0.0346548    0.212919       -0.0523286     0.0707382\n",
       " -2.59675e-18   0.0221316    0.0389036       0.34114       0.148062\n",
       " -1.5352e-18   -0.0448844   -0.0968939       0.237301     -0.0157088\n",
       " -3.10139e-18  -0.00807415   0.0250054   …  -0.0915462     0.139485\n",
       "  6.74461e-18   0.0739587    0.135703       -0.171519     -0.0101518\n",
       "  3.12195e-18  -0.0232285   -0.101904       -0.0211855     0.36347\n",
       "  9.47794e-18  -0.0120339    0.0262741       0.168954      0.0790729\n",
       "  1.23066e-17   0.00766534   0.183135        0.124075     -0.064429\n",
       " -7.64651e-19  -0.0546021   -0.0707007   …  -0.0410829    -0.0921613\n",
       "  2.94435e-18   0.134913     0.191127       -0.100892     -0.00686268\n",
       " -6.46766e-18   0.097094     0.190483        0.162945     -0.106228\n",
       "  ⋮                                      ⋱                 ⋮\n",
       " -1.27162e-18   0.093824     0.129755        0.0214583    -0.220632\n",
       " -8.56782e-18  -0.037925    -0.244107        0.00486858   -0.0908749\n",
       " -1.34892e-18   0.174958    -0.0848375       0.0568433    -0.235654\n",
       "  5.19377e-18  -0.0759722    0.375651    …   0.00651951   -0.0310963\n",
       " -6.48833e-17  -0.523085     0.105744        0.0652951     0.0942323\n",
       " -1.18044e-18   0.0652587    0.0463744       0.116492     -0.100763\n",
       "  4.39294e-18  -0.032301     0.00198717     -0.040286     -0.0617465\n",
       " -3.60951e-17  -0.0055892    0.131726        0.1131       -0.0559242\n",
       " -3.66213e-18   0.114961    -0.0895998   …  -0.000459984  -0.497332\n",
       " -8.59178e-19  -0.108192    -0.0863475      -0.110418     -0.0104348\n",
       " -1.56591e-17   0.0147604   -0.0378847      -0.0165734    -0.119323\n",
       "  7.83388e-18  -0.0599749   -0.0221879      -0.117461     -0.062668"
      ]
     },
     "execution_count": 51,
     "metadata": {},
     "output_type": "execute_result"
    }
   ],
   "source": [
    "K"
   ]
  },
  {
   "cell_type": "code",
   "execution_count": 37,
   "metadata": {},
   "outputs": [
    {
     "data": {
      "text/plain": [
       "56×2 Matrix{Float64}:\n",
       "  2.0  14.0\n",
       "  3.0  12.0\n",
       "  4.0   9.0\n",
       "  0.0   5.0\n",
       "  3.0  22.0\n",
       "  1.0  18.0\n",
       "  1.0  21.0\n",
       "  8.0  22.0\n",
       "  2.0  16.0\n",
       "  0.0  16.0\n",
       "  2.0  20.0\n",
       "  2.0  10.0\n",
       "  0.0  10.0\n",
       "  ⋮    \n",
       "  1.0  21.0\n",
       "  2.0  24.0\n",
       "  0.0  19.0\n",
       "  0.0  23.0\n",
       " 11.0  19.0\n",
       "  0.0   2.0\n",
       "  0.0   3.0\n",
       "  0.0   2.0\n",
       "  1.0  19.0\n",
       "  1.0  15.0\n",
       "  1.0  15.0\n",
       "  0.0  15.0"
      ]
     },
     "execution_count": 37,
     "metadata": {},
     "output_type": "execute_result"
    }
   ],
   "source": [
    "A"
   ]
  },
  {
   "cell_type": "markdown",
   "metadata": {},
   "source": [
    "#### (a) construct Opt by optsum object"
   ]
  },
  {
   "cell_type": "code",
   "execution_count": 12,
   "metadata": {},
   "outputs": [
    {
     "name": "stdout",
     "output_type": "stream",
     "text": [
      "sigma = [1.0, 1.0]\n",
      "negLog = -57.1099018030012\n",
      "The initial object value is -57.1099018030012\n",
      "sigma = [1.0, 1.0]\n",
      "negLog = -57.1099018030012\n"
     ]
    },
    {
     "data": {
      "text/plain": [
       "-57.1099018030012"
      ]
     },
     "execution_count": 12,
     "metadata": {},
     "output_type": "execute_result"
    }
   ],
   "source": [
    "alg = :LN_COBYLA\n",
    "verbose = true\n",
    "## add optsum\n",
    "# init para\n",
    "sigma = [1.0,1.0]\n",
    "lbd = [0.0; 0.0]\n",
    "optsum = OptSummary(Float64.(sigma), lbd, alg; ftol_rel=(1.0e-12), ftol_abs=(1.0e-8), xtol_rel = 1e-5)\n",
    "optsum.REML = true\n",
    "\n",
    "## init opt based on optsum\n",
    "opt = Opt(optsum)\n",
    "\n",
    "function negLogLik(sigma::Vector{Float64}, g::Vector{Float64})\n",
    "    n = length(y)\n",
    "    Sigma = sigma[1]*Z*transpose(Z) + sigma[2]*diagm(ones(n))\n",
    "    negLog = -1/2*log(det(K*Sigma*transpose(K))) - 1/2*transpose(y)*transpose(K)*inv(K*Sigma*transpose(K))*K*y\n",
    "    #println(\"OPT: parameter $(sigma) || objective eval $(negLog)\")\n",
    "    @show sigma\n",
    "    @show negLog\n",
    "\n",
    "    return negLog\n",
    "end\n",
    "\n",
    "println(\"The initial object value is $(negLogLik(Float64.(sigma), [1.0,1.0]))\")\n",
    "\n",
    "opt.min_objective = negLogLik\n",
    "optsum.finitial = negLogLik(optsum.initial, [1.0,1.0])  # the second field not useful right now"
   ]
  },
  {
   "cell_type": "code",
   "execution_count": 13,
   "metadata": {},
   "outputs": [
    {
     "name": "stdout",
     "output_type": "stream",
     "text": [
      "OPTBL: starting point [1.0, 1.0]\n",
      "sigma = [1.0, 1.0]\n",
      "negLog = -57.1099018030012\n",
      "sigma = [1.75, 1.0]\n",
      "negLog = -55.97912076973617\n",
      "sigma = [1.0, 1.75]\n",
      "negLog = -52.37720093978967\n",
      "sigma = [0.8257088595036971, 0.27053266122156105]\n",
      "negLog = -123.76838880255191\n",
      "sigma = [0.12620040407776012, 0.0]\n",
      "negLog = Inf\n",
      "sigma = [NaN, NaN]\n",
      "negLog = NaN\n",
      "sigma = [NaN, NaN]\n",
      "negLog = NaN\n",
      "sigma = [0.829124063101169, 0.2515771049569857]\n",
      "negLog = -131.0300978457053\n",
      "sigma = [1.0049609484577022, 0.1864799487355855]\n",
      "negLog = -162.54073371434723\n",
      "sigma = [1.0248266656543088, 3.5310088440543286e-5]\n",
      "negLog = -648060.2927720573\n",
      "sigma = [0.8373266689791151, 8.328705563762084e-17]\n",
      "negLog = Inf\n",
      "sigma = [NaN, NaN]\n",
      "negLog = NaN\n",
      "sigma = [NaN, NaN]\n",
      "negLog = NaN\n",
      "sigma = [1.0248237372088926, 0.01318516660603881]\n",
      "negLog = -1786.9679007265013\n",
      "sigma = [NaN, NaN]\n",
      "negLog = NaN\n",
      "sigma = [1.042117729926439, 3.5716815641248804e-5]\n",
      "negLog = -640677.9057947188\n",
      "sigma = [0.9779516789535357, 0.0]\n",
      "negLog = Inf\n",
      "sigma = [NaN, NaN]\n",
      "negLog = NaN\n",
      "sigma = [NaN, NaN]\n",
      "negLog = NaN\n",
      "sigma = [1.0287715671117736, 3.53866341459729e-5]\n",
      "negLog = -646657.8797753757\n",
      "sigma = [1.0131079688513296, 0.0]\n",
      "negLog = Inf\n",
      "sigma = [NaN, NaN]\n",
      "negLog = NaN\n",
      "sigma = [1.0248184095499837, 0.0025718092731652075]\n",
      "negLog = -8927.096639736415\n",
      "sigma = [NaN, NaN]\n",
      "negLog = NaN\n",
      "sigma = [NaN, NaN]\n",
      "negLog = NaN\n",
      "sigma = [1.0249957942345227, 3.791102797731876e-5]\n",
      "negLog = -603596.9653127886\n",
      "sigma = [1.0218971909496373, 7.062017688108657e-5]\n",
      "negLog = -324017.7789728986\n",
      "sigma = [1.0277561403589803, 1.5585406229479126e-19]\n",
      "negLog = Inf\n",
      "sigma = [1.0262910837672699, 7.453889935837843e-20]\n",
      "negLog = Inf\n",
      "sigma = [NaN, NaN]\n",
      "negLog = NaN\n",
      "sigma = [1.0248196264292657, 0.00014387085343293743]\n",
      "negLog = -159040.53488915836\n",
      "sigma = [NaN, NaN]\n",
      "negLog = NaN\n",
      "sigma = [1.0248265635851284, 0.0003602097110042225]\n",
      "negLog = -63524.72429847768\n",
      "sigma = [NaN, NaN]\n",
      "negLog = NaN\n",
      "sigma = [NaN, NaN]\n",
      "negLog = NaN\n",
      "sigma = [1.024815834891787, 3.527579459579777e-5]\n",
      "negLog = -648690.3468999516\n",
      "sigma = [1.0244513269096245, 7.055158919159555e-5]\n",
      "negLog = -324332.4658294144\n",
      "sigma = [1.0251803428739497, 2.710505431213761e-20]\n",
      "negLog = Inf\n",
      "sigma = [NaN, NaN]\n",
      "negLog = NaN\n",
      "sigma = [NaN, NaN]\n",
      "negLog = NaN\n",
      "sigma = [1.0248000729251554, 3.641549444093227e-5]\n",
      "negLog = -628387.190516995\n",
      "sigma = [1.0249003187451982, 0.0]\n",
      "negLog = Inf\n",
      "sigma = [1.024819637388641, 5.36336264220412e-5]\n",
      "negLog = -426645.42516395805\n",
      "sigma = [NaN, NaN]\n",
      "negLog = NaN\n",
      "sigma = [1.0248194183867896, 5.8905709673909786e-5]\n",
      "negLog = -388458.3550144317\n",
      "sigma = [NaN, NaN]\n",
      "negLog = NaN\n",
      "sigma = [NaN, NaN]\n",
      "negLog = NaN\n",
      "sigma = [NaN, NaN]\n",
      "negLog = NaN\n",
      "sigma = [1.0248132067014977, 3.672137357062146e-5]\n",
      "negLog = -623152.6240462011\n",
      "sigma = [1.0248222721455402, 1.3311489181333982e-5]\n",
      "negLog = -1.7191139887425029e6\n",
      "sigma = [1.0248036529832605, 3.218725199566341e-20]\n",
      "negLog = Inf\n",
      "sigma = [NaN, NaN]\n",
      "negLog = NaN\n",
      "sigma = [NaN, NaN]\n",
      "negLog = NaN\n",
      "sigma = [1.0248193681769173, 1.4462660882477095e-5]\n",
      "negLog = -1.582275113228831e6\n",
      "sigma = [NaN, NaN]\n",
      "negLog = NaN\n",
      "sigma = [1.024821897300477, 1.7098257530977214e-5]\n",
      "negLog = -1.3383691315673448e6\n",
      "sigma = [NaN, NaN]\n",
      "negLog = NaN\n",
      "sigma = [NaN, NaN]\n",
      "negLog = NaN\n",
      "sigma = [1.0248254109032127, 1.352216408120112e-5]\n",
      "negLog = -1.692329438086581e6\n",
      "sigma = [1.0248221401433353, 5.812650910116638e-6]\n",
      "negLog = -3.937000445862529e6\n",
      "sigma = [1.0248268796675095, 1.1625301820233277e-5]\n",
      "negLog = -1.968469929933476e6\n"
     ]
    },
    {
     "data": {
      "text/plain": [
       "(-1.968469929933476e6, [1.0248268796675095, 1.1625301820233277e-5], :XTOL_REACHED)"
      ]
     },
     "execution_count": 13,
     "metadata": {},
     "output_type": "execute_result"
    }
   ],
   "source": [
    "if verbose println(\"OPTBL: starting point $(sigma)\") ; end    # to stdout\n",
    "(optf,optx,ret) = optimize(opt, sigma)"
   ]
  },
  {
   "cell_type": "code",
   "execution_count": 52,
   "metadata": {},
   "outputs": [
    {
     "name": "stdout",
     "output_type": "stream",
     "text": [
      "got -1.96846992993e6 at [1.02483, 1.0e-5] after 61 iterations (returned XTOL_REACHED)\n"
     ]
    },
    {
     "data": {
      "text/latex": [
       "\\begin{tabular}\n",
       "{l | l}\n",
       " &  \\\\\n",
       "\\hline\n",
       "\\textbf{Initialization} &  \\\\\n",
       "Initial parameter vector & [1.0, 1.0] \\\\\n",
       "Initial objective value & -57.1099018030012 \\\\\n",
       "\\textbf{Optimizer settings}  &  \\\\\n",
       "Optimizer (from NLopt) & \\texttt{LN\\_COBYLA} \\\\\n",
       "Lower bounds & [0.0, 0.0] \\\\\n",
       "\\texttt{ftol\\_rel} & 1.0e-12 \\\\\n",
       "\\texttt{ftol\\_abs} & 1.0e-8 \\\\\n",
       "\\texttt{xtol\\_rel} & 1.0e-5 \\\\\n",
       "\\texttt{xtol\\_abs} & [1.0e-10, 1.0e-10] \\\\\n",
       "\\texttt{initial\\_step} & [0.75, 0.75] \\\\\n",
       "\\texttt{maxfeval} & -1 \\\\\n",
       "\\texttt{maxtime} & -1.0 \\\\\n",
       "\\textbf{Result} &  \\\\\n",
       "Function evaluations & 61 \\\\\n",
       "Final parameter vector & [1.0248, 0.0] \\\\\n",
       "Final objective value & -1.9684699299e6 \\\\\n",
       "Return code & \\texttt{XTOL\\_REACHED} \\\\\n",
       "\\end{tabular}\n"
      ],
      "text/markdown": [
       "|                          |                    |\n",
       "|:------------------------ |:------------------ |\n",
       "| **Initialization**       |                    |\n",
       "| Initial parameter vector | [1.0, 1.0]         |\n",
       "| Initial objective value  | -57.1099018030012  |\n",
       "| **Optimizer settings**   |                    |\n",
       "| Optimizer (from NLopt)   | `LN_COBYLA`        |\n",
       "| Lower bounds             | [0.0, 0.0]         |\n",
       "| `ftol_rel`               | 1.0e-12            |\n",
       "| `ftol_abs`               | 1.0e-8             |\n",
       "| `xtol_rel`               | 1.0e-5             |\n",
       "| `xtol_abs`               | [1.0e-10, 1.0e-10] |\n",
       "| `initial_step`           | [0.75, 0.75]       |\n",
       "| `maxfeval`               | -1                 |\n",
       "| `maxtime`                | -1.0               |\n",
       "| **Result**               |                    |\n",
       "| Function evaluations     | 61                 |\n",
       "| Final parameter vector   | [1.0248, 0.0]      |\n",
       "| Final objective value    | -1.9684699299e6    |\n",
       "| Return code              | `XTOL_REACHED`     |\n"
      ],
      "text/plain": [
       "Initial parameter vector: [1.0, 1.0]\n",
       "Initial objective value:  -57.1099018030012\n",
       "\n",
       "Optimizer (from NLopt):   LN_COBYLA\n",
       "Lower bounds:             [0.0, 0.0]\n",
       "ftol_rel:                 1.0e-12\n",
       "ftol_abs:                 1.0e-8\n",
       "xtol_rel:                 1.0e-5\n",
       "xtol_abs:                 [1.0e-10, 1.0e-10]\n",
       "initial_step:             [0.75, 0.75]\n",
       "maxfeval:                 -1\n",
       "maxtime:                  -1.0\n",
       "\n",
       "Function evaluations:     61\n",
       "Final parameter vector:   [1.0248268796675095, 1.1625301820233277e-5]\n",
       "Final objective value:    -1.968469929933476e6\n",
       "Return code:              XTOL_REACHED\n"
      ]
     },
     "execution_count": 52,
     "metadata": {},
     "output_type": "execute_result"
    }
   ],
   "source": [
    "Sigma = optx[1]*Z*transpose(Z) + optx[2]*diagm(ones(n))\n",
    "beta = inv(transpose(A)*inv(Sigma)*A)*transpose(A)*inv(Sigma)*y\n",
    "betaM = beta[1:size(HMM.M,2)]\n",
    "betaX = beta[(size(HMM.M,2) + 1): size(beta)[1]]\n",
    "\n",
    "optsum.feval = opt.numevals\n",
    "optsum.final = optx\n",
    "optsum.fmin = optf\n",
    "optsum.returnvalue = ret\n",
    "\n",
    "if verbose println(\"got $(round(optf, digits=5)) at $(round.(optx, digits=5)) after $(opt.numevals) iterations (returned $(ret))\") ; end\n",
    "\n",
    "HMM.optsum = optsum"
   ]
  },
  {
   "cell_type": "code",
   "execution_count": null,
   "metadata": {},
   "outputs": [],
   "source": []
  },
  {
   "cell_type": "markdown",
   "metadata": {},
   "source": [
    "#### (b) construct opt by Opt(:LN_COBYLA, 2)"
   ]
  },
  {
   "cell_type": "code",
   "execution_count": 32,
   "metadata": {},
   "outputs": [
    {
     "data": {
      "text/plain": [
       "2-element Vector{Float64}:\n",
       " 0.75\n",
       " 0.75"
      ]
     },
     "execution_count": 32,
     "metadata": {},
     "output_type": "execute_result"
    }
   ],
   "source": [
    "using NLopt\n",
    "alg = :LN_COBYLA\n",
    "verbose = true\n",
    "## add optsum\n",
    "# init para\n",
    "sigma = [1.0,1.0]\n",
    "lbd = [0.0; 0.0]\n",
    "optsum = OptSummary(Float64.(sigma), lbd, alg; ftol_rel=(1.0e-12), ftol_abs=(1.0e-8), xtol_rel = 1e-5)\n",
    "optsum.REML = true\n",
    "\n",
    "## init opt based on optsum\n",
    "#opt = Opt(optsum)\n",
    "\n",
    "## init opt based on Opt function\n",
    "opt = Opt(:LN_COBYLA, 2)\n",
    "\n",
    "NLopt.ftol_rel!(opt, optsum.ftol_rel) # relative criterion on objective\n",
    "NLopt.ftol_abs!(opt, optsum.ftol_abs) # absolute criterion on objective\n",
    "NLopt.xtol_rel!(opt, optsum.xtol_rel) # relative criterion on parameter values\n",
    "NLopt.xtol_abs!(opt, optsum.xtol_abs) # absolute criterion on parameter values\n",
    "NLopt.lower_bounds!(opt, lbd)\n",
    "NLopt.maxeval!(opt, optsum.maxfeval)\n",
    "NLopt.maxtime!(opt, optsum.maxtime)\n",
    "optsum.initial_step = NLopt.initial_step(opt, optsum.initial, similar(lbd))"
   ]
  },
  {
   "cell_type": "code",
   "execution_count": 33,
   "metadata": {},
   "outputs": [
    {
     "data": {
      "text/plain": [
       "Opt(LN_COBYLA, 2)"
      ]
     },
     "execution_count": 33,
     "metadata": {},
     "output_type": "execute_result"
    }
   ],
   "source": [
    "opt"
   ]
  },
  {
   "cell_type": "code",
   "execution_count": 34,
   "metadata": {},
   "outputs": [
    {
     "name": "stdout",
     "output_type": "stream",
     "text": [
      "sigma = [1.0, 1.0]\n",
      "negLog = -57.1099018030012\n",
      "The initial object value is -57.1099018030012\n",
      "sigma = [1.0, 1.0]\n",
      "negLog = -57.1099018030012\n",
      "OPTBL: starting point [1.0, 1.0]\n",
      "sigma = [1.0, 1.0]\n",
      "negLog = -57.1099018030012\n",
      "sigma = [1.75, 1.0]\n",
      "negLog = -55.97912076973617\n",
      "sigma = [1.0, 1.75]\n",
      "negLog = -52.37720093978967\n",
      "sigma = [0.8257088595036971, 0.27053266122156105]\n",
      "negLog = -123.76838880255191\n",
      "sigma = [0.12620040407776012, 0.0]\n",
      "negLog = Inf\n",
      "sigma = [NaN, NaN]\n",
      "negLog = NaN\n",
      "sigma = [NaN, NaN]\n",
      "negLog = NaN\n",
      "sigma = [0.829124063101169, 0.2515771049569857]\n",
      "negLog = -131.0300978457053\n",
      "sigma = [1.0049609484577022, 0.1864799487355855]\n",
      "negLog = -162.54073371434723\n",
      "sigma = [1.0248266656543088, 3.5310088440543286e-5]\n",
      "negLog = -648060.2927720573\n",
      "sigma = [0.8373266689791151, 8.328705563762084e-17]\n",
      "negLog = Inf\n",
      "sigma = [NaN, NaN]\n",
      "negLog = NaN\n",
      "sigma = [NaN, NaN]\n",
      "negLog = NaN\n",
      "sigma = [1.0248237372088926, 0.01318516660603881]\n",
      "negLog = -1786.9679007265013\n",
      "sigma = [NaN, NaN]\n",
      "negLog = NaN\n",
      "sigma = [1.042117729926439, 3.5716815641248804e-5]\n",
      "negLog = -640677.9057947188\n",
      "sigma = [0.9779516789535357, 0.0]\n",
      "negLog = Inf\n",
      "sigma = [NaN, NaN]\n",
      "negLog = NaN\n",
      "sigma = [NaN, NaN]\n",
      "negLog = NaN\n",
      "sigma = [1.0287715671117736, 3.53866341459729e-5]\n",
      "negLog = -646657.8797753757\n",
      "sigma = [1.0131079688513296, 0.0]\n",
      "negLog = Inf\n",
      "sigma = [NaN, NaN]\n",
      "negLog = NaN\n",
      "sigma = [1.0248184095499837, 0.0025718092731652075]\n",
      "negLog = -8927.096639736415\n",
      "sigma = [NaN, NaN]\n",
      "negLog = NaN\n",
      "sigma = [NaN, NaN]\n",
      "negLog = NaN\n",
      "sigma = [1.0249957942345227, 3.791102797731876e-5]\n",
      "negLog = -603596.9653127886\n",
      "sigma = [1.0218971909496373, 7.062017688108657e-5]\n",
      "negLog = -324017.7789728986\n",
      "sigma = [1.0277561403589803, 1.5585406229479126e-19]\n",
      "negLog = Inf\n",
      "sigma = [1.0262910837672699, 7.453889935837843e-20]\n",
      "negLog = Inf\n",
      "sigma = [NaN, NaN]\n",
      "negLog = NaN\n",
      "sigma = [1.0248196264292657, 0.00014387085343293743]\n",
      "negLog = -159040.53488915836\n",
      "sigma = [NaN, NaN]\n",
      "negLog = NaN\n",
      "sigma = [1.0248265635851284, 0.0003602097110042225]\n",
      "negLog = -63524.72429847768\n",
      "sigma = [NaN, NaN]\n",
      "negLog = NaN\n",
      "sigma = [NaN, NaN]\n",
      "negLog = NaN\n",
      "sigma = [1.024815834891787, 3.527579459579777e-5]\n",
      "negLog = -648690.3468999516\n",
      "sigma = [1.0244513269096245, 7.055158919159555e-5]\n",
      "negLog = -324332.4658294144\n",
      "sigma = [1.0251803428739497, 2.710505431213761e-20]\n",
      "negLog = Inf\n",
      "sigma = [NaN, NaN]\n",
      "negLog = NaN\n",
      "sigma = [NaN, NaN]\n",
      "negLog = NaN\n",
      "sigma = [1.0248000729251554, 3.641549444093227e-5]\n",
      "negLog = -628387.190516995\n",
      "sigma = [1.0249003187451982, 0.0]\n",
      "negLog = Inf\n",
      "sigma = [1.024819637388641, 5.36336264220412e-5]\n",
      "negLog = -426645.42516395805\n",
      "sigma = [NaN, NaN]\n",
      "negLog = NaN\n",
      "sigma = [1.0248194183867896, 5.8905709673909786e-5]\n",
      "negLog = -388458.3550144317\n",
      "sigma = [NaN, NaN]\n",
      "negLog = NaN\n",
      "sigma = [NaN, NaN]\n",
      "negLog = NaN\n",
      "sigma = [NaN, NaN]\n",
      "negLog = NaN\n",
      "sigma = [1.0248132067014977, 3.672137357062146e-5]\n",
      "negLog = -623152.6240462011\n",
      "sigma = [1.0248222721455402, 1.3311489181333982e-5]\n",
      "negLog = -1.7191139887425029e6\n",
      "sigma = [1.0248036529832605, 3.218725199566341e-20]\n",
      "negLog = Inf\n",
      "sigma = [NaN, NaN]\n",
      "negLog = NaN\n",
      "sigma = [NaN, NaN]\n",
      "negLog = NaN\n",
      "sigma = [1.0248193681769173, 1.4462660882477095e-5]\n",
      "negLog = -1.582275113228831e6\n",
      "sigma = [NaN, NaN]\n",
      "negLog = NaN\n",
      "sigma = [1.024821897300477, 1.7098257530977214e-5]\n",
      "negLog = -1.3383691315673448e6\n",
      "sigma = [NaN, NaN]\n",
      "negLog = NaN\n",
      "sigma = [NaN, NaN]\n",
      "negLog = NaN\n",
      "sigma = [1.0248254109032127, 1.352216408120112e-5]\n",
      "negLog = -1.692329438086581e6\n",
      "sigma = [1.0248221401433353, 5.812650910116638e-6]\n",
      "negLog = -3.937000445862529e6\n",
      "sigma = [1.0248268796675095, 1.1625301820233277e-5]\n",
      "negLog = -1.968469929933476e6\n"
     ]
    },
    {
     "data": {
      "text/plain": [
       "(-1.968469929933476e6, [1.0248268796675095, 1.1625301820233277e-5], :XTOL_REACHED)"
      ]
     },
     "execution_count": 34,
     "metadata": {},
     "output_type": "execute_result"
    }
   ],
   "source": [
    "function negLogLik(sigma::Vector{Float64}, g::Vector{Float64})\n",
    "    n = length(y)\n",
    "    Sigma = sigma[1]*Z*transpose(Z) + sigma[2]*diagm(ones(n))\n",
    "    negLog = -1/2*log(det(K*Sigma*transpose(K))) - 1/2*transpose(y)*transpose(K)*inv(K*Sigma*transpose(K))*K*y\n",
    "    #println(\"OPT: parameter $(sigma) || objective eval $(negLog)\")\n",
    "    @show sigma\n",
    "    @show negLog\n",
    "\n",
    "    return negLog\n",
    "end\n",
    "\n",
    "println(\"The initial object value is $(negLogLik(Float64.(sigma), [1.0,1.0]))\")\n",
    "\n",
    "opt.min_objective = negLogLik\n",
    "optsum.finitial = negLogLik(optsum.initial, [1.0,1.0])  # the second field not useful right now\n",
    "\n",
    "if verbose println(\"OPTBL: starting point $(sigma)\") ; end    # to stdout\n",
    "(optf,optx,ret) = optimize(opt, sigma)"
   ]
  },
  {
   "cell_type": "code",
   "execution_count": 54,
   "metadata": {},
   "outputs": [
    {
     "name": "stdout",
     "output_type": "stream",
     "text": [
      "got -1.96846992993e6 at [1.02483, 1.0e-5] after 61 iterations (returned XTOL_REACHED)\n"
     ]
    }
   ],
   "source": [
    "if verbose println(\"got $(round(optf, digits=5)) at $(round.(optx, digits=5)) after $(opt.numevals) iterations (returned $(ret))\") ; end"
   ]
  },
  {
   "cell_type": "code",
   "execution_count": null,
   "metadata": {},
   "outputs": [],
   "source": []
  },
  {
   "cell_type": "code",
   "execution_count": null,
   "metadata": {},
   "outputs": [],
   "source": []
  },
  {
   "cell_type": "code",
   "execution_count": null,
   "metadata": {},
   "outputs": [],
   "source": []
  },
  {
   "cell_type": "code",
   "execution_count": null,
   "metadata": {},
   "outputs": [],
   "source": []
  },
  {
   "cell_type": "code",
   "execution_count": null,
   "metadata": {},
   "outputs": [],
   "source": []
  },
  {
   "cell_type": "code",
   "execution_count": null,
   "metadata": {},
   "outputs": [],
   "source": []
  },
  {
   "cell_type": "code",
   "execution_count": null,
   "metadata": {},
   "outputs": [],
   "source": []
  },
  {
   "cell_type": "code",
   "execution_count": null,
   "metadata": {},
   "outputs": [],
   "source": []
  },
  {
   "cell_type": "code",
   "execution_count": null,
   "metadata": {},
   "outputs": [],
   "source": []
  },
  {
   "cell_type": "code",
   "execution_count": null,
   "metadata": {},
   "outputs": [],
   "source": []
  },
  {
   "cell_type": "code",
   "execution_count": null,
   "metadata": {},
   "outputs": [],
   "source": []
  }
 ],
 "metadata": {
  "kernelspec": {
   "display_name": "Julia 1.6.1",
   "language": "julia",
   "name": "julia-1.6"
  },
  "language_info": {
   "file_extension": ".jl",
   "mimetype": "application/julia",
   "name": "julia",
   "version": "1.6.1"
  }
 },
 "nbformat": 4,
 "nbformat_minor": 4
}
