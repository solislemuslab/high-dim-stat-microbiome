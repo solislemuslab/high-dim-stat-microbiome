{
 "cells": [
  {
   "cell_type": "code",
   "execution_count": 1,
   "metadata": {},
   "outputs": [
    {
     "name": "stdout",
     "output_type": "stream",
     "text": [
      "\u001b[36m\u001b[1m     Project\u001b[22m\u001b[39m demo v0.1.0\n",
      "\u001b[32m\u001b[1m      Status\u001b[22m\u001b[39m `~/Documents/julia/demo/Project.toml`\n",
      " \u001b[90m [336ed68f] \u001b[39m\u001b[37mCSV v0.9.6\u001b[39m\n",
      " \u001b[90m [7876af07] \u001b[39m\u001b[37mExample v0.5.4 `~/.julia/dev/Example`\u001b[39m\n",
      " \u001b[90m [ced58d7a] \u001b[39m\u001b[37mHighDimMixedModels v0.1.0 `~/.julia/dev/HighDimMixedModels`\u001b[39m\n",
      " \u001b[90m [14b8a8f1] \u001b[39m\u001b[37mPkgTemplates v0.7.19\u001b[39m\n",
      " \u001b[90m [bd369af6] \u001b[39m\u001b[37mTables v1.6.0\u001b[39m\n",
      " \u001b[90m [44d3d7a6] \u001b[39m\u001b[37mWeave v0.10.10\u001b[39m\n"
     ]
    }
   ],
   "source": [
    "using Pkg\n",
    "Pkg.DEFAULT_IO[] = stdout\n",
    "Pkg.status()"
   ]
  },
  {
   "cell_type": "code",
   "execution_count": null,
   "metadata": {},
   "outputs": [],
   "source": [
    "using LinearAlgebra\n",
    "using DataFrames\n",
    "using StableRNGs; rng = StableRNG(1);\n",
    "using StatsModels\n",
    "using MixedModels\n",
    "using NLopt\n",
    "using HighDimMixedModels"
   ]
  },
  {
   "cell_type": "code",
   "execution_count": null,
   "metadata": {},
   "outputs": [],
   "source": [
    "df = DataFrame(MixedModels.dataset(:cbpp))\n",
    "df[!,:period] = map(x->parse(Float64,x),df[:,:period])\n",
    "select!(df,[:period,:herd,:incid,:hsz])\n",
    "first(df,5)"
   ]
  },
  {
   "cell_type": "markdown",
   "metadata": {},
   "source": [
    "#### parse random effect in formula"
   ]
  },
  {
   "cell_type": "code",
   "execution_count": null,
   "metadata": {},
   "outputs": [],
   "source": [
    "f = @formula(period ~ 0 + incid + hsz + (1|herd))\n",
    "HMM = highDimMixedModel(f, df, 1)"
   ]
  },
  {
   "cell_type": "code",
   "execution_count": null,
   "metadata": {},
   "outputs": [],
   "source": [
    "sigma, betaM, betaX, opt = fit(HMM, verbose = true, REML = true, alg = :LN_BOBYQA) # :LN_BOBYQA :LN_COBYLA\n",
    "println(\"\")"
   ]
  },
  {
   "cell_type": "code",
   "execution_count": null,
   "metadata": {},
   "outputs": [],
   "source": []
  },
  {
   "cell_type": "markdown",
   "metadata": {},
   "source": [
    "## debug opt"
   ]
  },
  {
   "cell_type": "code",
   "execution_count": null,
   "metadata": {},
   "outputs": [],
   "source": [
    "n = size(HMM.M, 1)\n",
    "A = hcat(HMM.M.M, HMM.X.X)\n",
    "P = I - A*inv(transpose(A)*A)*transpose(A)\n",
    "u,s,v = svd(P)\n",
    "r = size(HMM.M,2) + size(HMM.X,2)  # simplify: assume fixed effect full rank\n",
    "#C = randn((n-r),n)\n",
    "C = transpose(u[:,1:(n-r)]) \n",
    "K = C*P\n",
    "Z = HMM.Z.Z\n",
    "y = HMM.y\n",
    "# C can be any full rank matrix with size n,r, e.g. randn(n,r)\n",
    "print()"
   ]
  },
  {
   "cell_type": "markdown",
   "metadata": {},
   "source": [
    "#### (a) construct Opt by optsum object"
   ]
  },
  {
   "cell_type": "code",
   "execution_count": null,
   "metadata": {},
   "outputs": [],
   "source": [
    "alg = :LN_COBYLA\n",
    "verbose = true\n",
    "## add optsum\n",
    "# init para\n",
    "sigma = [1.0,1.0]\n",
    "lbd = [0.0; 0.0]\n",
    "optsum = OptSummary(Float64.(sigma), lbd, alg; ftol_rel=(1.0e-12), ftol_abs=(1.0e-8), xtol_rel = 1e-5)\n",
    "optsum.REML = true\n",
    "\n",
    "## init opt based on optsum\n",
    "opt = Opt(optsum)\n",
    "\n",
    "function negLogLik(sigma::Vector{Float64}, g::Vector{Float64})\n",
    "    n = length(y)\n",
    "    Sigma = sigma[1]*Z*transpose(Z) + sigma[2]*diagm(ones(n))\n",
    "    negLog = -1/2*log(det(K*Sigma*transpose(K))) - 1/2*transpose(y)*transpose(K)*inv(K*Sigma*transpose(K))*K*y\n",
    "    #println(\"OPT: parameter $(sigma) || objective eval $(negLog)\")\n",
    "    @show sigma\n",
    "    @show negLog\n",
    "\n",
    "    return negLog\n",
    "end\n",
    "\n",
    "println(\"The initial object value is $(negLogLik(Float64.(sigma), [1.0,1.0]))\")\n",
    "\n",
    "opt.min_objective = negLogLik\n",
    "optsum.finitial = negLogLik(optsum.initial, [1.0,1.0])  # the second field not useful right now"
   ]
  },
  {
   "cell_type": "code",
   "execution_count": null,
   "metadata": {},
   "outputs": [],
   "source": [
    "if verbose println(\"OPTBL: starting point $(sigma)\") ; end    # to stdout\n",
    "(optf,optx,ret) = optimize(opt, sigma)"
   ]
  },
  {
   "cell_type": "code",
   "execution_count": null,
   "metadata": {},
   "outputs": [],
   "source": [
    "# Sigma = optx[1]*Z*transpose(Z) + optx[2]*diagm(ones(n))\n",
    "# beta = inv(transpose(A)*inv(Sigma)*A)*transpose(A)*inv(Sigma)*y\n",
    "# betaM = beta[1:size(HMM.M,2)]\n",
    "# betaX = beta[(size(HMM.M,2) + 1): size(beta)[1]]\n",
    "\n",
    "# optsum.feval = opt.numevals\n",
    "# optsum.final = optx\n",
    "# optsum.fmin = optf\n",
    "# optsum.returnvalue = ret\n",
    "\n",
    "# if verbose println(\"got $(round(optf, digits=5)) at $(round.(optx, digits=5)) after $(opt.numevals) iterations (returned $(ret))\") ; end\n",
    "\n",
    "# HMM.optsum = optsum"
   ]
  },
  {
   "cell_type": "code",
   "execution_count": null,
   "metadata": {},
   "outputs": [],
   "source": []
  },
  {
   "cell_type": "markdown",
   "metadata": {},
   "source": [
    "#### (b) construct opt by Opt(:LN_COBYLA, 2)"
   ]
  },
  {
   "cell_type": "code",
   "execution_count": null,
   "metadata": {},
   "outputs": [],
   "source": [
    "using NLopt\n",
    "alg = :LN_COBYLA\n",
    "verbose = true\n",
    "## add optsum\n",
    "# init para\n",
    "sigma = [1.0,1.0]\n",
    "lbd = [0.0; 0.0]\n",
    "optsum = OptSummary(Float64.(sigma), lbd, alg; ftol_rel=(1.0e-12), ftol_abs=(1.0e-8), xtol_rel = 1e-5)\n",
    "optsum.REML = true\n",
    "\n",
    "## init opt based on optsum\n",
    "#opt = Opt(optsum)\n",
    "\n",
    "## init opt based on Opt function\n",
    "opt = Opt(:LN_COBYLA, 2)\n",
    "\n",
    "function negLogLik(sigma::Vector{Float64}, g::Vector{Float64})\n",
    "    n = length(y)\n",
    "    Sigma = sigma[1]*Z*transpose(Z) + sigma[2]*diagm(ones(n))\n",
    "    negLog = -1/2*log(det(K*Sigma*transpose(K))) - 1/2*transpose(y)*transpose(K)*inv(K*Sigma*transpose(K))*K*y\n",
    "    #println(\"OPT: parameter $(sigma) || objective eval $(negLog)\")\n",
    "    @show sigma\n",
    "    @show negLog\n",
    "\n",
    "    return negLog\n",
    "end\n",
    "\n",
    "println(\"The initial object value is $(negLogLik(Float64.(sigma), [1.0,1.0]))\")\n",
    "\n",
    "opt.min_objective = negLogLik\n",
    "optsum.finitial = negLogLik(optsum.initial, [1.0,1.0])  # the second field not useful right now\n",
    "\n",
    "if verbose println(\"OPTBL: starting point $(sigma)\") ; end    # to stdout\n",
    "(optf,optx,ret) = optimize(opt, sigma)"
   ]
  },
  {
   "cell_type": "code",
   "execution_count": null,
   "metadata": {},
   "outputs": [],
   "source": []
  },
  {
   "cell_type": "code",
   "execution_count": null,
   "metadata": {},
   "outputs": [],
   "source": []
  },
  {
   "cell_type": "code",
   "execution_count": null,
   "metadata": {},
   "outputs": [],
   "source": []
  },
  {
   "cell_type": "code",
   "execution_count": null,
   "metadata": {},
   "outputs": [],
   "source": []
  },
  {
   "cell_type": "code",
   "execution_count": null,
   "metadata": {},
   "outputs": [],
   "source": []
  },
  {
   "cell_type": "code",
   "execution_count": null,
   "metadata": {},
   "outputs": [],
   "source": []
  },
  {
   "cell_type": "code",
   "execution_count": null,
   "metadata": {},
   "outputs": [],
   "source": []
  },
  {
   "cell_type": "code",
   "execution_count": null,
   "metadata": {},
   "outputs": [],
   "source": []
  },
  {
   "cell_type": "code",
   "execution_count": null,
   "metadata": {},
   "outputs": [],
   "source": []
  },
  {
   "cell_type": "code",
   "execution_count": null,
   "metadata": {},
   "outputs": [],
   "source": []
  },
  {
   "cell_type": "code",
   "execution_count": null,
   "metadata": {},
   "outputs": [],
   "source": []
  },
  {
   "cell_type": "code",
   "execution_count": null,
   "metadata": {},
   "outputs": [],
   "source": []
  },
  {
   "cell_type": "code",
   "execution_count": null,
   "metadata": {},
   "outputs": [],
   "source": []
  },
  {
   "cell_type": "code",
   "execution_count": null,
   "metadata": {},
   "outputs": [],
   "source": []
  }
 ],
 "metadata": {
  "kernelspec": {
   "display_name": "Julia 1.6.1",
   "language": "julia",
   "name": "julia-1.6"
  },
  "language_info": {
   "file_extension": ".jl",
   "mimetype": "application/julia",
   "name": "julia",
   "version": "1.6.1"
  }
 },
 "nbformat": 4,
 "nbformat_minor": 4
}
