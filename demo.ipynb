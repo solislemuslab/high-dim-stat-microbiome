{
 "cells": [
  {
   "cell_type": "code",
   "execution_count": 1,
   "metadata": {},
   "outputs": [
    {
     "data": {
      "text/plain": [
       "Main.HighDimMM"
      ]
     },
     "execution_count": 1,
     "metadata": {},
     "output_type": "execute_result"
    }
   ],
   "source": [
    "include(\"HighDimMixedModels.jl\")"
   ]
  },
  {
   "cell_type": "code",
   "execution_count": 2,
   "metadata": {},
   "outputs": [],
   "source": [
    "using LinearAlgebra\n",
    "using DataFrames\n",
    "using StableRNGs; rng = StableRNG(1);\n",
    "using StatsModels\n",
    "using MixedModels\n",
    "import .HighDimMM   #https://docs.julialang.org/en/v1/manual/variables-and-scoping/"
   ]
  },
  {
   "cell_type": "markdown",
   "metadata": {},
   "source": [
    "**Set up data and formula, specify factor variables(CategoricalTerm)**"
   ]
  },
  {
   "cell_type": "code",
   "execution_count": 3,
   "metadata": {},
   "outputs": [
    {
     "data": {
      "text/plain": [
       "Dict{Symbol, UnionAll} with 3 entries:\n",
       "  :a => ContinuousTerm\n",
       "  :b => ContinuousTerm\n",
       "  :c => CategoricalTerm"
      ]
     },
     "execution_count": 3,
     "metadata": {},
     "output_type": "execute_result"
    }
   ],
   "source": [
    "#df = DataFrame(y = rand(rng, 9), a = 1:9, b = rand(rng, 9), c = repeat([\"d\",\"e\",\"f\"], 3), d = vcat(repeat([1,2], 4),1))\n",
    "df = DataFrame(y = rand(rng, 9), a = 1:9, b = rand(rng, 9), c = repeat([\"d\",\"e\",\"f\"], 3))\n",
    "f = @formula(y ~ 1 + a + b + c)\n",
    "contrasts = Dict( :a => ContinuousTerm, :b=>ContinuousTerm, :c => CategoricalTerm)"
   ]
  },
  {
   "cell_type": "code",
   "execution_count": 4,
   "metadata": {},
   "outputs": [
    {
     "data": {
      "text/html": [
       "<table class=\"data-frame\"><thead><tr><th></th><th>y</th><th>a</th><th>b</th><th>c</th></tr><tr><th></th><th>Float64</th><th>Int64</th><th>Float64</th><th>String</th></tr></thead><tbody><p>9 rows × 4 columns</p><tr><th>1</th><td>0.585195</td><td>1</td><td>0.236782</td><td>d</td></tr><tr><th>2</th><td>0.0773379</td><td>2</td><td>0.943741</td><td>e</td></tr><tr><th>3</th><td>0.716628</td><td>3</td><td>0.445671</td><td>f</td></tr><tr><th>4</th><td>0.320357</td><td>4</td><td>0.763679</td><td>d</td></tr><tr><th>5</th><td>0.653093</td><td>5</td><td>0.145071</td><td>e</td></tr><tr><th>6</th><td>0.236639</td><td>6</td><td>0.021124</td><td>f</td></tr><tr><th>7</th><td>0.709684</td><td>7</td><td>0.152545</td><td>d</td></tr><tr><th>8</th><td>0.557787</td><td>8</td><td>0.617492</td><td>e</td></tr><tr><th>9</th><td>0.05079</td><td>9</td><td>0.481531</td><td>f</td></tr></tbody></table>"
      ],
      "text/latex": [
       "\\begin{tabular}{r|cccc}\n",
       "\t& y & a & b & c\\\\\n",
       "\t\\hline\n",
       "\t& Float64 & Int64 & Float64 & String\\\\\n",
       "\t\\hline\n",
       "\t1 & 0.585195 & 1 & 0.236782 & d \\\\\n",
       "\t2 & 0.0773379 & 2 & 0.943741 & e \\\\\n",
       "\t3 & 0.716628 & 3 & 0.445671 & f \\\\\n",
       "\t4 & 0.320357 & 4 & 0.763679 & d \\\\\n",
       "\t5 & 0.653093 & 5 & 0.145071 & e \\\\\n",
       "\t6 & 0.236639 & 6 & 0.021124 & f \\\\\n",
       "\t7 & 0.709684 & 7 & 0.152545 & d \\\\\n",
       "\t8 & 0.557787 & 8 & 0.617492 & e \\\\\n",
       "\t9 & 0.05079 & 9 & 0.481531 & f \\\\\n",
       "\\end{tabular}\n"
      ],
      "text/plain": [
       "\u001b[1m9×4 DataFrame\u001b[0m\n",
       "\u001b[1m Row \u001b[0m│\u001b[1m y         \u001b[0m\u001b[1m a     \u001b[0m\u001b[1m b        \u001b[0m\u001b[1m c      \u001b[0m\n",
       "\u001b[1m     \u001b[0m│\u001b[90m Float64   \u001b[0m\u001b[90m Int64 \u001b[0m\u001b[90m Float64  \u001b[0m\u001b[90m String \u001b[0m\n",
       "─────┼────────────────────────────────────\n",
       "   1 │ 0.585195       1  0.236782  d\n",
       "   2 │ 0.0773379      2  0.943741  e\n",
       "   3 │ 0.716628       3  0.445671  f\n",
       "   4 │ 0.320357       4  0.763679  d\n",
       "   5 │ 0.653093       5  0.145071  e\n",
       "   6 │ 0.236639       6  0.021124  f\n",
       "   7 │ 0.709684       7  0.152545  d\n",
       "   8 │ 0.557787       8  0.617492  e\n",
       "   9 │ 0.05079        9  0.481531  f"
      ]
     },
     "execution_count": 4,
     "metadata": {},
     "output_type": "execute_result"
    }
   ],
   "source": [
    "df"
   ]
  },
  {
   "cell_type": "code",
   "execution_count": 5,
   "metadata": {},
   "outputs": [
    {
     "data": {
      "text/plain": [
       "FormulaTerm\n",
       "Response:\n",
       "  y(unknown)\n",
       "Predictors:\n",
       "  1\n",
       "  a(unknown)\n",
       "  b(unknown)\n",
       "  c(unknown)"
      ]
     },
     "execution_count": 5,
     "metadata": {},
     "output_type": "execute_result"
    }
   ],
   "source": [
    "f"
   ]
  },
  {
   "cell_type": "code",
   "execution_count": 33,
   "metadata": {},
   "outputs": [
    {
     "data": {
      "text/plain": [
       "StatsModels.Schema with 4 entries:\n",
       "  c => c\n",
       "  b => b\n",
       "  a => a\n",
       "  y => y\n"
      ]
     },
     "execution_count": 33,
     "metadata": {},
     "output_type": "execute_result"
    }
   ],
   "source": [
    "sch = MixedModels.schema(f2,df,contrasts)"
   ]
  },
  {
   "cell_type": "code",
   "execution_count": 34,
   "metadata": {},
   "outputs": [
    {
     "data": {
      "text/plain": [
       "FormulaTerm\n",
       "Response:\n",
       "  y(unknown)\n",
       "Predictors:\n",
       "  1\n",
       "  a(unknown)\n",
       "  b(unknown)\n",
       "  (c)->1 | c"
      ]
     },
     "execution_count": 34,
     "metadata": {},
     "output_type": "execute_result"
    }
   ],
   "source": [
    "# try for f2\n",
    "f2 = @formula(y ~ 1 + a + b + (1|c))"
   ]
  },
  {
   "cell_type": "code",
   "execution_count": 37,
   "metadata": {},
   "outputs": [
    {
     "data": {
      "text/plain": [
       "FormulaTerm\n",
       "Response:\n",
       "  y(continuous)\n",
       "Predictors:\n",
       "  1\n",
       "  a(continuous)\n",
       "  b(continuous)\n",
       "  (1 | c)"
      ]
     },
     "execution_count": 37,
     "metadata": {},
     "output_type": "execute_result"
    }
   ],
   "source": [
    "form = MixedModels.apply_schema(f2, sch, LinearMixedModel)"
   ]
  },
  {
   "cell_type": "code",
   "execution_count": 36,
   "metadata": {},
   "outputs": [
    {
     "data": {
      "text/plain": [
       "FormulaTerm\n",
       "Response:\n",
       "  y(continuous)\n",
       "Predictors:\n",
       "  1\n",
       "  a(continuous)\n",
       "  b(continuous)\n",
       "  (c)->1 | c"
      ]
     },
     "execution_count": 36,
     "metadata": {},
     "output_type": "execute_result"
    }
   ],
   "source": [
    "form = MixedModels.apply_schema(f2, sch, HighDimMM.highDimMixedModel)"
   ]
  },
  {
   "cell_type": "code",
   "execution_count": 20,
   "metadata": {},
   "outputs": [
    {
     "data": {
      "text/plain": [
       "FormulaTerm\n",
       "Response:\n",
       "  y(continuous)\n",
       "Predictors:\n",
       "  1\n",
       "  a(continuous)\n",
       "  b(continuous)\n",
       "  c(DummyCoding:3→2)"
      ]
     },
     "execution_count": 20,
     "metadata": {},
     "output_type": "execute_result"
    }
   ],
   "source": [
    "form = MixedModels.apply_schema(f, sch)"
   ]
  },
  {
   "cell_type": "code",
   "execution_count": 15,
   "metadata": {},
   "outputs": [
    {
     "data": {
      "text/plain": [
       "FormulaTerm\n",
       "Response:\n",
       "  y(unknown)\n",
       "Predictors:\n",
       "  1\n",
       "  a(unknown)\n",
       "  b(unknown)\n",
       "  (c)->1 | c"
      ]
     },
     "execution_count": 15,
     "metadata": {},
     "output_type": "execute_result"
    }
   ],
   "source": []
  },
  {
   "cell_type": "code",
   "execution_count": 38,
   "metadata": {},
   "outputs": [],
   "source": [
    "y, pred = MixedModels.modelcols(form, df);"
   ]
  },
  {
   "cell_type": "code",
   "execution_count": 39,
   "metadata": {},
   "outputs": [
    {
     "data": {
      "text/plain": [
       "([1.0 1.0 0.236781883208121; 1.0 2.0 0.9437409715735081; … ; 1.0 8.0 0.617492416565387; 1.0 9.0 0.48153065407402607], [1.0 0.0 0.0; 0.0 1.0 0.0; … ; 0.0 1.0 0.0; 0.0 0.0 1.0])"
      ]
     },
     "execution_count": 39,
     "metadata": {},
     "output_type": "execute_result"
    }
   ],
   "source": [
    "pred"
   ]
  },
  {
   "cell_type": "code",
   "execution_count": 44,
   "metadata": {},
   "outputs": [
    {
     "data": {
      "text/plain": [
       "9×3 Matrix{Float64}:\n",
       " 1.0  1.0  0.236782\n",
       " 1.0  2.0  0.943741\n",
       " 1.0  3.0  0.445671\n",
       " 1.0  4.0  0.763679\n",
       " 1.0  5.0  0.145071\n",
       " 1.0  6.0  0.021124\n",
       " 1.0  7.0  0.152545\n",
       " 1.0  8.0  0.617492\n",
       " 1.0  9.0  0.481531"
      ]
     },
     "execution_count": 44,
     "metadata": {},
     "output_type": "execute_result"
    }
   ],
   "source": [
    "(pred[1])"
   ]
  },
  {
   "cell_type": "code",
   "execution_count": 26,
   "metadata": {},
   "outputs": [
    {
     "ename": "LoadError",
     "evalue": "UndefVarError: highDimMixedModel not defined",
     "output_type": "error",
     "traceback": [
      "UndefVarError: highDimMixedModel not defined",
      "",
      "Stacktrace:",
      " [1] top-level scope",
      "   @ In[26]:1",
      " [2] eval",
      "   @ ./boot.jl:360 [inlined]",
      " [3] include_string(mapexpr::typeof(REPL.softscope), mod::Module, code::String, filename::String)",
      "   @ Base ./loading.jl:1094"
     ]
    }
   ],
   "source": [
    "HMM = highDimMixedModel(f, df, contrasts, 1, 1)"
   ]
  },
  {
   "cell_type": "code",
   "execution_count": 11,
   "metadata": {},
   "outputs": [
    {
     "name": "stderr",
     "output_type": "stream",
     "text": [
      "┌ Warning: n >= p in high dimensional matrix\n",
      "└ @ Main.HighDimMM /Users/zyxu/Documents/julia/highDimMM/bricks.jl:13\n"
     ]
    },
    {
     "data": {
      "text/plain": [
       "Main.HighDimMM.highDimMixedModel{Float64}(y ~ 1 + a + b + c, Main.HighDimMM.highDimMat{Float64, Matrix{Float64}}([1.0; 2.0; … ; 8.0; 9.0]), Main.HighDimMM.XMat{Float64, Matrix{Float64}}([1.0 0.236781883208121; 1.0 0.9437409715735081; … ; 1.0 0.617492416565387; 1.0 0.48153065407402607]), [0.0 0.0; 1.0 0.0; … ; 1.0 0.0; 0.0 1.0], [0.5851946422124186, 0.07733793456911231, 0.7166282400543453, 0.3203570514066232, 0.6530930076222579, 0.2366391513734556, 0.7096838914472361, 0.5577872440804086, 0.05079002172175784])"
      ]
     },
     "execution_count": 11,
     "metadata": {},
     "output_type": "execute_result"
    }
   ],
   "source": [
    "HMM = HighDimMM.highDimMixedModel(f, df, contrasts, 1, 1)"
   ]
  },
  {
   "cell_type": "code",
   "execution_count": 12,
   "metadata": {},
   "outputs": [
    {
     "data": {
      "text/plain": [
       "9×2 Matrix{Float64}:\n",
       " 0.0  0.0\n",
       " 1.0  0.0\n",
       " 0.0  1.0\n",
       " 0.0  0.0\n",
       " 1.0  0.0\n",
       " 0.0  1.0\n",
       " 0.0  0.0\n",
       " 1.0  0.0\n",
       " 0.0  1.0"
      ]
     },
     "execution_count": 12,
     "metadata": {},
     "output_type": "execute_result"
    }
   ],
   "source": [
    "# Three matrix\n",
    "HMM.M.M; HMM.X.X; HMM.Z.Z"
   ]
  },
  {
   "cell_type": "code",
   "execution_count": 13,
   "metadata": {},
   "outputs": [
    {
     "ename": "LoadError",
     "evalue": "DimensionMismatch(\"A has dimensions (9,1) but B has dimensions (9,2)\")",
     "output_type": "error",
     "traceback": [
      "DimensionMismatch(\"A has dimensions (9,1) but B has dimensions (9,2)\")",
      "",
      "Stacktrace:",
      " [1] gemm_wrapper!(C::Matrix{Float64}, tA::Char, tB::Char, A::Matrix{Float64}, B::Matrix{Float64}, _add::LinearAlgebra.MulAddMul{true, true, Bool, Bool})",
      "   @ LinearAlgebra /Users/julia/buildbot/worker/package_macos64/build/usr/share/julia/stdlib/v1.6/LinearAlgebra/src/matmul.jl:643",
      " [2] mul!",
      "   @ /Users/julia/buildbot/worker/package_macos64/build/usr/share/julia/stdlib/v1.6/LinearAlgebra/src/matmul.jl:169 [inlined]",
      " [3] mul!",
      "   @ /Users/julia/buildbot/worker/package_macos64/build/usr/share/julia/stdlib/v1.6/LinearAlgebra/src/matmul.jl:275 [inlined]",
      " [4] *",
      "   @ /Users/julia/buildbot/worker/package_macos64/build/usr/share/julia/stdlib/v1.6/LinearAlgebra/src/matmul.jl:160 [inlined]",
      " [5] *(A::Main.HighDimMM.highDimMat{Float64, Matrix{Float64}}, B::Main.HighDimMM.XMat{Float64, Matrix{Float64}})",
      "   @ Main.HighDimMM ~/Documents/julia/highDimMM/bricks.jl:76",
      " [6] top-level scope",
      "   @ In[13]:1",
      " [7] eval",
      "   @ ./boot.jl:360 [inlined]",
      " [8] include_string(mapexpr::typeof(REPL.softscope), mod::Module, code::String, filename::String)",
      "   @ Base ./loading.jl:1094"
     ]
    }
   ],
   "source": [
    "HMM.M * HMM.X"
   ]
  },
  {
   "cell_type": "code",
   "execution_count": 14,
   "metadata": {},
   "outputs": [
    {
     "ename": "LoadError",
     "evalue": "DimensionMismatch(\"A has dimensions (9,1) but B has dimensions (9,2)\")",
     "output_type": "error",
     "traceback": [
      "DimensionMismatch(\"A has dimensions (9,1) but B has dimensions (9,2)\")",
      "",
      "Stacktrace:",
      " [1] gemm_wrapper!(C::Matrix{Float64}, tA::Char, tB::Char, A::Matrix{Float64}, B::Matrix{Float64}, _add::LinearAlgebra.MulAddMul{true, true, Bool, Bool})",
      "   @ LinearAlgebra /Users/julia/buildbot/worker/package_macos64/build/usr/share/julia/stdlib/v1.6/LinearAlgebra/src/matmul.jl:643",
      " [2] mul!",
      "   @ /Users/julia/buildbot/worker/package_macos64/build/usr/share/julia/stdlib/v1.6/LinearAlgebra/src/matmul.jl:169 [inlined]",
      " [3] mul!",
      "   @ /Users/julia/buildbot/worker/package_macos64/build/usr/share/julia/stdlib/v1.6/LinearAlgebra/src/matmul.jl:275 [inlined]",
      " [4] *(A::Matrix{Float64}, B::Matrix{Float64})",
      "   @ LinearAlgebra /Users/julia/buildbot/worker/package_macos64/build/usr/share/julia/stdlib/v1.6/LinearAlgebra/src/matmul.jl:160",
      " [5] top-level scope",
      "   @ In[14]:1",
      " [6] eval",
      "   @ ./boot.jl:360 [inlined]",
      " [7] include_string(mapexpr::typeof(REPL.softscope), mod::Module, code::String, filename::String)",
      "   @ Base ./loading.jl:1094"
     ]
    }
   ],
   "source": [
    "HMM.M.M * HMM.X.X"
   ]
  },
  {
   "cell_type": "code",
   "execution_count": null,
   "metadata": {},
   "outputs": [],
   "source": [
    "# response\n",
    "HMM.y"
   ]
  },
  {
   "cell_type": "code",
   "execution_count": null,
   "metadata": {},
   "outputs": [],
   "source": []
  },
  {
   "cell_type": "markdown",
   "metadata": {},
   "source": [
    "$$\n",
    "\\mathbf{y} \\text { is } N_{n}(\\mathbf{X} \\boldsymbol{\\beta}, \\mathbf{\\Sigma}), \\quad \\text { where } \\quad \\mathbf{\\Sigma}= \\sigma_{z}^{2}\n",
    "\\mathbf{Z} \\mathbf{Z}^{\\prime}+\\sigma^{2} \\mathbf{I}_{n} \n",
    "$$"
   ]
  },
  {
   "cell_type": "markdown",
   "metadata": {},
   "source": [
    "Let $$\\mathbf{P}=\\mathbf{I}-\\mathbf{H}=\\mathbf{I}-\\mathbf{X}\\left(\\mathbf{X}^{\\prime} \\mathbf{X}\\right)^{-} \\mathbf{X}^{\\prime}$$"
   ]
  },
  {
   "cell_type": "markdown",
   "metadata": {},
   "source": [
    "$$\\mathbf{K}=\\mathbf{C}\\mathbf{P} \\in R^{(n-r)\\times n}$$"
   ]
  },
  {
   "cell_type": "markdown",
   "metadata": {},
   "source": [
    "$$\n",
    "Ky \\sim N_{n-r}\\left(\\mathbf{0}, \\mathbf{K} \\mathbf{\\Sigma} \\mathbf{K}^{\\prime}\\right) = N_{n-r}\\left[\\mathbf{0}, \\mathbf{K}\\left(\\sigma_{z}^{2} \\mathbf{Z} \\mathbf{Z}^{\\prime}+\\sigma^{2} \\mathbf{I}_{n} \\right) \\mathbf{K}^{\\prime}\\right]\n",
    "$$"
   ]
  },
  {
   "cell_type": "markdown",
   "metadata": {},
   "source": [
    "To simplify, we assume fixed effect as full rank, where r is the number of fixed effects."
   ]
  },
  {
   "cell_type": "code",
   "execution_count": null,
   "metadata": {},
   "outputs": [],
   "source": [
    "A = hcat(HMM.M.M, HMM.X.X)\n",
    "P = I - A*inv(transpose(A)*A)*transpose(A)\n",
    "u,s,v = svd(P)\n",
    "C = transpose(u[:,1:6]) # simplify: assume fixed effect full rank\n",
    "K = C*P"
   ]
  },
  {
   "cell_type": "markdown",
   "metadata": {},
   "source": [
    "The objective function is:\n",
    "$$\n",
    "\\frac{n-r}{2} \\ln (2 \\pi)-\\frac{1}{2} \\ln \\left|\\mathbf{K} \\Sigma \\mathbf{K}^{\\prime}\\right|-\\frac{1}{2} \\mathbf{y}^{\\prime} \\mathbf{K}^{\\prime}\\left(\\mathbf{K} \\Sigma \\mathbf{K}^{\\prime}\\right)^{-1} \\mathbf{K} \\mathbf{y}\n",
    "$$"
   ]
  },
  {
   "cell_type": "code",
   "execution_count": null,
   "metadata": {},
   "outputs": [],
   "source": []
  }
 ],
 "metadata": {
  "kernelspec": {
   "display_name": "Julia 1.6.1",
   "language": "julia",
   "name": "julia-1.6"
  },
  "language_info": {
   "file_extension": ".jl",
   "mimetype": "application/julia",
   "name": "julia",
   "version": "1.6.1"
  }
 },
 "nbformat": 4,
 "nbformat_minor": 4
}
