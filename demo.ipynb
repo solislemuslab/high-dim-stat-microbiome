{
 "cells": [
  {
   "cell_type": "code",
   "execution_count": 1,
   "metadata": {},
   "outputs": [
    {
     "data": {
      "text/plain": [
       "Main.HighDimMM"
      ]
     },
     "execution_count": 1,
     "metadata": {},
     "output_type": "execute_result"
    }
   ],
   "source": [
    "include(\"HighDimMixedModels.jl\")"
   ]
  },
  {
   "cell_type": "code",
   "execution_count": 2,
   "metadata": {},
   "outputs": [],
   "source": [
    "using LinearAlgebra\n",
    "using DataFrames\n",
    "using StableRNGs; rng = StableRNG(1);\n",
    "using StatsModels\n",
    "using MixedModels\n",
    "import .HighDimMM   #https://docs.julialang.org/en/v1/manual/variables-and-scoping/"
   ]
  },
  {
   "cell_type": "markdown",
   "metadata": {},
   "source": [
    "**Set up data and formula, specify factor variables(CategoricalTerm)**"
   ]
  },
  {
   "cell_type": "code",
   "execution_count": 3,
   "metadata": {},
   "outputs": [
    {
     "data": {
      "text/plain": [
       "Dict{Symbol, UnionAll} with 3 entries:\n",
       "  :a => ContinuousTerm\n",
       "  :b => ContinuousTerm\n",
       "  :c => CategoricalTerm"
      ]
     },
     "execution_count": 3,
     "metadata": {},
     "output_type": "execute_result"
    }
   ],
   "source": [
    "#df = DataFrame(y = rand(rng, 9), a = 1:9, b = rand(rng, 9), c = repeat([\"d\",\"e\",\"f\"], 3), d = vcat(repeat([1,2], 4),1))\n",
    "df = DataFrame(y = rand(rng, 9), a = 1:9, b = rand(rng, 9), c = repeat([\"d\",\"e\",\"f\"], 3), d = b = rand(rng, 9))\n",
    "f = @formula(y ~  a + b + c + d)\n",
    "contrasts = Dict( :a => ContinuousTerm, :b=>ContinuousTerm, :c => CategoricalTerm)"
   ]
  },
  {
   "cell_type": "code",
   "execution_count": 4,
   "metadata": {},
   "outputs": [
    {
     "data": {
      "text/html": [
       "<table class=\"data-frame\"><thead><tr><th></th><th>y</th><th>a</th><th>b</th><th>c</th><th>d</th></tr><tr><th></th><th>Float64</th><th>Int64</th><th>Float64</th><th>String</th><th>Float64</th></tr></thead><tbody><p>9 rows × 5 columns</p><tr><th>1</th><td>0.585195</td><td>1</td><td>0.236782</td><td>d</td><td>0.752223</td></tr><tr><th>2</th><td>0.0773379</td><td>2</td><td>0.943741</td><td>e</td><td>0.314815</td></tr><tr><th>3</th><td>0.716628</td><td>3</td><td>0.445671</td><td>f</td><td>0.858522</td></tr><tr><th>4</th><td>0.320357</td><td>4</td><td>0.763679</td><td>d</td><td>0.698713</td></tr><tr><th>5</th><td>0.653093</td><td>5</td><td>0.145071</td><td>e</td><td>0.757746</td></tr><tr><th>6</th><td>0.236639</td><td>6</td><td>0.021124</td><td>f</td><td>0.419294</td></tr><tr><th>7</th><td>0.709684</td><td>7</td><td>0.152545</td><td>d</td><td>0.412607</td></tr><tr><th>8</th><td>0.557787</td><td>8</td><td>0.617492</td><td>e</td><td>0.454589</td></tr><tr><th>9</th><td>0.05079</td><td>9</td><td>0.481531</td><td>f</td><td>0.380933</td></tr></tbody></table>"
      ],
      "text/latex": [
       "\\begin{tabular}{r|ccccc}\n",
       "\t& y & a & b & c & d\\\\\n",
       "\t\\hline\n",
       "\t& Float64 & Int64 & Float64 & String & Float64\\\\\n",
       "\t\\hline\n",
       "\t1 & 0.585195 & 1 & 0.236782 & d & 0.752223 \\\\\n",
       "\t2 & 0.0773379 & 2 & 0.943741 & e & 0.314815 \\\\\n",
       "\t3 & 0.716628 & 3 & 0.445671 & f & 0.858522 \\\\\n",
       "\t4 & 0.320357 & 4 & 0.763679 & d & 0.698713 \\\\\n",
       "\t5 & 0.653093 & 5 & 0.145071 & e & 0.757746 \\\\\n",
       "\t6 & 0.236639 & 6 & 0.021124 & f & 0.419294 \\\\\n",
       "\t7 & 0.709684 & 7 & 0.152545 & d & 0.412607 \\\\\n",
       "\t8 & 0.557787 & 8 & 0.617492 & e & 0.454589 \\\\\n",
       "\t9 & 0.05079 & 9 & 0.481531 & f & 0.380933 \\\\\n",
       "\\end{tabular}\n"
      ],
      "text/plain": [
       "\u001b[1m9×5 DataFrame\u001b[0m\n",
       "\u001b[1m Row \u001b[0m│\u001b[1m y         \u001b[0m\u001b[1m a     \u001b[0m\u001b[1m b        \u001b[0m\u001b[1m c      \u001b[0m\u001b[1m d        \u001b[0m\n",
       "\u001b[1m     \u001b[0m│\u001b[90m Float64   \u001b[0m\u001b[90m Int64 \u001b[0m\u001b[90m Float64  \u001b[0m\u001b[90m String \u001b[0m\u001b[90m Float64  \u001b[0m\n",
       "─────┼──────────────────────────────────────────────\n",
       "   1 │ 0.585195       1  0.236782  d       0.752223\n",
       "   2 │ 0.0773379      2  0.943741  e       0.314815\n",
       "   3 │ 0.716628       3  0.445671  f       0.858522\n",
       "   4 │ 0.320357       4  0.763679  d       0.698713\n",
       "   5 │ 0.653093       5  0.145071  e       0.757746\n",
       "   6 │ 0.236639       6  0.021124  f       0.419294\n",
       "   7 │ 0.709684       7  0.152545  d       0.412607\n",
       "   8 │ 0.557787       8  0.617492  e       0.454589\n",
       "   9 │ 0.05079        9  0.481531  f       0.380933"
      ]
     },
     "execution_count": 4,
     "metadata": {},
     "output_type": "execute_result"
    }
   ],
   "source": [
    "df"
   ]
  },
  {
   "cell_type": "code",
   "execution_count": 5,
   "metadata": {},
   "outputs": [
    {
     "data": {
      "text/plain": [
       "FormulaTerm\n",
       "Response:\n",
       "  y(unknown)\n",
       "Predictors:\n",
       "  a(unknown)\n",
       "  b(unknown)\n",
       "  c(unknown)\n",
       "  d(unknown)"
      ]
     },
     "execution_count": 5,
     "metadata": {},
     "output_type": "execute_result"
    }
   ],
   "source": [
    "f"
   ]
  },
  {
   "cell_type": "markdown",
   "metadata": {},
   "source": [
    "**try for f2**"
   ]
  },
  {
   "cell_type": "code",
   "execution_count": null,
   "metadata": {},
   "outputs": [],
   "source": [
    "# try for f2\n",
    "f2 = @formula(y ~ 1 + a + b + (1|c))"
   ]
  },
  {
   "cell_type": "code",
   "execution_count": null,
   "metadata": {},
   "outputs": [],
   "source": [
    "sch = MixedModels.schema(f2,df,contrasts)"
   ]
  },
  {
   "cell_type": "code",
   "execution_count": null,
   "metadata": {},
   "outputs": [],
   "source": [
    "form = MixedModels.apply_schema(f2, sch, LinearMixedModel)"
   ]
  },
  {
   "cell_type": "code",
   "execution_count": null,
   "metadata": {},
   "outputs": [],
   "source": [
    "form = MixedModels.apply_schema(f2, sch, HighDimMM.highDimMixedModel)"
   ]
  },
  {
   "cell_type": "markdown",
   "metadata": {},
   "source": [
    "**back here**"
   ]
  },
  {
   "cell_type": "code",
   "execution_count": 6,
   "metadata": {},
   "outputs": [
    {
     "data": {
      "text/plain": [
       "StatsModels.Schema with 5 entries:\n",
       "  c => c\n",
       "  b => b\n",
       "  d => d\n",
       "  a => a\n",
       "  y => y\n"
      ]
     },
     "execution_count": 6,
     "metadata": {},
     "output_type": "execute_result"
    }
   ],
   "source": [
    "sch = MixedModels.schema(f,df,contrasts)"
   ]
  },
  {
   "cell_type": "code",
   "execution_count": 7,
   "metadata": {},
   "outputs": [
    {
     "ename": "LoadError",
     "evalue": "UndefVarError: form not defined",
     "output_type": "error",
     "traceback": [
      "UndefVarError: form not defined",
      "",
      "Stacktrace:",
      " [1] top-level scope",
      "   @ In[7]:1",
      " [2] eval",
      "   @ ./boot.jl:360 [inlined]",
      " [3] include_string(mapexpr::typeof(REPL.softscope), mod::Module, code::String, filename::String)",
      "   @ Base ./loading.jl:1094"
     ]
    }
   ],
   "source": [
    "form.rhs.terms[[2,3]]"
   ]
  },
  {
   "cell_type": "code",
   "execution_count": 8,
   "metadata": {},
   "outputs": [
    {
     "data": {
      "text/plain": [
       "FormulaTerm\n",
       "Response:\n",
       "  y(continuous)\n",
       "Predictors:\n",
       "  a(continuous)\n",
       "  b(continuous)\n",
       "  c(DummyCoding:3→2)\n",
       "  d(continuous)"
      ]
     },
     "execution_count": 8,
     "metadata": {},
     "output_type": "execute_result"
    }
   ],
   "source": [
    "form = apply_schema(f, sch)"
   ]
  },
  {
   "cell_type": "code",
   "execution_count": null,
   "metadata": {},
   "outputs": [],
   "source": [
    "typeof(form)"
   ]
  },
  {
   "cell_type": "code",
   "execution_count": null,
   "metadata": {},
   "outputs": [],
   "source": [
    "typeof(form.rhs.terms[1])"
   ]
  },
  {
   "cell_type": "code",
   "execution_count": null,
   "metadata": {},
   "outputs": [],
   "source": [
    "modelmatrix(form.rhs.terms[1],df)"
   ]
  },
  {
   "cell_type": "code",
   "execution_count": null,
   "metadata": {},
   "outputs": [],
   "source": []
  },
  {
   "cell_type": "code",
   "execution_count": null,
   "metadata": {},
   "outputs": [],
   "source": [
    "Vector(1:length(form.rhs.terms))"
   ]
  },
  {
   "cell_type": "code",
   "execution_count": null,
   "metadata": {},
   "outputs": [],
   "source": [
    "[1,2]"
   ]
  },
  {
   "cell_type": "code",
   "execution_count": null,
   "metadata": {},
   "outputs": [],
   "source": [
    "df[:,[\"b\",\"c\"]]"
   ]
  },
  {
   "cell_type": "code",
   "execution_count": 19,
   "metadata": {},
   "outputs": [],
   "source": [
    "y,pred = modelcols(form, df);"
   ]
  },
  {
   "cell_type": "code",
   "execution_count": null,
   "metadata": {},
   "outputs": [],
   "source": [
    "pred = modelmatrix(form, df);"
   ]
  },
  {
   "cell_type": "code",
   "execution_count": null,
   "metadata": {},
   "outputs": [],
   "source": [
    "pred"
   ]
  },
  {
   "cell_type": "code",
   "execution_count": null,
   "metadata": {},
   "outputs": [],
   "source": [
    "typeof(pred)"
   ]
  },
  {
   "cell_type": "markdown",
   "metadata": {},
   "source": [
    "### Number of variables indicates M,X,Z"
   ]
  },
  {
   "cell_type": "code",
   "execution_count": 13,
   "metadata": {},
   "outputs": [
    {
     "name": "stderr",
     "output_type": "stream",
     "text": [
      "┌ Warning: n >= p in high dimensional matrix\n",
      "└ @ Main.HighDimMM /Users/zyxu/Documents/julia/highDimMM/bricks.jl:12\n"
     ]
    },
    {
     "data": {
      "text/plain": [
       "Main.HighDimMM.highDimMixedModel{Float64}(y ~ a + b + c + d, Main.HighDimMM.highDimMat{Float64, Matrix{Float64}}([0.236781883208121; 0.9437409715735081; … ; 0.617492416565387; 0.48153065407402607]), Main.HighDimMM.XMat{Float64, Matrix{Float64}}([1.0 0.0; 2.0 1.0; … ; 8.0 1.0; 9.0 0.0]), [0.0 0.7522231521093703; 0.0 0.31481548090434086; … ; 0.0 0.45458919106592477; 1.0 0.38093255230858825], [0.5851946422124186, 0.07733793456911231, 0.7166282400543453, 0.3203570514066232, 0.6530930076222579, 0.2366391513734556, 0.7096838914472361, 0.5577872440804086, 0.05079002172175784])"
      ]
     },
     "execution_count": 13,
     "metadata": {},
     "output_type": "execute_result"
    }
   ],
   "source": [
    "HMM = HighDimMM.highDimMixedModel(f, df, contrasts, 1, 1)"
   ]
  },
  {
   "cell_type": "code",
   "execution_count": 14,
   "metadata": {},
   "outputs": [
    {
     "data": {
      "text/plain": [
       "9×2 Matrix{Float64}:\n",
       " 0.0  0.752223\n",
       " 0.0  0.314815\n",
       " 1.0  0.858522\n",
       " 0.0  0.698713\n",
       " 0.0  0.757746\n",
       " 1.0  0.419294\n",
       " 0.0  0.412607\n",
       " 0.0  0.454589\n",
       " 1.0  0.380933"
      ]
     },
     "execution_count": 14,
     "metadata": {},
     "output_type": "execute_result"
    }
   ],
   "source": [
    "# Three matrix\n",
    "HMM.M.M; HMM.X.X; HMM.Z.Z"
   ]
  },
  {
   "cell_type": "markdown",
   "metadata": {},
   "source": [
    "### indices indicates M,X,Z"
   ]
  },
  {
   "cell_type": "code",
   "execution_count": 9,
   "metadata": {},
   "outputs": [
    {
     "ename": "LoadError",
     "evalue": "MethodError: no method matching modelmatrix(::ContinuousTerm{Float64})\n\u001b[0mClosest candidates are:\n\u001b[0m  modelmatrix(::Union{Tuple{Union{Tuple{AbstractTerm, Vararg{AbstractTerm, N} where N}, AbstractTerm}, Vararg{Union{Tuple{AbstractTerm, Vararg{AbstractTerm, N} where N}, AbstractTerm}, N} where N}, AbstractTerm}, \u001b[91m::Any\u001b[39m; hints, mod) at /Users/zyxu/.julia/packages/StatsModels/JZLpf/src/modelframe.jl:109\n\u001b[0m  modelmatrix(\u001b[91m::StatsModels.TableRegressionModel\u001b[39m, \u001b[91m::Any...\u001b[39m; kwargs...) at /Users/zyxu/.julia/packages/StatsModels/JZLpf/src/statsmodel.jl:28\n\u001b[0m  modelmatrix(\u001b[91m::ModelFrame\u001b[39m; data) at /Users/zyxu/.julia/packages/StatsModels/JZLpf/src/modelframe.jl:147\n\u001b[0m  ...",
     "output_type": "error",
     "traceback": [
      "MethodError: no method matching modelmatrix(::ContinuousTerm{Float64})\n\u001b[0mClosest candidates are:\n\u001b[0m  modelmatrix(::Union{Tuple{Union{Tuple{AbstractTerm, Vararg{AbstractTerm, N} where N}, AbstractTerm}, Vararg{Union{Tuple{AbstractTerm, Vararg{AbstractTerm, N} where N}, AbstractTerm}, N} where N}, AbstractTerm}, \u001b[91m::Any\u001b[39m; hints, mod) at /Users/zyxu/.julia/packages/StatsModels/JZLpf/src/modelframe.jl:109\n\u001b[0m  modelmatrix(\u001b[91m::StatsModels.TableRegressionModel\u001b[39m, \u001b[91m::Any...\u001b[39m; kwargs...) at /Users/zyxu/.julia/packages/StatsModels/JZLpf/src/statsmodel.jl:28\n\u001b[0m  modelmatrix(\u001b[91m::ModelFrame\u001b[39m; data) at /Users/zyxu/.julia/packages/StatsModels/JZLpf/src/modelframe.jl:147\n\u001b[0m  ...",
      "",
      "Stacktrace:",
      " [1] Main.HighDimMM.highDimMixedModel(f::FormulaTerm{Term, NTuple{4, Term}}, df::DataFrame, contrasts::Dict{Symbol, UnionAll}, idOfHDM::Int64, idOfXMat::Vector{Int64}, idOfReMat::Int64)",
      "   @ Main.HighDimMM ~/Documents/julia/highDimMM/bricks.jl:185",
      " [2] top-level scope",
      "   @ In[9]:1",
      " [3] eval",
      "   @ ./boot.jl:360 [inlined]",
      " [4] include_string(mapexpr::typeof(REPL.softscope), mod::Module, code::String, filename::String)",
      "   @ Base ./loading.jl:1094"
     ]
    }
   ],
   "source": [
    "HMM = HighDimMM.highDimMixedModel(f, df, contrasts, 1, [2,4],3)"
   ]
  },
  {
   "cell_type": "code",
   "execution_count": null,
   "metadata": {},
   "outputs": [],
   "source": [
    "HMM.M.M"
   ]
  },
  {
   "cell_type": "code",
   "execution_count": null,
   "metadata": {},
   "outputs": [],
   "source": [
    "HMM.X.X"
   ]
  },
  {
   "cell_type": "code",
   "execution_count": null,
   "metadata": {},
   "outputs": [],
   "source": [
    "HMM.Z.Z"
   ]
  },
  {
   "cell_type": "code",
   "execution_count": null,
   "metadata": {},
   "outputs": [],
   "source": [
    "HMM.M * HMM.X"
   ]
  },
  {
   "cell_type": "code",
   "execution_count": null,
   "metadata": {},
   "outputs": [],
   "source": [
    "HMM.M.M * HMM.X.X"
   ]
  },
  {
   "cell_type": "code",
   "execution_count": null,
   "metadata": {},
   "outputs": [],
   "source": [
    "# response\n",
    "HMM.y"
   ]
  },
  {
   "cell_type": "code",
   "execution_count": 33,
   "metadata": {},
   "outputs": [
    {
     "data": {
      "text/plain": [
       "2"
      ]
     },
     "execution_count": 33,
     "metadata": {},
     "output_type": "execute_result"
    }
   ],
   "source": [
    "size(HMM.X,2)"
   ]
  },
  {
   "cell_type": "markdown",
   "metadata": {},
   "source": [
    "$$\n",
    "\\mathbf{y} \\text { is } N_{n}(\\mathbf{X} \\boldsymbol{\\beta}, \\mathbf{\\Sigma}), \\quad \\text { where } \\quad \\mathbf{\\Sigma}= \\sigma_{z}^{2}\n",
    "\\mathbf{Z} \\mathbf{Z}^{\\prime}+\\sigma^{2} \\mathbf{I}_{n} \n",
    "$$"
   ]
  },
  {
   "cell_type": "markdown",
   "metadata": {},
   "source": [
    "Let $$\\mathbf{P}=\\mathbf{I}-\\mathbf{H}=\\mathbf{I}-\\mathbf{X}\\left(\\mathbf{X}^{\\prime} \\mathbf{X}\\right)^{-} \\mathbf{X}^{\\prime}$$"
   ]
  },
  {
   "cell_type": "markdown",
   "metadata": {},
   "source": [
    "$$\\mathbf{K}=\\mathbf{C}\\mathbf{P} \\in R^{(n-r)\\times n}$$"
   ]
  },
  {
   "cell_type": "markdown",
   "metadata": {},
   "source": [
    "$$\n",
    "Ky \\sim N_{n-r}\\left(\\mathbf{0}, \\mathbf{K} \\mathbf{\\Sigma} \\mathbf{K}^{\\prime}\\right) = N_{n-r}\\left[\\mathbf{0}, \\mathbf{K}\\left(\\sigma_{z}^{2} \\mathbf{Z} \\mathbf{Z}^{\\prime}+\\sigma^{2} \\mathbf{I}_{n} \\right) \\mathbf{K}^{\\prime}\\right]\n",
    "$$"
   ]
  },
  {
   "cell_type": "markdown",
   "metadata": {},
   "source": [
    "To simplify, we assume fixed effect as full rank, where r is the number of fixed effects."
   ]
  },
  {
   "cell_type": "code",
   "execution_count": 15,
   "metadata": {},
   "outputs": [
    {
     "data": {
      "text/plain": [
       "6×9 Matrix{Float64}:\n",
       "  6.39454e-18  -0.307199    …  -0.174553    0.537463    -0.555444\n",
       " -0.979033      0.0837545       0.0042392  -0.00141918   0.0609113\n",
       " -7.41899e-19   0.33468        -0.0465556  -0.167309    -0.0137589\n",
       "  6.09135e-18  -0.368244       -0.32402     0.27034      0.312723\n",
       "  2.79907e-17   0.149667        0.0968698   0.476231     0.205796\n",
       " -1.28753e-18  -0.00554263  …  -0.772305   -0.0194777    0.392502"
      ]
     },
     "execution_count": 15,
     "metadata": {},
     "output_type": "execute_result"
    }
   ],
   "source": [
    "A = hcat(HMM.M.M, HMM.X.X)\n",
    "P = I - A*inv(transpose(A)*A)*transpose(A)\n",
    "u,s,v = svd(P)\n",
    "C = transpose(u[:,1:6]) # simplify: assume fixed effect full rank\n",
    "K = C*P"
   ]
  },
  {
   "cell_type": "markdown",
   "metadata": {},
   "source": [
    "The objective function is:\n",
    "$$\n",
    "\\frac{n-r}{2} \\ln (2 \\pi)-\\frac{1}{2} \\ln \\left|\\mathbf{K} \\Sigma \\mathbf{K}^{\\prime}\\right|-\\frac{1}{2} \\mathbf{y}^{\\prime} \\mathbf{K}^{\\prime}\\left(\\mathbf{K} \\Sigma \\mathbf{K}^{\\prime}\\right)^{-1} \\mathbf{K} \\mathbf{y}\n",
    "$$"
   ]
  },
  {
   "cell_type": "code",
   "execution_count": 11,
   "metadata": {},
   "outputs": [],
   "source": [
    "using NLopt"
   ]
  },
  {
   "cell_type": "code",
   "execution_count": 48,
   "metadata": {},
   "outputs": [
    {
     "data": {
      "text/plain": [
       "negLogLik (generic function with 2 methods)"
      ]
     },
     "execution_count": 48,
     "metadata": {},
     "output_type": "execute_result"
    }
   ],
   "source": [
    "function negLogLik(sigma::Vector, K::AbstractMatrix, Z::AbstractMatrix, y::Vector)\n",
    "    n = length(y) \n",
    "    Sigma = sigma[1]*Z*transpose(Z) + sigma[2]*diagm(ones(n))\n",
    "    negLog = -1/2*log(det(K*Sigma*K)) - 1/2*transpose(y)*transopse(K)*inv(K*Sigma*K)*K*y\n",
    "    return negLog\n",
    "end"
   ]
  },
  {
   "cell_type": "code",
   "execution_count": 54,
   "metadata": {},
   "outputs": [
    {
     "data": {
      "text/plain": [
       "9×2 Matrix{Float64}:\n",
       " 0.0  0.752223\n",
       " 0.0  0.314815\n",
       " 1.0  0.858522\n",
       " 0.0  0.698713\n",
       " 0.0  0.757746\n",
       " 1.0  0.419294\n",
       " 0.0  0.412607\n",
       " 0.0  0.454589\n",
       " 1.0  0.380933"
      ]
     },
     "execution_count": 54,
     "metadata": {},
     "output_type": "execute_result"
    }
   ],
   "source": [
    "HMM.Z.Z::AbstractMatrix"
   ]
  },
  {
   "cell_type": "code",
   "execution_count": 49,
   "metadata": {},
   "outputs": [
    {
     "ename": "LoadError",
     "evalue": "MethodError: no method matching negLogLik(; sigma=[1, 1], K=[6.3945370816102936e-18 -0.307198967569933 … 0.5374631772388195 -0.5554440004491068; -0.9790326601851597 0.08375454647121926 … -0.0014191831068713625 0.06091133045140232; … ; 2.799065050142728e-17 0.14966747227114716 … 0.4762313964947574 0.20579620403486606; -1.2875342187767984e-18 -0.005542627056688555 … -0.019477697691443828 0.3925023964554191], Z=[0.0 0.7522231521093703; 0.0 0.31481548090434086; … ; 0.0 0.45458919106592477; 1.0 0.38093255230858825], y=[0.5851946422124186, 0.07733793456911231, 0.7166282400543453, 0.3203570514066232, 0.6530930076222579, 0.2366391513734556, 0.7096838914472361, 0.5577872440804086, 0.05079002172175784])\n\u001b[0mClosest candidates are:\n\u001b[0m  negLogLik(\u001b[91m::Vector{T} where T\u001b[39m, \u001b[91m::Vector{T} where T\u001b[39m, \u001b[91m::AbstractMatrix{T} where T\u001b[39m, \u001b[91m::AbstractMatrix{T} where T\u001b[39m, \u001b[91m::Vector{T} where T\u001b[39m) at In[23]:1\u001b[91m got unsupported keyword arguments \"sigma\", \"K\", \"Z\", \"y\"\u001b[39m\n\u001b[0m  negLogLik(\u001b[91m::Vector{T} where T\u001b[39m, \u001b[91m::AbstractMatrix{T} where T\u001b[39m, \u001b[91m::AbstractMatrix{T} where T\u001b[39m, \u001b[91m::Vector{T} where T\u001b[39m) at In[48]:1\u001b[91m got unsupported keyword arguments \"sigma\", \"K\", \"Z\", \"y\"\u001b[39m",
     "output_type": "error",
     "traceback": [
      "MethodError: no method matching negLogLik(; sigma=[1, 1], K=[6.3945370816102936e-18 -0.307198967569933 … 0.5374631772388195 -0.5554440004491068; -0.9790326601851597 0.08375454647121926 … -0.0014191831068713625 0.06091133045140232; … ; 2.799065050142728e-17 0.14966747227114716 … 0.4762313964947574 0.20579620403486606; -1.2875342187767984e-18 -0.005542627056688555 … -0.019477697691443828 0.3925023964554191], Z=[0.0 0.7522231521093703; 0.0 0.31481548090434086; … ; 0.0 0.45458919106592477; 1.0 0.38093255230858825], y=[0.5851946422124186, 0.07733793456911231, 0.7166282400543453, 0.3203570514066232, 0.6530930076222579, 0.2366391513734556, 0.7096838914472361, 0.5577872440804086, 0.05079002172175784])\n\u001b[0mClosest candidates are:\n\u001b[0m  negLogLik(\u001b[91m::Vector{T} where T\u001b[39m, \u001b[91m::Vector{T} where T\u001b[39m, \u001b[91m::AbstractMatrix{T} where T\u001b[39m, \u001b[91m::AbstractMatrix{T} where T\u001b[39m, \u001b[91m::Vector{T} where T\u001b[39m) at In[23]:1\u001b[91m got unsupported keyword arguments \"sigma\", \"K\", \"Z\", \"y\"\u001b[39m\n\u001b[0m  negLogLik(\u001b[91m::Vector{T} where T\u001b[39m, \u001b[91m::AbstractMatrix{T} where T\u001b[39m, \u001b[91m::AbstractMatrix{T} where T\u001b[39m, \u001b[91m::Vector{T} where T\u001b[39m) at In[48]:1\u001b[91m got unsupported keyword arguments \"sigma\", \"K\", \"Z\", \"y\"\u001b[39m",
      "",
      "Stacktrace:",
      " [1] top-level scope",
      "   @ In[49]:1",
      " [2] eval",
      "   @ ./boot.jl:360 [inlined]",
      " [3] include_string(mapexpr::typeof(REPL.softscope), mod::Module, code::String, filename::String)",
      "   @ Base ./loading.jl:1094"
     ]
    }
   ],
   "source": [
    "negLogLik(sigma = [1,1], K = K, Z = HMM.Z.Z, y = HMM.y)"
   ]
  },
  {
   "cell_type": "code",
   "execution_count": 24,
   "metadata": {},
   "outputs": [
    {
     "data": {
      "text/plain": [
       "1.0e-5"
      ]
     },
     "execution_count": 24,
     "metadata": {},
     "output_type": "execute_result"
    }
   ],
   "source": [
    "opt = Opt(:LN_COBYLA, 2)\n",
    "opt.min_objective = negLogLik\n",
    "opt.xtol_rel = 1e-5"
   ]
  },
  {
   "cell_type": "code",
   "execution_count": 29,
   "metadata": {},
   "outputs": [
    {
     "data": {
      "text/plain": [
       "(4.232700236833981e246, [1.0, 1.0], :FORCED_STOP)"
      ]
     },
     "execution_count": 29,
     "metadata": {},
     "output_type": "execute_result"
    }
   ],
   "source": [
    "(optf,optx,ret) = optimize(opt, [1,1])"
   ]
  },
  {
   "cell_type": "code",
   "execution_count": null,
   "metadata": {},
   "outputs": [],
   "source": [
    "using NLopt\n",
    "\n",
    "function myfunc(x::Vector, grad::Vector)\n",
    "    if length(grad) > 0\n",
    "        grad[1] = 0\n",
    "        grad[2] = 0.5/sqrt(x[2])\n",
    "    end\n",
    "    return sqrt(x[2])\n",
    "end\n",
    "\n",
    "function myconstraint(x::Vector, grad::Vector, a, b)\n",
    "    if length(grad) > 0\n",
    "        grad[1] = 3a * (a*x[1] + b)^2\n",
    "        grad[2] = -1\n",
    "    end\n",
    "    (a*x[1] + b)^3 - x[2]\n",
    "end\n",
    "\n",
    "opt = Opt(:LD_MMA, 2)\n",
    "opt.lower_bounds = [-Inf, 0.]\n",
    "opt.xtol_rel = 1e-4\n",
    "\n",
    "opt.min_objective = myfunc\n",
    "inequality_constraint!(opt, (x,g) -> myconstraint(x,g,2,0), 1e-8)\n",
    "inequality_constraint!(opt, (x,g) -> myconstraint(x,g,-1,1), 1e-8)\n",
    "\n",
    "(minf,minx,ret) = optimize(opt, [1.234, 5.678])\n",
    "numevals = opt.numevals # the number of function evaluations\n",
    "println(\"got $minf at $minx after $numevals iterations (returned $ret)\")"
   ]
  },
  {
   "cell_type": "code",
   "execution_count": 45,
   "metadata": {},
   "outputs": [
    {
     "ename": "LoadError",
     "evalue": "UndefVarError: NA not defined",
     "output_type": "error",
     "traceback": [
      "UndefVarError: NA not defined",
      "",
      "Stacktrace:",
      " [1] top-level scope",
      "   @ In[45]:2",
      " [2] eval",
      "   @ ./boot.jl:360 [inlined]",
      " [3] include_string(mapexpr::typeof(REPL.softscope), mod::Module, code::String, filename::String)",
      "   @ Base ./loading.jl:1094"
     ]
    }
   ],
   "source": [
    "using DataFrames\n",
    "a = NA"
   ]
  },
  {
   "cell_type": "code",
   "execution_count": null,
   "metadata": {},
   "outputs": [],
   "source": []
  }
 ],
 "metadata": {
  "kernelspec": {
   "display_name": "Julia 1.6.1",
   "language": "julia",
   "name": "julia-1.6"
  },
  "language_info": {
   "file_extension": ".jl",
   "mimetype": "application/julia",
   "name": "julia",
   "version": "1.6.1"
  }
 },
 "nbformat": 4,
 "nbformat_minor": 4
}
